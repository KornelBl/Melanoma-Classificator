{
  "nbformat": 4,
  "nbformat_minor": 0,
  "metadata": {
    "colab": {
      "name": "Kopia notatnika Untitled",
      "provenance": [],
      "collapsed_sections": []
    },
    "kernelspec": {
      "name": "python3",
      "language": "python",
      "display_name": "Python 3"
    },
    "pycharm": {
      "stem_cell": {
        "cell_type": "raw",
        "source": [],
        "metadata": {
          "collapsed": false
        }
      }
    },
    "accelerator": "TPU"
  },
  "cells": [
    {
      "cell_type": "code",
      "metadata": {
        "id": "takW5YtZd2w4",
        "pycharm": {
          "is_executing": false
        },
        "colab": {
          "base_uri": "https://localhost:8080/"
        },
        "outputId": "1662ef79-a9ce-4ebe-8aae-d755ec1ba751"
      },
      "source": [
        "import os, re, time, json, math\n",
        "import datetime\n",
        "import PIL.Image, PIL.ImageFont, PIL.ImageDraw\n",
        "import numpy as np\n",
        "import tensorflow as tf\n",
        "import pandas as pd\n",
        "import google\n",
        "from matplotlib import pyplot as plt\n",
        "print(\"Tensorflow version \" + tf.__version__)"
      ],
      "execution_count": 1,
      "outputs": [
        {
          "output_type": "stream",
          "text": [
            "Tensorflow version 2.3.0\n"
          ],
          "name": "stdout"
        }
      ]
    },
    {
      "cell_type": "code",
      "metadata": {
        "id": "N3wLMTBEUOw_",
        "pycharm": {
          "is_executing": false
        }
      },
      "source": [
        "import tensorflow as tf\n",
        "import tensorflow.keras as keras\n",
        "\n",
        "from tf_records_generator import DatasetGenerator, count_data_items\n",
        "from efficientNet_B0 import EffNet0, freeze_blocks\n",
        "from log_files import save_config, save_fold_iter_history, get_log_dir, save_logs_pickle, generate_columns\n",
        "from kfold import get_kfold_split, get_repeated_kfold_split\n",
        "from clr_schedule import CyclicLR\n",
        "from schedules import LR_test_schedule\n",
        "from callbacks import CustomStopper"
      ],
      "execution_count": 2,
      "outputs": []
    },
    {
      "cell_type": "code",
      "metadata": {
        "id": "o-tkqnadn5x2",
        "pycharm": {
          "is_executing": false
        }
      },
      "source": [
        "CONFIG = dict(\n",
        "    log_prefix = \"AUG1_\",\n",
        "    effnet_version = 0,\n",
        "    input_shape=(256, 256, 3),\n",
        "    image_resolution=256,\n",
        "    trainable_base=False,\n",
        "    time=datetime.datetime.now().strftime(\"_%d_%m_%Y_%H_%M\"),\n",
        "    use_patient_data=True,\n",
        "    inner_blocks_frozen=3,\n",
        "\n",
        "    upsample_ratio = 30,\n",
        "    upsampling = True,\n",
        "\n",
        "    k_fold = 3,\n",
        "    kfold_repeats = 1,\n",
        "\n",
        "    patience = 20,\n",
        "    min_epochs = 32,\n",
        "\n",
        "    lr_min=0.000003,\n",
        "    lr_max=0.0001,\n",
        "    lr_decay=None,\n",
        "    clr_step_coefficient = 8,\n",
        "    \n",
        "    replicas=8,\n",
        "    steps_per_epoch=None,\n",
        "    validation_steps=None,\n",
        "    batch_size=32,\n",
        "    epochs=100,\n",
        "    optimizer='adam',\n",
        "    loss='binary_crossentropy',\n",
        "    \n",
        "    output_bias=np.log([584/32542]),\n",
        "    weight_for_0 = (1 / 32542)*(32542+584)/2.0,\n",
        "    weight_for_1 = (1 / 584)*(32542+584)/2.0\n",
        ")\n",
        "\n",
        "CONFIG['output_bias'] =np.log([584*CONFIG[\"upsample_ratio\"]/32542])\n",
        "CONFIG[\"weight_for_0\"] = (1 / 32542)*(32542+584*CONFIG[\"upsample_ratio\"])/2.0\n",
        "CONFIG[\"weight_for_1\"] = (1 / (584*CONFIG[\"upsample_ratio\"]))*(32542+584*CONFIG[\"upsample_ratio\"])/2.0\n"
      ],
      "execution_count": 4,
      "outputs": []
    },
    {
      "cell_type": "code",
      "metadata": {
        "id": "3ps8i099nqD0",
        "pycharm": {
          "is_executing": false
        }
      },
      "source": [
        "IS_COLAB_BACKEND = 'COLAB_GPU' in os.environ  # this is always set on Colab, the value is 0 or 1 depending on GPU presence\n",
        "if IS_COLAB_BACKEND:\n",
        "  from google.colab import auth\n",
        "  # Authenticates the Colab machine and also the TPU using your\n",
        "  # credentials so that they can access your private GCS buckets.\n",
        "  auth.authenticate_user()\n",
        "  data_dir = 'gs://dataset_files/'\n",
        "else:\n",
        "  data_dir = 'dataset/'"
      ],
      "execution_count": 5,
      "outputs": []
    },
    {
      "cell_type": "code",
      "metadata": {
        "id": "tlUWGA6hUadA",
        "outputId": "3d1b86ae-b5fb-4426-b709-769babb223fb",
        "colab": {
          "base_uri": "https://localhost:8080/"
        }
      },
      "source": [
        "from google.colab import drive\n",
        "drive.mount('/content/gdrive/')"
      ],
      "execution_count": 6,
      "outputs": [
        {
          "output_type": "stream",
          "text": [
            "Drive already mounted at /content/gdrive/; to attempt to forcibly remount, call drive.mount(\"/content/gdrive/\", force_remount=True).\n"
          ],
          "name": "stdout"
        }
      ]
    },
    {
      "cell_type": "code",
      "metadata": {
        "id": "QS5omUmCnxAs",
        "pycharm": {
          "is_executing": false
        },
        "colab": {
          "base_uri": "https://localhost:8080/"
        },
        "outputId": "0af5f7e3-e510-4765-f011-a91c381ae541"
      },
      "source": [
        "# Detect hardware\n",
        "try:\n",
        "  tpu_resolver = tf.distribute.cluster_resolver.TPUClusterResolver() # TPU detection\n",
        "except ValueError:\n",
        "  tpu_resolver = None\n",
        "  gpus = tf.config.experimental.list_logical_devices(\"GPU\")\n",
        "\n",
        "# Select appropriate distribution strategy\n",
        "if tpu_resolver:\n",
        "  tf.config.experimental_connect_to_cluster(tpu_resolver)\n",
        "  tf.tpu.experimental.initialize_tpu_system(tpu_resolver)\n",
        "  strategy = tf.distribute.TPUStrategy(tpu_resolver)\n",
        "  print('Running on TPU ', tpu_resolver.cluster_spec().as_dict()['worker'])\n",
        "elif len(gpus) > 1:\n",
        "  strategy = tf.distribute.MirroredStrategy([gpu.name for gpu in gpus])\n",
        "  print('Running on multiple GPUs ', [gpu.name for gpu in gpus])\n",
        "elif len(gpus) == 1:\n",
        "  strategy = tf.distribute.get_strategy() # default strategy that works on CPU and single GPU\n",
        "  print('Running on single GPU ', gpus[0].name)\n",
        "else:\n",
        "  strategy = tf.distribute.get_strategy() # default strategy that works on CPU and single GPU\n",
        "  print('Running on CPU')\n",
        "  \n",
        "print(\"Number of accelerators: \", strategy.num_replicas_in_sync)\n",
        "CONFIG[\"replicas\"] = strategy.num_replicas_in_sync\n"
      ],
      "execution_count": 7,
      "outputs": [
        {
          "output_type": "stream",
          "text": [
            "INFO:tensorflow:Initializing the TPU system: grpc://10.124.195.186:8470\n"
          ],
          "name": "stdout"
        },
        {
          "output_type": "stream",
          "text": [
            "INFO:tensorflow:Initializing the TPU system: grpc://10.124.195.186:8470\n"
          ],
          "name": "stderr"
        },
        {
          "output_type": "stream",
          "text": [
            "INFO:tensorflow:Clearing out eager caches\n"
          ],
          "name": "stdout"
        },
        {
          "output_type": "stream",
          "text": [
            "INFO:tensorflow:Clearing out eager caches\n"
          ],
          "name": "stderr"
        },
        {
          "output_type": "stream",
          "text": [
            "INFO:tensorflow:Finished initializing TPU system.\n"
          ],
          "name": "stdout"
        },
        {
          "output_type": "stream",
          "text": [
            "INFO:tensorflow:Finished initializing TPU system.\n"
          ],
          "name": "stderr"
        },
        {
          "output_type": "stream",
          "text": [
            "INFO:tensorflow:Found TPU system:\n"
          ],
          "name": "stdout"
        },
        {
          "output_type": "stream",
          "text": [
            "INFO:tensorflow:Found TPU system:\n"
          ],
          "name": "stderr"
        },
        {
          "output_type": "stream",
          "text": [
            "INFO:tensorflow:*** Num TPU Cores: 8\n"
          ],
          "name": "stdout"
        },
        {
          "output_type": "stream",
          "text": [
            "INFO:tensorflow:*** Num TPU Cores: 8\n"
          ],
          "name": "stderr"
        },
        {
          "output_type": "stream",
          "text": [
            "INFO:tensorflow:*** Num TPU Workers: 1\n"
          ],
          "name": "stdout"
        },
        {
          "output_type": "stream",
          "text": [
            "INFO:tensorflow:*** Num TPU Workers: 1\n"
          ],
          "name": "stderr"
        },
        {
          "output_type": "stream",
          "text": [
            "INFO:tensorflow:*** Num TPU Cores Per Worker: 8\n"
          ],
          "name": "stdout"
        },
        {
          "output_type": "stream",
          "text": [
            "INFO:tensorflow:*** Num TPU Cores Per Worker: 8\n"
          ],
          "name": "stderr"
        },
        {
          "output_type": "stream",
          "text": [
            "INFO:tensorflow:*** Available Device: _DeviceAttributes(/job:localhost/replica:0/task:0/device:CPU:0, CPU, 0, 0)\n"
          ],
          "name": "stdout"
        },
        {
          "output_type": "stream",
          "text": [
            "INFO:tensorflow:*** Available Device: _DeviceAttributes(/job:localhost/replica:0/task:0/device:CPU:0, CPU, 0, 0)\n"
          ],
          "name": "stderr"
        },
        {
          "output_type": "stream",
          "text": [
            "INFO:tensorflow:*** Available Device: _DeviceAttributes(/job:localhost/replica:0/task:0/device:XLA_CPU:0, XLA_CPU, 0, 0)\n"
          ],
          "name": "stdout"
        },
        {
          "output_type": "stream",
          "text": [
            "INFO:tensorflow:*** Available Device: _DeviceAttributes(/job:localhost/replica:0/task:0/device:XLA_CPU:0, XLA_CPU, 0, 0)\n"
          ],
          "name": "stderr"
        },
        {
          "output_type": "stream",
          "text": [
            "INFO:tensorflow:*** Available Device: _DeviceAttributes(/job:worker/replica:0/task:0/device:CPU:0, CPU, 0, 0)\n"
          ],
          "name": "stdout"
        },
        {
          "output_type": "stream",
          "text": [
            "INFO:tensorflow:*** Available Device: _DeviceAttributes(/job:worker/replica:0/task:0/device:CPU:0, CPU, 0, 0)\n"
          ],
          "name": "stderr"
        },
        {
          "output_type": "stream",
          "text": [
            "INFO:tensorflow:*** Available Device: _DeviceAttributes(/job:worker/replica:0/task:0/device:TPU:0, TPU, 0, 0)\n"
          ],
          "name": "stdout"
        },
        {
          "output_type": "stream",
          "text": [
            "INFO:tensorflow:*** Available Device: _DeviceAttributes(/job:worker/replica:0/task:0/device:TPU:0, TPU, 0, 0)\n"
          ],
          "name": "stderr"
        },
        {
          "output_type": "stream",
          "text": [
            "INFO:tensorflow:*** Available Device: _DeviceAttributes(/job:worker/replica:0/task:0/device:TPU:1, TPU, 0, 0)\n"
          ],
          "name": "stdout"
        },
        {
          "output_type": "stream",
          "text": [
            "INFO:tensorflow:*** Available Device: _DeviceAttributes(/job:worker/replica:0/task:0/device:TPU:1, TPU, 0, 0)\n"
          ],
          "name": "stderr"
        },
        {
          "output_type": "stream",
          "text": [
            "INFO:tensorflow:*** Available Device: _DeviceAttributes(/job:worker/replica:0/task:0/device:TPU:2, TPU, 0, 0)\n"
          ],
          "name": "stdout"
        },
        {
          "output_type": "stream",
          "text": [
            "INFO:tensorflow:*** Available Device: _DeviceAttributes(/job:worker/replica:0/task:0/device:TPU:2, TPU, 0, 0)\n"
          ],
          "name": "stderr"
        },
        {
          "output_type": "stream",
          "text": [
            "INFO:tensorflow:*** Available Device: _DeviceAttributes(/job:worker/replica:0/task:0/device:TPU:3, TPU, 0, 0)\n"
          ],
          "name": "stdout"
        },
        {
          "output_type": "stream",
          "text": [
            "INFO:tensorflow:*** Available Device: _DeviceAttributes(/job:worker/replica:0/task:0/device:TPU:3, TPU, 0, 0)\n"
          ],
          "name": "stderr"
        },
        {
          "output_type": "stream",
          "text": [
            "INFO:tensorflow:*** Available Device: _DeviceAttributes(/job:worker/replica:0/task:0/device:TPU:4, TPU, 0, 0)\n"
          ],
          "name": "stdout"
        },
        {
          "output_type": "stream",
          "text": [
            "INFO:tensorflow:*** Available Device: _DeviceAttributes(/job:worker/replica:0/task:0/device:TPU:4, TPU, 0, 0)\n"
          ],
          "name": "stderr"
        },
        {
          "output_type": "stream",
          "text": [
            "INFO:tensorflow:*** Available Device: _DeviceAttributes(/job:worker/replica:0/task:0/device:TPU:5, TPU, 0, 0)\n"
          ],
          "name": "stdout"
        },
        {
          "output_type": "stream",
          "text": [
            "INFO:tensorflow:*** Available Device: _DeviceAttributes(/job:worker/replica:0/task:0/device:TPU:5, TPU, 0, 0)\n"
          ],
          "name": "stderr"
        },
        {
          "output_type": "stream",
          "text": [
            "INFO:tensorflow:*** Available Device: _DeviceAttributes(/job:worker/replica:0/task:0/device:TPU:6, TPU, 0, 0)\n"
          ],
          "name": "stdout"
        },
        {
          "output_type": "stream",
          "text": [
            "INFO:tensorflow:*** Available Device: _DeviceAttributes(/job:worker/replica:0/task:0/device:TPU:6, TPU, 0, 0)\n"
          ],
          "name": "stderr"
        },
        {
          "output_type": "stream",
          "text": [
            "INFO:tensorflow:*** Available Device: _DeviceAttributes(/job:worker/replica:0/task:0/device:TPU:7, TPU, 0, 0)\n"
          ],
          "name": "stdout"
        },
        {
          "output_type": "stream",
          "text": [
            "INFO:tensorflow:*** Available Device: _DeviceAttributes(/job:worker/replica:0/task:0/device:TPU:7, TPU, 0, 0)\n"
          ],
          "name": "stderr"
        },
        {
          "output_type": "stream",
          "text": [
            "INFO:tensorflow:*** Available Device: _DeviceAttributes(/job:worker/replica:0/task:0/device:TPU_SYSTEM:0, TPU_SYSTEM, 0, 0)\n"
          ],
          "name": "stdout"
        },
        {
          "output_type": "stream",
          "text": [
            "INFO:tensorflow:*** Available Device: _DeviceAttributes(/job:worker/replica:0/task:0/device:TPU_SYSTEM:0, TPU_SYSTEM, 0, 0)\n"
          ],
          "name": "stderr"
        },
        {
          "output_type": "stream",
          "text": [
            "INFO:tensorflow:*** Available Device: _DeviceAttributes(/job:worker/replica:0/task:0/device:XLA_CPU:0, XLA_CPU, 0, 0)\n"
          ],
          "name": "stdout"
        },
        {
          "output_type": "stream",
          "text": [
            "INFO:tensorflow:*** Available Device: _DeviceAttributes(/job:worker/replica:0/task:0/device:XLA_CPU:0, XLA_CPU, 0, 0)\n"
          ],
          "name": "stderr"
        },
        {
          "output_type": "stream",
          "text": [
            "Running on TPU  ['10.124.195.186:8470']\n",
            "Number of accelerators:  8\n"
          ],
          "name": "stdout"
        }
      ]
    },
    {
      "cell_type": "code",
      "metadata": {
        "id": "BZm9JTxir68V",
        "pycharm": {
          "is_executing": false
        }
      },
      "source": [
        "path = data_dir + str(CONFIG[\"image_resolution\"])\n",
        "files_train = np.sort(np.array(tf.io.gfile.glob(path + '/train*.tfrec')))\n",
        "files_test = np.sort(np.array(tf.io.gfile.glob(path + '/test*.tfrec')))\n"
      ],
      "execution_count": 9,
      "outputs": []
    },
    {
      "cell_type": "code",
      "metadata": {
        "id": "gC-WNOmKUIuB",
        "pycharm": {
          "is_executing": false
        }
      },
      "source": [
        "def make_model(config:dict, strategy)    :\n",
        "    with strategy.scope():\n",
        "      model = EffNet0(config=config, trainable_base=config['trainable_base'])\n",
        "\n",
        "      model.compile(optimizer=keras.optimizers.Adam(), loss=config[\"loss\"], \n",
        "                    metrics=[\n",
        "                                  keras.metrics.TruePositives(name='tp'),\n",
        "                                  keras.metrics.FalsePositives(name='fp'),\n",
        "                                  keras.metrics.TrueNegatives(name='tn'),\n",
        "                                  keras.metrics.FalseNegatives(name='fn'), \n",
        "                                  keras.metrics.BinaryAccuracy(name='accuracy'),\n",
        "                                  keras.metrics.Precision(name='precision'),\n",
        "                                  keras.metrics.Recall(name='recall'),\n",
        "                                  keras.metrics.AUC(name='auc'),\n",
        "                            ]\n",
        "    )\n",
        "    return model\n"
      ],
      "execution_count": 10,
      "outputs": []
    },
    {
      "cell_type": "code",
      "metadata": {
        "pycharm": {
          "name": "#%%\n",
          "is_executing": false
        },
        "id": "Y5E4-HaXAAmN",
        "colab": {
          "base_uri": "https://localhost:8080/"
        },
        "outputId": "d6420e91-b831-40c9-d09a-94310e918bbc"
      },
      "source": [
        "#kfold_split = get_kfold_split(files_train,CONFIG['k_fold'])\n",
        "kfold_split = get_repeated_kfold_split(files_train,CONFIG['k_fold'], CONFIG['kfold_repeats'])\n",
        "save_config(CONFIG)\n",
        "logs = pd.DataFrame()\n",
        "log_dir = get_log_dir(CONFIG)\n",
        "for iter, files in kfold_split.items():\n",
        "    gener = DatasetGenerator(CONFIG)\n",
        "    train_ds = gener.get_dataset(files['train'], patient_info=True,augment=True,repeat=True,upsampling=True) \n",
        "    val_ds = gener.get_dataset(files['validation'], patient_info=True,repeat=True)\n",
        "    #if CONFIG['steps_per_epoch'] is None:\n",
        "    CONFIG['steps_per_epoch'] = math.ceil(count_data_items(files[\"train\"])*(0.982+0.018*CONFIG[\"upsample_ratio\"])/(CONFIG[\"batch_size\"]*CONFIG[\"replicas\"]))\n",
        "    if CONFIG['validation_steps'] is None:\n",
        "        CONFIG['validation_steps'] = math.ceil(count_data_items(files[\"validation\"])/(CONFIG[\"batch_size\"]*CONFIG[\"replicas\"]))\n",
        "\n",
        "    clr = CyclicLR(base_lr=CONFIG[\"lr_min\"], max_lr=CONFIG[\"lr_max\"],\n",
        "                                step_size=CONFIG['steps_per_epoch']*CONFIG['clr_step_coefficient'], mode='triangular')\n",
        "    stopper = CustomStopper(monitor='val_auc',patience=CONFIG['patience'],start_epoch=CONFIG['min_epochs'])\n",
        "\n",
        "    tb_callback = keras.callbacks.TensorBoard(log_dir=os.path.join(log_dir,f\"tb_{iter}\"))\n",
        "    model = make_model(CONFIG, strategy=strategy)\n",
        "    history = model.fit(train_ds,class_weight={0:CONFIG[\"weight_for_0\"],1:CONFIG[\"weight_for_1\"]},\n",
        "                        validation_data=val_ds,validation_batch_size=CONFIG[\"batch_size\"]*CONFIG[\"replicas\"],\n",
        "                        batch_size=CONFIG[\"batch_size\"]*CONFIG[\"replicas\"], epochs=CONFIG[\"epochs\"],\n",
        "                        steps_per_epoch=CONFIG['steps_per_epoch'],validation_steps=CONFIG['validation_steps'],\n",
        "                        callbacks=[clr,stopper])\n",
        "    \n",
        "    if logs.empty:\n",
        "        logs = generate_columns(logs,history.history)\n",
        "    logs = logs.append(history.history, ignore_index=True)\n",
        "    \n",
        "save_logs_pickle(logs,CONFIG)\n",
        "\n",
        "\n",
        "zip_name = os.path.basename(log_dir) + '.zip'\n",
        "!zip -r $zip_name $log_dir\n",
        "\n",
        "zip_name = os.path.join(\"/content/gdrive/My Drive\",zip_name)\n",
        "!zip -r \"$zip_name\" $log_dir\n"
      ],
      "execution_count": null,
      "outputs": [
        {
          "output_type": "stream",
          "text": [
            "Epoch 1/100\n",
            "  2/130 [..............................] - ETA: 9s - loss: 0.8842 - tp: 46.0000 - fp: 102.0000 - tn: 223.0000 - fn: 141.0000 - accuracy: 0.5254 - precision: 0.3108 - recall: 0.2460 - auc: 0.4709WARNING:tensorflow:Callbacks method `on_train_batch_end` is slow compared to the batch time (batch time: 0.0117s vs `on_train_batch_end` time: 0.1121s). Check your callbacks.\n"
          ],
          "name": "stdout"
        },
        {
          "output_type": "stream",
          "text": [
            "WARNING:tensorflow:Callbacks method `on_train_batch_end` is slow compared to the batch time (batch time: 0.0117s vs `on_train_batch_end` time: 0.1121s). Check your callbacks.\n"
          ],
          "name": "stderr"
        },
        {
          "output_type": "stream",
          "text": [
            "130/130 [==============================] - ETA: 0s - loss: 0.7203 - tp: 5320.0000 - fp: 6419.0000 - tn: 15264.0000 - fn: 6277.0000 - accuracy: 0.6185 - precision: 0.4532 - recall: 0.4587 - auc: 0.6298WARNING:tensorflow:Callbacks method `on_test_batch_end` is slow compared to the batch time (batch time: 0.0057s vs `on_test_batch_end` time: 0.0559s). Check your callbacks.\n"
          ],
          "name": "stdout"
        },
        {
          "output_type": "stream",
          "text": [
            "WARNING:tensorflow:Callbacks method `on_test_batch_end` is slow compared to the batch time (batch time: 0.0057s vs `on_test_batch_end` time: 0.0559s). Check your callbacks.\n"
          ],
          "name": "stderr"
        },
        {
          "output_type": "stream",
          "text": [
            "\b\b\b\b\b\b\b\b\b\b\b\b\b\b\b\b\b\b\b\b\b\b\b\b\b\b\b\b\b\b\b\b\b\b\b\b\b\b\b\b\b\b\b\b\b\b\b\b\b\b\b\b\b\b\b\b\b\b\b\b\b\b\b\b\b\b\b\b\b\b\b\b\b\b\b\b\b\b\b\b\b\b\b\b\b\b\b\b\b\b\b\b\b\b\b\b\b\b\b\b\b\b\b\b\b\b\b\b\b\b\b\b\b\b\b\b\b\b\b\b\b\b\b\b\b\b\b\b\b\b\b\b\b\b\b\b\b\b\b\b\b\b\b\b\b\b\b\b\b\b\b\b\b\b\b\b\b\b\b\b\b\b\b\b\b\b\b\b\b\b\b\b\b\b\b\b\b\b\b\b\b\b\b\b\b\b\b\b\b\b\b\b\b\b\b\b\b\b\b\b\r130/130 [==============================] - 34s 261ms/step - loss: 0.7203 - tp: 5320.0000 - fp: 6419.0000 - tn: 15264.0000 - fn: 6277.0000 - accuracy: 0.6185 - precision: 0.4532 - recall: 0.4587 - auc: 0.6298 - val_loss: 0.1051 - val_tp: 0.0000e+00 - val_fp: 1.0000 - val_tn: 10807.0000 - val_fn: 200.0000 - val_accuracy: 0.9817 - val_precision: 0.0000e+00 - val_recall: 0.0000e+00 - val_auc: 0.6332\n",
            "Epoch 2/100\n",
            "130/130 [==============================] - 23s 179ms/step - loss: 0.6250 - tp: 7737.0000 - fp: 7482.0000 - tn: 14154.0000 - fn: 3907.0000 - accuracy: 0.6578 - precision: 0.5084 - recall: 0.6645 - auc: 0.7254 - val_loss: 0.2748 - val_tp: 9.0000 - val_fp: 202.0000 - val_tn: 10623.0000 - val_fn: 174.0000 - val_accuracy: 0.9658 - val_precision: 0.0427 - val_recall: 0.0492 - val_auc: 0.6619\n",
            "Epoch 3/100\n",
            "130/130 [==============================] - 24s 183ms/step - loss: 0.6032 - tp: 8331.0000 - fp: 7530.0000 - tn: 13894.0000 - fn: 3525.0000 - accuracy: 0.6678 - precision: 0.5253 - recall: 0.7027 - auc: 0.7468 - val_loss: 0.5189 - val_tp: 121.0000 - val_fp: 2233.0000 - val_tn: 8565.0000 - val_fn: 89.0000 - val_accuracy: 0.7891 - val_precision: 0.0514 - val_recall: 0.5762 - val_auc: 0.7480\n",
            "Epoch 4/100\n",
            "130/130 [==============================] - 23s 174ms/step - loss: 0.5848 - tp: 8501.0000 - fp: 7602.0000 - tn: 13983.0000 - fn: 3194.0000 - accuracy: 0.6756 - precision: 0.5279 - recall: 0.7269 - auc: 0.7609 - val_loss: 0.4285 - val_tp: 108.0000 - val_fp: 1851.0000 - val_tn: 8958.0000 - val_fn: 91.0000 - val_accuracy: 0.8236 - val_precision: 0.0551 - val_recall: 0.5427 - val_auc: 0.7806\n",
            "Epoch 5/100\n",
            "130/130 [==============================] - 23s 177ms/step - loss: 0.5735 - tp: 8592.0000 - fp: 7447.0000 - tn: 14134.0000 - fn: 3107.0000 - accuracy: 0.6829 - precision: 0.5357 - recall: 0.7344 - auc: 0.7708 - val_loss: 0.2453 - val_tp: 60.0000 - val_fp: 787.0000 - val_tn: 10007.0000 - val_fn: 154.0000 - val_accuracy: 0.9145 - val_precision: 0.0708 - val_recall: 0.2804 - val_auc: 0.7712\n",
            "Epoch 6/100\n",
            "130/130 [==============================] - 23s 176ms/step - loss: 0.5610 - tp: 8671.0000 - fp: 7033.0000 - tn: 14537.0000 - fn: 3039.0000 - accuracy: 0.6974 - precision: 0.5522 - recall: 0.7405 - auc: 0.7845 - val_loss: 0.3709 - val_tp: 113.0000 - val_fp: 1606.0000 - val_tn: 9193.0000 - val_fn: 96.0000 - val_accuracy: 0.8454 - val_precision: 0.0657 - val_recall: 0.5407 - val_auc: 0.7914\n",
            "Epoch 7/100\n",
            "130/130 [==============================] - 23s 177ms/step - loss: 0.5532 - tp: 8745.0000 - fp: 7040.0000 - tn: 14512.0000 - fn: 2983.0000 - accuracy: 0.6988 - precision: 0.5540 - recall: 0.7457 - auc: 0.7888 - val_loss: 0.4437 - val_tp: 129.0000 - val_fp: 2450.0000 - val_tn: 8359.0000 - val_fn: 70.0000 - val_accuracy: 0.7711 - val_precision: 0.0500 - val_recall: 0.6482 - val_auc: 0.8096\n",
            "Epoch 8/100\n",
            "130/130 [==============================] - 23s 175ms/step - loss: 0.5444 - tp: 8937.0000 - fp: 6917.0000 - tn: 14598.0000 - fn: 2828.0000 - accuracy: 0.7072 - precision: 0.5637 - recall: 0.7596 - auc: 0.7991 - val_loss: 0.4460 - val_tp: 132.0000 - val_fp: 2616.0000 - val_tn: 8188.0000 - val_fn: 72.0000 - val_accuracy: 0.7558 - val_precision: 0.0480 - val_recall: 0.6471 - val_auc: 0.7842\n",
            "Epoch 9/100\n",
            "130/130 [==============================] - 23s 176ms/step - loss: 0.5373 - tp: 8856.0000 - fp: 6687.0000 - tn: 14857.0000 - fn: 2880.0000 - accuracy: 0.7125 - precision: 0.5698 - recall: 0.7546 - auc: 0.8041 - val_loss: 0.4719 - val_tp: 134.0000 - val_fp: 2836.0000 - val_tn: 7966.0000 - val_fn: 72.0000 - val_accuracy: 0.7358 - val_precision: 0.0451 - val_recall: 0.6505 - val_auc: 0.7820\n",
            "Epoch 10/100\n",
            "130/130 [==============================] - 23s 175ms/step - loss: 0.5319 - tp: 8875.0000 - fp: 6564.0000 - tn: 15083.0000 - fn: 2758.0000 - accuracy: 0.7199 - precision: 0.5748 - recall: 0.7629 - auc: 0.8102 - val_loss: 0.4511 - val_tp: 126.0000 - val_fp: 2330.0000 - val_tn: 8483.0000 - val_fn: 69.0000 - val_accuracy: 0.7821 - val_precision: 0.0513 - val_recall: 0.6462 - val_auc: 0.7861\n",
            "Epoch 11/100\n",
            "130/130 [==============================] - 24s 188ms/step - loss: 0.5323 - tp: 9052.0000 - fp: 6530.0000 - tn: 14926.0000 - fn: 2772.0000 - accuracy: 0.7205 - precision: 0.5809 - recall: 0.7656 - auc: 0.8112 - val_loss: 0.3500 - val_tp: 93.0000 - val_fp: 1497.0000 - val_tn: 9334.0000 - val_fn: 84.0000 - val_accuracy: 0.8564 - val_precision: 0.0585 - val_recall: 0.5254 - val_auc: 0.8092\n",
            "Epoch 12/100\n",
            " 59/130 [============>.................] - ETA: 9s - loss: 0.5151 - tp: 4053.0000 - fp: 2955.0000 - tn: 6901.0000 - fn: 1195.0000 - accuracy: 0.7252 - precision: 0.5783 - recall: 0.7723 - auc: 0.8217"
          ],
          "name": "stdout"
        }
      ]
    },
    {
      "cell_type": "code",
      "metadata": {
        "id": "nQIi4AVbDTtw"
      },
      "source": [
        "print(\"jacek\")"
      ],
      "execution_count": null,
      "outputs": []
    },
    {
      "cell_type": "code",
      "metadata": {
        "id": "h9WTqAA7Hd97",
        "pycharm": {
          "name": "#%%\n"
        }
      },
      "source": [
        "log_dir = get_log_dir(CONFIG)\n",
        "zip_name = os.path.basename(log_dir) + '.zip'\n",
        "!zip -r $zip_name $log_dir"
      ],
      "execution_count": null,
      "outputs": []
    },
    {
      "cell_type": "code",
      "metadata": {
        "id": "Ij3oPfp3ZkG-",
        "outputId": "d143d52c-5d0c-4b52-f65e-72db6e06481e",
        "colab": {
          "base_uri": "https://localhost:8080/",
          "height": 284
        }
      },
      "source": [
        "i = 2\n",
        "plt.plot(logs['auc'][i])\n",
        "plt.plot(logs['val_auc'][i])\n",
        "suma = 0\n",
        "for k in [0,1,2]:\n",
        " suma += np.max(logs['val_auc'][k])\n",
        "suma/3\n",
        "#np.max(logs['val_auc'][i])"
      ],
      "execution_count": 17,
      "outputs": [
        {
          "output_type": "execute_result",
          "data": {
            "text/plain": [
              "0.8280553619066874"
            ]
          },
          "metadata": {
            "tags": []
          },
          "execution_count": 17
        },
        {
          "output_type": "display_data",
          "data": {
            "image/png": "[encoded data removed]",
            "text/plain": [
              "<Figure size 432x288 with 1 Axes>"
            ]
          },
          "metadata": {
            "tags": [],
            "needs_background": "light"
          }
        }
      ]
    }
  ]
}