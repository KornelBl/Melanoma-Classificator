{
  "nbformat": 4,
  "nbformat_minor": 0,
  "metadata": {
    "colab": {
      "name": "Kopia notatnika Untitled",
      "provenance": [],
      "collapsed_sections": []
    },
    "kernelspec": {
      "name": "python3",
      "language": "python",
      "display_name": "Python 3"
    },
    "pycharm": {
      "stem_cell": {
        "cell_type": "raw",
        "source": [],
        "metadata": {
          "collapsed": false
        }
      }
    },
    "accelerator": "TPU"
  },
  "cells": [
    {
      "cell_type": "code",
      "metadata": {
        "id": "takW5YtZd2w4",
        "pycharm": {
          "is_executing": false
        },
        "colab": {
          "base_uri": "https://localhost:8080/"
        },
        "outputId": "49137ead-d30f-4d9d-8f10-282d4492961e"
      },
      "source": [
        "import os, re, time, json, math\n",
        "import datetime\n",
        "import PIL.Image, PIL.ImageFont, PIL.ImageDraw\n",
        "import numpy as np\n",
        "import tensorflow as tf\n",
        "import pandas as pd\n",
        "import google\n",
        "from matplotlib import pyplot as plt\n",
        "print(\"Tensorflow version \" + tf.__version__)"
      ],
      "execution_count": 1,
      "outputs": [
        {
          "output_type": "stream",
          "text": [
            "Tensorflow version 2.3.0\n"
          ],
          "name": "stdout"
        }
      ]
    },
    {
      "cell_type": "code",
      "metadata": {
        "id": "N3wLMTBEUOw_",
        "pycharm": {
          "is_executing": false
        }
      },
      "source": [
        "import tensorflow as tf\n",
        "import tensorflow.keras as keras\n",
        "\n",
        "from tf_records_generator import DatasetGenerator, count_data_items\n",
        "from efficientNet_B0 import EffNet0, freeze_blocks\n",
        "from log_files import save_config, save_fold_iter_history, get_log_dir, save_logs_pickle, generate_columns\n",
        "from kfold import get_kfold_split, get_repeated_kfold_split\n",
        "from clr_schedule import CyclicLR\n",
        "from schedules import LR_test_schedule\n",
        "from callbacks import CustomStopper"
      ],
      "execution_count": 2,
      "outputs": []
    },
    {
      "cell_type": "code",
      "metadata": {
        "id": "o-tkqnadn5x2",
        "pycharm": {
          "is_executing": false
        }
      },
      "source": [
        "CONFIG = dict(\n",
        "    log_prefix = \"FINAL15_\",\n",
        "    effnet_version = 0,\n",
        "    image_resolution=256,\n",
        "    trainable_base=False,\n",
        "    time=datetime.datetime.now().strftime(\"_%d_%m_%Y_%H_%M\"),\n",
        "    use_patient_data=True,\n",
        "    inner_blocks_frozen=0,\n",
        "  \n",
        "    upsample_ratio = 20,\n",
        "    upsampling = False,\n",
        "\n",
        "    augment = False,\n",
        "\n",
        "    k_fold = 3,\n",
        "    kfold_repeats = 5,\n",
        "\n",
        "    patience = 32,\n",
        "    min_epochs = 32,\n",
        "\n",
        "    lr_min=0.000003,\n",
        "    lr_max=0.0001,\n",
        "    lr_decay=None,\n",
        "    clr_step_coefficient = 8,\n",
        "    \n",
        "    replicas=8,\n",
        "    steps_per_epoch=None,\n",
        "    validation_steps=None,\n",
        "    batch_size=32,\n",
        "    epochs=200,\n",
        "    optimizer='adam',\n",
        "    loss='binary_crossentropy',\n",
        "    \n",
        "    output_bias=np.log([584/32542]),\n",
        "    weight_for_0 = (1 / 32542)*(32542+584)/2.0,\n",
        "    weight_for_1 = (1 / 584)*(32542+584)/2.0\n",
        ")\n",
        "\n",
        "CONFIG['output_bias'] =np.log([584*CONFIG[\"upsample_ratio\"]/32542])\n",
        "CONFIG[\"weight_for_0\"] = (1 / 32542)*(32542+584*CONFIG[\"upsample_ratio\"])/2.0\n",
        "CONFIG[\"weight_for_1\"] = (1 / (584*CONFIG[\"upsample_ratio\"]))*(32542+584*CONFIG[\"upsample_ratio\"])/2.0\n"
      ],
      "execution_count": 3,
      "outputs": []
    },
    {
      "cell_type": "code",
      "metadata": {
        "id": "3ps8i099nqD0",
        "pycharm": {
          "is_executing": false
        }
      },
      "source": [
        "IS_COLAB_BACKEND = 'COLAB_GPU' in os.environ  # this is always set on Colab, the value is 0 or 1 depending on GPU presence\n",
        "if IS_COLAB_BACKEND:\n",
        "  from google.colab import auth\n",
        "  # Authenticates the Colab machine and also the TPU using your\n",
        "  # credentials so that they can access your private GCS buckets.\n",
        "  auth.authenticate_user()\n",
        "  data_dir = 'gs://dataset_files/'\n",
        "else:\n",
        "  data_dir = 'dataset/'"
      ],
      "execution_count": 4,
      "outputs": []
    },
    {
      "cell_type": "code",
      "metadata": {
        "colab": {
          "base_uri": "https://localhost:8080/"
        },
        "id": "tlUWGA6hUadA",
        "outputId": "62c870d7-1678-4789-da5e-70e3eee05d8d"
      },
      "source": [
        "from google.colab import drive\n",
        "drive.mount('/content/gdrive/')"
      ],
      "execution_count": 5,
      "outputs": [
        {
          "output_type": "stream",
          "text": [
            "Mounted at /content/gdrive/\n"
          ],
          "name": "stdout"
        }
      ]
    },
    {
      "cell_type": "code",
      "metadata": {
        "id": "QS5omUmCnxAs",
        "pycharm": {
          "is_executing": false
        },
        "colab": {
          "base_uri": "https://localhost:8080/"
        },
        "outputId": "f580acbb-970c-402b-c7b0-b0df9da09c37"
      },
      "source": [
        "# Detect hardware\n",
        "try:\n",
        "  tpu_resolver = tf.distribute.cluster_resolver.TPUClusterResolver() # TPU detection\n",
        "except ValueError:\n",
        "  tpu_resolver = None\n",
        "  gpus = tf.config.experimental.list_logical_devices(\"GPU\")\n",
        "\n",
        "# Select appropriate distribution strategy\n",
        "if tpu_resolver:\n",
        "  tf.config.experimental_connect_to_cluster(tpu_resolver)\n",
        "  tf.tpu.experimental.initialize_tpu_system(tpu_resolver)\n",
        "  strategy = tf.distribute.TPUStrategy(tpu_resolver)\n",
        "  print('Running on TPU ', tpu_resolver.cluster_spec().as_dict()['worker'])\n",
        "elif len(gpus) > 1:\n",
        "  strategy = tf.distribute.MirroredStrategy([gpu.name for gpu in gpus])\n",
        "  print('Running on multiple GPUs ', [gpu.name for gpu in gpus])\n",
        "elif len(gpus) == 1:\n",
        "  strategy = tf.distribute.get_strategy() # default strategy that works on CPU and single GPU\n",
        "  print('Running on single GPU ', gpus[0].name)\n",
        "else:\n",
        "  strategy = tf.distribute.get_strategy() # default strategy that works on CPU and single GPU\n",
        "  print('Running on CPU')\n",
        "  \n",
        "print(\"Number of accelerators: \", strategy.num_replicas_in_sync)\n",
        "CONFIG[\"replicas\"] = strategy.num_replicas_in_sync\n"
      ],
      "execution_count": 6,
      "outputs": [
        {
          "output_type": "stream",
          "text": [
            "INFO:tensorflow:Initializing the TPU system: grpc://10.104.11.242:8470\n"
          ],
          "name": "stdout"
        },
        {
          "output_type": "stream",
          "text": [
            "INFO:tensorflow:Initializing the TPU system: grpc://10.104.11.242:8470\n"
          ],
          "name": "stderr"
        },
        {
          "output_type": "stream",
          "text": [
            "INFO:tensorflow:Clearing out eager caches\n"
          ],
          "name": "stdout"
        },
        {
          "output_type": "stream",
          "text": [
            "INFO:tensorflow:Clearing out eager caches\n"
          ],
          "name": "stderr"
        },
        {
          "output_type": "stream",
          "text": [
            "INFO:tensorflow:Finished initializing TPU system.\n"
          ],
          "name": "stdout"
        },
        {
          "output_type": "stream",
          "text": [
            "INFO:tensorflow:Finished initializing TPU system.\n"
          ],
          "name": "stderr"
        },
        {
          "output_type": "stream",
          "text": [
            "INFO:tensorflow:Found TPU system:\n"
          ],
          "name": "stdout"
        },
        {
          "output_type": "stream",
          "text": [
            "INFO:tensorflow:Found TPU system:\n"
          ],
          "name": "stderr"
        },
        {
          "output_type": "stream",
          "text": [
            "INFO:tensorflow:*** Num TPU Cores: 8\n"
          ],
          "name": "stdout"
        },
        {
          "output_type": "stream",
          "text": [
            "INFO:tensorflow:*** Num TPU Cores: 8\n"
          ],
          "name": "stderr"
        },
        {
          "output_type": "stream",
          "text": [
            "INFO:tensorflow:*** Num TPU Workers: 1\n"
          ],
          "name": "stdout"
        },
        {
          "output_type": "stream",
          "text": [
            "INFO:tensorflow:*** Num TPU Workers: 1\n"
          ],
          "name": "stderr"
        },
        {
          "output_type": "stream",
          "text": [
            "INFO:tensorflow:*** Num TPU Cores Per Worker: 8\n"
          ],
          "name": "stdout"
        },
        {
          "output_type": "stream",
          "text": [
            "INFO:tensorflow:*** Num TPU Cores Per Worker: 8\n"
          ],
          "name": "stderr"
        },
        {
          "output_type": "stream",
          "text": [
            "INFO:tensorflow:*** Available Device: _DeviceAttributes(/job:localhost/replica:0/task:0/device:CPU:0, CPU, 0, 0)\n"
          ],
          "name": "stdout"
        },
        {
          "output_type": "stream",
          "text": [
            "INFO:tensorflow:*** Available Device: _DeviceAttributes(/job:localhost/replica:0/task:0/device:CPU:0, CPU, 0, 0)\n"
          ],
          "name": "stderr"
        },
        {
          "output_type": "stream",
          "text": [
            "INFO:tensorflow:*** Available Device: _DeviceAttributes(/job:localhost/replica:0/task:0/device:XLA_CPU:0, XLA_CPU, 0, 0)\n"
          ],
          "name": "stdout"
        },
        {
          "output_type": "stream",
          "text": [
            "INFO:tensorflow:*** Available Device: _DeviceAttributes(/job:localhost/replica:0/task:0/device:XLA_CPU:0, XLA_CPU, 0, 0)\n"
          ],
          "name": "stderr"
        },
        {
          "output_type": "stream",
          "text": [
            "INFO:tensorflow:*** Available Device: _DeviceAttributes(/job:worker/replica:0/task:0/device:CPU:0, CPU, 0, 0)\n"
          ],
          "name": "stdout"
        },
        {
          "output_type": "stream",
          "text": [
            "INFO:tensorflow:*** Available Device: _DeviceAttributes(/job:worker/replica:0/task:0/device:CPU:0, CPU, 0, 0)\n"
          ],
          "name": "stderr"
        },
        {
          "output_type": "stream",
          "text": [
            "INFO:tensorflow:*** Available Device: _DeviceAttributes(/job:worker/replica:0/task:0/device:TPU:0, TPU, 0, 0)\n"
          ],
          "name": "stdout"
        },
        {
          "output_type": "stream",
          "text": [
            "INFO:tensorflow:*** Available Device: _DeviceAttributes(/job:worker/replica:0/task:0/device:TPU:0, TPU, 0, 0)\n"
          ],
          "name": "stderr"
        },
        {
          "output_type": "stream",
          "text": [
            "INFO:tensorflow:*** Available Device: _DeviceAttributes(/job:worker/replica:0/task:0/device:TPU:1, TPU, 0, 0)\n"
          ],
          "name": "stdout"
        },
        {
          "output_type": "stream",
          "text": [
            "INFO:tensorflow:*** Available Device: _DeviceAttributes(/job:worker/replica:0/task:0/device:TPU:1, TPU, 0, 0)\n"
          ],
          "name": "stderr"
        },
        {
          "output_type": "stream",
          "text": [
            "INFO:tensorflow:*** Available Device: _DeviceAttributes(/job:worker/replica:0/task:0/device:TPU:2, TPU, 0, 0)\n"
          ],
          "name": "stdout"
        },
        {
          "output_type": "stream",
          "text": [
            "INFO:tensorflow:*** Available Device: _DeviceAttributes(/job:worker/replica:0/task:0/device:TPU:2, TPU, 0, 0)\n"
          ],
          "name": "stderr"
        },
        {
          "output_type": "stream",
          "text": [
            "INFO:tensorflow:*** Available Device: _DeviceAttributes(/job:worker/replica:0/task:0/device:TPU:3, TPU, 0, 0)\n"
          ],
          "name": "stdout"
        },
        {
          "output_type": "stream",
          "text": [
            "INFO:tensorflow:*** Available Device: _DeviceAttributes(/job:worker/replica:0/task:0/device:TPU:3, TPU, 0, 0)\n"
          ],
          "name": "stderr"
        },
        {
          "output_type": "stream",
          "text": [
            "INFO:tensorflow:*** Available Device: _DeviceAttributes(/job:worker/replica:0/task:0/device:TPU:4, TPU, 0, 0)\n"
          ],
          "name": "stdout"
        },
        {
          "output_type": "stream",
          "text": [
            "INFO:tensorflow:*** Available Device: _DeviceAttributes(/job:worker/replica:0/task:0/device:TPU:4, TPU, 0, 0)\n"
          ],
          "name": "stderr"
        },
        {
          "output_type": "stream",
          "text": [
            "INFO:tensorflow:*** Available Device: _DeviceAttributes(/job:worker/replica:0/task:0/device:TPU:5, TPU, 0, 0)\n"
          ],
          "name": "stdout"
        },
        {
          "output_type": "stream",
          "text": [
            "INFO:tensorflow:*** Available Device: _DeviceAttributes(/job:worker/replica:0/task:0/device:TPU:5, TPU, 0, 0)\n"
          ],
          "name": "stderr"
        },
        {
          "output_type": "stream",
          "text": [
            "INFO:tensorflow:*** Available Device: _DeviceAttributes(/job:worker/replica:0/task:0/device:TPU:6, TPU, 0, 0)\n"
          ],
          "name": "stdout"
        },
        {
          "output_type": "stream",
          "text": [
            "INFO:tensorflow:*** Available Device: _DeviceAttributes(/job:worker/replica:0/task:0/device:TPU:6, TPU, 0, 0)\n"
          ],
          "name": "stderr"
        },
        {
          "output_type": "stream",
          "text": [
            "INFO:tensorflow:*** Available Device: _DeviceAttributes(/job:worker/replica:0/task:0/device:TPU:7, TPU, 0, 0)\n"
          ],
          "name": "stdout"
        },
        {
          "output_type": "stream",
          "text": [
            "INFO:tensorflow:*** Available Device: _DeviceAttributes(/job:worker/replica:0/task:0/device:TPU:7, TPU, 0, 0)\n"
          ],
          "name": "stderr"
        },
        {
          "output_type": "stream",
          "text": [
            "INFO:tensorflow:*** Available Device: _DeviceAttributes(/job:worker/replica:0/task:0/device:TPU_SYSTEM:0, TPU_SYSTEM, 0, 0)\n"
          ],
          "name": "stdout"
        },
        {
          "output_type": "stream",
          "text": [
            "INFO:tensorflow:*** Available Device: _DeviceAttributes(/job:worker/replica:0/task:0/device:TPU_SYSTEM:0, TPU_SYSTEM, 0, 0)\n"
          ],
          "name": "stderr"
        },
        {
          "output_type": "stream",
          "text": [
            "INFO:tensorflow:*** Available Device: _DeviceAttributes(/job:worker/replica:0/task:0/device:XLA_CPU:0, XLA_CPU, 0, 0)\n"
          ],
          "name": "stdout"
        },
        {
          "output_type": "stream",
          "text": [
            "INFO:tensorflow:*** Available Device: _DeviceAttributes(/job:worker/replica:0/task:0/device:XLA_CPU:0, XLA_CPU, 0, 0)\n"
          ],
          "name": "stderr"
        },
        {
          "output_type": "stream",
          "text": [
            "Running on TPU  ['10.104.11.242:8470']\n",
            "Number of accelerators:  8\n"
          ],
          "name": "stdout"
        }
      ]
    },
    {
      "cell_type": "code",
      "metadata": {
        "id": "BZm9JTxir68V",
        "pycharm": {
          "is_executing": false
        }
      },
      "source": [
        "path = data_dir + str(CONFIG[\"image_resolution\"])\n",
        "files_train = np.sort(np.array(tf.io.gfile.glob(path + '/train*.tfrec')))\n",
        "files_test = np.sort(np.array(tf.io.gfile.glob(path + '/test*.tfrec')))\n"
      ],
      "execution_count": 7,
      "outputs": []
    },
    {
      "cell_type": "code",
      "metadata": {
        "id": "gC-WNOmKUIuB",
        "pycharm": {
          "is_executing": false
        }
      },
      "source": [
        "def make_model(config:dict, strategy)    :\n",
        "    with strategy.scope():\n",
        "      model = EffNet0(config=config)\n",
        "\n",
        "      model.compile(optimizer=keras.optimizers.Adam(), loss=config[\"loss\"], \n",
        "                    metrics=[\n",
        "                                  keras.metrics.TruePositives(name='tp'),\n",
        "                                  keras.metrics.FalsePositives(name='fp'),\n",
        "                                  keras.metrics.TrueNegatives(name='tn'),\n",
        "                                  keras.metrics.FalseNegatives(name='fn'), \n",
        "                                  keras.metrics.BinaryAccuracy(name='accuracy'),\n",
        "                                  keras.metrics.Precision(name='precision'),\n",
        "                                  keras.metrics.Recall(name='recall'),\n",
        "                                  keras.metrics.AUC(name='auc'),\n",
        "                            ]\n",
        "    )\n",
        "    return model\n"
      ],
      "execution_count": 8,
      "outputs": []
    },
    {
      "cell_type": "code",
      "metadata": {
        "pycharm": {
          "name": "#%%\n",
          "is_executing": false
        },
        "id": "Y5E4-HaXAAmN",
        "colab": {
          "base_uri": "https://localhost:8080/",
          "height": 1000
        },
        "outputId": "70a1ef40-6d81-4e5e-a75f-caab7ef4d5d7"
      },
      "source": [
        "#kfold_split = get_kfold_split(files_train,CONFIG['k_fold'])\n",
        "kfold_split = get_repeated_kfold_split(files_train,CONFIG['k_fold'], CONFIG['kfold_repeats'])\n",
        "save_config(CONFIG)\n",
        "logs = pd.DataFrame()\n",
        "log_dir = get_log_dir(CONFIG)\n",
        "for iter, files in kfold_split.items():\n",
        "    gener = DatasetGenerator(CONFIG)\n",
        "    train_ds = gener.get_dataset(files['train'], patient_info=True,augment=CONFIG[\"augment\"],repeat=True,upsampling=CONFIG[\"upsampling\"]) \n",
        "    val_ds = gener.get_dataset(files['validation'], patient_info=True,repeat=True)\n",
        "    #if CONFIG['steps_per_epoch'] is None:\n",
        "    CONFIG['steps_per_epoch'] = math.ceil(count_data_items(files[\"train\"])*(0.982+0.018*CONFIG[\"upsample_ratio\"])/(CONFIG[\"batch_size\"]*CONFIG[\"replicas\"]))\n",
        "    if CONFIG['validation_steps'] is None:\n",
        "        CONFIG['validation_steps'] = math.ceil(count_data_items(files[\"validation\"])/(CONFIG[\"batch_size\"]*CONFIG[\"replicas\"]))\n",
        "\n",
        "    clr = CyclicLR(base_lr=CONFIG[\"lr_min\"], max_lr=CONFIG[\"lr_max\"],\n",
        "                                step_size=CONFIG['steps_per_epoch']*CONFIG['clr_step_coefficient'], mode='triangular')\n",
        "    stopper = CustomStopper(monitor='val_auc',patience=CONFIG['patience'],start_epoch=CONFIG['min_epochs'])\n",
        "\n",
        "    tb_callback = keras.callbacks.TensorBoard(log_dir=os.path.join(log_dir,f\"tb_{iter}\"))\n",
        "    model = make_model(CONFIG, strategy=strategy)\n",
        "    history = model.fit(train_ds,class_weight={0:CONFIG[\"weight_for_0\"],1:CONFIG[\"weight_for_1\"]},\n",
        "                        validation_data=val_ds,validation_batch_size=CONFIG[\"batch_size\"]*CONFIG[\"replicas\"],\n",
        "                        batch_size=CONFIG[\"batch_size\"]*CONFIG[\"replicas\"], epochs=CONFIG[\"epochs\"],\n",
        "                        steps_per_epoch=CONFIG['steps_per_epoch'],validation_steps=CONFIG['validation_steps'],\n",
        "                        callbacks=[clr,stopper])\n",
        "    \n",
        "    if logs.empty:\n",
        "        logs = generate_columns(logs,history.history)\n",
        "    logs = logs.append(history.history, ignore_index=True)\n",
        "    \n",
        "save_logs_pickle(logs,CONFIG)\n",
        "\n",
        "\n",
        "zip_name = os.path.basename(log_dir) + '.zip'\n",
        "!zip -r $zip_name $log_dir\n",
        "\n",
        "zip_name = os.path.join(\"/content/gdrive/My Drive\",zip_name)\n",
        "!zip -r \"$zip_name\" $log_dir\n"
      ],
      "execution_count": null,
      "outputs": [
        {
          "output_type": "stream",
          "text": [
            "Downloading data from https://storage.googleapis.com/keras-applications/efficientnetb1_notop.h5\n",
            "27025408/27018416 [==============================] - 0s 0us/step\n",
            "Epoch 1/200\n",
            "  2/115 [..............................] - ETA: 9s - loss: 0.3044 - tp: 1.0000 - fp: 55.0000 - tn: 449.0000 - fn: 7.0000 - accuracy: 0.8789 - precision: 0.0179 - recall: 0.1250 - auc: 0.3863            WARNING:tensorflow:Callbacks method `on_train_batch_end` is slow compared to the batch time (batch time: 0.0137s vs `on_train_batch_end` time: 0.1343s). Check your callbacks.\n"
          ],
          "name": "stdout"
        },
        {
          "output_type": "stream",
          "text": [
            "WARNING:tensorflow:Callbacks method `on_train_batch_end` is slow compared to the batch time (batch time: 0.0137s vs `on_train_batch_end` time: 0.1343s). Check your callbacks.\n"
          ],
          "name": "stderr"
        },
        {
          "output_type": "stream",
          "text": [
            "115/115 [==============================] - ETA: 0s - loss: 0.2520 - tp: 36.0000 - fp: 1811.0000 - tn: 27118.0000 - fn: 475.0000 - accuracy: 0.9224 - precision: 0.0195 - recall: 0.0705 - auc: 0.5028WARNING:tensorflow:Callbacks method `on_test_batch_end` is slow compared to the batch time (batch time: 0.0067s vs `on_test_batch_end` time: 0.0694s). Check your callbacks.\n"
          ],
          "name": "stdout"
        },
        {
          "output_type": "stream",
          "text": [
            "WARNING:tensorflow:Callbacks method `on_test_batch_end` is slow compared to the batch time (batch time: 0.0067s vs `on_test_batch_end` time: 0.0694s). Check your callbacks.\n"
          ],
          "name": "stderr"
        },
        {
          "output_type": "stream",
          "text": [
            "\b\b\b\b\b\b\b\b\b\b\b\b\b\b\b\b\b\b\b\b\b\b\b\b\b\b\b\b\b\b\b\b\b\b\b\b\b\b\b\b\b\b\b\b\b\b\b\b\b\b\b\b\b\b\b\b\b\b\b\b\b\b\b\b\b\b\b\b\b\b\b\b\b\b\b\b\b\b\b\b\b\b\b\b\b\b\b\b\b\b\b\b\b\b\b\b\b\b\b\b\b\b\b\b\b\b\b\b\b\b\b\b\b\b\b\b\b\b\b\b\b\b\b\b\b\b\b\b\b\b\b\b\b\b\b\b\b\b\b\b\b\b\b\b\b\b\b\b\b\b\b\b\b\b\b\b\b\b\b\b\b\b\b\b\b\b\b\b\b\b\b\b\b\b\b\b\b\b\b\b\b\b\b\b\b\b\b\b\b\b\b\b\b\b\b\b\b\r115/115 [==============================] - 40s 348ms/step - loss: 0.2520 - tp: 36.0000 - fp: 1811.0000 - tn: 27118.0000 - fn: 475.0000 - accuracy: 0.9224 - precision: 0.0195 - recall: 0.0705 - auc: 0.5028 - val_loss: 0.1253 - val_tp: 0.0000e+00 - val_fp: 0.0000e+00 - val_tn: 10808.0000 - val_fn: 200.0000 - val_accuracy: 0.9818 - val_precision: 0.0000e+00 - val_recall: 0.0000e+00 - val_auc: 0.7177\n",
            "Epoch 2/200\n",
            "115/115 [==============================] - 24s 209ms/step - loss: 0.1856 - tp: 15.0000 - fp: 454.0000 - tn: 28460.0000 - fn: 511.0000 - accuracy: 0.9672 - precision: 0.0320 - recall: 0.0285 - auc: 0.5539 - val_loss: 0.2435 - val_tp: 0.0000e+00 - val_fp: 0.0000e+00 - val_tn: 10825.0000 - val_fn: 183.0000 - val_accuracy: 0.9834 - val_precision: 0.0000e+00 - val_recall: 0.0000e+00 - val_auc: 0.6525\n",
            "Epoch 3/200\n",
            "115/115 [==============================] - 23s 199ms/step - loss: 0.1488 - tp: 7.0000 - fp: 130.0000 - tn: 28797.0000 - fn: 506.0000 - accuracy: 0.9784 - precision: 0.0511 - recall: 0.0136 - auc: 0.6025 - val_loss: 0.0925 - val_tp: 0.0000e+00 - val_fp: 0.0000e+00 - val_tn: 10798.0000 - val_fn: 210.0000 - val_accuracy: 0.9809 - val_precision: 0.0000e+00 - val_recall: 0.0000e+00 - val_auc: 0.6677\n",
            "Epoch 4/200\n",
            "115/115 [==============================] - 24s 207ms/step - loss: 0.1396 - tp: 2.0000 - fp: 93.0000 - tn: 28824.0000 - fn: 521.0000 - accuracy: 0.9791 - precision: 0.0211 - recall: 0.0038 - auc: 0.6378 - val_loss: 0.1094 - val_tp: 0.0000e+00 - val_fp: 0.0000e+00 - val_tn: 10809.0000 - val_fn: 199.0000 - val_accuracy: 0.9819 - val_precision: 0.0000e+00 - val_recall: 0.0000e+00 - val_auc: 0.6989\n",
            "Epoch 5/200\n",
            "115/115 [==============================] - 23s 200ms/step - loss: 0.1365 - tp: 13.0000 - fp: 60.0000 - tn: 28845.0000 - fn: 522.0000 - accuracy: 0.9802 - precision: 0.1781 - recall: 0.0243 - auc: 0.6638 - val_loss: 0.0912 - val_tp: 0.0000e+00 - val_fp: 0.0000e+00 - val_tn: 10794.0000 - val_fn: 214.0000 - val_accuracy: 0.9806 - val_precision: 0.0000e+00 - val_recall: 0.0000e+00 - val_auc: 0.7368\n",
            "Epoch 6/200\n",
            "115/115 [==============================] - 23s 202ms/step - loss: 0.1390 - tp: 13.0000 - fp: 73.0000 - tn: 28833.0000 - fn: 521.0000 - accuracy: 0.9798 - precision: 0.1512 - recall: 0.0243 - auc: 0.6441 - val_loss: 0.0998 - val_tp: 0.0000e+00 - val_fp: 0.0000e+00 - val_tn: 10799.0000 - val_fn: 209.0000 - val_accuracy: 0.9810 - val_precision: 0.0000e+00 - val_recall: 0.0000e+00 - val_auc: 0.6747\n",
            "Epoch 7/200\n",
            "115/115 [==============================] - 23s 202ms/step - loss: 0.1301 - tp: 7.0000 - fp: 54.0000 - tn: 28872.0000 - fn: 507.0000 - accuracy: 0.9809 - precision: 0.1148 - recall: 0.0136 - auc: 0.6866 - val_loss: 0.0876 - val_tp: 0.0000e+00 - val_fp: 0.0000e+00 - val_tn: 10809.0000 - val_fn: 199.0000 - val_accuracy: 0.9819 - val_precision: 0.0000e+00 - val_recall: 0.0000e+00 - val_auc: 0.7545\n",
            "Epoch 8/200\n",
            "115/115 [==============================] - 23s 200ms/step - loss: 0.1341 - tp: 5.0000 - fp: 45.0000 - tn: 28865.0000 - fn: 525.0000 - accuracy: 0.9806 - precision: 0.1000 - recall: 0.0094 - auc: 0.6781 - val_loss: 0.0936 - val_tp: 0.0000e+00 - val_fp: 0.0000e+00 - val_tn: 10804.0000 - val_fn: 204.0000 - val_accuracy: 0.9815 - val_precision: 0.0000e+00 - val_recall: 0.0000e+00 - val_auc: 0.7227\n",
            "Epoch 9/200\n",
            "115/115 [==============================] - 23s 200ms/step - loss: 0.1260 - tp: 9.0000 - fp: 31.0000 - tn: 28889.0000 - fn: 511.0000 - accuracy: 0.9816 - precision: 0.2250 - recall: 0.0173 - auc: 0.7128 - val_loss: 0.0826 - val_tp: 0.0000e+00 - val_fp: 0.0000e+00 - val_tn: 10802.0000 - val_fn: 206.0000 - val_accuracy: 0.9813 - val_precision: 0.0000e+00 - val_recall: 0.0000e+00 - val_auc: 0.7769\n",
            "Epoch 10/200\n",
            "115/115 [==============================] - 23s 201ms/step - loss: 0.1282 - tp: 3.0000 - fp: 9.0000 - tn: 28902.0000 - fn: 526.0000 - accuracy: 0.9818 - precision: 0.2500 - recall: 0.0057 - auc: 0.7076 - val_loss: 0.0827 - val_tp: 0.0000e+00 - val_fp: 0.0000e+00 - val_tn: 10813.0000 - val_fn: 195.0000 - val_accuracy: 0.9823 - val_precision: 0.0000e+00 - val_recall: 0.0000e+00 - val_auc: 0.7597\n",
            "Epoch 11/200\n",
            "115/115 [==============================] - 23s 202ms/step - loss: 0.1205 - tp: 7.0000 - fp: 21.0000 - tn: 28902.0000 - fn: 510.0000 - accuracy: 0.9820 - precision: 0.2500 - recall: 0.0135 - auc: 0.7435 - val_loss: 0.0738 - val_tp: 0.0000e+00 - val_fp: 0.0000e+00 - val_tn: 10831.0000 - val_fn: 177.0000 - val_accuracy: 0.9839 - val_precision: 0.0000e+00 - val_recall: 0.0000e+00 - val_auc: 0.7705\n",
            "Epoch 12/200\n",
            "115/115 [==============================] - 23s 200ms/step - loss: 0.1218 - tp: 5.0000 - fp: 35.0000 - tn: 28869.0000 - fn: 531.0000 - accuracy: 0.9808 - precision: 0.1250 - recall: 0.0093 - auc: 0.7616 - val_loss: 0.0879 - val_tp: 0.0000e+00 - val_fp: 2.0000 - val_tn: 10816.0000 - val_fn: 190.0000 - val_accuracy: 0.9826 - val_precision: 0.0000e+00 - val_recall: 0.0000e+00 - val_auc: 0.7888\n",
            "Epoch 13/200\n",
            "115/115 [==============================] - 23s 200ms/step - loss: 0.1178 - tp: 4.0000 - fp: 24.0000 - tn: 28907.0000 - fn: 505.0000 - accuracy: 0.9820 - precision: 0.1429 - recall: 0.0079 - auc: 0.7539 - val_loss: 0.0836 - val_tp: 0.0000e+00 - val_fp: 0.0000e+00 - val_tn: 10815.0000 - val_fn: 193.0000 - val_accuracy: 0.9825 - val_precision: 0.0000e+00 - val_recall: 0.0000e+00 - val_auc: 0.7773\n",
            "Epoch 14/200\n",
            "115/115 [==============================] - 23s 202ms/step - loss: 0.1211 - tp: 7.0000 - fp: 14.0000 - tn: 28893.0000 - fn: 526.0000 - accuracy: 0.9817 - precision: 0.3333 - recall: 0.0131 - auc: 0.7584 - val_loss: 0.0750 - val_tp: 0.0000e+00 - val_fp: 0.0000e+00 - val_tn: 10820.0000 - val_fn: 188.0000 - val_accuracy: 0.9829 - val_precision: 0.0000e+00 - val_recall: 0.0000e+00 - val_auc: 0.7987\n",
            "Epoch 15/200\n",
            "115/115 [==============================] - 23s 203ms/step - loss: 0.1158 - tp: 13.0000 - fp: 21.0000 - tn: 28908.0000 - fn: 498.0000 - accuracy: 0.9824 - precision: 0.3824 - recall: 0.0254 - auc: 0.7611 - val_loss: 0.0795 - val_tp: 0.0000e+00 - val_fp: 0.0000e+00 - val_tn: 10808.0000 - val_fn: 200.0000 - val_accuracy: 0.9818 - val_precision: 0.0000e+00 - val_recall: 0.0000e+00 - val_auc: 0.7806\n",
            "Epoch 16/200\n",
            "115/115 [==============================] - 23s 200ms/step - loss: 0.1225 - tp: 11.0000 - fp: 22.0000 - tn: 28868.0000 - fn: 539.0000 - accuracy: 0.9809 - precision: 0.3333 - recall: 0.0200 - auc: 0.7675 - val_loss: 0.0788 - val_tp: 0.0000e+00 - val_fp: 0.0000e+00 - val_tn: 10813.0000 - val_fn: 195.0000 - val_accuracy: 0.9823 - val_precision: 0.0000e+00 - val_recall: 0.0000e+00 - val_auc: 0.7672\n",
            "Epoch 17/200\n",
            "115/115 [==============================] - 23s 202ms/step - loss: 0.1128 - tp: 7.0000 - fp: 19.0000 - tn: 28914.0000 - fn: 500.0000 - accuracy: 0.9824 - precision: 0.2692 - recall: 0.0138 - auc: 0.7860 - val_loss: 0.0809 - val_tp: 0.0000e+00 - val_fp: 0.0000e+00 - val_tn: 10799.0000 - val_fn: 209.0000 - val_accuracy: 0.9810 - val_precision: 0.0000e+00 - val_recall: 0.0000e+00 - val_auc: 0.7868\n",
            "Epoch 18/200\n",
            "115/115 [==============================] - 23s 201ms/step - loss: 0.1188 - tp: 6.0000 - fp: 30.0000 - tn: 28884.0000 - fn: 520.0000 - accuracy: 0.9813 - precision: 0.1667 - recall: 0.0114 - auc: 0.7715 - val_loss: 0.0783 - val_tp: 0.0000e+00 - val_fp: 0.0000e+00 - val_tn: 10811.0000 - val_fn: 197.0000 - val_accuracy: 0.9821 - val_precision: 0.0000e+00 - val_recall: 0.0000e+00 - val_auc: 0.7924\n",
            "Epoch 19/200\n",
            "115/115 [==============================] - 23s 202ms/step - loss: 0.1217 - tp: 10.0000 - fp: 23.0000 - tn: 28884.0000 - fn: 523.0000 - accuracy: 0.9815 - precision: 0.3030 - recall: 0.0188 - auc: 0.7551 - val_loss: 0.0760 - val_tp: 0.0000e+00 - val_fp: 0.0000e+00 - val_tn: 10822.0000 - val_fn: 186.0000 - val_accuracy: 0.9831 - val_precision: 0.0000e+00 - val_recall: 0.0000e+00 - val_auc: 0.7681\n",
            "Epoch 20/200\n",
            "115/115 [==============================] - 43s 378ms/step - loss: 0.1147 - tp: 11.0000 - fp: 41.0000 - tn: 28880.0000 - fn: 508.0000 - accuracy: 0.9814 - precision: 0.2115 - recall: 0.0212 - auc: 0.7870 - val_loss: 0.0944 - val_tp: 0.0000e+00 - val_fp: 3.0000 - val_tn: 10812.0000 - val_fn: 193.0000 - val_accuracy: 0.9822 - val_precision: 0.0000e+00 - val_recall: 0.0000e+00 - val_auc: 0.8058\n",
            "Epoch 21/200\n",
            "115/115 [==============================] - 23s 200ms/step - loss: 0.1178 - tp: 5.0000 - fp: 23.0000 - tn: 28905.0000 - fn: 507.0000 - accuracy: 0.9820 - precision: 0.1786 - recall: 0.0098 - auc: 0.7597 - val_loss: 0.0839 - val_tp: 0.0000e+00 - val_fp: 0.0000e+00 - val_tn: 10820.0000 - val_fn: 188.0000 - val_accuracy: 0.9829 - val_precision: 0.0000e+00 - val_recall: 0.0000e+00 - val_auc: 0.7790\n",
            "Epoch 22/200\n",
            "115/115 [==============================] - 23s 200ms/step - loss: 0.1215 - tp: 6.0000 - fp: 23.0000 - tn: 28885.0000 - fn: 526.0000 - accuracy: 0.9814 - precision: 0.2069 - recall: 0.0113 - auc: 0.7562 - val_loss: 0.0852 - val_tp: 0.0000e+00 - val_fp: 1.0000 - val_tn: 10820.0000 - val_fn: 187.0000 - val_accuracy: 0.9829 - val_precision: 0.0000e+00 - val_recall: 0.0000e+00 - val_auc: 0.7830\n",
            "Epoch 23/200\n",
            "115/115 [==============================] - 23s 202ms/step - loss: 0.1183 - tp: 11.0000 - fp: 24.0000 - tn: 28887.0000 - fn: 518.0000 - accuracy: 0.9816 - precision: 0.3143 - recall: 0.0208 - auc: 0.7717 - val_loss: 0.0843 - val_tp: 0.0000e+00 - val_fp: 0.0000e+00 - val_tn: 10804.0000 - val_fn: 204.0000 - val_accuracy: 0.9815 - val_precision: 0.0000e+00 - val_recall: 0.0000e+00 - val_auc: 0.7787\n",
            "Epoch 24/200\n",
            "115/115 [==============================] - 23s 202ms/step - loss: 0.1194 - tp: 12.0000 - fp: 23.0000 - tn: 28895.0000 - fn: 510.0000 - accuracy: 0.9819 - precision: 0.3429 - recall: 0.0230 - auc: 0.7643 - val_loss: 0.0828 - val_tp: 0.0000e+00 - val_fp: 3.0000 - val_tn: 10813.0000 - val_fn: 192.0000 - val_accuracy: 0.9823 - val_precision: 0.0000e+00 - val_recall: 0.0000e+00 - val_auc: 0.8140\n",
            "Epoch 25/200\n",
            "115/115 [==============================] - 23s 202ms/step - loss: 0.1183 - tp: 13.0000 - fp: 48.0000 - tn: 28857.0000 - fn: 522.0000 - accuracy: 0.9806 - precision: 0.2131 - recall: 0.0243 - auc: 0.7819 - val_loss: 0.0756 - val_tp: 0.0000e+00 - val_fp: 0.0000e+00 - val_tn: 10818.0000 - val_fn: 190.0000 - val_accuracy: 0.9827 - val_precision: 0.0000e+00 - val_recall: 0.0000e+00 - val_auc: 0.7991\n",
            "Epoch 26/200\n",
            "115/115 [==============================] - 25s 221ms/step - loss: 0.1171 - tp: 9.0000 - fp: 27.0000 - tn: 28892.0000 - fn: 512.0000 - accuracy: 0.9817 - precision: 0.2500 - recall: 0.0173 - auc: 0.7753 - val_loss: 0.0810 - val_tp: 0.0000e+00 - val_fp: 0.0000e+00 - val_tn: 10807.0000 - val_fn: 201.0000 - val_accuracy: 0.9817 - val_precision: 0.0000e+00 - val_recall: 0.0000e+00 - val_auc: 0.7868\n",
            "Epoch 27/200\n",
            "115/115 [==============================] - 23s 204ms/step - loss: 0.1154 - tp: 11.0000 - fp: 37.0000 - tn: 28881.0000 - fn: 511.0000 - accuracy: 0.9814 - precision: 0.2292 - recall: 0.0211 - auc: 0.7819 - val_loss: 0.0923 - val_tp: 0.0000e+00 - val_fp: 3.0000 - val_tn: 10814.0000 - val_fn: 191.0000 - val_accuracy: 0.9824 - val_precision: 0.0000e+00 - val_recall: 0.0000e+00 - val_auc: 0.7901\n",
            "Epoch 28/200\n",
            "115/115 [==============================] - 23s 202ms/step - loss: 0.1148 - tp: 24.0000 - fp: 45.0000 - tn: 28875.0000 - fn: 496.0000 - accuracy: 0.9816 - precision: 0.3478 - recall: 0.0462 - auc: 0.7832 - val_loss: 0.0848 - val_tp: 0.0000e+00 - val_fp: 0.0000e+00 - val_tn: 10815.0000 - val_fn: 193.0000 - val_accuracy: 0.9825 - val_precision: 0.0000e+00 - val_recall: 0.0000e+00 - val_auc: 0.7410\n",
            "Epoch 29/200\n",
            "115/115 [==============================] - 23s 203ms/step - loss: 0.1124 - tp: 14.0000 - fp: 44.0000 - tn: 28882.0000 - fn: 500.0000 - accuracy: 0.9815 - precision: 0.2414 - recall: 0.0272 - auc: 0.7963 - val_loss: 0.0837 - val_tp: 0.0000e+00 - val_fp: 3.0000 - val_tn: 10813.0000 - val_fn: 192.0000 - val_accuracy: 0.9823 - val_precision: 0.0000e+00 - val_recall: 0.0000e+00 - val_auc: 0.7991\n",
            "Epoch 30/200\n",
            "115/115 [==============================] - 24s 205ms/step - loss: 0.1133 - tp: 28.0000 - fp: 60.0000 - tn: 28846.0000 - fn: 506.0000 - accuracy: 0.9808 - precision: 0.3182 - recall: 0.0524 - auc: 0.8072 - val_loss: 0.0784 - val_tp: 0.0000e+00 - val_fp: 1.0000 - val_tn: 10813.0000 - val_fn: 194.0000 - val_accuracy: 0.9823 - val_precision: 0.0000e+00 - val_recall: 0.0000e+00 - val_auc: 0.7957\n",
            "Epoch 31/200\n",
            "115/115 [==============================] - 23s 202ms/step - loss: 0.1107 - tp: 30.0000 - fp: 51.0000 - tn: 28857.0000 - fn: 502.0000 - accuracy: 0.9812 - precision: 0.3704 - recall: 0.0564 - auc: 0.8142 - val_loss: 0.0793 - val_tp: 0.0000e+00 - val_fp: 0.0000e+00 - val_tn: 10818.0000 - val_fn: 190.0000 - val_accuracy: 0.9827 - val_precision: 0.0000e+00 - val_recall: 0.0000e+00 - val_auc: 0.7516\n",
            "Epoch 32/200\n",
            "115/115 [==============================] - 24s 208ms/step - loss: 0.1062 - tp: 40.0000 - fp: 72.0000 - tn: 28846.0000 - fn: 482.0000 - accuracy: 0.9812 - precision: 0.3571 - recall: 0.0766 - auc: 0.8295 - val_loss: 0.0841 - val_tp: 0.0000e+00 - val_fp: 0.0000e+00 - val_tn: 10801.0000 - val_fn: 207.0000 - val_accuracy: 0.9812 - val_precision: 0.0000e+00 - val_recall: 0.0000e+00 - val_auc: 0.7539\n",
            "Epoch 33/200\n",
            "115/115 [==============================] - 24s 209ms/step - loss: 0.1059 - tp: 27.0000 - fp: 63.0000 - tn: 28854.0000 - fn: 496.0000 - accuracy: 0.9810 - precision: 0.3000 - recall: 0.0516 - auc: 0.8351 - val_loss: 0.0831 - val_tp: 0.0000e+00 - val_fp: 0.0000e+00 - val_tn: 10798.0000 - val_fn: 210.0000 - val_accuracy: 0.9809 - val_precision: 0.0000e+00 - val_recall: 0.0000e+00 - val_auc: 0.7752\n",
            "Epoch 34/200\n",
            "115/115 [==============================] - 23s 203ms/step - loss: 0.1078 - tp: 39.0000 - fp: 69.0000 - tn: 28845.0000 - fn: 487.0000 - accuracy: 0.9811 - precision: 0.3611 - recall: 0.0741 - auc: 0.8240 - val_loss: 0.0807 - val_tp: 0.0000e+00 - val_fp: 0.0000e+00 - val_tn: 10810.0000 - val_fn: 198.0000 - val_accuracy: 0.9820 - val_precision: 0.0000e+00 - val_recall: 0.0000e+00 - val_auc: 0.7503\n",
            "Epoch 35/200\n",
            "115/115 [==============================] - 24s 211ms/step - loss: 0.1021 - tp: 40.0000 - fp: 78.0000 - tn: 28866.0000 - fn: 456.0000 - accuracy: 0.9819 - precision: 0.3390 - recall: 0.0806 - auc: 0.8298 - val_loss: 0.0774 - val_tp: 0.0000e+00 - val_fp: 0.0000e+00 - val_tn: 10817.0000 - val_fn: 191.0000 - val_accuracy: 0.9826 - val_precision: 0.0000e+00 - val_recall: 0.0000e+00 - val_auc: 0.7809\n",
            "Epoch 36/200\n",
            "115/115 [==============================] - 24s 207ms/step - loss: 0.1097 - tp: 41.0000 - fp: 75.0000 - tn: 28827.0000 - fn: 497.0000 - accuracy: 0.9806 - precision: 0.3534 - recall: 0.0762 - auc: 0.8252 - val_loss: 0.0823 - val_tp: 0.0000e+00 - val_fp: 0.0000e+00 - val_tn: 10814.0000 - val_fn: 194.0000 - val_accuracy: 0.9824 - val_precision: 0.0000e+00 - val_recall: 0.0000e+00 - val_auc: 0.7715\n",
            "Epoch 37/200\n",
            "115/115 [==============================] - 24s 208ms/step - loss: 0.1076 - tp: 31.0000 - fp: 64.0000 - tn: 28861.0000 - fn: 484.0000 - accuracy: 0.9814 - precision: 0.3263 - recall: 0.0602 - auc: 0.8236 - val_loss: 0.0821 - val_tp: 0.0000e+00 - val_fp: 0.0000e+00 - val_tn: 10806.0000 - val_fn: 202.0000 - val_accuracy: 0.9816 - val_precision: 0.0000e+00 - val_recall: 0.0000e+00 - val_auc: 0.7663\n",
            "Epoch 38/200\n",
            "115/115 [==============================] - 24s 205ms/step - loss: 0.1119 - tp: 50.0000 - fp: 86.0000 - tn: 28817.0000 - fn: 487.0000 - accuracy: 0.9805 - precision: 0.3676 - recall: 0.0931 - auc: 0.8081 - val_loss: 0.0818 - val_tp: 0.0000e+00 - val_fp: 0.0000e+00 - val_tn: 10808.0000 - val_fn: 200.0000 - val_accuracy: 0.9818 - val_precision: 0.0000e+00 - val_recall: 0.0000e+00 - val_auc: 0.7584\n",
            "Epoch 39/200\n",
            "115/115 [==============================] - 23s 204ms/step - loss: 0.1115 - tp: 42.0000 - fp: 89.0000 - tn: 28811.0000 - fn: 498.0000 - accuracy: 0.9801 - precision: 0.3206 - recall: 0.0778 - auc: 0.8171 - val_loss: 0.0839 - val_tp: 0.0000e+00 - val_fp: 3.0000 - val_tn: 10808.0000 - val_fn: 197.0000 - val_accuracy: 0.9818 - val_precision: 0.0000e+00 - val_recall: 0.0000e+00 - val_auc: 0.7668\n",
            "Epoch 40/200\n",
            "115/115 [==============================] - 24s 206ms/step - loss: 0.1030 - tp: 43.0000 - fp: 67.0000 - tn: 28871.0000 - fn: 459.0000 - accuracy: 0.9821 - precision: 0.3909 - recall: 0.0857 - auc: 0.8308 - val_loss: 0.0904 - val_tp: 0.0000e+00 - val_fp: 0.0000e+00 - val_tn: 10802.0000 - val_fn: 206.0000 - val_accuracy: 0.9813 - val_precision: 0.0000e+00 - val_recall: 0.0000e+00 - val_auc: 0.7655\n",
            "Epoch 41/200\n",
            "115/115 [==============================] - 24s 204ms/step - loss: 0.1099 - tp: 35.0000 - fp: 89.0000 - tn: 28821.0000 - fn: 495.0000 - accuracy: 0.9802 - precision: 0.2823 - recall: 0.0660 - auc: 0.8192 - val_loss: 0.0893 - val_tp: 0.0000e+00 - val_fp: 0.0000e+00 - val_tn: 10818.0000 - val_fn: 190.0000 - val_accuracy: 0.9827 - val_precision: 0.0000e+00 - val_recall: 0.0000e+00 - val_auc: 0.6993\n",
            "Epoch 42/200\n",
            "115/115 [==============================] - 24s 206ms/step - loss: 0.1045 - tp: 63.0000 - fp: 102.0000 - tn: 28803.0000 - fn: 472.0000 - accuracy: 0.9805 - precision: 0.3818 - recall: 0.1178 - auc: 0.8469 - val_loss: 0.0800 - val_tp: 0.0000e+00 - val_fp: 6.0000 - val_tn: 10824.0000 - val_fn: 178.0000 - val_accuracy: 0.9833 - val_precision: 0.0000e+00 - val_recall: 0.0000e+00 - val_auc: 0.7188\n",
            "Epoch 43/200\n",
            "115/115 [==============================] - 23s 203ms/step - loss: 0.0965 - tp: 69.0000 - fp: 88.0000 - tn: 28860.0000 - fn: 423.0000 - accuracy: 0.9826 - precision: 0.4395 - recall: 0.1402 - auc: 0.8511 - val_loss: 0.0785 - val_tp: 0.0000e+00 - val_fp: 3.0000 - val_tn: 10819.0000 - val_fn: 186.0000 - val_accuracy: 0.9828 - val_precision: 0.0000e+00 - val_recall: 0.0000e+00 - val_auc: 0.7617\n",
            "Epoch 44/200\n",
            "115/115 [==============================] - 23s 204ms/step - loss: 0.1016 - tp: 90.0000 - fp: 98.0000 - tn: 28799.0000 - fn: 453.0000 - accuracy: 0.9813 - precision: 0.4787 - recall: 0.1657 - auc: 0.8567 - val_loss: 0.0799 - val_tp: 0.0000e+00 - val_fp: 11.0000 - val_tn: 10802.0000 - val_fn: 195.0000 - val_accuracy: 0.9813 - val_precision: 0.0000e+00 - val_recall: 0.0000e+00 - val_auc: 0.7870\n",
            "Epoch 45/200\n",
            "115/115 [==============================] - 23s 204ms/step - loss: 0.0983 - tp: 97.0000 - fp: 120.0000 - tn: 28782.0000 - fn: 441.0000 - accuracy: 0.9809 - precision: 0.4470 - recall: 0.1803 - auc: 0.8641 - val_loss: 0.0836 - val_tp: 0.0000e+00 - val_fp: 1.0000 - val_tn: 10802.0000 - val_fn: 205.0000 - val_accuracy: 0.9813 - val_precision: 0.0000e+00 - val_recall: 0.0000e+00 - val_auc: 0.7830\n",
            "Epoch 46/200\n",
            "115/115 [==============================] - 24s 204ms/step - loss: 0.0924 - tp: 96.0000 - fp: 110.0000 - tn: 28824.0000 - fn: 410.0000 - accuracy: 0.9823 - precision: 0.4660 - recall: 0.1897 - auc: 0.8697 - val_loss: 0.0857 - val_tp: 0.0000e+00 - val_fp: 5.0000 - val_tn: 10801.0000 - val_fn: 202.0000 - val_accuracy: 0.9812 - val_precision: 0.0000e+00 - val_recall: 0.0000e+00 - val_auc: 0.7404\n",
            "Epoch 47/200\n",
            "115/115 [==============================] - 23s 203ms/step - loss: 0.0907 - tp: 126.0000 - fp: 106.0000 - tn: 28806.0000 - fn: 402.0000 - accuracy: 0.9827 - precision: 0.5431 - recall: 0.2386 - auc: 0.8826 - val_loss: 0.0779 - val_tp: 0.0000e+00 - val_fp: 10.0000 - val_tn: 10814.0000 - val_fn: 184.0000 - val_accuracy: 0.9824 - val_precision: 0.0000e+00 - val_recall: 0.0000e+00 - val_auc: 0.7534\n",
            "Epoch 48/200\n",
            "115/115 [==============================] - 23s 204ms/step - loss: 0.0848 - tp: 153.0000 - fp: 119.0000 - tn: 28800.0000 - fn: 368.0000 - accuracy: 0.9835 - precision: 0.5625 - recall: 0.2937 - auc: 0.8965 - val_loss: 0.0816 - val_tp: 0.0000e+00 - val_fp: 2.0000 - val_tn: 10810.0000 - val_fn: 196.0000 - val_accuracy: 0.9820 - val_precision: 0.0000e+00 - val_recall: 0.0000e+00 - val_auc: 0.7611\n",
            "Epoch 49/200\n",
            "115/115 [==============================] - 24s 207ms/step - loss: 0.0825 - tp: 166.0000 - fp: 93.0000 - tn: 28833.0000 - fn: 348.0000 - accuracy: 0.9850 - precision: 0.6409 - recall: 0.3230 - auc: 0.8964 - val_loss: 0.0824 - val_tp: 1.0000 - val_fp: 13.0000 - val_tn: 10797.0000 - val_fn: 197.0000 - val_accuracy: 0.9809 - val_precision: 0.0714 - val_recall: 0.0051 - val_auc: 0.7606\n",
            "Epoch 50/200\n",
            "115/115 [==============================] - 23s 203ms/step - loss: 0.0848 - tp: 173.0000 - fp: 130.0000 - tn: 28771.0000 - fn: 366.0000 - accuracy: 0.9832 - precision: 0.5710 - recall: 0.3210 - auc: 0.9031 - val_loss: 0.0933 - val_tp: 0.0000e+00 - val_fp: 9.0000 - val_tn: 10784.0000 - val_fn: 215.0000 - val_accuracy: 0.9797 - val_precision: 0.0000e+00 - val_recall: 0.0000e+00 - val_auc: 0.7751\n",
            "Epoch 51/200\n",
            "115/115 [==============================] - 24s 206ms/step - loss: 0.0871 - tp: 150.0000 - fp: 103.0000 - tn: 28818.0000 - fn: 369.0000 - accuracy: 0.9840 - precision: 0.5929 - recall: 0.2890 - auc: 0.8861 - val_loss: 0.0935 - val_tp: 0.0000e+00 - val_fp: 15.0000 - val_tn: 10782.0000 - val_fn: 211.0000 - val_accuracy: 0.9795 - val_precision: 0.0000e+00 - val_recall: 0.0000e+00 - val_auc: 0.7514\n",
            "Epoch 52/200\n",
            "115/115 [==============================] - 25s 214ms/step - loss: 0.0836 - tp: 196.0000 - fp: 139.0000 - tn: 28764.0000 - fn: 341.0000 - accuracy: 0.9837 - precision: 0.5851 - recall: 0.3650 - auc: 0.9026 - val_loss: 0.0849 - val_tp: 5.0000 - val_fp: 16.0000 - val_tn: 10796.0000 - val_fn: 191.0000 - val_accuracy: 0.9812 - val_precision: 0.2381 - val_recall: 0.0255 - val_auc: 0.7591\n",
            "Epoch 53/200\n",
            "115/115 [==============================] - 23s 202ms/step - loss: 0.0839 - tp: 155.0000 - fp: 121.0000 - tn: 28815.0000 - fn: 349.0000 - accuracy: 0.9840 - precision: 0.5616 - recall: 0.3075 - auc: 0.8929 - val_loss: 0.0968 - val_tp: 0.0000e+00 - val_fp: 3.0000 - val_tn: 10808.0000 - val_fn: 197.0000 - val_accuracy: 0.9818 - val_precision: 0.0000e+00 - val_recall: 0.0000e+00 - val_auc: 0.7099\n",
            "Epoch 54/200\n",
            "115/115 [==============================] - 23s 203ms/step - loss: 0.0850 - tp: 175.0000 - fp: 146.0000 - tn: 28758.0000 - fn: 361.0000 - accuracy: 0.9828 - precision: 0.5452 - recall: 0.3265 - auc: 0.8999 - val_loss: 0.0929 - val_tp: 0.0000e+00 - val_fp: 0.0000e+00 - val_tn: 10814.0000 - val_fn: 194.0000 - val_accuracy: 0.9824 - val_precision: 0.0000e+00 - val_recall: 0.0000e+00 - val_auc: 0.7156\n",
            "Epoch 55/200\n",
            "115/115 [==============================] - 24s 204ms/step - loss: 0.0874 - tp: 155.0000 - fp: 139.0000 - tn: 28785.0000 - fn: 361.0000 - accuracy: 0.9830 - precision: 0.5272 - recall: 0.3004 - auc: 0.8901 - val_loss: 0.0828 - val_tp: 1.0000 - val_fp: 6.0000 - val_tn: 10812.0000 - val_fn: 189.0000 - val_accuracy: 0.9823 - val_precision: 0.1429 - val_recall: 0.0053 - val_auc: 0.7552\n",
            "Epoch 56/200\n",
            "115/115 [==============================] - 23s 202ms/step - loss: 0.0888 - tp: 171.0000 - fp: 141.0000 - tn: 28754.0000 - fn: 374.0000 - accuracy: 0.9825 - precision: 0.5481 - recall: 0.3138 - auc: 0.8909 - val_loss: 0.0934 - val_tp: 0.0000e+00 - val_fp: 1.0000 - val_tn: 10805.0000 - val_fn: 202.0000 - val_accuracy: 0.9816 - val_precision: 0.0000e+00 - val_recall: 0.0000e+00 - val_auc: 0.7198\n",
            "Epoch 57/200\n",
            "115/115 [==============================] - 23s 203ms/step - loss: 0.0864 - tp: 150.0000 - fp: 146.0000 - tn: 28769.0000 - fn: 375.0000 - accuracy: 0.9823 - precision: 0.5068 - recall: 0.2857 - auc: 0.8957 - val_loss: 0.0851 - val_tp: 2.0000 - val_fp: 20.0000 - val_tn: 10798.0000 - val_fn: 188.0000 - val_accuracy: 0.9811 - val_precision: 0.0909 - val_recall: 0.0105 - val_auc: 0.7599\n",
            "Epoch 58/200\n",
            "115/115 [==============================] - 24s 205ms/step - loss: 0.0835 - tp: 152.0000 - fp: 126.0000 - tn: 28808.0000 - fn: 354.0000 - accuracy: 0.9837 - precision: 0.5468 - recall: 0.3004 - auc: 0.8936 - val_loss: 0.0862 - val_tp: 3.0000 - val_fp: 21.0000 - val_tn: 10781.0000 - val_fn: 203.0000 - val_accuracy: 0.9797 - val_precision: 0.1250 - val_recall: 0.0146 - val_auc: 0.7806\n",
            "Epoch 59/200\n",
            "115/115 [==============================] - 23s 203ms/step - loss: 0.0778 - tp: 208.0000 - fp: 117.0000 - tn: 28794.0000 - fn: 321.0000 - accuracy: 0.9851 - precision: 0.6400 - recall: 0.3932 - auc: 0.9096 - val_loss: 0.0818 - val_tp: 3.0000 - val_fp: 22.0000 - val_tn: 10792.0000 - val_fn: 191.0000 - val_accuracy: 0.9807 - val_precision: 0.1200 - val_recall: 0.0155 - val_auc: 0.7770\n",
            "Epoch 60/200\n",
            "115/115 [==============================] - 23s 204ms/step - loss: 0.0713 - tp: 249.0000 - fp: 104.0000 - tn: 28809.0000 - fn: 278.0000 - accuracy: 0.9870 - precision: 0.7054 - recall: 0.4725 - auc: 0.9181 - val_loss: 0.0929 - val_tp: 0.0000e+00 - val_fp: 6.0000 - val_tn: 10811.0000 - val_fn: 191.0000 - val_accuracy: 0.9821 - val_precision: 0.0000e+00 - val_recall: 0.0000e+00 - val_auc: 0.7139\n",
            "Epoch 61/200\n",
            "115/115 [==============================] - 23s 204ms/step - loss: 0.0727 - tp: 220.0000 - fp: 89.0000 - tn: 28832.0000 - fn: 299.0000 - accuracy: 0.9868 - precision: 0.7120 - recall: 0.4239 - auc: 0.9193 - val_loss: 0.0984 - val_tp: 0.0000e+00 - val_fp: 4.0000 - val_tn: 10806.0000 - val_fn: 198.0000 - val_accuracy: 0.9816 - val_precision: 0.0000e+00 - val_recall: 0.0000e+00 - val_auc: 0.7040\n",
            "Epoch 62/200\n",
            "115/115 [==============================] - 24s 205ms/step - loss: 0.0619 - tp: 270.0000 - fp: 86.0000 - tn: 28833.0000 - fn: 251.0000 - accuracy: 0.9886 - precision: 0.7584 - recall: 0.5182 - auc: 0.9417 - val_loss: 0.0929 - val_tp: 0.0000e+00 - val_fp: 0.0000e+00 - val_tn: 10817.0000 - val_fn: 191.0000 - val_accuracy: 0.9826 - val_precision: 0.0000e+00 - val_recall: 0.0000e+00 - val_auc: 0.7033\n",
            "Epoch 63/200\n",
            "115/115 [==============================] - 24s 207ms/step - loss: 0.0639 - tp: 275.0000 - fp: 65.0000 - tn: 28842.0000 - fn: 258.0000 - accuracy: 0.9890 - precision: 0.8088 - recall: 0.5159 - auc: 0.9374 - val_loss: 0.1016 - val_tp: 0.0000e+00 - val_fp: 7.0000 - val_tn: 10795.0000 - val_fn: 206.0000 - val_accuracy: 0.9807 - val_precision: 0.0000e+00 - val_recall: 0.0000e+00 - val_auc: 0.7114\n",
            "Epoch 64/200\n",
            "115/115 [==============================] - 24s 207ms/step - loss: 0.0610 - tp: 283.0000 - fp: 56.0000 - tn: 28851.0000 - fn: 250.0000 - accuracy: 0.9896 - precision: 0.8348 - recall: 0.5310 - auc: 0.9442 - val_loss: 0.0985 - val_tp: 1.0000 - val_fp: 8.0000 - val_tn: 10804.0000 - val_fn: 195.0000 - val_accuracy: 0.9816 - val_precision: 0.1111 - val_recall: 0.0051 - val_auc: 0.6824\n",
            "Epoch 65/200\n",
            "115/115 [==============================] - 23s 201ms/step - loss: 0.0590 - tp: 280.0000 - fp: 78.0000 - tn: 28852.0000 - fn: 230.0000 - accuracy: 0.9895 - precision: 0.7821 - recall: 0.5490 - auc: 0.9430 - val_loss: 0.0976 - val_tp: 1.0000 - val_fp: 2.0000 - val_tn: 10815.0000 - val_fn: 190.0000 - val_accuracy: 0.9826 - val_precision: 0.3333 - val_recall: 0.0052 - val_auc: 0.7042\n",
            "Epoch 1/200\n",
            "  2/115 [..............................] - ETA: 9s - loss: 0.3301 - tp: 1.0000 - fp: 83.0000 - tn: 419.0000 - fn: 9.0000 - accuracy: 0.8203 - precision: 0.0119 - recall: 0.1000 - auc: 0.5475WARNING:tensorflow:Callbacks method `on_train_batch_end` is slow compared to the batch time (batch time: 0.0161s vs `on_train_batch_end` time: 0.1255s). Check your callbacks.\n"
          ],
          "name": "stdout"
        },
        {
          "output_type": "stream",
          "text": [
            "WARNING:tensorflow:Callbacks method `on_train_batch_end` is slow compared to the batch time (batch time: 0.0161s vs `on_train_batch_end` time: 0.1255s). Check your callbacks.\n"
          ],
          "name": "stderr"
        },
        {
          "output_type": "stream",
          "text": [
            "115/115 [==============================] - ETA: 0s - loss: 0.2841 - tp: 56.0000 - fp: 2729.0000 - tn: 26178.0000 - fn: 477.0000 - accuracy: 0.8911 - precision: 0.0201 - recall: 0.1051 - auc: 0.5172WARNING:tensorflow:Callbacks method `on_test_batch_end` is slow compared to the batch time (batch time: 0.0066s vs `on_test_batch_end` time: 0.0712s). Check your callbacks.\n"
          ],
          "name": "stdout"
        },
        {
          "output_type": "stream",
          "text": [
            "WARNING:tensorflow:Callbacks method `on_test_batch_end` is slow compared to the batch time (batch time: 0.0066s vs `on_test_batch_end` time: 0.0712s). Check your callbacks.\n"
          ],
          "name": "stderr"
        },
        {
          "output_type": "stream",
          "text": [
            "\b\b\b\b\b\b\b\b\b\b\b\b\b\b\b\b\b\b\b\b\b\b\b\b\b\b\b\b\b\b\b\b\b\b\b\b\b\b\b\b\b\b\b\b\b\b\b\b\b\b\b\b\b\b\b\b\b\b\b\b\b\b\b\b\b\b\b\b\b\b\b\b\b\b\b\b\b\b\b\b\b\b\b\b\b\b\b\b\b\b\b\b\b\b\b\b\b\b\b\b\b\b\b\b\b\b\b\b\b\b\b\b\b\b\b\b\b\b\b\b\b\b\b\b\b\b\b\b\b\b\b\b\b\b\b\b\b\b\b\b\b\b\b\b\b\b\b\b\b\b\b\b\b\b\b\b\b\b\b\b\b\b\b\b\b\b\b\b\b\b\b\b\b\b\b\b\b\b\b\b\b\b\b\b\b\b\b\b\b\b\b\b\b\b\b\b\b\r115/115 [==============================] - 37s 318ms/step - loss: 0.2841 - tp: 56.0000 - fp: 2729.0000 - tn: 26178.0000 - fn: 477.0000 - accuracy: 0.8911 - precision: 0.0201 - recall: 0.1051 - auc: 0.5172 - val_loss: 0.0918 - val_tp: 0.0000e+00 - val_fp: 0.0000e+00 - val_tn: 10806.0000 - val_fn: 202.0000 - val_accuracy: 0.9816 - val_precision: 0.0000e+00 - val_recall: 0.0000e+00 - val_auc: 0.6815\n",
            "Epoch 2/200\n",
            "115/115 [==============================] - 23s 202ms/step - loss: 0.1959 - tp: 16.0000 - fp: 579.0000 - tn: 28347.0000 - fn: 498.0000 - accuracy: 0.9634 - precision: 0.0269 - recall: 0.0311 - auc: 0.5704 - val_loss: 0.2221 - val_tp: 0.0000e+00 - val_fp: 0.0000e+00 - val_tn: 10809.0000 - val_fn: 199.0000 - val_accuracy: 0.9819 - val_precision: 0.0000e+00 - val_recall: 0.0000e+00 - val_auc: 0.6684\n",
            "Epoch 3/200\n",
            "115/115 [==============================] - 23s 197ms/step - loss: 0.1507 - tp: 5.0000 - fp: 158.0000 - tn: 28773.0000 - fn: 504.0000 - accuracy: 0.9775 - precision: 0.0307 - recall: 0.0098 - auc: 0.6131 - val_loss: 0.1275 - val_tp: 0.0000e+00 - val_fp: 0.0000e+00 - val_tn: 10827.0000 - val_fn: 181.0000 - val_accuracy: 0.9836 - val_precision: 0.0000e+00 - val_recall: 0.0000e+00 - val_auc: 0.6562\n",
            "Epoch 4/200\n",
            "115/115 [==============================] - 24s 210ms/step - loss: 0.1471 - tp: 2.0000 - fp: 122.0000 - tn: 28778.0000 - fn: 538.0000 - accuracy: 0.9776 - precision: 0.0161 - recall: 0.0037 - auc: 0.6215 - val_loss: 0.0991 - val_tp: 0.0000e+00 - val_fp: 0.0000e+00 - val_tn: 10828.0000 - val_fn: 180.0000 - val_accuracy: 0.9836 - val_precision: 0.0000e+00 - val_recall: 0.0000e+00 - val_auc: 0.7170\n",
            "Epoch 5/200\n",
            "115/115 [==============================] - 23s 201ms/step - loss: 0.1371 - tp: 5.0000 - fp: 71.0000 - tn: 28845.0000 - fn: 519.0000 - accuracy: 0.9800 - precision: 0.0658 - recall: 0.0095 - auc: 0.6605 - val_loss: 0.0855 - val_tp: 0.0000e+00 - val_fp: 0.0000e+00 - val_tn: 10801.0000 - val_fn: 207.0000 - val_accuracy: 0.9812 - val_precision: 0.0000e+00 - val_recall: 0.0000e+00 - val_auc: 0.7226\n",
            "Epoch 6/200\n",
            "115/115 [==============================] - 23s 203ms/step - loss: 0.1411 - tp: 7.0000 - fp: 67.0000 - tn: 28839.0000 - fn: 527.0000 - accuracy: 0.9798 - precision: 0.0946 - recall: 0.0131 - auc: 0.6333 - val_loss: 0.0829 - val_tp: 0.0000e+00 - val_fp: 0.0000e+00 - val_tn: 10827.0000 - val_fn: 181.0000 - val_accuracy: 0.9836 - val_precision: 0.0000e+00 - val_recall: 0.0000e+00 - val_auc: 0.7423\n",
            "Epoch 7/200\n",
            "115/115 [==============================] - 23s 204ms/step - loss: 0.1323 - tp: 3.0000 - fp: 86.0000 - tn: 28842.0000 - fn: 509.0000 - accuracy: 0.9798 - precision: 0.0337 - recall: 0.0059 - auc: 0.6795 - val_loss: 0.1677 - val_tp: 0.0000e+00 - val_fp: 0.0000e+00 - val_tn: 10823.0000 - val_fn: 185.0000 - val_accuracy: 0.9832 - val_precision: 0.0000e+00 - val_recall: 0.0000e+00 - val_auc: 0.5000\n",
            "Epoch 8/200\n",
            "115/115 [==============================] - 23s 199ms/step - loss: 0.1339 - tp: 7.0000 - fp: 40.0000 - tn: 28870.0000 - fn: 523.0000 - accuracy: 0.9809 - precision: 0.1489 - recall: 0.0132 - auc: 0.6840 - val_loss: 0.1097 - val_tp: 0.0000e+00 - val_fp: 0.0000e+00 - val_tn: 10813.0000 - val_fn: 195.0000 - val_accuracy: 0.9823 - val_precision: 0.0000e+00 - val_recall: 0.0000e+00 - val_auc: 0.6335\n",
            "Epoch 9/200\n",
            "115/115 [==============================] - 23s 200ms/step - loss: 0.1345 - tp: 7.0000 - fp: 27.0000 - tn: 28863.0000 - fn: 543.0000 - accuracy: 0.9806 - precision: 0.2059 - recall: 0.0127 - auc: 0.6930 - val_loss: 0.0802 - val_tp: 0.0000e+00 - val_fp: 0.0000e+00 - val_tn: 10830.0000 - val_fn: 178.0000 - val_accuracy: 0.9838 - val_precision: 0.0000e+00 - val_recall: 0.0000e+00 - val_auc: 0.7192\n",
            "Epoch 10/200\n",
            "115/115 [==============================] - 23s 201ms/step - loss: 0.1232 - tp: 1.0000 - fp: 13.0000 - tn: 28932.0000 - fn: 494.0000 - accuracy: 0.9828 - precision: 0.0714 - recall: 0.0020 - auc: 0.7018 - val_loss: 0.0899 - val_tp: 0.0000e+00 - val_fp: 0.0000e+00 - val_tn: 10812.0000 - val_fn: 196.0000 - val_accuracy: 0.9822 - val_precision: 0.0000e+00 - val_recall: 0.0000e+00 - val_auc: 0.7231\n",
            "Epoch 11/200\n",
            "115/115 [==============================] - 23s 201ms/step - loss: 0.1258 - tp: 3.0000 - fp: 30.0000 - tn: 28890.0000 - fn: 517.0000 - accuracy: 0.9814 - precision: 0.0909 - recall: 0.0058 - auc: 0.7117 - val_loss: 0.0813 - val_tp: 0.0000e+00 - val_fp: 0.0000e+00 - val_tn: 10826.0000 - val_fn: 182.0000 - val_accuracy: 0.9835 - val_precision: 0.0000e+00 - val_recall: 0.0000e+00 - val_auc: 0.7411\n",
            "Epoch 12/200\n",
            "115/115 [==============================] - 23s 200ms/step - loss: 0.1251 - tp: 5.0000 - fp: 18.0000 - tn: 28887.0000 - fn: 530.0000 - accuracy: 0.9814 - precision: 0.2174 - recall: 0.0093 - auc: 0.7364 - val_loss: 0.0760 - val_tp: 0.0000e+00 - val_fp: 0.0000e+00 - val_tn: 10824.0000 - val_fn: 184.0000 - val_accuracy: 0.9833 - val_precision: 0.0000e+00 - val_recall: 0.0000e+00 - val_auc: 0.7564\n",
            "Epoch 13/200\n",
            "115/115 [==============================] - 23s 198ms/step - loss: 0.1177 - tp: 3.0000 - fp: 11.0000 - tn: 28921.0000 - fn: 505.0000 - accuracy: 0.9825 - precision: 0.2143 - recall: 0.0059 - auc: 0.7572 - val_loss: 0.0875 - val_tp: 0.0000e+00 - val_fp: 0.0000e+00 - val_tn: 10821.0000 - val_fn: 187.0000 - val_accuracy: 0.9830 - val_precision: 0.0000e+00 - val_recall: 0.0000e+00 - val_auc: 0.7826\n",
            "Epoch 14/200\n",
            "115/115 [==============================] - 23s 199ms/step - loss: 0.1225 - tp: 4.0000 - fp: 23.0000 - tn: 28885.0000 - fn: 528.0000 - accuracy: 0.9813 - precision: 0.1481 - recall: 0.0075 - auc: 0.7494 - val_loss: 0.0837 - val_tp: 0.0000e+00 - val_fp: 0.0000e+00 - val_tn: 10805.0000 - val_fn: 203.0000 - val_accuracy: 0.9816 - val_precision: 0.0000e+00 - val_recall: 0.0000e+00 - val_auc: 0.7453\n",
            "Epoch 15/200\n",
            "115/115 [==============================] - 23s 201ms/step - loss: 0.1193 - tp: 1.0000 - fp: 25.0000 - tn: 28896.0000 - fn: 518.0000 - accuracy: 0.9816 - precision: 0.0385 - recall: 0.0019 - auc: 0.7636 - val_loss: 0.0742 - val_tp: 0.0000e+00 - val_fp: 0.0000e+00 - val_tn: 10832.0000 - val_fn: 176.0000 - val_accuracy: 0.9840 - val_precision: 0.0000e+00 - val_recall: 0.0000e+00 - val_auc: 0.7403\n",
            "Epoch 16/200\n",
            "115/115 [==============================] - 23s 200ms/step - loss: 0.1218 - tp: 3.0000 - fp: 16.0000 - tn: 28888.0000 - fn: 533.0000 - accuracy: 0.9814 - precision: 0.1579 - recall: 0.0056 - auc: 0.7579 - val_loss: 0.0757 - val_tp: 0.0000e+00 - val_fp: 0.0000e+00 - val_tn: 10824.0000 - val_fn: 184.0000 - val_accuracy: 0.9833 - val_precision: 0.0000e+00 - val_recall: 0.0000e+00 - val_auc: 0.7545\n",
            "Epoch 17/200\n",
            "115/115 [==============================] - 23s 200ms/step - loss: 0.1203 - tp: 9.0000 - fp: 22.0000 - tn: 28897.0000 - fn: 512.0000 - accuracy: 0.9819 - precision: 0.2903 - recall: 0.0173 - auc: 0.7509 - val_loss: 0.0751 - val_tp: 0.0000e+00 - val_fp: 0.0000e+00 - val_tn: 10828.0000 - val_fn: 180.0000 - val_accuracy: 0.9836 - val_precision: 0.0000e+00 - val_recall: 0.0000e+00 - val_auc: 0.7589\n",
            "Epoch 18/200\n",
            "115/115 [==============================] - 23s 200ms/step - loss: 0.1196 - tp: 5.0000 - fp: 17.0000 - tn: 28893.0000 - fn: 525.0000 - accuracy: 0.9816 - precision: 0.2273 - recall: 0.0094 - auc: 0.7663 - val_loss: 0.0811 - val_tp: 0.0000e+00 - val_fp: 0.0000e+00 - val_tn: 10820.0000 - val_fn: 188.0000 - val_accuracy: 0.9829 - val_precision: 0.0000e+00 - val_recall: 0.0000e+00 - val_auc: 0.7388\n",
            "Epoch 19/200\n",
            "115/115 [==============================] - 23s 202ms/step - loss: 0.1199 - tp: 10.0000 - fp: 23.0000 - tn: 28888.0000 - fn: 519.0000 - accuracy: 0.9816 - precision: 0.3030 - recall: 0.0189 - auc: 0.7616 - val_loss: 0.0835 - val_tp: 0.0000e+00 - val_fp: 0.0000e+00 - val_tn: 10816.0000 - val_fn: 192.0000 - val_accuracy: 0.9826 - val_precision: 0.0000e+00 - val_recall: 0.0000e+00 - val_auc: 0.7658\n",
            "Epoch 20/200\n",
            "115/115 [==============================] - 23s 200ms/step - loss: 0.1158 - tp: 7.0000 - fp: 25.0000 - tn: 28901.0000 - fn: 507.0000 - accuracy: 0.9819 - precision: 0.2188 - recall: 0.0136 - auc: 0.7747 - val_loss: 0.0714 - val_tp: 0.0000e+00 - val_fp: 0.0000e+00 - val_tn: 10842.0000 - val_fn: 166.0000 - val_accuracy: 0.9849 - val_precision: 0.0000e+00 - val_recall: 0.0000e+00 - val_auc: 0.7607\n",
            "Epoch 21/200\n",
            "115/115 [==============================] - 23s 203ms/step - loss: 0.1208 - tp: 6.0000 - fp: 26.0000 - tn: 28888.0000 - fn: 520.0000 - accuracy: 0.9815 - precision: 0.1875 - recall: 0.0114 - auc: 0.7565 - val_loss: 0.0769 - val_tp: 0.0000e+00 - val_fp: 0.0000e+00 - val_tn: 10828.0000 - val_fn: 180.0000 - val_accuracy: 0.9836 - val_precision: 0.0000e+00 - val_recall: 0.0000e+00 - val_auc: 0.7434\n",
            "Epoch 22/200\n",
            "115/115 [==============================] - 23s 201ms/step - loss: 0.1215 - tp: 13.0000 - fp: 29.0000 - tn: 28874.0000 - fn: 524.0000 - accuracy: 0.9812 - precision: 0.3095 - recall: 0.0242 - auc: 0.7658 - val_loss: 0.0837 - val_tp: 0.0000e+00 - val_fp: 0.0000e+00 - val_tn: 10819.0000 - val_fn: 189.0000 - val_accuracy: 0.9828 - val_precision: 0.0000e+00 - val_recall: 0.0000e+00 - val_auc: 0.7198\n",
            "Epoch 23/200\n",
            "115/115 [==============================] - 23s 201ms/step - loss: 0.1206 - tp: 9.0000 - fp: 32.0000 - tn: 28891.0000 - fn: 508.0000 - accuracy: 0.9817 - precision: 0.2195 - recall: 0.0174 - auc: 0.7471 - val_loss: 0.0952 - val_tp: 0.0000e+00 - val_fp: 0.0000e+00 - val_tn: 10806.0000 - val_fn: 202.0000 - val_accuracy: 0.9816 - val_precision: 0.0000e+00 - val_recall: 0.0000e+00 - val_auc: 0.7051\n",
            "Epoch 24/200\n",
            "115/115 [==============================] - 24s 207ms/step - loss: 0.1209 - tp: 6.0000 - fp: 18.0000 - tn: 28898.0000 - fn: 518.0000 - accuracy: 0.9818 - precision: 0.2500 - recall: 0.0115 - auc: 0.7528 - val_loss: 0.0836 - val_tp: 0.0000e+00 - val_fp: 0.0000e+00 - val_tn: 10813.0000 - val_fn: 195.0000 - val_accuracy: 0.9823 - val_precision: 0.0000e+00 - val_recall: 0.0000e+00 - val_auc: 0.7259\n",
            "Epoch 25/200\n",
            "115/115 [==============================] - 23s 203ms/step - loss: 0.1198 - tp: 9.0000 - fp: 24.0000 - tn: 28891.0000 - fn: 516.0000 - accuracy: 0.9817 - precision: 0.2727 - recall: 0.0171 - auc: 0.7644 - val_loss: 0.0774 - val_tp: 0.0000e+00 - val_fp: 0.0000e+00 - val_tn: 10820.0000 - val_fn: 188.0000 - val_accuracy: 0.9829 - val_precision: 0.0000e+00 - val_recall: 0.0000e+00 - val_auc: 0.7882\n",
            "Epoch 26/200\n",
            "115/115 [==============================] - 23s 200ms/step - loss: 0.1142 - tp: 16.0000 - fp: 45.0000 - tn: 28889.0000 - fn: 490.0000 - accuracy: 0.9818 - precision: 0.2623 - recall: 0.0316 - auc: 0.7775 - val_loss: 0.0865 - val_tp: 0.0000e+00 - val_fp: 1.0000 - val_tn: 10817.0000 - val_fn: 190.0000 - val_accuracy: 0.9826 - val_precision: 0.0000e+00 - val_recall: 0.0000e+00 - val_auc: 0.6988\n",
            "Epoch 27/200\n",
            "115/115 [==============================] - 24s 205ms/step - loss: 0.1176 - tp: 8.0000 - fp: 27.0000 - tn: 28890.0000 - fn: 515.0000 - accuracy: 0.9816 - precision: 0.2286 - recall: 0.0153 - auc: 0.7678 - val_loss: 0.0833 - val_tp: 0.0000e+00 - val_fp: 0.0000e+00 - val_tn: 10826.0000 - val_fn: 182.0000 - val_accuracy: 0.9835 - val_precision: 0.0000e+00 - val_recall: 0.0000e+00 - val_auc: 0.6916\n",
            "Epoch 28/200\n",
            "115/115 [==============================] - 23s 200ms/step - loss: 0.1144 - tp: 7.0000 - fp: 34.0000 - tn: 28893.0000 - fn: 506.0000 - accuracy: 0.9817 - precision: 0.1707 - recall: 0.0136 - auc: 0.7905 - val_loss: 0.0787 - val_tp: 0.0000e+00 - val_fp: 0.0000e+00 - val_tn: 10831.0000 - val_fn: 177.0000 - val_accuracy: 0.9839 - val_precision: 0.0000e+00 - val_recall: 0.0000e+00 - val_auc: 0.7338\n",
            "Epoch 29/200\n",
            "115/115 [==============================] - 23s 200ms/step - loss: 0.1176 - tp: 19.0000 - fp: 43.0000 - tn: 28864.0000 - fn: 514.0000 - accuracy: 0.9811 - precision: 0.3065 - recall: 0.0356 - auc: 0.7796 - val_loss: 0.0800 - val_tp: 0.0000e+00 - val_fp: 0.0000e+00 - val_tn: 10821.0000 - val_fn: 187.0000 - val_accuracy: 0.9830 - val_precision: 0.0000e+00 - val_recall: 0.0000e+00 - val_auc: 0.7686\n",
            "Epoch 30/200\n",
            "115/115 [==============================] - 23s 200ms/step - loss: 0.1164 - tp: 16.0000 - fp: 36.0000 - tn: 28857.0000 - fn: 531.0000 - accuracy: 0.9807 - precision: 0.3077 - recall: 0.0293 - auc: 0.8037 - val_loss: 0.0808 - val_tp: 0.0000e+00 - val_fp: 0.0000e+00 - val_tn: 10814.0000 - val_fn: 194.0000 - val_accuracy: 0.9824 - val_precision: 0.0000e+00 - val_recall: 0.0000e+00 - val_auc: 0.7585\n",
            "Epoch 31/200\n",
            "115/115 [==============================] - 23s 201ms/step - loss: 0.1100 - tp: 31.0000 - fp: 44.0000 - tn: 28870.0000 - fn: 495.0000 - accuracy: 0.9817 - precision: 0.4133 - recall: 0.0589 - auc: 0.8148 - val_loss: 0.0929 - val_tp: 2.0000 - val_fp: 2.0000 - val_tn: 10823.0000 - val_fn: 181.0000 - val_accuracy: 0.9834 - val_precision: 0.5000 - val_recall: 0.0109 - val_auc: 0.7185\n",
            "Epoch 32/200\n",
            "115/115 [==============================] - 23s 203ms/step - loss: 0.1091 - tp: 23.0000 - fp: 59.0000 - tn: 28861.0000 - fn: 497.0000 - accuracy: 0.9811 - precision: 0.2805 - recall: 0.0442 - auc: 0.8159 - val_loss: 0.0779 - val_tp: 0.0000e+00 - val_fp: 0.0000e+00 - val_tn: 10823.0000 - val_fn: 185.0000 - val_accuracy: 0.9832 - val_precision: 0.0000e+00 - val_recall: 0.0000e+00 - val_auc: 0.7413\n",
            "Epoch 33/200\n",
            "115/115 [==============================] - 24s 206ms/step - loss: 0.1082 - tp: 37.0000 - fp: 53.0000 - tn: 28858.0000 - fn: 492.0000 - accuracy: 0.9815 - precision: 0.4111 - recall: 0.0699 - auc: 0.8265 - val_loss: 0.0768 - val_tp: 0.0000e+00 - val_fp: 2.0000 - val_tn: 10830.0000 - val_fn: 176.0000 - val_accuracy: 0.9838 - val_precision: 0.0000e+00 - val_recall: 0.0000e+00 - val_auc: 0.7284\n",
            "Epoch 34/200\n",
            "115/115 [==============================] - 23s 203ms/step - loss: 0.1059 - tp: 33.0000 - fp: 54.0000 - tn: 28875.0000 - fn: 478.0000 - accuracy: 0.9819 - precision: 0.3793 - recall: 0.0646 - auc: 0.8273 - val_loss: 0.0832 - val_tp: 0.0000e+00 - val_fp: 3.0000 - val_tn: 10819.0000 - val_fn: 186.0000 - val_accuracy: 0.9828 - val_precision: 0.0000e+00 - val_recall: 0.0000e+00 - val_auc: 0.7078\n",
            "Epoch 35/200\n",
            "115/115 [==============================] - 23s 201ms/step - loss: 0.1123 - tp: 28.0000 - fp: 70.0000 - tn: 28836.0000 - fn: 506.0000 - accuracy: 0.9804 - precision: 0.2857 - recall: 0.0524 - auc: 0.8132 - val_loss: 0.0897 - val_tp: 0.0000e+00 - val_fp: 0.0000e+00 - val_tn: 10805.0000 - val_fn: 203.0000 - val_accuracy: 0.9816 - val_precision: 0.0000e+00 - val_recall: 0.0000e+00 - val_auc: 0.7210\n",
            "Epoch 36/200\n",
            "115/115 [==============================] - 23s 204ms/step - loss: 0.1039 - tp: 39.0000 - fp: 64.0000 - tn: 28870.0000 - fn: 467.0000 - accuracy: 0.9820 - precision: 0.3786 - recall: 0.0771 - auc: 0.8312 - val_loss: 0.0884 - val_tp: 0.0000e+00 - val_fp: 1.0000 - val_tn: 10804.0000 - val_fn: 203.0000 - val_accuracy: 0.9815 - val_precision: 0.0000e+00 - val_recall: 0.0000e+00 - val_auc: 0.7370\n",
            "Epoch 37/200\n",
            "115/115 [==============================] - 23s 202ms/step - loss: 0.1114 - tp: 30.0000 - fp: 42.0000 - tn: 28866.0000 - fn: 502.0000 - accuracy: 0.9815 - precision: 0.4167 - recall: 0.0564 - auc: 0.8154 - val_loss: 0.0788 - val_tp: 0.0000e+00 - val_fp: 0.0000e+00 - val_tn: 10822.0000 - val_fn: 186.0000 - val_accuracy: 0.9831 - val_precision: 0.0000e+00 - val_recall: 0.0000e+00 - val_auc: 0.7649\n",
            "Epoch 38/200\n",
            "115/115 [==============================] - 24s 205ms/step - loss: 0.1099 - tp: 41.0000 - fp: 63.0000 - tn: 28849.0000 - fn: 487.0000 - accuracy: 0.9813 - precision: 0.3942 - recall: 0.0777 - auc: 0.8189 - val_loss: 0.0784 - val_tp: 0.0000e+00 - val_fp: 2.0000 - val_tn: 10818.0000 - val_fn: 188.0000 - val_accuracy: 0.9827 - val_precision: 0.0000e+00 - val_recall: 0.0000e+00 - val_auc: 0.7647\n",
            "Epoch 39/200\n",
            "115/115 [==============================] - 24s 204ms/step - loss: 0.1103 - tp: 38.0000 - fp: 65.0000 - tn: 28849.0000 - fn: 488.0000 - accuracy: 0.9812 - precision: 0.3689 - recall: 0.0722 - auc: 0.8104 - val_loss: 0.0847 - val_tp: 0.0000e+00 - val_fp: 1.0000 - val_tn: 10812.0000 - val_fn: 195.0000 - val_accuracy: 0.9822 - val_precision: 0.0000e+00 - val_recall: 0.0000e+00 - val_auc: 0.7412\n",
            "Epoch 40/200\n",
            "115/115 [==============================] - 23s 203ms/step - loss: 0.1083 - tp: 44.0000 - fp: 83.0000 - tn: 28840.0000 - fn: 473.0000 - accuracy: 0.9811 - precision: 0.3465 - recall: 0.0851 - auc: 0.8223 - val_loss: 0.0788 - val_tp: 0.0000e+00 - val_fp: 0.0000e+00 - val_tn: 10818.0000 - val_fn: 190.0000 - val_accuracy: 0.9827 - val_precision: 0.0000e+00 - val_recall: 0.0000e+00 - val_auc: 0.7620\n",
            "Epoch 41/200\n",
            "115/115 [==============================] - 23s 204ms/step - loss: 0.1109 - tp: 29.0000 - fp: 64.0000 - tn: 28861.0000 - fn: 486.0000 - accuracy: 0.9813 - precision: 0.3118 - recall: 0.0563 - auc: 0.8020 - val_loss: 0.0867 - val_tp: 0.0000e+00 - val_fp: 0.0000e+00 - val_tn: 10813.0000 - val_fn: 195.0000 - val_accuracy: 0.9823 - val_precision: 0.0000e+00 - val_recall: 0.0000e+00 - val_auc: 0.7497\n",
            "Epoch 42/200\n",
            "115/115 [==============================] - 23s 201ms/step - loss: 0.1135 - tp: 49.0000 - fp: 84.0000 - tn: 28804.0000 - fn: 503.0000 - accuracy: 0.9801 - precision: 0.3684 - recall: 0.0888 - auc: 0.8187 - val_loss: 0.0760 - val_tp: 0.0000e+00 - val_fp: 0.0000e+00 - val_tn: 10822.0000 - val_fn: 186.0000 - val_accuracy: 0.9831 - val_precision: 0.0000e+00 - val_recall: 0.0000e+00 - val_auc: 0.7572\n",
            "Epoch 43/200\n",
            "115/115 [==============================] - 24s 205ms/step - loss: 0.1042 - tp: 52.0000 - fp: 76.0000 - tn: 28847.0000 - fn: 465.0000 - accuracy: 0.9816 - precision: 0.4062 - recall: 0.1006 - auc: 0.8386 - val_loss: 0.0835 - val_tp: 0.0000e+00 - val_fp: 0.0000e+00 - val_tn: 10825.0000 - val_fn: 183.0000 - val_accuracy: 0.9834 - val_precision: 0.0000e+00 - val_recall: 0.0000e+00 - val_auc: 0.7139\n",
            "Epoch 44/200\n",
            "115/115 [==============================] - 24s 208ms/step - loss: 0.1001 - tp: 70.0000 - fp: 92.0000 - tn: 28827.0000 - fn: 451.0000 - accuracy: 0.9816 - precision: 0.4321 - recall: 0.1344 - auc: 0.8536 - val_loss: 0.0822 - val_tp: 0.0000e+00 - val_fp: 0.0000e+00 - val_tn: 10824.0000 - val_fn: 184.0000 - val_accuracy: 0.9833 - val_precision: 0.0000e+00 - val_recall: 0.0000e+00 - val_auc: 0.7091\n",
            "Epoch 45/200\n",
            "115/115 [==============================] - 24s 205ms/step - loss: 0.1006 - tp: 78.0000 - fp: 96.0000 - tn: 28814.0000 - fn: 452.0000 - accuracy: 0.9814 - precision: 0.4483 - recall: 0.1472 - auc: 0.8560 - val_loss: 0.0840 - val_tp: 1.0000 - val_fp: 0.0000e+00 - val_tn: 10813.0000 - val_fn: 194.0000 - val_accuracy: 0.9824 - val_precision: 1.0000 - val_recall: 0.0051 - val_auc: 0.7390\n",
            "Epoch 46/200\n",
            "115/115 [==============================] - 24s 206ms/step - loss: 0.0950 - tp: 95.0000 - fp: 111.0000 - tn: 28814.0000 - fn: 420.0000 - accuracy: 0.9820 - precision: 0.4612 - recall: 0.1845 - auc: 0.8669 - val_loss: 0.0840 - val_tp: 1.0000 - val_fp: 7.0000 - val_tn: 10814.0000 - val_fn: 186.0000 - val_accuracy: 0.9825 - val_precision: 0.1250 - val_recall: 0.0053 - val_auc: 0.7263\n",
            "Epoch 47/200\n",
            "115/115 [==============================] - 24s 209ms/step - loss: 0.0955 - tp: 99.0000 - fp: 96.0000 - tn: 28816.0000 - fn: 429.0000 - accuracy: 0.9822 - precision: 0.5077 - recall: 0.1875 - auc: 0.8701 - val_loss: 0.0889 - val_tp: 0.0000e+00 - val_fp: 0.0000e+00 - val_tn: 10817.0000 - val_fn: 191.0000 - val_accuracy: 0.9826 - val_precision: 0.0000e+00 - val_recall: 0.0000e+00 - val_auc: 0.7196\n",
            "Epoch 48/200\n",
            "115/115 [==============================] - 24s 205ms/step - loss: 0.0877 - tp: 111.0000 - fp: 102.0000 - tn: 28837.0000 - fn: 390.0000 - accuracy: 0.9833 - precision: 0.5211 - recall: 0.2216 - auc: 0.8880 - val_loss: 0.0797 - val_tp: 0.0000e+00 - val_fp: 3.0000 - val_tn: 10826.0000 - val_fn: 179.0000 - val_accuracy: 0.9835 - val_precision: 0.0000e+00 - val_recall: 0.0000e+00 - val_auc: 0.7397\n",
            "Epoch 49/200\n",
            "115/115 [==============================] - 23s 202ms/step - loss: 0.0877 - tp: 132.0000 - fp: 86.0000 - tn: 28827.0000 - fn: 395.0000 - accuracy: 0.9837 - precision: 0.6055 - recall: 0.2505 - auc: 0.8957 - val_loss: 0.0906 - val_tp: 0.0000e+00 - val_fp: 0.0000e+00 - val_tn: 10810.0000 - val_fn: 198.0000 - val_accuracy: 0.9820 - val_precision: 0.0000e+00 - val_recall: 0.0000e+00 - val_auc: 0.7189\n",
            "Epoch 50/200\n",
            "115/115 [==============================] - 23s 203ms/step - loss: 0.0909 - tp: 136.0000 - fp: 119.0000 - tn: 28786.0000 - fn: 399.0000 - accuracy: 0.9824 - precision: 0.5333 - recall: 0.2542 - auc: 0.8873 - val_loss: 0.0869 - val_tp: 1.0000 - val_fp: 2.0000 - val_tn: 10831.0000 - val_fn: 174.0000 - val_accuracy: 0.9840 - val_precision: 0.3333 - val_recall: 0.0057 - val_auc: 0.6869\n",
            "Epoch 51/200\n",
            "115/115 [==============================] - 23s 202ms/step - loss: 0.0917 - tp: 123.0000 - fp: 104.0000 - tn: 28817.0000 - fn: 396.0000 - accuracy: 0.9830 - precision: 0.5419 - recall: 0.2370 - auc: 0.8763 - val_loss: 0.0844 - val_tp: 1.0000 - val_fp: 5.0000 - val_tn: 10816.0000 - val_fn: 186.0000 - val_accuracy: 0.9826 - val_precision: 0.1667 - val_recall: 0.0053 - val_auc: 0.7296\n",
            "Epoch 52/200\n",
            "105/115 [==========================>...] - ETA: 1s - loss: 0.0893 - tp: 136.0000 - fp: 137.0000 - tn: 26264.0000 - fn: 343.0000 - accuracy: 0.9821 - precision: 0.4982 - recall: 0.2839 - auc: 0.8848"
          ],
          "name": "stdout"
        },
        {
          "output_type": "error",
          "ename": "KeyboardInterrupt",
          "evalue": "ignored",
          "traceback": [
            "\u001b[0;31m---------------------------------------------------------------------------\u001b[0m",
            "\u001b[0;31mKeyboardInterrupt\u001b[0m                         Traceback (most recent call last)",
            "\u001b[0;32m<ipython-input-9-2f3cb96702b3>\u001b[0m in \u001b[0;36m<module>\u001b[0;34m()\u001b[0m\n\u001b[1;32m     23\u001b[0m                         \u001b[0mbatch_size\u001b[0m\u001b[0;34m=\u001b[0m\u001b[0mCONFIG\u001b[0m\u001b[0;34m[\u001b[0m\u001b[0;34m\"batch_size\"\u001b[0m\u001b[0;34m]\u001b[0m\u001b[0;34m*\u001b[0m\u001b[0mCONFIG\u001b[0m\u001b[0;34m[\u001b[0m\u001b[0;34m\"replicas\"\u001b[0m\u001b[0;34m]\u001b[0m\u001b[0;34m,\u001b[0m \u001b[0mepochs\u001b[0m\u001b[0;34m=\u001b[0m\u001b[0mCONFIG\u001b[0m\u001b[0;34m[\u001b[0m\u001b[0;34m\"epochs\"\u001b[0m\u001b[0;34m]\u001b[0m\u001b[0;34m,\u001b[0m\u001b[0;34m\u001b[0m\u001b[0;34m\u001b[0m\u001b[0m\n\u001b[1;32m     24\u001b[0m                         \u001b[0msteps_per_epoch\u001b[0m\u001b[0;34m=\u001b[0m\u001b[0mCONFIG\u001b[0m\u001b[0;34m[\u001b[0m\u001b[0;34m'steps_per_epoch'\u001b[0m\u001b[0;34m]\u001b[0m\u001b[0;34m,\u001b[0m\u001b[0mvalidation_steps\u001b[0m\u001b[0;34m=\u001b[0m\u001b[0mCONFIG\u001b[0m\u001b[0;34m[\u001b[0m\u001b[0;34m'validation_steps'\u001b[0m\u001b[0;34m]\u001b[0m\u001b[0;34m,\u001b[0m\u001b[0;34m\u001b[0m\u001b[0;34m\u001b[0m\u001b[0m\n\u001b[0;32m---> 25\u001b[0;31m                         callbacks=[clr,stopper])\n\u001b[0m\u001b[1;32m     26\u001b[0m \u001b[0;34m\u001b[0m\u001b[0m\n\u001b[1;32m     27\u001b[0m     \u001b[0;32mif\u001b[0m \u001b[0mlogs\u001b[0m\u001b[0;34m.\u001b[0m\u001b[0mempty\u001b[0m\u001b[0;34m:\u001b[0m\u001b[0;34m\u001b[0m\u001b[0;34m\u001b[0m\u001b[0m\n",
            "\u001b[0;32m/usr/local/lib/python3.6/dist-packages/tensorflow/python/keras/engine/training.py\u001b[0m in \u001b[0;36m_method_wrapper\u001b[0;34m(self, *args, **kwargs)\u001b[0m\n\u001b[1;32m    106\u001b[0m   \u001b[0;32mdef\u001b[0m \u001b[0m_method_wrapper\u001b[0m\u001b[0;34m(\u001b[0m\u001b[0mself\u001b[0m\u001b[0;34m,\u001b[0m \u001b[0;34m*\u001b[0m\u001b[0margs\u001b[0m\u001b[0;34m,\u001b[0m \u001b[0;34m**\u001b[0m\u001b[0mkwargs\u001b[0m\u001b[0;34m)\u001b[0m\u001b[0;34m:\u001b[0m\u001b[0;34m\u001b[0m\u001b[0;34m\u001b[0m\u001b[0m\n\u001b[1;32m    107\u001b[0m     \u001b[0;32mif\u001b[0m \u001b[0;32mnot\u001b[0m \u001b[0mself\u001b[0m\u001b[0;34m.\u001b[0m\u001b[0m_in_multi_worker_mode\u001b[0m\u001b[0;34m(\u001b[0m\u001b[0;34m)\u001b[0m\u001b[0;34m:\u001b[0m  \u001b[0;31m# pylint: disable=protected-access\u001b[0m\u001b[0;34m\u001b[0m\u001b[0;34m\u001b[0m\u001b[0m\n\u001b[0;32m--> 108\u001b[0;31m       \u001b[0;32mreturn\u001b[0m \u001b[0mmethod\u001b[0m\u001b[0;34m(\u001b[0m\u001b[0mself\u001b[0m\u001b[0;34m,\u001b[0m \u001b[0;34m*\u001b[0m\u001b[0margs\u001b[0m\u001b[0;34m,\u001b[0m \u001b[0;34m**\u001b[0m\u001b[0mkwargs\u001b[0m\u001b[0;34m)\u001b[0m\u001b[0;34m\u001b[0m\u001b[0;34m\u001b[0m\u001b[0m\n\u001b[0m\u001b[1;32m    109\u001b[0m \u001b[0;34m\u001b[0m\u001b[0m\n\u001b[1;32m    110\u001b[0m     \u001b[0;31m# Running inside `run_distribute_coordinator` already.\u001b[0m\u001b[0;34m\u001b[0m\u001b[0;34m\u001b[0m\u001b[0;34m\u001b[0m\u001b[0m\n",
            "\u001b[0;32m/usr/local/lib/python3.6/dist-packages/tensorflow/python/keras/engine/training.py\u001b[0m in \u001b[0;36mfit\u001b[0;34m(self, x, y, batch_size, epochs, verbose, callbacks, validation_split, validation_data, shuffle, class_weight, sample_weight, initial_epoch, steps_per_epoch, validation_steps, validation_batch_size, validation_freq, max_queue_size, workers, use_multiprocessing)\u001b[0m\n\u001b[1;32m   1096\u001b[0m                 batch_size=batch_size):\n\u001b[1;32m   1097\u001b[0m               \u001b[0mcallbacks\u001b[0m\u001b[0;34m.\u001b[0m\u001b[0mon_train_batch_begin\u001b[0m\u001b[0;34m(\u001b[0m\u001b[0mstep\u001b[0m\u001b[0;34m)\u001b[0m\u001b[0;34m\u001b[0m\u001b[0;34m\u001b[0m\u001b[0m\n\u001b[0;32m-> 1098\u001b[0;31m               \u001b[0mtmp_logs\u001b[0m \u001b[0;34m=\u001b[0m \u001b[0mtrain_function\u001b[0m\u001b[0;34m(\u001b[0m\u001b[0miterator\u001b[0m\u001b[0;34m)\u001b[0m\u001b[0;34m\u001b[0m\u001b[0;34m\u001b[0m\u001b[0m\n\u001b[0m\u001b[1;32m   1099\u001b[0m               \u001b[0;32mif\u001b[0m \u001b[0mdata_handler\u001b[0m\u001b[0;34m.\u001b[0m\u001b[0mshould_sync\u001b[0m\u001b[0;34m:\u001b[0m\u001b[0;34m\u001b[0m\u001b[0;34m\u001b[0m\u001b[0m\n\u001b[1;32m   1100\u001b[0m                 \u001b[0mcontext\u001b[0m\u001b[0;34m.\u001b[0m\u001b[0masync_wait\u001b[0m\u001b[0;34m(\u001b[0m\u001b[0;34m)\u001b[0m\u001b[0;34m\u001b[0m\u001b[0;34m\u001b[0m\u001b[0m\n",
            "\u001b[0;32m/usr/local/lib/python3.6/dist-packages/tensorflow/python/eager/def_function.py\u001b[0m in \u001b[0;36m__call__\u001b[0;34m(self, *args, **kwds)\u001b[0m\n\u001b[1;32m    778\u001b[0m       \u001b[0;32melse\u001b[0m\u001b[0;34m:\u001b[0m\u001b[0;34m\u001b[0m\u001b[0;34m\u001b[0m\u001b[0m\n\u001b[1;32m    779\u001b[0m         \u001b[0mcompiler\u001b[0m \u001b[0;34m=\u001b[0m \u001b[0;34m\"nonXla\"\u001b[0m\u001b[0;34m\u001b[0m\u001b[0;34m\u001b[0m\u001b[0m\n\u001b[0;32m--> 780\u001b[0;31m         \u001b[0mresult\u001b[0m \u001b[0;34m=\u001b[0m \u001b[0mself\u001b[0m\u001b[0;34m.\u001b[0m\u001b[0m_call\u001b[0m\u001b[0;34m(\u001b[0m\u001b[0;34m*\u001b[0m\u001b[0margs\u001b[0m\u001b[0;34m,\u001b[0m \u001b[0;34m**\u001b[0m\u001b[0mkwds\u001b[0m\u001b[0;34m)\u001b[0m\u001b[0;34m\u001b[0m\u001b[0;34m\u001b[0m\u001b[0m\n\u001b[0m\u001b[1;32m    781\u001b[0m \u001b[0;34m\u001b[0m\u001b[0m\n\u001b[1;32m    782\u001b[0m       \u001b[0mnew_tracing_count\u001b[0m \u001b[0;34m=\u001b[0m \u001b[0mself\u001b[0m\u001b[0;34m.\u001b[0m\u001b[0m_get_tracing_count\u001b[0m\u001b[0;34m(\u001b[0m\u001b[0;34m)\u001b[0m\u001b[0;34m\u001b[0m\u001b[0;34m\u001b[0m\u001b[0m\n",
            "\u001b[0;32m/usr/local/lib/python3.6/dist-packages/tensorflow/python/eager/def_function.py\u001b[0m in \u001b[0;36m_call\u001b[0;34m(self, *args, **kwds)\u001b[0m\n\u001b[1;32m    805\u001b[0m       \u001b[0;31m# In this case we have created variables on the first call, so we run the\u001b[0m\u001b[0;34m\u001b[0m\u001b[0;34m\u001b[0m\u001b[0;34m\u001b[0m\u001b[0m\n\u001b[1;32m    806\u001b[0m       \u001b[0;31m# defunned version which is guaranteed to never create variables.\u001b[0m\u001b[0;34m\u001b[0m\u001b[0;34m\u001b[0m\u001b[0;34m\u001b[0m\u001b[0m\n\u001b[0;32m--> 807\u001b[0;31m       \u001b[0;32mreturn\u001b[0m \u001b[0mself\u001b[0m\u001b[0;34m.\u001b[0m\u001b[0m_stateless_fn\u001b[0m\u001b[0;34m(\u001b[0m\u001b[0;34m*\u001b[0m\u001b[0margs\u001b[0m\u001b[0;34m,\u001b[0m \u001b[0;34m**\u001b[0m\u001b[0mkwds\u001b[0m\u001b[0;34m)\u001b[0m  \u001b[0;31m# pylint: disable=not-callable\u001b[0m\u001b[0;34m\u001b[0m\u001b[0;34m\u001b[0m\u001b[0m\n\u001b[0m\u001b[1;32m    808\u001b[0m     \u001b[0;32melif\u001b[0m \u001b[0mself\u001b[0m\u001b[0;34m.\u001b[0m\u001b[0m_stateful_fn\u001b[0m \u001b[0;32mis\u001b[0m \u001b[0;32mnot\u001b[0m \u001b[0;32mNone\u001b[0m\u001b[0;34m:\u001b[0m\u001b[0;34m\u001b[0m\u001b[0;34m\u001b[0m\u001b[0m\n\u001b[1;32m    809\u001b[0m       \u001b[0;31m# Release the lock early so that multiple threads can perform the call\u001b[0m\u001b[0;34m\u001b[0m\u001b[0;34m\u001b[0m\u001b[0;34m\u001b[0m\u001b[0m\n",
            "\u001b[0;32m/usr/local/lib/python3.6/dist-packages/tensorflow/python/eager/function.py\u001b[0m in \u001b[0;36m__call__\u001b[0;34m(self, *args, **kwargs)\u001b[0m\n\u001b[1;32m   2827\u001b[0m     \u001b[0;32mwith\u001b[0m \u001b[0mself\u001b[0m\u001b[0;34m.\u001b[0m\u001b[0m_lock\u001b[0m\u001b[0;34m:\u001b[0m\u001b[0;34m\u001b[0m\u001b[0;34m\u001b[0m\u001b[0m\n\u001b[1;32m   2828\u001b[0m       \u001b[0mgraph_function\u001b[0m\u001b[0;34m,\u001b[0m \u001b[0margs\u001b[0m\u001b[0;34m,\u001b[0m \u001b[0mkwargs\u001b[0m \u001b[0;34m=\u001b[0m \u001b[0mself\u001b[0m\u001b[0;34m.\u001b[0m\u001b[0m_maybe_define_function\u001b[0m\u001b[0;34m(\u001b[0m\u001b[0margs\u001b[0m\u001b[0;34m,\u001b[0m \u001b[0mkwargs\u001b[0m\u001b[0;34m)\u001b[0m\u001b[0;34m\u001b[0m\u001b[0;34m\u001b[0m\u001b[0m\n\u001b[0;32m-> 2829\u001b[0;31m     \u001b[0;32mreturn\u001b[0m \u001b[0mgraph_function\u001b[0m\u001b[0;34m.\u001b[0m\u001b[0m_filtered_call\u001b[0m\u001b[0;34m(\u001b[0m\u001b[0margs\u001b[0m\u001b[0;34m,\u001b[0m \u001b[0mkwargs\u001b[0m\u001b[0;34m)\u001b[0m  \u001b[0;31m# pylint: disable=protected-access\u001b[0m\u001b[0;34m\u001b[0m\u001b[0;34m\u001b[0m\u001b[0m\n\u001b[0m\u001b[1;32m   2830\u001b[0m \u001b[0;34m\u001b[0m\u001b[0m\n\u001b[1;32m   2831\u001b[0m   \u001b[0;34m@\u001b[0m\u001b[0mproperty\u001b[0m\u001b[0;34m\u001b[0m\u001b[0;34m\u001b[0m\u001b[0m\n",
            "\u001b[0;32m/usr/local/lib/python3.6/dist-packages/tensorflow/python/eager/function.py\u001b[0m in \u001b[0;36m_filtered_call\u001b[0;34m(self, args, kwargs, cancellation_manager)\u001b[0m\n\u001b[1;32m   1846\u001b[0m                            resource_variable_ops.BaseResourceVariable))],\n\u001b[1;32m   1847\u001b[0m         \u001b[0mcaptured_inputs\u001b[0m\u001b[0;34m=\u001b[0m\u001b[0mself\u001b[0m\u001b[0;34m.\u001b[0m\u001b[0mcaptured_inputs\u001b[0m\u001b[0;34m,\u001b[0m\u001b[0;34m\u001b[0m\u001b[0;34m\u001b[0m\u001b[0m\n\u001b[0;32m-> 1848\u001b[0;31m         cancellation_manager=cancellation_manager)\n\u001b[0m\u001b[1;32m   1849\u001b[0m \u001b[0;34m\u001b[0m\u001b[0m\n\u001b[1;32m   1850\u001b[0m   \u001b[0;32mdef\u001b[0m \u001b[0m_call_flat\u001b[0m\u001b[0;34m(\u001b[0m\u001b[0mself\u001b[0m\u001b[0;34m,\u001b[0m \u001b[0margs\u001b[0m\u001b[0;34m,\u001b[0m \u001b[0mcaptured_inputs\u001b[0m\u001b[0;34m,\u001b[0m \u001b[0mcancellation_manager\u001b[0m\u001b[0;34m=\u001b[0m\u001b[0;32mNone\u001b[0m\u001b[0;34m)\u001b[0m\u001b[0;34m:\u001b[0m\u001b[0;34m\u001b[0m\u001b[0;34m\u001b[0m\u001b[0m\n",
            "\u001b[0;32m/usr/local/lib/python3.6/dist-packages/tensorflow/python/eager/function.py\u001b[0m in \u001b[0;36m_call_flat\u001b[0;34m(self, args, captured_inputs, cancellation_manager)\u001b[0m\n\u001b[1;32m   1922\u001b[0m       \u001b[0;31m# No tape is watching; skip to running the function.\u001b[0m\u001b[0;34m\u001b[0m\u001b[0;34m\u001b[0m\u001b[0;34m\u001b[0m\u001b[0m\n\u001b[1;32m   1923\u001b[0m       return self._build_call_outputs(self._inference_function.call(\n\u001b[0;32m-> 1924\u001b[0;31m           ctx, args, cancellation_manager=cancellation_manager))\n\u001b[0m\u001b[1;32m   1925\u001b[0m     forward_backward = self._select_forward_and_backward_functions(\n\u001b[1;32m   1926\u001b[0m         \u001b[0margs\u001b[0m\u001b[0;34m,\u001b[0m\u001b[0;34m\u001b[0m\u001b[0;34m\u001b[0m\u001b[0m\n",
            "\u001b[0;32m/usr/local/lib/python3.6/dist-packages/tensorflow/python/eager/function.py\u001b[0m in \u001b[0;36mcall\u001b[0;34m(self, ctx, args, cancellation_manager)\u001b[0m\n\u001b[1;32m    548\u001b[0m               \u001b[0minputs\u001b[0m\u001b[0;34m=\u001b[0m\u001b[0margs\u001b[0m\u001b[0;34m,\u001b[0m\u001b[0;34m\u001b[0m\u001b[0;34m\u001b[0m\u001b[0m\n\u001b[1;32m    549\u001b[0m               \u001b[0mattrs\u001b[0m\u001b[0;34m=\u001b[0m\u001b[0mattrs\u001b[0m\u001b[0;34m,\u001b[0m\u001b[0;34m\u001b[0m\u001b[0;34m\u001b[0m\u001b[0m\n\u001b[0;32m--> 550\u001b[0;31m               ctx=ctx)\n\u001b[0m\u001b[1;32m    551\u001b[0m         \u001b[0;32melse\u001b[0m\u001b[0;34m:\u001b[0m\u001b[0;34m\u001b[0m\u001b[0;34m\u001b[0m\u001b[0m\n\u001b[1;32m    552\u001b[0m           outputs = execute.execute_with_cancellation(\n",
            "\u001b[0;32m/usr/local/lib/python3.6/dist-packages/tensorflow/python/eager/execute.py\u001b[0m in \u001b[0;36mquick_execute\u001b[0;34m(op_name, num_outputs, inputs, attrs, ctx, name)\u001b[0m\n\u001b[1;32m     58\u001b[0m     \u001b[0mctx\u001b[0m\u001b[0;34m.\u001b[0m\u001b[0mensure_initialized\u001b[0m\u001b[0;34m(\u001b[0m\u001b[0;34m)\u001b[0m\u001b[0;34m\u001b[0m\u001b[0;34m\u001b[0m\u001b[0m\n\u001b[1;32m     59\u001b[0m     tensors = pywrap_tfe.TFE_Py_Execute(ctx._handle, device_name, op_name,\n\u001b[0;32m---> 60\u001b[0;31m                                         inputs, attrs, num_outputs)\n\u001b[0m\u001b[1;32m     61\u001b[0m   \u001b[0;32mexcept\u001b[0m \u001b[0mcore\u001b[0m\u001b[0;34m.\u001b[0m\u001b[0m_NotOkStatusException\u001b[0m \u001b[0;32mas\u001b[0m \u001b[0me\u001b[0m\u001b[0;34m:\u001b[0m\u001b[0;34m\u001b[0m\u001b[0;34m\u001b[0m\u001b[0m\n\u001b[1;32m     62\u001b[0m     \u001b[0;32mif\u001b[0m \u001b[0mname\u001b[0m \u001b[0;32mis\u001b[0m \u001b[0;32mnot\u001b[0m \u001b[0;32mNone\u001b[0m\u001b[0;34m:\u001b[0m\u001b[0;34m\u001b[0m\u001b[0;34m\u001b[0m\u001b[0m\n",
            "\u001b[0;31mKeyboardInterrupt\u001b[0m: "
          ]
        }
      ]
    },
    {
      "cell_type": "code",
      "metadata": {
        "id": "nQIi4AVbDTtw",
        "colab": {
          "base_uri": "https://localhost:8080/"
        },
        "outputId": "b97cfbc2-8d25-4948-d4ff-27d1cb9d95a5"
      },
      "source": [
        "model = keras.models.load_model('gs://dataset_files/models/FINAL15_0_EffN0_3e-06-0.0003_256_09_12_2020_14_07')"
      ],
      "execution_count": 9,
      "outputs": [
        {
          "output_type": "stream",
          "text": [
            "WARNING:tensorflow:Importing a function (__inference_activation_2_layer_call_and_return_conditional_losses_450821) with ops with custom gradients. Will likely fail if a gradient is requested.\n"
          ],
          "name": "stdout"
        },
        {
          "output_type": "stream",
          "text": [
            "WARNING:tensorflow:Importing a function (__inference_activation_2_layer_call_and_return_conditional_losses_450821) with ops with custom gradients. Will likely fail if a gradient is requested.\n"
          ],
          "name": "stderr"
        },
        {
          "output_type": "stream",
          "text": [
            "WARNING:tensorflow:Importing a function (__inference_block6b_activation_layer_call_and_return_conditional_losses_507392) with ops with custom gradients. Will likely fail if a gradient is requested.\n"
          ],
          "name": "stdout"
        },
        {
          "output_type": "stream",
          "text": [
            "WARNING:tensorflow:Importing a function (__inference_block6b_activation_layer_call_and_return_conditional_losses_507392) with ops with custom gradients. Will likely fail if a gradient is requested.\n"
          ],
          "name": "stderr"
        },
        {
          "output_type": "stream",
          "text": [
            "WARNING:tensorflow:Importing a function (__inference_block7a_expand_activation_layer_call_and_return_conditional_losses_511312) with ops with custom gradients. Will likely fail if a gradient is requested.\n"
          ],
          "name": "stdout"
        },
        {
          "output_type": "stream",
          "text": [
            "WARNING:tensorflow:Importing a function (__inference_block7a_expand_activation_layer_call_and_return_conditional_losses_511312) with ops with custom gradients. Will likely fail if a gradient is requested.\n"
          ],
          "name": "stderr"
        },
        {
          "output_type": "stream",
          "text": [
            "WARNING:tensorflow:Importing a function (__inference_block6d_expand_activation_layer_call_and_return_conditional_losses_509859) with ops with custom gradients. Will likely fail if a gradient is requested.\n"
          ],
          "name": "stdout"
        },
        {
          "output_type": "stream",
          "text": [
            "WARNING:tensorflow:Importing a function (__inference_block6d_expand_activation_layer_call_and_return_conditional_losses_509859) with ops with custom gradients. Will likely fail if a gradient is requested.\n"
          ],
          "name": "stderr"
        },
        {
          "output_type": "stream",
          "text": [
            "WARNING:tensorflow:Importing a function (__inference_block7a_activation_layer_call_and_return_conditional_losses_432499) with ops with custom gradients. Will likely fail if a gradient is requested.\n"
          ],
          "name": "stdout"
        },
        {
          "output_type": "stream",
          "text": [
            "WARNING:tensorflow:Importing a function (__inference_block7a_activation_layer_call_and_return_conditional_losses_432499) with ops with custom gradients. Will likely fail if a gradient is requested.\n"
          ],
          "name": "stderr"
        },
        {
          "output_type": "stream",
          "text": [
            "WARNING:tensorflow:Importing a function (__inference_block6a_se_reduce_layer_call_and_return_conditional_losses_506026) with ops with custom gradients. Will likely fail if a gradient is requested.\n"
          ],
          "name": "stdout"
        },
        {
          "output_type": "stream",
          "text": [
            "WARNING:tensorflow:Importing a function (__inference_block6a_se_reduce_layer_call_and_return_conditional_losses_506026) with ops with custom gradients. Will likely fail if a gradient is requested.\n"
          ],
          "name": "stderr"
        },
        {
          "output_type": "stream",
          "text": [
            "WARNING:tensorflow:Importing a function (__inference_block4a_se_reduce_layer_call_and_return_conditional_losses_422964) with ops with custom gradients. Will likely fail if a gradient is requested.\n"
          ],
          "name": "stdout"
        },
        {
          "output_type": "stream",
          "text": [
            "WARNING:tensorflow:Importing a function (__inference_block4a_se_reduce_layer_call_and_return_conditional_losses_422964) with ops with custom gradients. Will likely fail if a gradient is requested.\n"
          ],
          "name": "stderr"
        },
        {
          "output_type": "stream",
          "text": [
            "WARNING:tensorflow:Importing a function (__inference_block6c_se_reduce_layer_call_and_return_conditional_losses_430598) with ops with custom gradients. Will likely fail if a gradient is requested.\n"
          ],
          "name": "stdout"
        },
        {
          "output_type": "stream",
          "text": [
            "WARNING:tensorflow:Importing a function (__inference_block6c_se_reduce_layer_call_and_return_conditional_losses_430598) with ops with custom gradients. Will likely fail if a gradient is requested.\n"
          ],
          "name": "stderr"
        },
        {
          "output_type": "stream",
          "text": [
            "WARNING:tensorflow:Importing a function (__inference_block6c_expand_activation_layer_call_and_return_conditional_losses_430281) with ops with custom gradients. Will likely fail if a gradient is requested.\n"
          ],
          "name": "stdout"
        },
        {
          "output_type": "stream",
          "text": [
            "WARNING:tensorflow:Importing a function (__inference_block6c_expand_activation_layer_call_and_return_conditional_losses_430281) with ops with custom gradients. Will likely fail if a gradient is requested.\n"
          ],
          "name": "stderr"
        },
        {
          "output_type": "stream",
          "text": [
            "WARNING:tensorflow:Importing a function (__inference_block6b_activation_layer_call_and_return_conditional_losses_429577) with ops with custom gradients. Will likely fail if a gradient is requested.\n"
          ],
          "name": "stdout"
        },
        {
          "output_type": "stream",
          "text": [
            "WARNING:tensorflow:Importing a function (__inference_block6b_activation_layer_call_and_return_conditional_losses_429577) with ops with custom gradients. Will likely fail if a gradient is requested.\n"
          ],
          "name": "stderr"
        },
        {
          "output_type": "stream",
          "text": [
            "WARNING:tensorflow:Importing a function (__inference_block5c_se_reduce_layer_call_and_return_conditional_losses_427728) with ops with custom gradients. Will likely fail if a gradient is requested.\n"
          ],
          "name": "stdout"
        },
        {
          "output_type": "stream",
          "text": [
            "WARNING:tensorflow:Importing a function (__inference_block5c_se_reduce_layer_call_and_return_conditional_losses_427728) with ops with custom gradients. Will likely fail if a gradient is requested.\n"
          ],
          "name": "stderr"
        },
        {
          "output_type": "stream",
          "text": [
            "WARNING:tensorflow:Importing a function (__inference_block5b_activation_layer_call_and_return_conditional_losses_426707) with ops with custom gradients. Will likely fail if a gradient is requested.\n"
          ],
          "name": "stdout"
        },
        {
          "output_type": "stream",
          "text": [
            "WARNING:tensorflow:Importing a function (__inference_block5b_activation_layer_call_and_return_conditional_losses_426707) with ops with custom gradients. Will likely fail if a gradient is requested.\n"
          ],
          "name": "stderr"
        },
        {
          "output_type": "stream",
          "text": [
            "WARNING:tensorflow:Importing a function (__inference_block3b_se_reduce_layer_call_and_return_conditional_losses_495949) with ops with custom gradients. Will likely fail if a gradient is requested.\n"
          ],
          "name": "stdout"
        },
        {
          "output_type": "stream",
          "text": [
            "WARNING:tensorflow:Importing a function (__inference_block3b_se_reduce_layer_call_and_return_conditional_losses_495949) with ops with custom gradients. Will likely fail if a gradient is requested.\n"
          ],
          "name": "stderr"
        },
        {
          "output_type": "stream",
          "text": [
            "WARNING:tensorflow:Importing a function (__inference_block6d_activation_layer_call_and_return_conditional_losses_510298) with ops with custom gradients. Will likely fail if a gradient is requested.\n"
          ],
          "name": "stdout"
        },
        {
          "output_type": "stream",
          "text": [
            "WARNING:tensorflow:Importing a function (__inference_block6d_activation_layer_call_and_return_conditional_losses_510298) with ops with custom gradients. Will likely fail if a gradient is requested.\n"
          ],
          "name": "stderr"
        },
        {
          "output_type": "stream",
          "text": [
            "WARNING:tensorflow:Importing a function (__inference_top_activation_layer_call_and_return_conditional_losses_433150) with ops with custom gradients. Will likely fail if a gradient is requested.\n"
          ],
          "name": "stdout"
        },
        {
          "output_type": "stream",
          "text": [
            "WARNING:tensorflow:Importing a function (__inference_top_activation_layer_call_and_return_conditional_losses_433150) with ops with custom gradients. Will likely fail if a gradient is requested.\n"
          ],
          "name": "stderr"
        },
        {
          "output_type": "stream",
          "text": [
            "WARNING:tensorflow:Importing a function (__inference_block3b_expand_activation_layer_call_and_return_conditional_losses_421672) with ops with custom gradients. Will likely fail if a gradient is requested.\n"
          ],
          "name": "stdout"
        },
        {
          "output_type": "stream",
          "text": [
            "WARNING:tensorflow:Importing a function (__inference_block3b_expand_activation_layer_call_and_return_conditional_losses_421672) with ops with custom gradients. Will likely fail if a gradient is requested.\n"
          ],
          "name": "stderr"
        },
        {
          "output_type": "stream",
          "text": [
            "WARNING:tensorflow:Importing a function (__inference_block5a_se_reduce_layer_call_and_return_conditional_losses_501714) with ops with custom gradients. Will likely fail if a gradient is requested.\n"
          ],
          "name": "stdout"
        },
        {
          "output_type": "stream",
          "text": [
            "WARNING:tensorflow:Importing a function (__inference_block5a_se_reduce_layer_call_and_return_conditional_losses_501714) with ops with custom gradients. Will likely fail if a gradient is requested.\n"
          ],
          "name": "stderr"
        },
        {
          "output_type": "stream",
          "text": [
            "WARNING:tensorflow:Importing a function (__inference_block6b_se_reduce_layer_call_and_return_conditional_losses_507432) with ops with custom gradients. Will likely fail if a gradient is requested.\n"
          ],
          "name": "stdout"
        },
        {
          "output_type": "stream",
          "text": [
            "WARNING:tensorflow:Importing a function (__inference_block6b_se_reduce_layer_call_and_return_conditional_losses_507432) with ops with custom gradients. Will likely fail if a gradient is requested.\n"
          ],
          "name": "stderr"
        },
        {
          "output_type": "stream",
          "text": [
            "WARNING:tensorflow:Importing a function (__inference_efficientnetb0_layer_call_and_return_conditional_losses_484987) with ops with custom gradients. Will likely fail if a gradient is requested.\n"
          ],
          "name": "stdout"
        },
        {
          "output_type": "stream",
          "text": [
            "WARNING:tensorflow:Importing a function (__inference_efficientnetb0_layer_call_and_return_conditional_losses_484987) with ops with custom gradients. Will likely fail if a gradient is requested.\n"
          ],
          "name": "stderr"
        },
        {
          "output_type": "stream",
          "text": [
            "WARNING:tensorflow:Importing a function (__inference_efficientnetb0_layer_call_and_return_conditional_losses_484987) with ops with custom gradients. Will likely fail if a gradient is requested.\n"
          ],
          "name": "stdout"
        },
        {
          "output_type": "stream",
          "text": [
            "WARNING:tensorflow:Importing a function (__inference_efficientnetb0_layer_call_and_return_conditional_losses_484987) with ops with custom gradients. Will likely fail if a gradient is requested.\n"
          ],
          "name": "stderr"
        },
        {
          "output_type": "stream",
          "text": [
            "WARNING:tensorflow:Importing a function (__inference_efficientnetb0_layer_call_and_return_conditional_losses_484987) with ops with custom gradients. Will likely fail if a gradient is requested.\n"
          ],
          "name": "stdout"
        },
        {
          "output_type": "stream",
          "text": [
            "WARNING:tensorflow:Importing a function (__inference_efficientnetb0_layer_call_and_return_conditional_losses_484987) with ops with custom gradients. Will likely fail if a gradient is requested.\n"
          ],
          "name": "stderr"
        },
        {
          "output_type": "stream",
          "text": [
            "WARNING:tensorflow:Importing a function (__inference_efficientnetb0_layer_call_and_return_conditional_losses_484987) with ops with custom gradients. Will likely fail if a gradient is requested.\n"
          ],
          "name": "stdout"
        },
        {
          "output_type": "stream",
          "text": [
            "WARNING:tensorflow:Importing a function (__inference_efficientnetb0_layer_call_and_return_conditional_losses_484987) with ops with custom gradients. Will likely fail if a gradient is requested.\n"
          ],
          "name": "stderr"
        },
        {
          "output_type": "stream",
          "text": [
            "WARNING:tensorflow:Importing a function (__inference_efficientnetb0_layer_call_and_return_conditional_losses_484987) with ops with custom gradients. Will likely fail if a gradient is requested.\n"
          ],
          "name": "stdout"
        },
        {
          "output_type": "stream",
          "text": [
            "WARNING:tensorflow:Importing a function (__inference_efficientnetb0_layer_call_and_return_conditional_losses_484987) with ops with custom gradients. Will likely fail if a gradient is requested.\n"
          ],
          "name": "stderr"
        },
        {
          "output_type": "stream",
          "text": [
            "WARNING:tensorflow:Importing a function (__inference_efficientnetb0_layer_call_and_return_conditional_losses_484987) with ops with custom gradients. Will likely fail if a gradient is requested.\n"
          ],
          "name": "stdout"
        },
        {
          "output_type": "stream",
          "text": [
            "WARNING:tensorflow:Importing a function (__inference_efficientnetb0_layer_call_and_return_conditional_losses_484987) with ops with custom gradients. Will likely fail if a gradient is requested.\n"
          ],
          "name": "stderr"
        },
        {
          "output_type": "stream",
          "text": [
            "WARNING:tensorflow:Importing a function (__inference_efficientnetb0_layer_call_and_return_conditional_losses_484987) with ops with custom gradients. Will likely fail if a gradient is requested.\n"
          ],
          "name": "stdout"
        },
        {
          "output_type": "stream",
          "text": [
            "WARNING:tensorflow:Importing a function (__inference_efficientnetb0_layer_call_and_return_conditional_losses_484987) with ops with custom gradients. Will likely fail if a gradient is requested.\n"
          ],
          "name": "stderr"
        },
        {
          "output_type": "stream",
          "text": [
            "WARNING:tensorflow:Importing a function (__inference_efficientnetb0_layer_call_and_return_conditional_losses_484987) with ops with custom gradients. Will likely fail if a gradient is requested.\n"
          ],
          "name": "stdout"
        },
        {
          "output_type": "stream",
          "text": [
            "WARNING:tensorflow:Importing a function (__inference_efficientnetb0_layer_call_and_return_conditional_losses_484987) with ops with custom gradients. Will likely fail if a gradient is requested.\n"
          ],
          "name": "stderr"
        },
        {
          "output_type": "stream",
          "text": [
            "WARNING:tensorflow:Importing a function (__inference_efficientnetb0_layer_call_and_return_conditional_losses_484987) with ops with custom gradients. Will likely fail if a gradient is requested.\n"
          ],
          "name": "stdout"
        },
        {
          "output_type": "stream",
          "text": [
            "WARNING:tensorflow:Importing a function (__inference_efficientnetb0_layer_call_and_return_conditional_losses_484987) with ops with custom gradients. Will likely fail if a gradient is requested.\n"
          ],
          "name": "stderr"
        },
        {
          "output_type": "stream",
          "text": [
            "WARNING:tensorflow:Importing a function (__inference_efficientnetb0_layer_call_and_return_conditional_losses_484987) with ops with custom gradients. Will likely fail if a gradient is requested.\n"
          ],
          "name": "stdout"
        },
        {
          "output_type": "stream",
          "text": [
            "WARNING:tensorflow:Importing a function (__inference_efficientnetb0_layer_call_and_return_conditional_losses_484987) with ops with custom gradients. Will likely fail if a gradient is requested.\n"
          ],
          "name": "stderr"
        },
        {
          "output_type": "stream",
          "text": [
            "WARNING:tensorflow:Importing a function (__inference_efficientnetb0_layer_call_and_return_conditional_losses_484987) with ops with custom gradients. Will likely fail if a gradient is requested.\n"
          ],
          "name": "stdout"
        },
        {
          "output_type": "stream",
          "text": [
            "WARNING:tensorflow:Importing a function (__inference_efficientnetb0_layer_call_and_return_conditional_losses_484987) with ops with custom gradients. Will likely fail if a gradient is requested.\n"
          ],
          "name": "stderr"
        },
        {
          "output_type": "stream",
          "text": [
            "WARNING:tensorflow:Importing a function (__inference_efficientnetb0_layer_call_and_return_conditional_losses_484987) with ops with custom gradients. Will likely fail if a gradient is requested.\n"
          ],
          "name": "stdout"
        },
        {
          "output_type": "stream",
          "text": [
            "WARNING:tensorflow:Importing a function (__inference_efficientnetb0_layer_call_and_return_conditional_losses_484987) with ops with custom gradients. Will likely fail if a gradient is requested.\n"
          ],
          "name": "stderr"
        },
        {
          "output_type": "stream",
          "text": [
            "WARNING:tensorflow:Importing a function (__inference_efficientnetb0_layer_call_and_return_conditional_losses_484987) with ops with custom gradients. Will likely fail if a gradient is requested.\n"
          ],
          "name": "stdout"
        },
        {
          "output_type": "stream",
          "text": [
            "WARNING:tensorflow:Importing a function (__inference_efficientnetb0_layer_call_and_return_conditional_losses_484987) with ops with custom gradients. Will likely fail if a gradient is requested.\n"
          ],
          "name": "stderr"
        },
        {
          "output_type": "stream",
          "text": [
            "WARNING:tensorflow:Importing a function (__inference_efficientnetb0_layer_call_and_return_conditional_losses_484987) with ops with custom gradients. Will likely fail if a gradient is requested.\n"
          ],
          "name": "stdout"
        },
        {
          "output_type": "stream",
          "text": [
            "WARNING:tensorflow:Importing a function (__inference_efficientnetb0_layer_call_and_return_conditional_losses_484987) with ops with custom gradients. Will likely fail if a gradient is requested.\n"
          ],
          "name": "stderr"
        },
        {
          "output_type": "stream",
          "text": [
            "WARNING:tensorflow:Importing a function (__inference_efficientnetb0_layer_call_and_return_conditional_losses_484987) with ops with custom gradients. Will likely fail if a gradient is requested.\n"
          ],
          "name": "stdout"
        },
        {
          "output_type": "stream",
          "text": [
            "WARNING:tensorflow:Importing a function (__inference_efficientnetb0_layer_call_and_return_conditional_losses_484987) with ops with custom gradients. Will likely fail if a gradient is requested.\n"
          ],
          "name": "stderr"
        },
        {
          "output_type": "stream",
          "text": [
            "WARNING:tensorflow:Importing a function (__inference_efficientnetb0_layer_call_and_return_conditional_losses_484987) with ops with custom gradients. Will likely fail if a gradient is requested.\n"
          ],
          "name": "stdout"
        },
        {
          "output_type": "stream",
          "text": [
            "WARNING:tensorflow:Importing a function (__inference_efficientnetb0_layer_call_and_return_conditional_losses_484987) with ops with custom gradients. Will likely fail if a gradient is requested.\n"
          ],
          "name": "stderr"
        },
        {
          "output_type": "stream",
          "text": [
            "WARNING:tensorflow:Importing a function (__inference_efficientnetb0_layer_call_and_return_conditional_losses_484987) with ops with custom gradients. Will likely fail if a gradient is requested.\n"
          ],
          "name": "stdout"
        },
        {
          "output_type": "stream",
          "text": [
            "WARNING:tensorflow:Importing a function (__inference_efficientnetb0_layer_call_and_return_conditional_losses_484987) with ops with custom gradients. Will likely fail if a gradient is requested.\n"
          ],
          "name": "stderr"
        },
        {
          "output_type": "stream",
          "text": [
            "WARNING:tensorflow:Importing a function (__inference_efficientnetb0_layer_call_and_return_conditional_losses_484987) with ops with custom gradients. Will likely fail if a gradient is requested.\n"
          ],
          "name": "stdout"
        },
        {
          "output_type": "stream",
          "text": [
            "WARNING:tensorflow:Importing a function (__inference_efficientnetb0_layer_call_and_return_conditional_losses_484987) with ops with custom gradients. Will likely fail if a gradient is requested.\n"
          ],
          "name": "stderr"
        },
        {
          "output_type": "stream",
          "text": [
            "WARNING:tensorflow:Importing a function (__inference_efficientnetb0_layer_call_and_return_conditional_losses_484987) with ops with custom gradients. Will likely fail if a gradient is requested.\n"
          ],
          "name": "stdout"
        },
        {
          "output_type": "stream",
          "text": [
            "WARNING:tensorflow:Importing a function (__inference_efficientnetb0_layer_call_and_return_conditional_losses_484987) with ops with custom gradients. Will likely fail if a gradient is requested.\n"
          ],
          "name": "stderr"
        },
        {
          "output_type": "stream",
          "text": [
            "WARNING:tensorflow:Importing a function (__inference_efficientnetb0_layer_call_and_return_conditional_losses_484987) with ops with custom gradients. Will likely fail if a gradient is requested.\n"
          ],
          "name": "stdout"
        },
        {
          "output_type": "stream",
          "text": [
            "WARNING:tensorflow:Importing a function (__inference_efficientnetb0_layer_call_and_return_conditional_losses_484987) with ops with custom gradients. Will likely fail if a gradient is requested.\n"
          ],
          "name": "stderr"
        },
        {
          "output_type": "stream",
          "text": [
            "WARNING:tensorflow:Importing a function (__inference_efficientnetb0_layer_call_and_return_conditional_losses_484987) with ops with custom gradients. Will likely fail if a gradient is requested.\n"
          ],
          "name": "stdout"
        },
        {
          "output_type": "stream",
          "text": [
            "WARNING:tensorflow:Importing a function (__inference_efficientnetb0_layer_call_and_return_conditional_losses_484987) with ops with custom gradients. Will likely fail if a gradient is requested.\n"
          ],
          "name": "stderr"
        },
        {
          "output_type": "stream",
          "text": [
            "WARNING:tensorflow:Importing a function (__inference_efficientnetb0_layer_call_and_return_conditional_losses_484987) with ops with custom gradients. Will likely fail if a gradient is requested.\n"
          ],
          "name": "stdout"
        },
        {
          "output_type": "stream",
          "text": [
            "WARNING:tensorflow:Importing a function (__inference_efficientnetb0_layer_call_and_return_conditional_losses_484987) with ops with custom gradients. Will likely fail if a gradient is requested.\n"
          ],
          "name": "stderr"
        },
        {
          "output_type": "stream",
          "text": [
            "WARNING:tensorflow:Importing a function (__inference_efficientnetb0_layer_call_and_return_conditional_losses_484987) with ops with custom gradients. Will likely fail if a gradient is requested.\n"
          ],
          "name": "stdout"
        },
        {
          "output_type": "stream",
          "text": [
            "WARNING:tensorflow:Importing a function (__inference_efficientnetb0_layer_call_and_return_conditional_losses_484987) with ops with custom gradients. Will likely fail if a gradient is requested.\n"
          ],
          "name": "stderr"
        },
        {
          "output_type": "stream",
          "text": [
            "WARNING:tensorflow:Importing a function (__inference_efficientnetb0_layer_call_and_return_conditional_losses_484987) with ops with custom gradients. Will likely fail if a gradient is requested.\n"
          ],
          "name": "stdout"
        },
        {
          "output_type": "stream",
          "text": [
            "WARNING:tensorflow:Importing a function (__inference_efficientnetb0_layer_call_and_return_conditional_losses_484987) with ops with custom gradients. Will likely fail if a gradient is requested.\n"
          ],
          "name": "stderr"
        },
        {
          "output_type": "stream",
          "text": [
            "WARNING:tensorflow:Importing a function (__inference_efficientnetb0_layer_call_and_return_conditional_losses_484987) with ops with custom gradients. Will likely fail if a gradient is requested.\n"
          ],
          "name": "stdout"
        },
        {
          "output_type": "stream",
          "text": [
            "WARNING:tensorflow:Importing a function (__inference_efficientnetb0_layer_call_and_return_conditional_losses_484987) with ops with custom gradients. Will likely fail if a gradient is requested.\n"
          ],
          "name": "stderr"
        },
        {
          "output_type": "stream",
          "text": [
            "WARNING:tensorflow:Importing a function (__inference_efficientnetb0_layer_call_and_return_conditional_losses_484987) with ops with custom gradients. Will likely fail if a gradient is requested.\n"
          ],
          "name": "stdout"
        },
        {
          "output_type": "stream",
          "text": [
            "WARNING:tensorflow:Importing a function (__inference_efficientnetb0_layer_call_and_return_conditional_losses_484987) with ops with custom gradients. Will likely fail if a gradient is requested.\n"
          ],
          "name": "stderr"
        },
        {
          "output_type": "stream",
          "text": [
            "WARNING:tensorflow:Importing a function (__inference_efficientnetb0_layer_call_and_return_conditional_losses_484987) with ops with custom gradients. Will likely fail if a gradient is requested.\n"
          ],
          "name": "stdout"
        },
        {
          "output_type": "stream",
          "text": [
            "WARNING:tensorflow:Importing a function (__inference_efficientnetb0_layer_call_and_return_conditional_losses_484987) with ops with custom gradients. Will likely fail if a gradient is requested.\n"
          ],
          "name": "stderr"
        },
        {
          "output_type": "stream",
          "text": [
            "WARNING:tensorflow:Importing a function (__inference_efficientnetb0_layer_call_and_return_conditional_losses_484987) with ops with custom gradients. Will likely fail if a gradient is requested.\n"
          ],
          "name": "stdout"
        },
        {
          "output_type": "stream",
          "text": [
            "WARNING:tensorflow:Importing a function (__inference_efficientnetb0_layer_call_and_return_conditional_losses_484987) with ops with custom gradients. Will likely fail if a gradient is requested.\n"
          ],
          "name": "stderr"
        },
        {
          "output_type": "stream",
          "text": [
            "WARNING:tensorflow:Importing a function (__inference_efficientnetb0_layer_call_and_return_conditional_losses_484987) with ops with custom gradients. Will likely fail if a gradient is requested.\n"
          ],
          "name": "stdout"
        },
        {
          "output_type": "stream",
          "text": [
            "WARNING:tensorflow:Importing a function (__inference_efficientnetb0_layer_call_and_return_conditional_losses_484987) with ops with custom gradients. Will likely fail if a gradient is requested.\n"
          ],
          "name": "stderr"
        },
        {
          "output_type": "stream",
          "text": [
            "WARNING:tensorflow:Importing a function (__inference_efficientnetb0_layer_call_and_return_conditional_losses_484987) with ops with custom gradients. Will likely fail if a gradient is requested.\n"
          ],
          "name": "stdout"
        },
        {
          "output_type": "stream",
          "text": [
            "WARNING:tensorflow:Importing a function (__inference_efficientnetb0_layer_call_and_return_conditional_losses_484987) with ops with custom gradients. Will likely fail if a gradient is requested.\n"
          ],
          "name": "stderr"
        },
        {
          "output_type": "stream",
          "text": [
            "WARNING:tensorflow:Importing a function (__inference_efficientnetb0_layer_call_and_return_conditional_losses_484987) with ops with custom gradients. Will likely fail if a gradient is requested.\n"
          ],
          "name": "stdout"
        },
        {
          "output_type": "stream",
          "text": [
            "WARNING:tensorflow:Importing a function (__inference_efficientnetb0_layer_call_and_return_conditional_losses_484987) with ops with custom gradients. Will likely fail if a gradient is requested.\n"
          ],
          "name": "stderr"
        },
        {
          "output_type": "stream",
          "text": [
            "WARNING:tensorflow:Importing a function (__inference_efficientnetb0_layer_call_and_return_conditional_losses_484987) with ops with custom gradients. Will likely fail if a gradient is requested.\n"
          ],
          "name": "stdout"
        },
        {
          "output_type": "stream",
          "text": [
            "WARNING:tensorflow:Importing a function (__inference_efficientnetb0_layer_call_and_return_conditional_losses_484987) with ops with custom gradients. Will likely fail if a gradient is requested.\n"
          ],
          "name": "stderr"
        },
        {
          "output_type": "stream",
          "text": [
            "WARNING:tensorflow:Importing a function (__inference_efficientnetb0_layer_call_and_return_conditional_losses_484987) with ops with custom gradients. Will likely fail if a gradient is requested.\n"
          ],
          "name": "stdout"
        },
        {
          "output_type": "stream",
          "text": [
            "WARNING:tensorflow:Importing a function (__inference_efficientnetb0_layer_call_and_return_conditional_losses_484987) with ops with custom gradients. Will likely fail if a gradient is requested.\n"
          ],
          "name": "stderr"
        },
        {
          "output_type": "stream",
          "text": [
            "WARNING:tensorflow:Importing a function (__inference_efficientnetb0_layer_call_and_return_conditional_losses_484987) with ops with custom gradients. Will likely fail if a gradient is requested.\n"
          ],
          "name": "stdout"
        },
        {
          "output_type": "stream",
          "text": [
            "WARNING:tensorflow:Importing a function (__inference_efficientnetb0_layer_call_and_return_conditional_losses_484987) with ops with custom gradients. Will likely fail if a gradient is requested.\n"
          ],
          "name": "stderr"
        },
        {
          "output_type": "stream",
          "text": [
            "WARNING:tensorflow:Importing a function (__inference_efficientnetb0_layer_call_and_return_conditional_losses_484987) with ops with custom gradients. Will likely fail if a gradient is requested.\n"
          ],
          "name": "stdout"
        },
        {
          "output_type": "stream",
          "text": [
            "WARNING:tensorflow:Importing a function (__inference_efficientnetb0_layer_call_and_return_conditional_losses_484987) with ops with custom gradients. Will likely fail if a gradient is requested.\n"
          ],
          "name": "stderr"
        },
        {
          "output_type": "stream",
          "text": [
            "WARNING:tensorflow:Importing a function (__inference_efficientnetb0_layer_call_and_return_conditional_losses_484987) with ops with custom gradients. Will likely fail if a gradient is requested.\n"
          ],
          "name": "stdout"
        },
        {
          "output_type": "stream",
          "text": [
            "WARNING:tensorflow:Importing a function (__inference_efficientnetb0_layer_call_and_return_conditional_losses_484987) with ops with custom gradients. Will likely fail if a gradient is requested.\n"
          ],
          "name": "stderr"
        },
        {
          "output_type": "stream",
          "text": [
            "WARNING:tensorflow:Importing a function (__inference_efficientnetb0_layer_call_and_return_conditional_losses_484987) with ops with custom gradients. Will likely fail if a gradient is requested.\n"
          ],
          "name": "stdout"
        },
        {
          "output_type": "stream",
          "text": [
            "WARNING:tensorflow:Importing a function (__inference_efficientnetb0_layer_call_and_return_conditional_losses_484987) with ops with custom gradients. Will likely fail if a gradient is requested.\n"
          ],
          "name": "stderr"
        },
        {
          "output_type": "stream",
          "text": [
            "WARNING:tensorflow:Importing a function (__inference_efficientnetb0_layer_call_and_return_conditional_losses_484987) with ops with custom gradients. Will likely fail if a gradient is requested.\n"
          ],
          "name": "stdout"
        },
        {
          "output_type": "stream",
          "text": [
            "WARNING:tensorflow:Importing a function (__inference_efficientnetb0_layer_call_and_return_conditional_losses_484987) with ops with custom gradients. Will likely fail if a gradient is requested.\n"
          ],
          "name": "stderr"
        },
        {
          "output_type": "stream",
          "text": [
            "WARNING:tensorflow:Importing a function (__inference_efficientnetb0_layer_call_and_return_conditional_losses_484987) with ops with custom gradients. Will likely fail if a gradient is requested.\n"
          ],
          "name": "stdout"
        },
        {
          "output_type": "stream",
          "text": [
            "WARNING:tensorflow:Importing a function (__inference_efficientnetb0_layer_call_and_return_conditional_losses_484987) with ops with custom gradients. Will likely fail if a gradient is requested.\n"
          ],
          "name": "stderr"
        },
        {
          "output_type": "stream",
          "text": [
            "WARNING:tensorflow:Importing a function (__inference_efficientnetb0_layer_call_and_return_conditional_losses_484987) with ops with custom gradients. Will likely fail if a gradient is requested.\n"
          ],
          "name": "stdout"
        },
        {
          "output_type": "stream",
          "text": [
            "WARNING:tensorflow:Importing a function (__inference_efficientnetb0_layer_call_and_return_conditional_losses_484987) with ops with custom gradients. Will likely fail if a gradient is requested.\n"
          ],
          "name": "stderr"
        },
        {
          "output_type": "stream",
          "text": [
            "WARNING:tensorflow:Importing a function (__inference_efficientnetb0_layer_call_and_return_conditional_losses_484987) with ops with custom gradients. Will likely fail if a gradient is requested.\n"
          ],
          "name": "stdout"
        },
        {
          "output_type": "stream",
          "text": [
            "WARNING:tensorflow:Importing a function (__inference_efficientnetb0_layer_call_and_return_conditional_losses_484987) with ops with custom gradients. Will likely fail if a gradient is requested.\n"
          ],
          "name": "stderr"
        },
        {
          "output_type": "stream",
          "text": [
            "WARNING:tensorflow:Importing a function (__inference_efficientnetb0_layer_call_and_return_conditional_losses_484987) with ops with custom gradients. Will likely fail if a gradient is requested.\n"
          ],
          "name": "stdout"
        },
        {
          "output_type": "stream",
          "text": [
            "WARNING:tensorflow:Importing a function (__inference_efficientnetb0_layer_call_and_return_conditional_losses_484987) with ops with custom gradients. Will likely fail if a gradient is requested.\n"
          ],
          "name": "stderr"
        },
        {
          "output_type": "stream",
          "text": [
            "WARNING:tensorflow:Importing a function (__inference_efficientnetb0_layer_call_and_return_conditional_losses_484987) with ops with custom gradients. Will likely fail if a gradient is requested.\n"
          ],
          "name": "stdout"
        },
        {
          "output_type": "stream",
          "text": [
            "WARNING:tensorflow:Importing a function (__inference_efficientnetb0_layer_call_and_return_conditional_losses_484987) with ops with custom gradients. Will likely fail if a gradient is requested.\n"
          ],
          "name": "stderr"
        },
        {
          "output_type": "stream",
          "text": [
            "WARNING:tensorflow:Importing a function (__inference_efficientnetb0_layer_call_and_return_conditional_losses_484987) with ops with custom gradients. Will likely fail if a gradient is requested.\n"
          ],
          "name": "stdout"
        },
        {
          "output_type": "stream",
          "text": [
            "WARNING:tensorflow:Importing a function (__inference_efficientnetb0_layer_call_and_return_conditional_losses_484987) with ops with custom gradients. Will likely fail if a gradient is requested.\n"
          ],
          "name": "stderr"
        },
        {
          "output_type": "stream",
          "text": [
            "WARNING:tensorflow:Importing a function (__inference_efficientnetb0_layer_call_and_return_conditional_losses_484987) with ops with custom gradients. Will likely fail if a gradient is requested.\n"
          ],
          "name": "stdout"
        },
        {
          "output_type": "stream",
          "text": [
            "WARNING:tensorflow:Importing a function (__inference_efficientnetb0_layer_call_and_return_conditional_losses_484987) with ops with custom gradients. Will likely fail if a gradient is requested.\n"
          ],
          "name": "stderr"
        },
        {
          "output_type": "stream",
          "text": [
            "WARNING:tensorflow:Importing a function (__inference_efficientnetb0_layer_call_and_return_conditional_losses_484987) with ops with custom gradients. Will likely fail if a gradient is requested.\n"
          ],
          "name": "stdout"
        },
        {
          "output_type": "stream",
          "text": [
            "WARNING:tensorflow:Importing a function (__inference_efficientnetb0_layer_call_and_return_conditional_losses_484987) with ops with custom gradients. Will likely fail if a gradient is requested.\n"
          ],
          "name": "stderr"
        },
        {
          "output_type": "stream",
          "text": [
            "WARNING:tensorflow:Importing a function (__inference_efficientnetb0_layer_call_and_return_conditional_losses_484987) with ops with custom gradients. Will likely fail if a gradient is requested.\n"
          ],
          "name": "stdout"
        },
        {
          "output_type": "stream",
          "text": [
            "WARNING:tensorflow:Importing a function (__inference_efficientnetb0_layer_call_and_return_conditional_losses_484987) with ops with custom gradients. Will likely fail if a gradient is requested.\n"
          ],
          "name": "stderr"
        },
        {
          "output_type": "stream",
          "text": [
            "WARNING:tensorflow:Importing a function (__inference_efficientnetb0_layer_call_and_return_conditional_losses_484987) with ops with custom gradients. Will likely fail if a gradient is requested.\n"
          ],
          "name": "stdout"
        },
        {
          "output_type": "stream",
          "text": [
            "WARNING:tensorflow:Importing a function (__inference_efficientnetb0_layer_call_and_return_conditional_losses_484987) with ops with custom gradients. Will likely fail if a gradient is requested.\n"
          ],
          "name": "stderr"
        },
        {
          "output_type": "stream",
          "text": [
            "WARNING:tensorflow:Importing a function (__inference_efficientnetb0_layer_call_and_return_conditional_losses_484987) with ops with custom gradients. Will likely fail if a gradient is requested.\n"
          ],
          "name": "stdout"
        },
        {
          "output_type": "stream",
          "text": [
            "WARNING:tensorflow:Importing a function (__inference_efficientnetb0_layer_call_and_return_conditional_losses_484987) with ops with custom gradients. Will likely fail if a gradient is requested.\n"
          ],
          "name": "stderr"
        },
        {
          "output_type": "stream",
          "text": [
            "WARNING:tensorflow:Importing a function (__inference_block6a_expand_activation_layer_call_and_return_conditional_losses_505547) with ops with custom gradients. Will likely fail if a gradient is requested.\n"
          ],
          "name": "stdout"
        },
        {
          "output_type": "stream",
          "text": [
            "WARNING:tensorflow:Importing a function (__inference_block6a_expand_activation_layer_call_and_return_conditional_losses_505547) with ops with custom gradients. Will likely fail if a gradient is requested.\n"
          ],
          "name": "stderr"
        },
        {
          "output_type": "stream",
          "text": [
            "WARNING:tensorflow:Importing a function (__inference_block3a_activation_layer_call_and_return_conditional_losses_494503) with ops with custom gradients. Will likely fail if a gradient is requested.\n"
          ],
          "name": "stdout"
        },
        {
          "output_type": "stream",
          "text": [
            "WARNING:tensorflow:Importing a function (__inference_block3a_activation_layer_call_and_return_conditional_losses_494503) with ops with custom gradients. Will likely fail if a gradient is requested.\n"
          ],
          "name": "stderr"
        },
        {
          "output_type": "stream",
          "text": [
            "WARNING:tensorflow:Importing a function (__inference_block3a_se_reduce_layer_call_and_return_conditional_losses_421068) with ops with custom gradients. Will likely fail if a gradient is requested.\n"
          ],
          "name": "stdout"
        },
        {
          "output_type": "stream",
          "text": [
            "WARNING:tensorflow:Importing a function (__inference_block3a_se_reduce_layer_call_and_return_conditional_losses_421068) with ops with custom gradients. Will likely fail if a gradient is requested.\n"
          ],
          "name": "stderr"
        },
        {
          "output_type": "stream",
          "text": [
            "WARNING:tensorflow:Importing a function (__inference_block6b_se_reduce_layer_call_and_return_conditional_losses_429624) with ops with custom gradients. Will likely fail if a gradient is requested.\n"
          ],
          "name": "stdout"
        },
        {
          "output_type": "stream",
          "text": [
            "WARNING:tensorflow:Importing a function (__inference_block6b_se_reduce_layer_call_and_return_conditional_losses_429624) with ops with custom gradients. Will likely fail if a gradient is requested.\n"
          ],
          "name": "stderr"
        },
        {
          "output_type": "stream",
          "text": [
            "WARNING:tensorflow:Importing a function (__inference_block4b_se_reduce_layer_call_and_return_conditional_losses_498808) with ops with custom gradients. Will likely fail if a gradient is requested.\n"
          ],
          "name": "stdout"
        },
        {
          "output_type": "stream",
          "text": [
            "WARNING:tensorflow:Importing a function (__inference_block4b_se_reduce_layer_call_and_return_conditional_losses_498808) with ops with custom gradients. Will likely fail if a gradient is requested.\n"
          ],
          "name": "stderr"
        },
        {
          "output_type": "stream",
          "text": [
            "WARNING:tensorflow:Importing a function (__inference_block4a_activation_layer_call_and_return_conditional_losses_422917) with ops with custom gradients. Will likely fail if a gradient is requested.\n"
          ],
          "name": "stdout"
        },
        {
          "output_type": "stream",
          "text": [
            "WARNING:tensorflow:Importing a function (__inference_block4a_activation_layer_call_and_return_conditional_losses_422917) with ops with custom gradients. Will likely fail if a gradient is requested.\n"
          ],
          "name": "stderr"
        },
        {
          "output_type": "stream",
          "text": [
            "WARNING:tensorflow:Importing a function (__inference_block3b_expand_activation_layer_call_and_return_conditional_losses_495470) with ops with custom gradients. Will likely fail if a gradient is requested.\n"
          ],
          "name": "stdout"
        },
        {
          "output_type": "stream",
          "text": [
            "WARNING:tensorflow:Importing a function (__inference_block3b_expand_activation_layer_call_and_return_conditional_losses_495470) with ops with custom gradients. Will likely fail if a gradient is requested.\n"
          ],
          "name": "stderr"
        },
        {
          "output_type": "stream",
          "text": [
            "WARNING:tensorflow:Importing a function (__inference_block6b_expand_activation_layer_call_and_return_conditional_losses_506953) with ops with custom gradients. Will likely fail if a gradient is requested.\n"
          ],
          "name": "stdout"
        },
        {
          "output_type": "stream",
          "text": [
            "WARNING:tensorflow:Importing a function (__inference_block6b_expand_activation_layer_call_and_return_conditional_losses_506953) with ops with custom gradients. Will likely fail if a gradient is requested.\n"
          ],
          "name": "stderr"
        },
        {
          "output_type": "stream",
          "text": [
            "WARNING:tensorflow:Importing a function (__inference_block3a_activation_layer_call_and_return_conditional_losses_421021) with ops with custom gradients. Will likely fail if a gradient is requested.\n"
          ],
          "name": "stdout"
        },
        {
          "output_type": "stream",
          "text": [
            "WARNING:tensorflow:Importing a function (__inference_block3a_activation_layer_call_and_return_conditional_losses_421021) with ops with custom gradients. Will likely fail if a gradient is requested.\n"
          ],
          "name": "stderr"
        },
        {
          "output_type": "stream",
          "text": [
            "WARNING:tensorflow:Importing a function (__inference_block2b_se_reduce_layer_call_and_return_conditional_losses_420093) with ops with custom gradients. Will likely fail if a gradient is requested.\n"
          ],
          "name": "stdout"
        },
        {
          "output_type": "stream",
          "text": [
            "WARNING:tensorflow:Importing a function (__inference_block2b_se_reduce_layer_call_and_return_conditional_losses_420093) with ops with custom gradients. Will likely fail if a gradient is requested.\n"
          ],
          "name": "stderr"
        },
        {
          "output_type": "stream",
          "text": [
            "WARNING:tensorflow:Importing a function (__inference_block6d_activation_layer_call_and_return_conditional_losses_431525) with ops with custom gradients. Will likely fail if a gradient is requested.\n"
          ],
          "name": "stdout"
        },
        {
          "output_type": "stream",
          "text": [
            "WARNING:tensorflow:Importing a function (__inference_block6d_activation_layer_call_and_return_conditional_losses_431525) with ops with custom gradients. Will likely fail if a gradient is requested.\n"
          ],
          "name": "stderr"
        },
        {
          "output_type": "stream",
          "text": [
            "WARNING:tensorflow:Importing a function (__inference_block7a_expand_activation_layer_call_and_return_conditional_losses_432229) with ops with custom gradients. Will likely fail if a gradient is requested.\n"
          ],
          "name": "stdout"
        },
        {
          "output_type": "stream",
          "text": [
            "WARNING:tensorflow:Importing a function (__inference_block7a_expand_activation_layer_call_and_return_conditional_losses_432229) with ops with custom gradients. Will likely fail if a gradient is requested.\n"
          ],
          "name": "stderr"
        },
        {
          "output_type": "stream",
          "text": [
            "WARNING:tensorflow:Importing a function (__inference_block4a_activation_layer_call_and_return_conditional_losses_497362) with ops with custom gradients. Will likely fail if a gradient is requested.\n"
          ],
          "name": "stdout"
        },
        {
          "output_type": "stream",
          "text": [
            "WARNING:tensorflow:Importing a function (__inference_block4a_activation_layer_call_and_return_conditional_losses_497362) with ops with custom gradients. Will likely fail if a gradient is requested.\n"
          ],
          "name": "stderr"
        },
        {
          "output_type": "stream",
          "text": [
            "WARNING:tensorflow:Importing a function (__inference_block5b_se_reduce_layer_call_and_return_conditional_losses_426754) with ops with custom gradients. Will likely fail if a gradient is requested.\n"
          ],
          "name": "stdout"
        },
        {
          "output_type": "stream",
          "text": [
            "WARNING:tensorflow:Importing a function (__inference_block5b_se_reduce_layer_call_and_return_conditional_losses_426754) with ops with custom gradients. Will likely fail if a gradient is requested.\n"
          ],
          "name": "stderr"
        },
        {
          "output_type": "stream",
          "text": [
            "WARNING:tensorflow:Importing a function (__inference_block2b_activation_layer_call_and_return_conditional_losses_420046) with ops with custom gradients. Will likely fail if a gradient is requested.\n"
          ],
          "name": "stdout"
        },
        {
          "output_type": "stream",
          "text": [
            "WARNING:tensorflow:Importing a function (__inference_block2b_activation_layer_call_and_return_conditional_losses_420046) with ops with custom gradients. Will likely fail if a gradient is requested.\n"
          ],
          "name": "stderr"
        },
        {
          "output_type": "stream",
          "text": [
            "WARNING:tensorflow:Importing a function (__inference_block2a_se_reduce_layer_call_and_return_conditional_losses_491684) with ops with custom gradients. Will likely fail if a gradient is requested.\n"
          ],
          "name": "stdout"
        },
        {
          "output_type": "stream",
          "text": [
            "WARNING:tensorflow:Importing a function (__inference_block2a_se_reduce_layer_call_and_return_conditional_losses_491684) with ops with custom gradients. Will likely fail if a gradient is requested.\n"
          ],
          "name": "stderr"
        },
        {
          "output_type": "stream",
          "text": [
            "WARNING:tensorflow:Importing a function (__inference_block5a_se_reduce_layer_call_and_return_conditional_losses_425833) with ops with custom gradients. Will likely fail if a gradient is requested.\n"
          ],
          "name": "stdout"
        },
        {
          "output_type": "stream",
          "text": [
            "WARNING:tensorflow:Importing a function (__inference_block5a_se_reduce_layer_call_and_return_conditional_losses_425833) with ops with custom gradients. Will likely fail if a gradient is requested.\n"
          ],
          "name": "stderr"
        },
        {
          "output_type": "stream",
          "text": [
            "WARNING:tensorflow:Importing a function (__inference_block2b_activation_layer_call_and_return_conditional_losses_493050) with ops with custom gradients. Will likely fail if a gradient is requested.\n"
          ],
          "name": "stdout"
        },
        {
          "output_type": "stream",
          "text": [
            "WARNING:tensorflow:Importing a function (__inference_block2b_activation_layer_call_and_return_conditional_losses_493050) with ops with custom gradients. Will likely fail if a gradient is requested.\n"
          ],
          "name": "stderr"
        },
        {
          "output_type": "stream",
          "text": [
            "WARNING:tensorflow:Importing a function (__inference_block5b_expand_activation_layer_call_and_return_conditional_losses_426437) with ops with custom gradients. Will likely fail if a gradient is requested.\n"
          ],
          "name": "stdout"
        },
        {
          "output_type": "stream",
          "text": [
            "WARNING:tensorflow:Importing a function (__inference_block5b_expand_activation_layer_call_and_return_conditional_losses_426437) with ops with custom gradients. Will likely fail if a gradient is requested.\n"
          ],
          "name": "stderr"
        },
        {
          "output_type": "stream",
          "text": [
            "WARNING:tensorflow:Importing a function (__inference_block7a_se_reduce_layer_call_and_return_conditional_losses_511791) with ops with custom gradients. Will likely fail if a gradient is requested.\n"
          ],
          "name": "stdout"
        },
        {
          "output_type": "stream",
          "text": [
            "WARNING:tensorflow:Importing a function (__inference_block7a_se_reduce_layer_call_and_return_conditional_losses_511791) with ops with custom gradients. Will likely fail if a gradient is requested.\n"
          ],
          "name": "stderr"
        },
        {
          "output_type": "stream",
          "text": [
            "WARNING:tensorflow:Importing a function (__inference_block1a_activation_layer_call_and_return_conditional_losses_490238) with ops with custom gradients. Will likely fail if a gradient is requested.\n"
          ],
          "name": "stdout"
        },
        {
          "output_type": "stream",
          "text": [
            "WARNING:tensorflow:Importing a function (__inference_block1a_activation_layer_call_and_return_conditional_losses_490238) with ops with custom gradients. Will likely fail if a gradient is requested.\n"
          ],
          "name": "stderr"
        },
        {
          "output_type": "stream",
          "text": [
            "WARNING:tensorflow:Importing a function (__inference_stem_activation_layer_call_and_return_conditional_losses_489799) with ops with custom gradients. Will likely fail if a gradient is requested.\n"
          ],
          "name": "stdout"
        },
        {
          "output_type": "stream",
          "text": [
            "WARNING:tensorflow:Importing a function (__inference_stem_activation_layer_call_and_return_conditional_losses_489799) with ops with custom gradients. Will likely fail if a gradient is requested.\n"
          ],
          "name": "stderr"
        },
        {
          "output_type": "stream",
          "text": [
            "WARNING:tensorflow:Importing a function (__inference_block5a_expand_activation_layer_call_and_return_conditional_losses_501235) with ops with custom gradients. Will likely fail if a gradient is requested.\n"
          ],
          "name": "stdout"
        },
        {
          "output_type": "stream",
          "text": [
            "WARNING:tensorflow:Importing a function (__inference_block5a_expand_activation_layer_call_and_return_conditional_losses_501235) with ops with custom gradients. Will likely fail if a gradient is requested.\n"
          ],
          "name": "stderr"
        },
        {
          "output_type": "stream",
          "text": [
            "WARNING:tensorflow:Importing a function (__inference_block4c_expand_activation_layer_call_and_return_conditional_losses_424542) with ops with custom gradients. Will likely fail if a gradient is requested.\n"
          ],
          "name": "stdout"
        },
        {
          "output_type": "stream",
          "text": [
            "WARNING:tensorflow:Importing a function (__inference_block4c_expand_activation_layer_call_and_return_conditional_losses_424542) with ops with custom gradients. Will likely fail if a gradient is requested.\n"
          ],
          "name": "stderr"
        },
        {
          "output_type": "stream",
          "text": [
            "WARNING:tensorflow:Importing a function (__inference_block4c_activation_layer_call_and_return_conditional_losses_424812) with ops with custom gradients. Will likely fail if a gradient is requested.\n"
          ],
          "name": "stdout"
        },
        {
          "output_type": "stream",
          "text": [
            "WARNING:tensorflow:Importing a function (__inference_block4c_activation_layer_call_and_return_conditional_losses_424812) with ops with custom gradients. Will likely fail if a gradient is requested.\n"
          ],
          "name": "stderr"
        },
        {
          "output_type": "stream",
          "text": [
            "WARNING:tensorflow:Importing a function (__inference_block6c_activation_layer_call_and_return_conditional_losses_508845) with ops with custom gradients. Will likely fail if a gradient is requested.\n"
          ],
          "name": "stdout"
        },
        {
          "output_type": "stream",
          "text": [
            "WARNING:tensorflow:Importing a function (__inference_block6c_activation_layer_call_and_return_conditional_losses_508845) with ops with custom gradients. Will likely fail if a gradient is requested.\n"
          ],
          "name": "stderr"
        },
        {
          "output_type": "stream",
          "text": [
            "WARNING:tensorflow:Importing a function (__inference_block1a_activation_layer_call_and_return_conditional_losses_418203) with ops with custom gradients. Will likely fail if a gradient is requested.\n"
          ],
          "name": "stdout"
        },
        {
          "output_type": "stream",
          "text": [
            "WARNING:tensorflow:Importing a function (__inference_block1a_activation_layer_call_and_return_conditional_losses_418203) with ops with custom gradients. Will likely fail if a gradient is requested.\n"
          ],
          "name": "stderr"
        },
        {
          "output_type": "stream",
          "text": [
            "WARNING:tensorflow:Importing a function (__inference_block2a_expand_activation_layer_call_and_return_conditional_losses_418854) with ops with custom gradients. Will likely fail if a gradient is requested.\n"
          ],
          "name": "stdout"
        },
        {
          "output_type": "stream",
          "text": [
            "WARNING:tensorflow:Importing a function (__inference_block2a_expand_activation_layer_call_and_return_conditional_losses_418854) with ops with custom gradients. Will likely fail if a gradient is requested.\n"
          ],
          "name": "stderr"
        },
        {
          "output_type": "stream",
          "text": [
            "WARNING:tensorflow:Importing a function (__inference_block7a_se_reduce_layer_call_and_return_conditional_losses_432546) with ops with custom gradients. Will likely fail if a gradient is requested.\n"
          ],
          "name": "stdout"
        },
        {
          "output_type": "stream",
          "text": [
            "WARNING:tensorflow:Importing a function (__inference_block7a_se_reduce_layer_call_and_return_conditional_losses_432546) with ops with custom gradients. Will likely fail if a gradient is requested.\n"
          ],
          "name": "stderr"
        },
        {
          "output_type": "stream",
          "text": [
            "WARNING:tensorflow:Importing a function (__inference_block3b_se_reduce_layer_call_and_return_conditional_losses_421989) with ops with custom gradients. Will likely fail if a gradient is requested.\n"
          ],
          "name": "stdout"
        },
        {
          "output_type": "stream",
          "text": [
            "WARNING:tensorflow:Importing a function (__inference_block3b_se_reduce_layer_call_and_return_conditional_losses_421989) with ops with custom gradients. Will likely fail if a gradient is requested.\n"
          ],
          "name": "stderr"
        },
        {
          "output_type": "stream",
          "text": [
            "WARNING:tensorflow:Importing a function (__inference_block6d_expand_activation_layer_call_and_return_conditional_losses_431255) with ops with custom gradients. Will likely fail if a gradient is requested.\n"
          ],
          "name": "stdout"
        },
        {
          "output_type": "stream",
          "text": [
            "WARNING:tensorflow:Importing a function (__inference_block6d_expand_activation_layer_call_and_return_conditional_losses_431255) with ops with custom gradients. Will likely fail if a gradient is requested.\n"
          ],
          "name": "stderr"
        },
        {
          "output_type": "stream",
          "text": [
            "WARNING:tensorflow:Importing a function (__inference_top_activation_layer_call_and_return_conditional_losses_512718) with ops with custom gradients. Will likely fail if a gradient is requested.\n"
          ],
          "name": "stdout"
        },
        {
          "output_type": "stream",
          "text": [
            "WARNING:tensorflow:Importing a function (__inference_top_activation_layer_call_and_return_conditional_losses_512718) with ops with custom gradients. Will likely fail if a gradient is requested.\n"
          ],
          "name": "stderr"
        },
        {
          "output_type": "stream",
          "text": [
            "WARNING:tensorflow:Importing a function (__inference_block3a_se_reduce_layer_call_and_return_conditional_losses_494543) with ops with custom gradients. Will likely fail if a gradient is requested.\n"
          ],
          "name": "stdout"
        },
        {
          "output_type": "stream",
          "text": [
            "WARNING:tensorflow:Importing a function (__inference_block3a_se_reduce_layer_call_and_return_conditional_losses_494543) with ops with custom gradients. Will likely fail if a gradient is requested.\n"
          ],
          "name": "stderr"
        },
        {
          "output_type": "stream",
          "text": [
            "WARNING:tensorflow:Importing a function (__inference_block5a_expand_activation_layer_call_and_return_conditional_losses_425516) with ops with custom gradients. Will likely fail if a gradient is requested.\n"
          ],
          "name": "stdout"
        },
        {
          "output_type": "stream",
          "text": [
            "WARNING:tensorflow:Importing a function (__inference_block5a_expand_activation_layer_call_and_return_conditional_losses_425516) with ops with custom gradients. Will likely fail if a gradient is requested.\n"
          ],
          "name": "stderr"
        },
        {
          "output_type": "stream",
          "text": [
            "WARNING:tensorflow:Importing a function (__inference_block6b_expand_activation_layer_call_and_return_conditional_losses_429307) with ops with custom gradients. Will likely fail if a gradient is requested.\n"
          ],
          "name": "stdout"
        },
        {
          "output_type": "stream",
          "text": [
            "WARNING:tensorflow:Importing a function (__inference_block6b_expand_activation_layer_call_and_return_conditional_losses_429307) with ops with custom gradients. Will likely fail if a gradient is requested.\n"
          ],
          "name": "stderr"
        },
        {
          "output_type": "stream",
          "text": [
            "WARNING:tensorflow:Importing a function (__inference_block6c_expand_activation_layer_call_and_return_conditional_losses_508406) with ops with custom gradients. Will likely fail if a gradient is requested.\n"
          ],
          "name": "stdout"
        },
        {
          "output_type": "stream",
          "text": [
            "WARNING:tensorflow:Importing a function (__inference_block6c_expand_activation_layer_call_and_return_conditional_losses_508406) with ops with custom gradients. Will likely fail if a gradient is requested.\n"
          ],
          "name": "stderr"
        },
        {
          "output_type": "stream",
          "text": [
            "WARNING:tensorflow:Importing a function (__inference_block3a_expand_activation_layer_call_and_return_conditional_losses_494064) with ops with custom gradients. Will likely fail if a gradient is requested.\n"
          ],
          "name": "stdout"
        },
        {
          "output_type": "stream",
          "text": [
            "WARNING:tensorflow:Importing a function (__inference_block3a_expand_activation_layer_call_and_return_conditional_losses_494064) with ops with custom gradients. Will likely fail if a gradient is requested.\n"
          ],
          "name": "stderr"
        },
        {
          "output_type": "stream",
          "text": [
            "WARNING:tensorflow:Importing a function (__inference_block7a_activation_layer_call_and_return_conditional_losses_511751) with ops with custom gradients. Will likely fail if a gradient is requested.\n"
          ],
          "name": "stdout"
        },
        {
          "output_type": "stream",
          "text": [
            "WARNING:tensorflow:Importing a function (__inference_block7a_activation_layer_call_and_return_conditional_losses_511751) with ops with custom gradients. Will likely fail if a gradient is requested.\n"
          ],
          "name": "stderr"
        },
        {
          "output_type": "stream",
          "text": [
            "WARNING:tensorflow:Importing a function (__inference_stem_activation_layer_call_and_return_conditional_losses_417933) with ops with custom gradients. Will likely fail if a gradient is requested.\n"
          ],
          "name": "stdout"
        },
        {
          "output_type": "stream",
          "text": [
            "WARNING:tensorflow:Importing a function (__inference_stem_activation_layer_call_and_return_conditional_losses_417933) with ops with custom gradients. Will likely fail if a gradient is requested.\n"
          ],
          "name": "stderr"
        },
        {
          "output_type": "stream",
          "text": [
            "WARNING:tensorflow:Importing a function (__inference_block2b_expand_activation_layer_call_and_return_conditional_losses_492611) with ops with custom gradients. Will likely fail if a gradient is requested.\n"
          ],
          "name": "stdout"
        },
        {
          "output_type": "stream",
          "text": [
            "WARNING:tensorflow:Importing a function (__inference_block2b_expand_activation_layer_call_and_return_conditional_losses_492611) with ops with custom gradients. Will likely fail if a gradient is requested.\n"
          ],
          "name": "stderr"
        },
        {
          "output_type": "stream",
          "text": [
            "WARNING:tensorflow:Importing a function (__inference_block1a_se_reduce_layer_call_and_return_conditional_losses_418250) with ops with custom gradients. Will likely fail if a gradient is requested.\n"
          ],
          "name": "stdout"
        },
        {
          "output_type": "stream",
          "text": [
            "WARNING:tensorflow:Importing a function (__inference_block1a_se_reduce_layer_call_and_return_conditional_losses_418250) with ops with custom gradients. Will likely fail if a gradient is requested.\n"
          ],
          "name": "stderr"
        },
        {
          "output_type": "stream",
          "text": [
            "WARNING:tensorflow:Importing a function (__inference_block1a_se_reduce_layer_call_and_return_conditional_losses_490278) with ops with custom gradients. Will likely fail if a gradient is requested.\n"
          ],
          "name": "stdout"
        },
        {
          "output_type": "stream",
          "text": [
            "WARNING:tensorflow:Importing a function (__inference_block1a_se_reduce_layer_call_and_return_conditional_losses_490278) with ops with custom gradients. Will likely fail if a gradient is requested.\n"
          ],
          "name": "stderr"
        },
        {
          "output_type": "stream",
          "text": [
            "WARNING:tensorflow:Importing a function (__inference_block4c_expand_activation_layer_call_and_return_conditional_losses_499782) with ops with custom gradients. Will likely fail if a gradient is requested.\n"
          ],
          "name": "stdout"
        },
        {
          "output_type": "stream",
          "text": [
            "WARNING:tensorflow:Importing a function (__inference_block4c_expand_activation_layer_call_and_return_conditional_losses_499782) with ops with custom gradients. Will likely fail if a gradient is requested.\n"
          ],
          "name": "stderr"
        },
        {
          "output_type": "stream",
          "text": [
            "WARNING:tensorflow:Importing a function (__inference_block5a_activation_layer_call_and_return_conditional_losses_425786) with ops with custom gradients. Will likely fail if a gradient is requested.\n"
          ],
          "name": "stdout"
        },
        {
          "output_type": "stream",
          "text": [
            "WARNING:tensorflow:Importing a function (__inference_block5a_activation_layer_call_and_return_conditional_losses_425786) with ops with custom gradients. Will likely fail if a gradient is requested.\n"
          ],
          "name": "stderr"
        },
        {
          "output_type": "stream",
          "text": [
            "WARNING:tensorflow:Importing a function (__inference_block6a_activation_layer_call_and_return_conditional_losses_505986) with ops with custom gradients. Will likely fail if a gradient is requested.\n"
          ],
          "name": "stdout"
        },
        {
          "output_type": "stream",
          "text": [
            "WARNING:tensorflow:Importing a function (__inference_block6a_activation_layer_call_and_return_conditional_losses_505986) with ops with custom gradients. Will likely fail if a gradient is requested.\n"
          ],
          "name": "stderr"
        },
        {
          "output_type": "stream",
          "text": [
            "WARNING:tensorflow:Importing a function (__inference_block4b_activation_layer_call_and_return_conditional_losses_498768) with ops with custom gradients. Will likely fail if a gradient is requested.\n"
          ],
          "name": "stdout"
        },
        {
          "output_type": "stream",
          "text": [
            "WARNING:tensorflow:Importing a function (__inference_block4b_activation_layer_call_and_return_conditional_losses_498768) with ops with custom gradients. Will likely fail if a gradient is requested.\n"
          ],
          "name": "stderr"
        },
        {
          "output_type": "stream",
          "text": [
            "WARNING:tensorflow:Importing a function (__inference_block3a_expand_activation_layer_call_and_return_conditional_losses_420750) with ops with custom gradients. Will likely fail if a gradient is requested.\n"
          ],
          "name": "stdout"
        },
        {
          "output_type": "stream",
          "text": [
            "WARNING:tensorflow:Importing a function (__inference_block3a_expand_activation_layer_call_and_return_conditional_losses_420750) with ops with custom gradients. Will likely fail if a gradient is requested.\n"
          ],
          "name": "stderr"
        },
        {
          "output_type": "stream",
          "text": [
            "WARNING:tensorflow:Importing a function (__inference_block6a_activation_layer_call_and_return_conditional_losses_428656) with ops with custom gradients. Will likely fail if a gradient is requested.\n"
          ],
          "name": "stdout"
        },
        {
          "output_type": "stream",
          "text": [
            "WARNING:tensorflow:Importing a function (__inference_block6a_activation_layer_call_and_return_conditional_losses_428656) with ops with custom gradients. Will likely fail if a gradient is requested.\n"
          ],
          "name": "stderr"
        },
        {
          "output_type": "stream",
          "text": [
            "WARNING:tensorflow:Importing a function (__inference_block2a_expand_activation_layer_call_and_return_conditional_losses_491205) with ops with custom gradients. Will likely fail if a gradient is requested.\n"
          ],
          "name": "stdout"
        },
        {
          "output_type": "stream",
          "text": [
            "WARNING:tensorflow:Importing a function (__inference_block2a_expand_activation_layer_call_and_return_conditional_losses_491205) with ops with custom gradients. Will likely fail if a gradient is requested.\n"
          ],
          "name": "stderr"
        },
        {
          "output_type": "stream",
          "text": [
            "WARNING:tensorflow:Importing a function (__inference_block4a_expand_activation_layer_call_and_return_conditional_losses_422646) with ops with custom gradients. Will likely fail if a gradient is requested.\n"
          ],
          "name": "stdout"
        },
        {
          "output_type": "stream",
          "text": [
            "WARNING:tensorflow:Importing a function (__inference_block4a_expand_activation_layer_call_and_return_conditional_losses_422646) with ops with custom gradients. Will likely fail if a gradient is requested.\n"
          ],
          "name": "stderr"
        },
        {
          "output_type": "stream",
          "text": [
            "WARNING:tensorflow:Importing a function (__inference_block4a_se_reduce_layer_call_and_return_conditional_losses_497402) with ops with custom gradients. Will likely fail if a gradient is requested.\n"
          ],
          "name": "stdout"
        },
        {
          "output_type": "stream",
          "text": [
            "WARNING:tensorflow:Importing a function (__inference_block4a_se_reduce_layer_call_and_return_conditional_losses_497402) with ops with custom gradients. Will likely fail if a gradient is requested.\n"
          ],
          "name": "stderr"
        },
        {
          "output_type": "stream",
          "text": [
            "WARNING:tensorflow:Importing a function (__inference_block4c_se_reduce_layer_call_and_return_conditional_losses_500261) with ops with custom gradients. Will likely fail if a gradient is requested.\n"
          ],
          "name": "stdout"
        },
        {
          "output_type": "stream",
          "text": [
            "WARNING:tensorflow:Importing a function (__inference_block4c_se_reduce_layer_call_and_return_conditional_losses_500261) with ops with custom gradients. Will likely fail if a gradient is requested.\n"
          ],
          "name": "stderr"
        },
        {
          "output_type": "stream",
          "text": [
            "WARNING:tensorflow:Importing a function (__inference_block4b_expand_activation_layer_call_and_return_conditional_losses_498329) with ops with custom gradients. Will likely fail if a gradient is requested.\n"
          ],
          "name": "stdout"
        },
        {
          "output_type": "stream",
          "text": [
            "WARNING:tensorflow:Importing a function (__inference_block4b_expand_activation_layer_call_and_return_conditional_losses_498329) with ops with custom gradients. Will likely fail if a gradient is requested.\n"
          ],
          "name": "stderr"
        },
        {
          "output_type": "stream",
          "text": [
            "WARNING:tensorflow:Importing a function (__inference_block4c_se_reduce_layer_call_and_return_conditional_losses_424859) with ops with custom gradients. Will likely fail if a gradient is requested.\n"
          ],
          "name": "stdout"
        },
        {
          "output_type": "stream",
          "text": [
            "WARNING:tensorflow:Importing a function (__inference_block4c_se_reduce_layer_call_and_return_conditional_losses_424859) with ops with custom gradients. Will likely fail if a gradient is requested.\n"
          ],
          "name": "stderr"
        },
        {
          "output_type": "stream",
          "text": [
            "WARNING:tensorflow:Importing a function (__inference_functional_1_layer_call_and_return_conditional_losses_468726) with ops with custom gradients. Will likely fail if a gradient is requested.\n"
          ],
          "name": "stdout"
        },
        {
          "output_type": "stream",
          "text": [
            "WARNING:tensorflow:Importing a function (__inference_functional_1_layer_call_and_return_conditional_losses_468726) with ops with custom gradients. Will likely fail if a gradient is requested.\n"
          ],
          "name": "stderr"
        },
        {
          "output_type": "stream",
          "text": [
            "WARNING:tensorflow:Importing a function (__inference_functional_1_layer_call_and_return_conditional_losses_468726) with ops with custom gradients. Will likely fail if a gradient is requested.\n"
          ],
          "name": "stdout"
        },
        {
          "output_type": "stream",
          "text": [
            "WARNING:tensorflow:Importing a function (__inference_functional_1_layer_call_and_return_conditional_losses_468726) with ops with custom gradients. Will likely fail if a gradient is requested.\n"
          ],
          "name": "stderr"
        },
        {
          "output_type": "stream",
          "text": [
            "WARNING:tensorflow:Importing a function (__inference_functional_1_layer_call_and_return_conditional_losses_468726) with ops with custom gradients. Will likely fail if a gradient is requested.\n"
          ],
          "name": "stdout"
        },
        {
          "output_type": "stream",
          "text": [
            "WARNING:tensorflow:Importing a function (__inference_functional_1_layer_call_and_return_conditional_losses_468726) with ops with custom gradients. Will likely fail if a gradient is requested.\n"
          ],
          "name": "stderr"
        },
        {
          "output_type": "stream",
          "text": [
            "WARNING:tensorflow:Importing a function (__inference_functional_1_layer_call_and_return_conditional_losses_468726) with ops with custom gradients. Will likely fail if a gradient is requested.\n"
          ],
          "name": "stdout"
        },
        {
          "output_type": "stream",
          "text": [
            "WARNING:tensorflow:Importing a function (__inference_functional_1_layer_call_and_return_conditional_losses_468726) with ops with custom gradients. Will likely fail if a gradient is requested.\n"
          ],
          "name": "stderr"
        },
        {
          "output_type": "stream",
          "text": [
            "WARNING:tensorflow:Importing a function (__inference_functional_1_layer_call_and_return_conditional_losses_468726) with ops with custom gradients. Will likely fail if a gradient is requested.\n"
          ],
          "name": "stdout"
        },
        {
          "output_type": "stream",
          "text": [
            "WARNING:tensorflow:Importing a function (__inference_functional_1_layer_call_and_return_conditional_losses_468726) with ops with custom gradients. Will likely fail if a gradient is requested.\n"
          ],
          "name": "stderr"
        },
        {
          "output_type": "stream",
          "text": [
            "WARNING:tensorflow:Importing a function (__inference_functional_1_layer_call_and_return_conditional_losses_468726) with ops with custom gradients. Will likely fail if a gradient is requested.\n"
          ],
          "name": "stdout"
        },
        {
          "output_type": "stream",
          "text": [
            "WARNING:tensorflow:Importing a function (__inference_functional_1_layer_call_and_return_conditional_losses_468726) with ops with custom gradients. Will likely fail if a gradient is requested.\n"
          ],
          "name": "stderr"
        },
        {
          "output_type": "stream",
          "text": [
            "WARNING:tensorflow:Importing a function (__inference_functional_1_layer_call_and_return_conditional_losses_468726) with ops with custom gradients. Will likely fail if a gradient is requested.\n"
          ],
          "name": "stdout"
        },
        {
          "output_type": "stream",
          "text": [
            "WARNING:tensorflow:Importing a function (__inference_functional_1_layer_call_and_return_conditional_losses_468726) with ops with custom gradients. Will likely fail if a gradient is requested.\n"
          ],
          "name": "stderr"
        },
        {
          "output_type": "stream",
          "text": [
            "WARNING:tensorflow:Importing a function (__inference_functional_1_layer_call_and_return_conditional_losses_468726) with ops with custom gradients. Will likely fail if a gradient is requested.\n"
          ],
          "name": "stdout"
        },
        {
          "output_type": "stream",
          "text": [
            "WARNING:tensorflow:Importing a function (__inference_functional_1_layer_call_and_return_conditional_losses_468726) with ops with custom gradients. Will likely fail if a gradient is requested.\n"
          ],
          "name": "stderr"
        },
        {
          "output_type": "stream",
          "text": [
            "WARNING:tensorflow:Importing a function (__inference_functional_1_layer_call_and_return_conditional_losses_468726) with ops with custom gradients. Will likely fail if a gradient is requested.\n"
          ],
          "name": "stdout"
        },
        {
          "output_type": "stream",
          "text": [
            "WARNING:tensorflow:Importing a function (__inference_functional_1_layer_call_and_return_conditional_losses_468726) with ops with custom gradients. Will likely fail if a gradient is requested.\n"
          ],
          "name": "stderr"
        },
        {
          "output_type": "stream",
          "text": [
            "WARNING:tensorflow:Importing a function (__inference_functional_1_layer_call_and_return_conditional_losses_468726) with ops with custom gradients. Will likely fail if a gradient is requested.\n"
          ],
          "name": "stdout"
        },
        {
          "output_type": "stream",
          "text": [
            "WARNING:tensorflow:Importing a function (__inference_functional_1_layer_call_and_return_conditional_losses_468726) with ops with custom gradients. Will likely fail if a gradient is requested.\n"
          ],
          "name": "stderr"
        },
        {
          "output_type": "stream",
          "text": [
            "WARNING:tensorflow:Importing a function (__inference_functional_1_layer_call_and_return_conditional_losses_468726) with ops with custom gradients. Will likely fail if a gradient is requested.\n"
          ],
          "name": "stdout"
        },
        {
          "output_type": "stream",
          "text": [
            "WARNING:tensorflow:Importing a function (__inference_functional_1_layer_call_and_return_conditional_losses_468726) with ops with custom gradients. Will likely fail if a gradient is requested.\n"
          ],
          "name": "stderr"
        },
        {
          "output_type": "stream",
          "text": [
            "WARNING:tensorflow:Importing a function (__inference_functional_1_layer_call_and_return_conditional_losses_468726) with ops with custom gradients. Will likely fail if a gradient is requested.\n"
          ],
          "name": "stdout"
        },
        {
          "output_type": "stream",
          "text": [
            "WARNING:tensorflow:Importing a function (__inference_functional_1_layer_call_and_return_conditional_losses_468726) with ops with custom gradients. Will likely fail if a gradient is requested.\n"
          ],
          "name": "stderr"
        },
        {
          "output_type": "stream",
          "text": [
            "WARNING:tensorflow:Importing a function (__inference_functional_1_layer_call_and_return_conditional_losses_468726) with ops with custom gradients. Will likely fail if a gradient is requested.\n"
          ],
          "name": "stdout"
        },
        {
          "output_type": "stream",
          "text": [
            "WARNING:tensorflow:Importing a function (__inference_functional_1_layer_call_and_return_conditional_losses_468726) with ops with custom gradients. Will likely fail if a gradient is requested.\n"
          ],
          "name": "stderr"
        },
        {
          "output_type": "stream",
          "text": [
            "WARNING:tensorflow:Importing a function (__inference_functional_1_layer_call_and_return_conditional_losses_468726) with ops with custom gradients. Will likely fail if a gradient is requested.\n"
          ],
          "name": "stdout"
        },
        {
          "output_type": "stream",
          "text": [
            "WARNING:tensorflow:Importing a function (__inference_functional_1_layer_call_and_return_conditional_losses_468726) with ops with custom gradients. Will likely fail if a gradient is requested.\n"
          ],
          "name": "stderr"
        },
        {
          "output_type": "stream",
          "text": [
            "WARNING:tensorflow:Importing a function (__inference_functional_1_layer_call_and_return_conditional_losses_468726) with ops with custom gradients. Will likely fail if a gradient is requested.\n"
          ],
          "name": "stdout"
        },
        {
          "output_type": "stream",
          "text": [
            "WARNING:tensorflow:Importing a function (__inference_functional_1_layer_call_and_return_conditional_losses_468726) with ops with custom gradients. Will likely fail if a gradient is requested.\n"
          ],
          "name": "stderr"
        },
        {
          "output_type": "stream",
          "text": [
            "WARNING:tensorflow:Importing a function (__inference_functional_1_layer_call_and_return_conditional_losses_468726) with ops with custom gradients. Will likely fail if a gradient is requested.\n"
          ],
          "name": "stdout"
        },
        {
          "output_type": "stream",
          "text": [
            "WARNING:tensorflow:Importing a function (__inference_functional_1_layer_call_and_return_conditional_losses_468726) with ops with custom gradients. Will likely fail if a gradient is requested.\n"
          ],
          "name": "stderr"
        },
        {
          "output_type": "stream",
          "text": [
            "WARNING:tensorflow:Importing a function (__inference_functional_1_layer_call_and_return_conditional_losses_468726) with ops with custom gradients. Will likely fail if a gradient is requested.\n"
          ],
          "name": "stdout"
        },
        {
          "output_type": "stream",
          "text": [
            "WARNING:tensorflow:Importing a function (__inference_functional_1_layer_call_and_return_conditional_losses_468726) with ops with custom gradients. Will likely fail if a gradient is requested.\n"
          ],
          "name": "stderr"
        },
        {
          "output_type": "stream",
          "text": [
            "WARNING:tensorflow:Importing a function (__inference_functional_1_layer_call_and_return_conditional_losses_468726) with ops with custom gradients. Will likely fail if a gradient is requested.\n"
          ],
          "name": "stdout"
        },
        {
          "output_type": "stream",
          "text": [
            "WARNING:tensorflow:Importing a function (__inference_functional_1_layer_call_and_return_conditional_losses_468726) with ops with custom gradients. Will likely fail if a gradient is requested.\n"
          ],
          "name": "stderr"
        },
        {
          "output_type": "stream",
          "text": [
            "WARNING:tensorflow:Importing a function (__inference_functional_1_layer_call_and_return_conditional_losses_468726) with ops with custom gradients. Will likely fail if a gradient is requested.\n"
          ],
          "name": "stdout"
        },
        {
          "output_type": "stream",
          "text": [
            "WARNING:tensorflow:Importing a function (__inference_functional_1_layer_call_and_return_conditional_losses_468726) with ops with custom gradients. Will likely fail if a gradient is requested.\n"
          ],
          "name": "stderr"
        },
        {
          "output_type": "stream",
          "text": [
            "WARNING:tensorflow:Importing a function (__inference_functional_1_layer_call_and_return_conditional_losses_468726) with ops with custom gradients. Will likely fail if a gradient is requested.\n"
          ],
          "name": "stdout"
        },
        {
          "output_type": "stream",
          "text": [
            "WARNING:tensorflow:Importing a function (__inference_functional_1_layer_call_and_return_conditional_losses_468726) with ops with custom gradients. Will likely fail if a gradient is requested.\n"
          ],
          "name": "stderr"
        },
        {
          "output_type": "stream",
          "text": [
            "WARNING:tensorflow:Importing a function (__inference_functional_1_layer_call_and_return_conditional_losses_468726) with ops with custom gradients. Will likely fail if a gradient is requested.\n"
          ],
          "name": "stdout"
        },
        {
          "output_type": "stream",
          "text": [
            "WARNING:tensorflow:Importing a function (__inference_functional_1_layer_call_and_return_conditional_losses_468726) with ops with custom gradients. Will likely fail if a gradient is requested.\n"
          ],
          "name": "stderr"
        },
        {
          "output_type": "stream",
          "text": [
            "WARNING:tensorflow:Importing a function (__inference_functional_1_layer_call_and_return_conditional_losses_468726) with ops with custom gradients. Will likely fail if a gradient is requested.\n"
          ],
          "name": "stdout"
        },
        {
          "output_type": "stream",
          "text": [
            "WARNING:tensorflow:Importing a function (__inference_functional_1_layer_call_and_return_conditional_losses_468726) with ops with custom gradients. Will likely fail if a gradient is requested.\n"
          ],
          "name": "stderr"
        },
        {
          "output_type": "stream",
          "text": [
            "WARNING:tensorflow:Importing a function (__inference_functional_1_layer_call_and_return_conditional_losses_468726) with ops with custom gradients. Will likely fail if a gradient is requested.\n"
          ],
          "name": "stdout"
        },
        {
          "output_type": "stream",
          "text": [
            "WARNING:tensorflow:Importing a function (__inference_functional_1_layer_call_and_return_conditional_losses_468726) with ops with custom gradients. Will likely fail if a gradient is requested.\n"
          ],
          "name": "stderr"
        },
        {
          "output_type": "stream",
          "text": [
            "WARNING:tensorflow:Importing a function (__inference_functional_1_layer_call_and_return_conditional_losses_468726) with ops with custom gradients. Will likely fail if a gradient is requested.\n"
          ],
          "name": "stdout"
        },
        {
          "output_type": "stream",
          "text": [
            "WARNING:tensorflow:Importing a function (__inference_functional_1_layer_call_and_return_conditional_losses_468726) with ops with custom gradients. Will likely fail if a gradient is requested.\n"
          ],
          "name": "stderr"
        },
        {
          "output_type": "stream",
          "text": [
            "WARNING:tensorflow:Importing a function (__inference_functional_1_layer_call_and_return_conditional_losses_468726) with ops with custom gradients. Will likely fail if a gradient is requested.\n"
          ],
          "name": "stdout"
        },
        {
          "output_type": "stream",
          "text": [
            "WARNING:tensorflow:Importing a function (__inference_functional_1_layer_call_and_return_conditional_losses_468726) with ops with custom gradients. Will likely fail if a gradient is requested.\n"
          ],
          "name": "stderr"
        },
        {
          "output_type": "stream",
          "text": [
            "WARNING:tensorflow:Importing a function (__inference_functional_1_layer_call_and_return_conditional_losses_468726) with ops with custom gradients. Will likely fail if a gradient is requested.\n"
          ],
          "name": "stdout"
        },
        {
          "output_type": "stream",
          "text": [
            "WARNING:tensorflow:Importing a function (__inference_functional_1_layer_call_and_return_conditional_losses_468726) with ops with custom gradients. Will likely fail if a gradient is requested.\n"
          ],
          "name": "stderr"
        },
        {
          "output_type": "stream",
          "text": [
            "WARNING:tensorflow:Importing a function (__inference_functional_1_layer_call_and_return_conditional_losses_468726) with ops with custom gradients. Will likely fail if a gradient is requested.\n"
          ],
          "name": "stdout"
        },
        {
          "output_type": "stream",
          "text": [
            "WARNING:tensorflow:Importing a function (__inference_functional_1_layer_call_and_return_conditional_losses_468726) with ops with custom gradients. Will likely fail if a gradient is requested.\n"
          ],
          "name": "stderr"
        },
        {
          "output_type": "stream",
          "text": [
            "WARNING:tensorflow:Importing a function (__inference_functional_1_layer_call_and_return_conditional_losses_468726) with ops with custom gradients. Will likely fail if a gradient is requested.\n"
          ],
          "name": "stdout"
        },
        {
          "output_type": "stream",
          "text": [
            "WARNING:tensorflow:Importing a function (__inference_functional_1_layer_call_and_return_conditional_losses_468726) with ops with custom gradients. Will likely fail if a gradient is requested.\n"
          ],
          "name": "stderr"
        },
        {
          "output_type": "stream",
          "text": [
            "WARNING:tensorflow:Importing a function (__inference_functional_1_layer_call_and_return_conditional_losses_468726) with ops with custom gradients. Will likely fail if a gradient is requested.\n"
          ],
          "name": "stdout"
        },
        {
          "output_type": "stream",
          "text": [
            "WARNING:tensorflow:Importing a function (__inference_functional_1_layer_call_and_return_conditional_losses_468726) with ops with custom gradients. Will likely fail if a gradient is requested.\n"
          ],
          "name": "stderr"
        },
        {
          "output_type": "stream",
          "text": [
            "WARNING:tensorflow:Importing a function (__inference_functional_1_layer_call_and_return_conditional_losses_468726) with ops with custom gradients. Will likely fail if a gradient is requested.\n"
          ],
          "name": "stdout"
        },
        {
          "output_type": "stream",
          "text": [
            "WARNING:tensorflow:Importing a function (__inference_functional_1_layer_call_and_return_conditional_losses_468726) with ops with custom gradients. Will likely fail if a gradient is requested.\n"
          ],
          "name": "stderr"
        },
        {
          "output_type": "stream",
          "text": [
            "WARNING:tensorflow:Importing a function (__inference_functional_1_layer_call_and_return_conditional_losses_468726) with ops with custom gradients. Will likely fail if a gradient is requested.\n"
          ],
          "name": "stdout"
        },
        {
          "output_type": "stream",
          "text": [
            "WARNING:tensorflow:Importing a function (__inference_functional_1_layer_call_and_return_conditional_losses_468726) with ops with custom gradients. Will likely fail if a gradient is requested.\n"
          ],
          "name": "stderr"
        },
        {
          "output_type": "stream",
          "text": [
            "WARNING:tensorflow:Importing a function (__inference_functional_1_layer_call_and_return_conditional_losses_468726) with ops with custom gradients. Will likely fail if a gradient is requested.\n"
          ],
          "name": "stdout"
        },
        {
          "output_type": "stream",
          "text": [
            "WARNING:tensorflow:Importing a function (__inference_functional_1_layer_call_and_return_conditional_losses_468726) with ops with custom gradients. Will likely fail if a gradient is requested.\n"
          ],
          "name": "stderr"
        },
        {
          "output_type": "stream",
          "text": [
            "WARNING:tensorflow:Importing a function (__inference_functional_1_layer_call_and_return_conditional_losses_468726) with ops with custom gradients. Will likely fail if a gradient is requested.\n"
          ],
          "name": "stdout"
        },
        {
          "output_type": "stream",
          "text": [
            "WARNING:tensorflow:Importing a function (__inference_functional_1_layer_call_and_return_conditional_losses_468726) with ops with custom gradients. Will likely fail if a gradient is requested.\n"
          ],
          "name": "stderr"
        },
        {
          "output_type": "stream",
          "text": [
            "WARNING:tensorflow:Importing a function (__inference_functional_1_layer_call_and_return_conditional_losses_468726) with ops with custom gradients. Will likely fail if a gradient is requested.\n"
          ],
          "name": "stdout"
        },
        {
          "output_type": "stream",
          "text": [
            "WARNING:tensorflow:Importing a function (__inference_functional_1_layer_call_and_return_conditional_losses_468726) with ops with custom gradients. Will likely fail if a gradient is requested.\n"
          ],
          "name": "stderr"
        },
        {
          "output_type": "stream",
          "text": [
            "WARNING:tensorflow:Importing a function (__inference_functional_1_layer_call_and_return_conditional_losses_468726) with ops with custom gradients. Will likely fail if a gradient is requested.\n"
          ],
          "name": "stdout"
        },
        {
          "output_type": "stream",
          "text": [
            "WARNING:tensorflow:Importing a function (__inference_functional_1_layer_call_and_return_conditional_losses_468726) with ops with custom gradients. Will likely fail if a gradient is requested.\n"
          ],
          "name": "stderr"
        },
        {
          "output_type": "stream",
          "text": [
            "WARNING:tensorflow:Importing a function (__inference_functional_1_layer_call_and_return_conditional_losses_468726) with ops with custom gradients. Will likely fail if a gradient is requested.\n"
          ],
          "name": "stdout"
        },
        {
          "output_type": "stream",
          "text": [
            "WARNING:tensorflow:Importing a function (__inference_functional_1_layer_call_and_return_conditional_losses_468726) with ops with custom gradients. Will likely fail if a gradient is requested.\n"
          ],
          "name": "stderr"
        },
        {
          "output_type": "stream",
          "text": [
            "WARNING:tensorflow:Importing a function (__inference_functional_1_layer_call_and_return_conditional_losses_468726) with ops with custom gradients. Will likely fail if a gradient is requested.\n"
          ],
          "name": "stdout"
        },
        {
          "output_type": "stream",
          "text": [
            "WARNING:tensorflow:Importing a function (__inference_functional_1_layer_call_and_return_conditional_losses_468726) with ops with custom gradients. Will likely fail if a gradient is requested.\n"
          ],
          "name": "stderr"
        },
        {
          "output_type": "stream",
          "text": [
            "WARNING:tensorflow:Importing a function (__inference_functional_1_layer_call_and_return_conditional_losses_468726) with ops with custom gradients. Will likely fail if a gradient is requested.\n"
          ],
          "name": "stdout"
        },
        {
          "output_type": "stream",
          "text": [
            "WARNING:tensorflow:Importing a function (__inference_functional_1_layer_call_and_return_conditional_losses_468726) with ops with custom gradients. Will likely fail if a gradient is requested.\n"
          ],
          "name": "stderr"
        },
        {
          "output_type": "stream",
          "text": [
            "WARNING:tensorflow:Importing a function (__inference_functional_1_layer_call_and_return_conditional_losses_468726) with ops with custom gradients. Will likely fail if a gradient is requested.\n"
          ],
          "name": "stdout"
        },
        {
          "output_type": "stream",
          "text": [
            "WARNING:tensorflow:Importing a function (__inference_functional_1_layer_call_and_return_conditional_losses_468726) with ops with custom gradients. Will likely fail if a gradient is requested.\n"
          ],
          "name": "stderr"
        },
        {
          "output_type": "stream",
          "text": [
            "WARNING:tensorflow:Importing a function (__inference_functional_1_layer_call_and_return_conditional_losses_468726) with ops with custom gradients. Will likely fail if a gradient is requested.\n"
          ],
          "name": "stdout"
        },
        {
          "output_type": "stream",
          "text": [
            "WARNING:tensorflow:Importing a function (__inference_functional_1_layer_call_and_return_conditional_losses_468726) with ops with custom gradients. Will likely fail if a gradient is requested.\n"
          ],
          "name": "stderr"
        },
        {
          "output_type": "stream",
          "text": [
            "WARNING:tensorflow:Importing a function (__inference_functional_1_layer_call_and_return_conditional_losses_468726) with ops with custom gradients. Will likely fail if a gradient is requested.\n"
          ],
          "name": "stdout"
        },
        {
          "output_type": "stream",
          "text": [
            "WARNING:tensorflow:Importing a function (__inference_functional_1_layer_call_and_return_conditional_losses_468726) with ops with custom gradients. Will likely fail if a gradient is requested.\n"
          ],
          "name": "stderr"
        },
        {
          "output_type": "stream",
          "text": [
            "WARNING:tensorflow:Importing a function (__inference_functional_1_layer_call_and_return_conditional_losses_468726) with ops with custom gradients. Will likely fail if a gradient is requested.\n"
          ],
          "name": "stdout"
        },
        {
          "output_type": "stream",
          "text": [
            "WARNING:tensorflow:Importing a function (__inference_functional_1_layer_call_and_return_conditional_losses_468726) with ops with custom gradients. Will likely fail if a gradient is requested.\n"
          ],
          "name": "stderr"
        },
        {
          "output_type": "stream",
          "text": [
            "WARNING:tensorflow:Importing a function (__inference_functional_1_layer_call_and_return_conditional_losses_468726) with ops with custom gradients. Will likely fail if a gradient is requested.\n"
          ],
          "name": "stdout"
        },
        {
          "output_type": "stream",
          "text": [
            "WARNING:tensorflow:Importing a function (__inference_functional_1_layer_call_and_return_conditional_losses_468726) with ops with custom gradients. Will likely fail if a gradient is requested.\n"
          ],
          "name": "stderr"
        },
        {
          "output_type": "stream",
          "text": [
            "WARNING:tensorflow:Importing a function (__inference_functional_1_layer_call_and_return_conditional_losses_468726) with ops with custom gradients. Will likely fail if a gradient is requested.\n"
          ],
          "name": "stdout"
        },
        {
          "output_type": "stream",
          "text": [
            "WARNING:tensorflow:Importing a function (__inference_functional_1_layer_call_and_return_conditional_losses_468726) with ops with custom gradients. Will likely fail if a gradient is requested.\n"
          ],
          "name": "stderr"
        },
        {
          "output_type": "stream",
          "text": [
            "WARNING:tensorflow:Importing a function (__inference_functional_1_layer_call_and_return_conditional_losses_468726) with ops with custom gradients. Will likely fail if a gradient is requested.\n"
          ],
          "name": "stdout"
        },
        {
          "output_type": "stream",
          "text": [
            "WARNING:tensorflow:Importing a function (__inference_functional_1_layer_call_and_return_conditional_losses_468726) with ops with custom gradients. Will likely fail if a gradient is requested.\n"
          ],
          "name": "stderr"
        },
        {
          "output_type": "stream",
          "text": [
            "WARNING:tensorflow:Importing a function (__inference_functional_1_layer_call_and_return_conditional_losses_468726) with ops with custom gradients. Will likely fail if a gradient is requested.\n"
          ],
          "name": "stdout"
        },
        {
          "output_type": "stream",
          "text": [
            "WARNING:tensorflow:Importing a function (__inference_functional_1_layer_call_and_return_conditional_losses_468726) with ops with custom gradients. Will likely fail if a gradient is requested.\n"
          ],
          "name": "stderr"
        },
        {
          "output_type": "stream",
          "text": [
            "WARNING:tensorflow:Importing a function (__inference_functional_1_layer_call_and_return_conditional_losses_468726) with ops with custom gradients. Will likely fail if a gradient is requested.\n"
          ],
          "name": "stdout"
        },
        {
          "output_type": "stream",
          "text": [
            "WARNING:tensorflow:Importing a function (__inference_functional_1_layer_call_and_return_conditional_losses_468726) with ops with custom gradients. Will likely fail if a gradient is requested.\n"
          ],
          "name": "stderr"
        },
        {
          "output_type": "stream",
          "text": [
            "WARNING:tensorflow:Importing a function (__inference_functional_1_layer_call_and_return_conditional_losses_468726) with ops with custom gradients. Will likely fail if a gradient is requested.\n"
          ],
          "name": "stdout"
        },
        {
          "output_type": "stream",
          "text": [
            "WARNING:tensorflow:Importing a function (__inference_functional_1_layer_call_and_return_conditional_losses_468726) with ops with custom gradients. Will likely fail if a gradient is requested.\n"
          ],
          "name": "stderr"
        },
        {
          "output_type": "stream",
          "text": [
            "WARNING:tensorflow:Importing a function (__inference_functional_1_layer_call_and_return_conditional_losses_468726) with ops with custom gradients. Will likely fail if a gradient is requested.\n"
          ],
          "name": "stdout"
        },
        {
          "output_type": "stream",
          "text": [
            "WARNING:tensorflow:Importing a function (__inference_functional_1_layer_call_and_return_conditional_losses_468726) with ops with custom gradients. Will likely fail if a gradient is requested.\n"
          ],
          "name": "stderr"
        },
        {
          "output_type": "stream",
          "text": [
            "WARNING:tensorflow:Importing a function (__inference_functional_1_layer_call_and_return_conditional_losses_468726) with ops with custom gradients. Will likely fail if a gradient is requested.\n"
          ],
          "name": "stdout"
        },
        {
          "output_type": "stream",
          "text": [
            "WARNING:tensorflow:Importing a function (__inference_functional_1_layer_call_and_return_conditional_losses_468726) with ops with custom gradients. Will likely fail if a gradient is requested.\n"
          ],
          "name": "stderr"
        },
        {
          "output_type": "stream",
          "text": [
            "WARNING:tensorflow:Importing a function (__inference_block3b_activation_layer_call_and_return_conditional_losses_495909) with ops with custom gradients. Will likely fail if a gradient is requested.\n"
          ],
          "name": "stdout"
        },
        {
          "output_type": "stream",
          "text": [
            "WARNING:tensorflow:Importing a function (__inference_block3b_activation_layer_call_and_return_conditional_losses_495909) with ops with custom gradients. Will likely fail if a gradient is requested.\n"
          ],
          "name": "stderr"
        },
        {
          "output_type": "stream",
          "text": [
            "WARNING:tensorflow:Importing a function (__inference_block5c_se_reduce_layer_call_and_return_conditional_losses_504573) with ops with custom gradients. Will likely fail if a gradient is requested.\n"
          ],
          "name": "stdout"
        },
        {
          "output_type": "stream",
          "text": [
            "WARNING:tensorflow:Importing a function (__inference_block5c_se_reduce_layer_call_and_return_conditional_losses_504573) with ops with custom gradients. Will likely fail if a gradient is requested.\n"
          ],
          "name": "stderr"
        },
        {
          "output_type": "stream",
          "text": [
            "WARNING:tensorflow:Importing a function (__inference_block4b_activation_layer_call_and_return_conditional_losses_423838) with ops with custom gradients. Will likely fail if a gradient is requested.\n"
          ],
          "name": "stdout"
        },
        {
          "output_type": "stream",
          "text": [
            "WARNING:tensorflow:Importing a function (__inference_block4b_activation_layer_call_and_return_conditional_losses_423838) with ops with custom gradients. Will likely fail if a gradient is requested.\n"
          ],
          "name": "stderr"
        },
        {
          "output_type": "stream",
          "text": [
            "WARNING:tensorflow:Importing a function (__inference_activation_2_layer_call_and_return_conditional_losses_489286) with ops with custom gradients. Will likely fail if a gradient is requested.\n"
          ],
          "name": "stdout"
        },
        {
          "output_type": "stream",
          "text": [
            "WARNING:tensorflow:Importing a function (__inference_activation_2_layer_call_and_return_conditional_losses_489286) with ops with custom gradients. Will likely fail if a gradient is requested.\n"
          ],
          "name": "stderr"
        },
        {
          "output_type": "stream",
          "text": [
            "WARNING:tensorflow:Importing a function (__inference_block4c_activation_layer_call_and_return_conditional_losses_500221) with ops with custom gradients. Will likely fail if a gradient is requested.\n"
          ],
          "name": "stdout"
        },
        {
          "output_type": "stream",
          "text": [
            "WARNING:tensorflow:Importing a function (__inference_block4c_activation_layer_call_and_return_conditional_losses_500221) with ops with custom gradients. Will likely fail if a gradient is requested.\n"
          ],
          "name": "stderr"
        },
        {
          "output_type": "stream",
          "text": [
            "WARNING:tensorflow:Importing a function (__inference_block5c_expand_activation_layer_call_and_return_conditional_losses_504094) with ops with custom gradients. Will likely fail if a gradient is requested.\n"
          ],
          "name": "stdout"
        },
        {
          "output_type": "stream",
          "text": [
            "WARNING:tensorflow:Importing a function (__inference_block5c_expand_activation_layer_call_and_return_conditional_losses_504094) with ops with custom gradients. Will likely fail if a gradient is requested.\n"
          ],
          "name": "stderr"
        },
        {
          "output_type": "stream",
          "text": [
            "WARNING:tensorflow:Importing a function (__inference_block5b_activation_layer_call_and_return_conditional_losses_503080) with ops with custom gradients. Will likely fail if a gradient is requested.\n"
          ],
          "name": "stdout"
        },
        {
          "output_type": "stream",
          "text": [
            "WARNING:tensorflow:Importing a function (__inference_block5b_activation_layer_call_and_return_conditional_losses_503080) with ops with custom gradients. Will likely fail if a gradient is requested.\n"
          ],
          "name": "stderr"
        },
        {
          "output_type": "stream",
          "text": [
            "WARNING:tensorflow:Importing a function (__inference_block4b_se_reduce_layer_call_and_return_conditional_losses_423885) with ops with custom gradients. Will likely fail if a gradient is requested.\n"
          ],
          "name": "stdout"
        },
        {
          "output_type": "stream",
          "text": [
            "WARNING:tensorflow:Importing a function (__inference_block4b_se_reduce_layer_call_and_return_conditional_losses_423885) with ops with custom gradients. Will likely fail if a gradient is requested.\n"
          ],
          "name": "stderr"
        },
        {
          "output_type": "stream",
          "text": [
            "WARNING:tensorflow:Importing a function (__inference_block6c_activation_layer_call_and_return_conditional_losses_430551) with ops with custom gradients. Will likely fail if a gradient is requested.\n"
          ],
          "name": "stdout"
        },
        {
          "output_type": "stream",
          "text": [
            "WARNING:tensorflow:Importing a function (__inference_block6c_activation_layer_call_and_return_conditional_losses_430551) with ops with custom gradients. Will likely fail if a gradient is requested.\n"
          ],
          "name": "stderr"
        },
        {
          "output_type": "stream",
          "text": [
            "WARNING:tensorflow:Importing a function (__inference_block6c_se_reduce_layer_call_and_return_conditional_losses_508885) with ops with custom gradients. Will likely fail if a gradient is requested.\n"
          ],
          "name": "stdout"
        },
        {
          "output_type": "stream",
          "text": [
            "WARNING:tensorflow:Importing a function (__inference_block6c_se_reduce_layer_call_and_return_conditional_losses_508885) with ops with custom gradients. Will likely fail if a gradient is requested.\n"
          ],
          "name": "stderr"
        },
        {
          "output_type": "stream",
          "text": [
            "WARNING:tensorflow:Importing a function (__inference_block5c_expand_activation_layer_call_and_return_conditional_losses_427411) with ops with custom gradients. Will likely fail if a gradient is requested.\n"
          ],
          "name": "stdout"
        },
        {
          "output_type": "stream",
          "text": [
            "WARNING:tensorflow:Importing a function (__inference_block5c_expand_activation_layer_call_and_return_conditional_losses_427411) with ops with custom gradients. Will likely fail if a gradient is requested.\n"
          ],
          "name": "stderr"
        },
        {
          "output_type": "stream",
          "text": [
            "WARNING:tensorflow:Importing a function (__inference_block4a_expand_activation_layer_call_and_return_conditional_losses_496923) with ops with custom gradients. Will likely fail if a gradient is requested.\n"
          ],
          "name": "stdout"
        },
        {
          "output_type": "stream",
          "text": [
            "WARNING:tensorflow:Importing a function (__inference_block4a_expand_activation_layer_call_and_return_conditional_losses_496923) with ops with custom gradients. Will likely fail if a gradient is requested.\n"
          ],
          "name": "stderr"
        },
        {
          "output_type": "stream",
          "text": [
            "WARNING:tensorflow:Importing a function (__inference_block3b_activation_layer_call_and_return_conditional_losses_421942) with ops with custom gradients. Will likely fail if a gradient is requested.\n"
          ],
          "name": "stdout"
        },
        {
          "output_type": "stream",
          "text": [
            "WARNING:tensorflow:Importing a function (__inference_block3b_activation_layer_call_and_return_conditional_losses_421942) with ops with custom gradients. Will likely fail if a gradient is requested.\n"
          ],
          "name": "stderr"
        },
        {
          "output_type": "stream",
          "text": [
            "WARNING:tensorflow:Importing a function (__inference_block5c_activation_layer_call_and_return_conditional_losses_427681) with ops with custom gradients. Will likely fail if a gradient is requested.\n"
          ],
          "name": "stdout"
        },
        {
          "output_type": "stream",
          "text": [
            "WARNING:tensorflow:Importing a function (__inference_block5c_activation_layer_call_and_return_conditional_losses_427681) with ops with custom gradients. Will likely fail if a gradient is requested.\n"
          ],
          "name": "stderr"
        },
        {
          "output_type": "stream",
          "text": [
            "WARNING:tensorflow:Importing a function (__inference_functional_1_layer_call_and_return_conditional_losses_472205) with ops with custom gradients. Will likely fail if a gradient is requested.\n"
          ],
          "name": "stdout"
        },
        {
          "output_type": "stream",
          "text": [
            "WARNING:tensorflow:Importing a function (__inference_functional_1_layer_call_and_return_conditional_losses_472205) with ops with custom gradients. Will likely fail if a gradient is requested.\n"
          ],
          "name": "stderr"
        },
        {
          "output_type": "stream",
          "text": [
            "WARNING:tensorflow:Importing a function (__inference_functional_1_layer_call_and_return_conditional_losses_472205) with ops with custom gradients. Will likely fail if a gradient is requested.\n"
          ],
          "name": "stdout"
        },
        {
          "output_type": "stream",
          "text": [
            "WARNING:tensorflow:Importing a function (__inference_functional_1_layer_call_and_return_conditional_losses_472205) with ops with custom gradients. Will likely fail if a gradient is requested.\n"
          ],
          "name": "stderr"
        },
        {
          "output_type": "stream",
          "text": [
            "WARNING:tensorflow:Importing a function (__inference_functional_1_layer_call_and_return_conditional_losses_472205) with ops with custom gradients. Will likely fail if a gradient is requested.\n"
          ],
          "name": "stdout"
        },
        {
          "output_type": "stream",
          "text": [
            "WARNING:tensorflow:Importing a function (__inference_functional_1_layer_call_and_return_conditional_losses_472205) with ops with custom gradients. Will likely fail if a gradient is requested.\n"
          ],
          "name": "stderr"
        },
        {
          "output_type": "stream",
          "text": [
            "WARNING:tensorflow:Importing a function (__inference_functional_1_layer_call_and_return_conditional_losses_472205) with ops with custom gradients. Will likely fail if a gradient is requested.\n"
          ],
          "name": "stdout"
        },
        {
          "output_type": "stream",
          "text": [
            "WARNING:tensorflow:Importing a function (__inference_functional_1_layer_call_and_return_conditional_losses_472205) with ops with custom gradients. Will likely fail if a gradient is requested.\n"
          ],
          "name": "stderr"
        },
        {
          "output_type": "stream",
          "text": [
            "WARNING:tensorflow:Importing a function (__inference_functional_1_layer_call_and_return_conditional_losses_472205) with ops with custom gradients. Will likely fail if a gradient is requested.\n"
          ],
          "name": "stdout"
        },
        {
          "output_type": "stream",
          "text": [
            "WARNING:tensorflow:Importing a function (__inference_functional_1_layer_call_and_return_conditional_losses_472205) with ops with custom gradients. Will likely fail if a gradient is requested.\n"
          ],
          "name": "stderr"
        },
        {
          "output_type": "stream",
          "text": [
            "WARNING:tensorflow:Importing a function (__inference_functional_1_layer_call_and_return_conditional_losses_472205) with ops with custom gradients. Will likely fail if a gradient is requested.\n"
          ],
          "name": "stdout"
        },
        {
          "output_type": "stream",
          "text": [
            "WARNING:tensorflow:Importing a function (__inference_functional_1_layer_call_and_return_conditional_losses_472205) with ops with custom gradients. Will likely fail if a gradient is requested.\n"
          ],
          "name": "stderr"
        },
        {
          "output_type": "stream",
          "text": [
            "WARNING:tensorflow:Importing a function (__inference_functional_1_layer_call_and_return_conditional_losses_472205) with ops with custom gradients. Will likely fail if a gradient is requested.\n"
          ],
          "name": "stdout"
        },
        {
          "output_type": "stream",
          "text": [
            "WARNING:tensorflow:Importing a function (__inference_functional_1_layer_call_and_return_conditional_losses_472205) with ops with custom gradients. Will likely fail if a gradient is requested.\n"
          ],
          "name": "stderr"
        },
        {
          "output_type": "stream",
          "text": [
            "WARNING:tensorflow:Importing a function (__inference_functional_1_layer_call_and_return_conditional_losses_472205) with ops with custom gradients. Will likely fail if a gradient is requested.\n"
          ],
          "name": "stdout"
        },
        {
          "output_type": "stream",
          "text": [
            "WARNING:tensorflow:Importing a function (__inference_functional_1_layer_call_and_return_conditional_losses_472205) with ops with custom gradients. Will likely fail if a gradient is requested.\n"
          ],
          "name": "stderr"
        },
        {
          "output_type": "stream",
          "text": [
            "WARNING:tensorflow:Importing a function (__inference_functional_1_layer_call_and_return_conditional_losses_472205) with ops with custom gradients. Will likely fail if a gradient is requested.\n"
          ],
          "name": "stdout"
        },
        {
          "output_type": "stream",
          "text": [
            "WARNING:tensorflow:Importing a function (__inference_functional_1_layer_call_and_return_conditional_losses_472205) with ops with custom gradients. Will likely fail if a gradient is requested.\n"
          ],
          "name": "stderr"
        },
        {
          "output_type": "stream",
          "text": [
            "WARNING:tensorflow:Importing a function (__inference_functional_1_layer_call_and_return_conditional_losses_472205) with ops with custom gradients. Will likely fail if a gradient is requested.\n"
          ],
          "name": "stdout"
        },
        {
          "output_type": "stream",
          "text": [
            "WARNING:tensorflow:Importing a function (__inference_functional_1_layer_call_and_return_conditional_losses_472205) with ops with custom gradients. Will likely fail if a gradient is requested.\n"
          ],
          "name": "stderr"
        },
        {
          "output_type": "stream",
          "text": [
            "WARNING:tensorflow:Importing a function (__inference_functional_1_layer_call_and_return_conditional_losses_472205) with ops with custom gradients. Will likely fail if a gradient is requested.\n"
          ],
          "name": "stdout"
        },
        {
          "output_type": "stream",
          "text": [
            "WARNING:tensorflow:Importing a function (__inference_functional_1_layer_call_and_return_conditional_losses_472205) with ops with custom gradients. Will likely fail if a gradient is requested.\n"
          ],
          "name": "stderr"
        },
        {
          "output_type": "stream",
          "text": [
            "WARNING:tensorflow:Importing a function (__inference_functional_1_layer_call_and_return_conditional_losses_472205) with ops with custom gradients. Will likely fail if a gradient is requested.\n"
          ],
          "name": "stdout"
        },
        {
          "output_type": "stream",
          "text": [
            "WARNING:tensorflow:Importing a function (__inference_functional_1_layer_call_and_return_conditional_losses_472205) with ops with custom gradients. Will likely fail if a gradient is requested.\n"
          ],
          "name": "stderr"
        },
        {
          "output_type": "stream",
          "text": [
            "WARNING:tensorflow:Importing a function (__inference_functional_1_layer_call_and_return_conditional_losses_472205) with ops with custom gradients. Will likely fail if a gradient is requested.\n"
          ],
          "name": "stdout"
        },
        {
          "output_type": "stream",
          "text": [
            "WARNING:tensorflow:Importing a function (__inference_functional_1_layer_call_and_return_conditional_losses_472205) with ops with custom gradients. Will likely fail if a gradient is requested.\n"
          ],
          "name": "stderr"
        },
        {
          "output_type": "stream",
          "text": [
            "WARNING:tensorflow:Importing a function (__inference_functional_1_layer_call_and_return_conditional_losses_472205) with ops with custom gradients. Will likely fail if a gradient is requested.\n"
          ],
          "name": "stdout"
        },
        {
          "output_type": "stream",
          "text": [
            "WARNING:tensorflow:Importing a function (__inference_functional_1_layer_call_and_return_conditional_losses_472205) with ops with custom gradients. Will likely fail if a gradient is requested.\n"
          ],
          "name": "stderr"
        },
        {
          "output_type": "stream",
          "text": [
            "WARNING:tensorflow:Importing a function (__inference_functional_1_layer_call_and_return_conditional_losses_472205) with ops with custom gradients. Will likely fail if a gradient is requested.\n"
          ],
          "name": "stdout"
        },
        {
          "output_type": "stream",
          "text": [
            "WARNING:tensorflow:Importing a function (__inference_functional_1_layer_call_and_return_conditional_losses_472205) with ops with custom gradients. Will likely fail if a gradient is requested.\n"
          ],
          "name": "stderr"
        },
        {
          "output_type": "stream",
          "text": [
            "WARNING:tensorflow:Importing a function (__inference_functional_1_layer_call_and_return_conditional_losses_472205) with ops with custom gradients. Will likely fail if a gradient is requested.\n"
          ],
          "name": "stdout"
        },
        {
          "output_type": "stream",
          "text": [
            "WARNING:tensorflow:Importing a function (__inference_functional_1_layer_call_and_return_conditional_losses_472205) with ops with custom gradients. Will likely fail if a gradient is requested.\n"
          ],
          "name": "stderr"
        },
        {
          "output_type": "stream",
          "text": [
            "WARNING:tensorflow:Importing a function (__inference_functional_1_layer_call_and_return_conditional_losses_472205) with ops with custom gradients. Will likely fail if a gradient is requested.\n"
          ],
          "name": "stdout"
        },
        {
          "output_type": "stream",
          "text": [
            "WARNING:tensorflow:Importing a function (__inference_functional_1_layer_call_and_return_conditional_losses_472205) with ops with custom gradients. Will likely fail if a gradient is requested.\n"
          ],
          "name": "stderr"
        },
        {
          "output_type": "stream",
          "text": [
            "WARNING:tensorflow:Importing a function (__inference_functional_1_layer_call_and_return_conditional_losses_472205) with ops with custom gradients. Will likely fail if a gradient is requested.\n"
          ],
          "name": "stdout"
        },
        {
          "output_type": "stream",
          "text": [
            "WARNING:tensorflow:Importing a function (__inference_functional_1_layer_call_and_return_conditional_losses_472205) with ops with custom gradients. Will likely fail if a gradient is requested.\n"
          ],
          "name": "stderr"
        },
        {
          "output_type": "stream",
          "text": [
            "WARNING:tensorflow:Importing a function (__inference_functional_1_layer_call_and_return_conditional_losses_472205) with ops with custom gradients. Will likely fail if a gradient is requested.\n"
          ],
          "name": "stdout"
        },
        {
          "output_type": "stream",
          "text": [
            "WARNING:tensorflow:Importing a function (__inference_functional_1_layer_call_and_return_conditional_losses_472205) with ops with custom gradients. Will likely fail if a gradient is requested.\n"
          ],
          "name": "stderr"
        },
        {
          "output_type": "stream",
          "text": [
            "WARNING:tensorflow:Importing a function (__inference_functional_1_layer_call_and_return_conditional_losses_472205) with ops with custom gradients. Will likely fail if a gradient is requested.\n"
          ],
          "name": "stdout"
        },
        {
          "output_type": "stream",
          "text": [
            "WARNING:tensorflow:Importing a function (__inference_functional_1_layer_call_and_return_conditional_losses_472205) with ops with custom gradients. Will likely fail if a gradient is requested.\n"
          ],
          "name": "stderr"
        },
        {
          "output_type": "stream",
          "text": [
            "WARNING:tensorflow:Importing a function (__inference_functional_1_layer_call_and_return_conditional_losses_472205) with ops with custom gradients. Will likely fail if a gradient is requested.\n"
          ],
          "name": "stdout"
        },
        {
          "output_type": "stream",
          "text": [
            "WARNING:tensorflow:Importing a function (__inference_functional_1_layer_call_and_return_conditional_losses_472205) with ops with custom gradients. Will likely fail if a gradient is requested.\n"
          ],
          "name": "stderr"
        },
        {
          "output_type": "stream",
          "text": [
            "WARNING:tensorflow:Importing a function (__inference_functional_1_layer_call_and_return_conditional_losses_472205) with ops with custom gradients. Will likely fail if a gradient is requested.\n"
          ],
          "name": "stdout"
        },
        {
          "output_type": "stream",
          "text": [
            "WARNING:tensorflow:Importing a function (__inference_functional_1_layer_call_and_return_conditional_losses_472205) with ops with custom gradients. Will likely fail if a gradient is requested.\n"
          ],
          "name": "stderr"
        },
        {
          "output_type": "stream",
          "text": [
            "WARNING:tensorflow:Importing a function (__inference_functional_1_layer_call_and_return_conditional_losses_472205) with ops with custom gradients. Will likely fail if a gradient is requested.\n"
          ],
          "name": "stdout"
        },
        {
          "output_type": "stream",
          "text": [
            "WARNING:tensorflow:Importing a function (__inference_functional_1_layer_call_and_return_conditional_losses_472205) with ops with custom gradients. Will likely fail if a gradient is requested.\n"
          ],
          "name": "stderr"
        },
        {
          "output_type": "stream",
          "text": [
            "WARNING:tensorflow:Importing a function (__inference_functional_1_layer_call_and_return_conditional_losses_472205) with ops with custom gradients. Will likely fail if a gradient is requested.\n"
          ],
          "name": "stdout"
        },
        {
          "output_type": "stream",
          "text": [
            "WARNING:tensorflow:Importing a function (__inference_functional_1_layer_call_and_return_conditional_losses_472205) with ops with custom gradients. Will likely fail if a gradient is requested.\n"
          ],
          "name": "stderr"
        },
        {
          "output_type": "stream",
          "text": [
            "WARNING:tensorflow:Importing a function (__inference_functional_1_layer_call_and_return_conditional_losses_472205) with ops with custom gradients. Will likely fail if a gradient is requested.\n"
          ],
          "name": "stdout"
        },
        {
          "output_type": "stream",
          "text": [
            "WARNING:tensorflow:Importing a function (__inference_functional_1_layer_call_and_return_conditional_losses_472205) with ops with custom gradients. Will likely fail if a gradient is requested.\n"
          ],
          "name": "stderr"
        },
        {
          "output_type": "stream",
          "text": [
            "WARNING:tensorflow:Importing a function (__inference_functional_1_layer_call_and_return_conditional_losses_472205) with ops with custom gradients. Will likely fail if a gradient is requested.\n"
          ],
          "name": "stdout"
        },
        {
          "output_type": "stream",
          "text": [
            "WARNING:tensorflow:Importing a function (__inference_functional_1_layer_call_and_return_conditional_losses_472205) with ops with custom gradients. Will likely fail if a gradient is requested.\n"
          ],
          "name": "stderr"
        },
        {
          "output_type": "stream",
          "text": [
            "WARNING:tensorflow:Importing a function (__inference_functional_1_layer_call_and_return_conditional_losses_472205) with ops with custom gradients. Will likely fail if a gradient is requested.\n"
          ],
          "name": "stdout"
        },
        {
          "output_type": "stream",
          "text": [
            "WARNING:tensorflow:Importing a function (__inference_functional_1_layer_call_and_return_conditional_losses_472205) with ops with custom gradients. Will likely fail if a gradient is requested.\n"
          ],
          "name": "stderr"
        },
        {
          "output_type": "stream",
          "text": [
            "WARNING:tensorflow:Importing a function (__inference_functional_1_layer_call_and_return_conditional_losses_472205) with ops with custom gradients. Will likely fail if a gradient is requested.\n"
          ],
          "name": "stdout"
        },
        {
          "output_type": "stream",
          "text": [
            "WARNING:tensorflow:Importing a function (__inference_functional_1_layer_call_and_return_conditional_losses_472205) with ops with custom gradients. Will likely fail if a gradient is requested.\n"
          ],
          "name": "stderr"
        },
        {
          "output_type": "stream",
          "text": [
            "WARNING:tensorflow:Importing a function (__inference_functional_1_layer_call_and_return_conditional_losses_472205) with ops with custom gradients. Will likely fail if a gradient is requested.\n"
          ],
          "name": "stdout"
        },
        {
          "output_type": "stream",
          "text": [
            "WARNING:tensorflow:Importing a function (__inference_functional_1_layer_call_and_return_conditional_losses_472205) with ops with custom gradients. Will likely fail if a gradient is requested.\n"
          ],
          "name": "stderr"
        },
        {
          "output_type": "stream",
          "text": [
            "WARNING:tensorflow:Importing a function (__inference_functional_1_layer_call_and_return_conditional_losses_472205) with ops with custom gradients. Will likely fail if a gradient is requested.\n"
          ],
          "name": "stdout"
        },
        {
          "output_type": "stream",
          "text": [
            "WARNING:tensorflow:Importing a function (__inference_functional_1_layer_call_and_return_conditional_losses_472205) with ops with custom gradients. Will likely fail if a gradient is requested.\n"
          ],
          "name": "stderr"
        },
        {
          "output_type": "stream",
          "text": [
            "WARNING:tensorflow:Importing a function (__inference_functional_1_layer_call_and_return_conditional_losses_472205) with ops with custom gradients. Will likely fail if a gradient is requested.\n"
          ],
          "name": "stdout"
        },
        {
          "output_type": "stream",
          "text": [
            "WARNING:tensorflow:Importing a function (__inference_functional_1_layer_call_and_return_conditional_losses_472205) with ops with custom gradients. Will likely fail if a gradient is requested.\n"
          ],
          "name": "stderr"
        },
        {
          "output_type": "stream",
          "text": [
            "WARNING:tensorflow:Importing a function (__inference_functional_1_layer_call_and_return_conditional_losses_472205) with ops with custom gradients. Will likely fail if a gradient is requested.\n"
          ],
          "name": "stdout"
        },
        {
          "output_type": "stream",
          "text": [
            "WARNING:tensorflow:Importing a function (__inference_functional_1_layer_call_and_return_conditional_losses_472205) with ops with custom gradients. Will likely fail if a gradient is requested.\n"
          ],
          "name": "stderr"
        },
        {
          "output_type": "stream",
          "text": [
            "WARNING:tensorflow:Importing a function (__inference_functional_1_layer_call_and_return_conditional_losses_472205) with ops with custom gradients. Will likely fail if a gradient is requested.\n"
          ],
          "name": "stdout"
        },
        {
          "output_type": "stream",
          "text": [
            "WARNING:tensorflow:Importing a function (__inference_functional_1_layer_call_and_return_conditional_losses_472205) with ops with custom gradients. Will likely fail if a gradient is requested.\n"
          ],
          "name": "stderr"
        },
        {
          "output_type": "stream",
          "text": [
            "WARNING:tensorflow:Importing a function (__inference_functional_1_layer_call_and_return_conditional_losses_472205) with ops with custom gradients. Will likely fail if a gradient is requested.\n"
          ],
          "name": "stdout"
        },
        {
          "output_type": "stream",
          "text": [
            "WARNING:tensorflow:Importing a function (__inference_functional_1_layer_call_and_return_conditional_losses_472205) with ops with custom gradients. Will likely fail if a gradient is requested.\n"
          ],
          "name": "stderr"
        },
        {
          "output_type": "stream",
          "text": [
            "WARNING:tensorflow:Importing a function (__inference_functional_1_layer_call_and_return_conditional_losses_472205) with ops with custom gradients. Will likely fail if a gradient is requested.\n"
          ],
          "name": "stdout"
        },
        {
          "output_type": "stream",
          "text": [
            "WARNING:tensorflow:Importing a function (__inference_functional_1_layer_call_and_return_conditional_losses_472205) with ops with custom gradients. Will likely fail if a gradient is requested.\n"
          ],
          "name": "stderr"
        },
        {
          "output_type": "stream",
          "text": [
            "WARNING:tensorflow:Importing a function (__inference_functional_1_layer_call_and_return_conditional_losses_472205) with ops with custom gradients. Will likely fail if a gradient is requested.\n"
          ],
          "name": "stdout"
        },
        {
          "output_type": "stream",
          "text": [
            "WARNING:tensorflow:Importing a function (__inference_functional_1_layer_call_and_return_conditional_losses_472205) with ops with custom gradients. Will likely fail if a gradient is requested.\n"
          ],
          "name": "stderr"
        },
        {
          "output_type": "stream",
          "text": [
            "WARNING:tensorflow:Importing a function (__inference_functional_1_layer_call_and_return_conditional_losses_472205) with ops with custom gradients. Will likely fail if a gradient is requested.\n"
          ],
          "name": "stdout"
        },
        {
          "output_type": "stream",
          "text": [
            "WARNING:tensorflow:Importing a function (__inference_functional_1_layer_call_and_return_conditional_losses_472205) with ops with custom gradients. Will likely fail if a gradient is requested.\n"
          ],
          "name": "stderr"
        },
        {
          "output_type": "stream",
          "text": [
            "WARNING:tensorflow:Importing a function (__inference_functional_1_layer_call_and_return_conditional_losses_472205) with ops with custom gradients. Will likely fail if a gradient is requested.\n"
          ],
          "name": "stdout"
        },
        {
          "output_type": "stream",
          "text": [
            "WARNING:tensorflow:Importing a function (__inference_functional_1_layer_call_and_return_conditional_losses_472205) with ops with custom gradients. Will likely fail if a gradient is requested.\n"
          ],
          "name": "stderr"
        },
        {
          "output_type": "stream",
          "text": [
            "WARNING:tensorflow:Importing a function (__inference_functional_1_layer_call_and_return_conditional_losses_472205) with ops with custom gradients. Will likely fail if a gradient is requested.\n"
          ],
          "name": "stdout"
        },
        {
          "output_type": "stream",
          "text": [
            "WARNING:tensorflow:Importing a function (__inference_functional_1_layer_call_and_return_conditional_losses_472205) with ops with custom gradients. Will likely fail if a gradient is requested.\n"
          ],
          "name": "stderr"
        },
        {
          "output_type": "stream",
          "text": [
            "WARNING:tensorflow:Importing a function (__inference_functional_1_layer_call_and_return_conditional_losses_472205) with ops with custom gradients. Will likely fail if a gradient is requested.\n"
          ],
          "name": "stdout"
        },
        {
          "output_type": "stream",
          "text": [
            "WARNING:tensorflow:Importing a function (__inference_functional_1_layer_call_and_return_conditional_losses_472205) with ops with custom gradients. Will likely fail if a gradient is requested.\n"
          ],
          "name": "stderr"
        },
        {
          "output_type": "stream",
          "text": [
            "WARNING:tensorflow:Importing a function (__inference_functional_1_layer_call_and_return_conditional_losses_472205) with ops with custom gradients. Will likely fail if a gradient is requested.\n"
          ],
          "name": "stdout"
        },
        {
          "output_type": "stream",
          "text": [
            "WARNING:tensorflow:Importing a function (__inference_functional_1_layer_call_and_return_conditional_losses_472205) with ops with custom gradients. Will likely fail if a gradient is requested.\n"
          ],
          "name": "stderr"
        },
        {
          "output_type": "stream",
          "text": [
            "WARNING:tensorflow:Importing a function (__inference_functional_1_layer_call_and_return_conditional_losses_472205) with ops with custom gradients. Will likely fail if a gradient is requested.\n"
          ],
          "name": "stdout"
        },
        {
          "output_type": "stream",
          "text": [
            "WARNING:tensorflow:Importing a function (__inference_functional_1_layer_call_and_return_conditional_losses_472205) with ops with custom gradients. Will likely fail if a gradient is requested.\n"
          ],
          "name": "stderr"
        },
        {
          "output_type": "stream",
          "text": [
            "WARNING:tensorflow:Importing a function (__inference_functional_1_layer_call_and_return_conditional_losses_472205) with ops with custom gradients. Will likely fail if a gradient is requested.\n"
          ],
          "name": "stdout"
        },
        {
          "output_type": "stream",
          "text": [
            "WARNING:tensorflow:Importing a function (__inference_functional_1_layer_call_and_return_conditional_losses_472205) with ops with custom gradients. Will likely fail if a gradient is requested.\n"
          ],
          "name": "stderr"
        },
        {
          "output_type": "stream",
          "text": [
            "WARNING:tensorflow:Importing a function (__inference_functional_1_layer_call_and_return_conditional_losses_472205) with ops with custom gradients. Will likely fail if a gradient is requested.\n"
          ],
          "name": "stdout"
        },
        {
          "output_type": "stream",
          "text": [
            "WARNING:tensorflow:Importing a function (__inference_functional_1_layer_call_and_return_conditional_losses_472205) with ops with custom gradients. Will likely fail if a gradient is requested.\n"
          ],
          "name": "stderr"
        },
        {
          "output_type": "stream",
          "text": [
            "WARNING:tensorflow:Importing a function (__inference_functional_1_layer_call_and_return_conditional_losses_472205) with ops with custom gradients. Will likely fail if a gradient is requested.\n"
          ],
          "name": "stdout"
        },
        {
          "output_type": "stream",
          "text": [
            "WARNING:tensorflow:Importing a function (__inference_functional_1_layer_call_and_return_conditional_losses_472205) with ops with custom gradients. Will likely fail if a gradient is requested.\n"
          ],
          "name": "stderr"
        },
        {
          "output_type": "stream",
          "text": [
            "WARNING:tensorflow:Importing a function (__inference_functional_1_layer_call_and_return_conditional_losses_472205) with ops with custom gradients. Will likely fail if a gradient is requested.\n"
          ],
          "name": "stdout"
        },
        {
          "output_type": "stream",
          "text": [
            "WARNING:tensorflow:Importing a function (__inference_functional_1_layer_call_and_return_conditional_losses_472205) with ops with custom gradients. Will likely fail if a gradient is requested.\n"
          ],
          "name": "stderr"
        },
        {
          "output_type": "stream",
          "text": [
            "WARNING:tensorflow:Importing a function (__inference_functional_1_layer_call_and_return_conditional_losses_472205) with ops with custom gradients. Will likely fail if a gradient is requested.\n"
          ],
          "name": "stdout"
        },
        {
          "output_type": "stream",
          "text": [
            "WARNING:tensorflow:Importing a function (__inference_functional_1_layer_call_and_return_conditional_losses_472205) with ops with custom gradients. Will likely fail if a gradient is requested.\n"
          ],
          "name": "stderr"
        },
        {
          "output_type": "stream",
          "text": [
            "WARNING:tensorflow:Importing a function (__inference_functional_1_layer_call_and_return_conditional_losses_472205) with ops with custom gradients. Will likely fail if a gradient is requested.\n"
          ],
          "name": "stdout"
        },
        {
          "output_type": "stream",
          "text": [
            "WARNING:tensorflow:Importing a function (__inference_functional_1_layer_call_and_return_conditional_losses_472205) with ops with custom gradients. Will likely fail if a gradient is requested.\n"
          ],
          "name": "stderr"
        },
        {
          "output_type": "stream",
          "text": [
            "WARNING:tensorflow:Importing a function (__inference_functional_1_layer_call_and_return_conditional_losses_472205) with ops with custom gradients. Will likely fail if a gradient is requested.\n"
          ],
          "name": "stdout"
        },
        {
          "output_type": "stream",
          "text": [
            "WARNING:tensorflow:Importing a function (__inference_functional_1_layer_call_and_return_conditional_losses_472205) with ops with custom gradients. Will likely fail if a gradient is requested.\n"
          ],
          "name": "stderr"
        },
        {
          "output_type": "stream",
          "text": [
            "WARNING:tensorflow:Importing a function (__inference_functional_1_layer_call_and_return_conditional_losses_472205) with ops with custom gradients. Will likely fail if a gradient is requested.\n"
          ],
          "name": "stdout"
        },
        {
          "output_type": "stream",
          "text": [
            "WARNING:tensorflow:Importing a function (__inference_functional_1_layer_call_and_return_conditional_losses_472205) with ops with custom gradients. Will likely fail if a gradient is requested.\n"
          ],
          "name": "stderr"
        },
        {
          "output_type": "stream",
          "text": [
            "WARNING:tensorflow:Importing a function (__inference_block6d_se_reduce_layer_call_and_return_conditional_losses_510338) with ops with custom gradients. Will likely fail if a gradient is requested.\n"
          ],
          "name": "stdout"
        },
        {
          "output_type": "stream",
          "text": [
            "WARNING:tensorflow:Importing a function (__inference_block6d_se_reduce_layer_call_and_return_conditional_losses_510338) with ops with custom gradients. Will likely fail if a gradient is requested.\n"
          ],
          "name": "stderr"
        },
        {
          "output_type": "stream",
          "text": [
            "WARNING:tensorflow:Importing a function (__inference_block4b_expand_activation_layer_call_and_return_conditional_losses_423568) with ops with custom gradients. Will likely fail if a gradient is requested.\n"
          ],
          "name": "stdout"
        },
        {
          "output_type": "stream",
          "text": [
            "WARNING:tensorflow:Importing a function (__inference_block4b_expand_activation_layer_call_and_return_conditional_losses_423568) with ops with custom gradients. Will likely fail if a gradient is requested.\n"
          ],
          "name": "stderr"
        },
        {
          "output_type": "stream",
          "text": [
            "WARNING:tensorflow:Importing a function (__inference_block2b_expand_activation_layer_call_and_return_conditional_losses_419776) with ops with custom gradients. Will likely fail if a gradient is requested.\n"
          ],
          "name": "stdout"
        },
        {
          "output_type": "stream",
          "text": [
            "WARNING:tensorflow:Importing a function (__inference_block2b_expand_activation_layer_call_and_return_conditional_losses_419776) with ops with custom gradients. Will likely fail if a gradient is requested.\n"
          ],
          "name": "stderr"
        },
        {
          "output_type": "stream",
          "text": [
            "WARNING:tensorflow:Importing a function (__inference_efficientnetb0_layer_call_and_return_conditional_losses_481699) with ops with custom gradients. Will likely fail if a gradient is requested.\n"
          ],
          "name": "stdout"
        },
        {
          "output_type": "stream",
          "text": [
            "WARNING:tensorflow:Importing a function (__inference_efficientnetb0_layer_call_and_return_conditional_losses_481699) with ops with custom gradients. Will likely fail if a gradient is requested.\n"
          ],
          "name": "stderr"
        },
        {
          "output_type": "stream",
          "text": [
            "WARNING:tensorflow:Importing a function (__inference_efficientnetb0_layer_call_and_return_conditional_losses_481699) with ops with custom gradients. Will likely fail if a gradient is requested.\n"
          ],
          "name": "stdout"
        },
        {
          "output_type": "stream",
          "text": [
            "WARNING:tensorflow:Importing a function (__inference_efficientnetb0_layer_call_and_return_conditional_losses_481699) with ops with custom gradients. Will likely fail if a gradient is requested.\n"
          ],
          "name": "stderr"
        },
        {
          "output_type": "stream",
          "text": [
            "WARNING:tensorflow:Importing a function (__inference_efficientnetb0_layer_call_and_return_conditional_losses_481699) with ops with custom gradients. Will likely fail if a gradient is requested.\n"
          ],
          "name": "stdout"
        },
        {
          "output_type": "stream",
          "text": [
            "WARNING:tensorflow:Importing a function (__inference_efficientnetb0_layer_call_and_return_conditional_losses_481699) with ops with custom gradients. Will likely fail if a gradient is requested.\n"
          ],
          "name": "stderr"
        },
        {
          "output_type": "stream",
          "text": [
            "WARNING:tensorflow:Importing a function (__inference_efficientnetb0_layer_call_and_return_conditional_losses_481699) with ops with custom gradients. Will likely fail if a gradient is requested.\n"
          ],
          "name": "stdout"
        },
        {
          "output_type": "stream",
          "text": [
            "WARNING:tensorflow:Importing a function (__inference_efficientnetb0_layer_call_and_return_conditional_losses_481699) with ops with custom gradients. Will likely fail if a gradient is requested.\n"
          ],
          "name": "stderr"
        },
        {
          "output_type": "stream",
          "text": [
            "WARNING:tensorflow:Importing a function (__inference_efficientnetb0_layer_call_and_return_conditional_losses_481699) with ops with custom gradients. Will likely fail if a gradient is requested.\n"
          ],
          "name": "stdout"
        },
        {
          "output_type": "stream",
          "text": [
            "WARNING:tensorflow:Importing a function (__inference_efficientnetb0_layer_call_and_return_conditional_losses_481699) with ops with custom gradients. Will likely fail if a gradient is requested.\n"
          ],
          "name": "stderr"
        },
        {
          "output_type": "stream",
          "text": [
            "WARNING:tensorflow:Importing a function (__inference_efficientnetb0_layer_call_and_return_conditional_losses_481699) with ops with custom gradients. Will likely fail if a gradient is requested.\n"
          ],
          "name": "stdout"
        },
        {
          "output_type": "stream",
          "text": [
            "WARNING:tensorflow:Importing a function (__inference_efficientnetb0_layer_call_and_return_conditional_losses_481699) with ops with custom gradients. Will likely fail if a gradient is requested.\n"
          ],
          "name": "stderr"
        },
        {
          "output_type": "stream",
          "text": [
            "WARNING:tensorflow:Importing a function (__inference_efficientnetb0_layer_call_and_return_conditional_losses_481699) with ops with custom gradients. Will likely fail if a gradient is requested.\n"
          ],
          "name": "stdout"
        },
        {
          "output_type": "stream",
          "text": [
            "WARNING:tensorflow:Importing a function (__inference_efficientnetb0_layer_call_and_return_conditional_losses_481699) with ops with custom gradients. Will likely fail if a gradient is requested.\n"
          ],
          "name": "stderr"
        },
        {
          "output_type": "stream",
          "text": [
            "WARNING:tensorflow:Importing a function (__inference_efficientnetb0_layer_call_and_return_conditional_losses_481699) with ops with custom gradients. Will likely fail if a gradient is requested.\n"
          ],
          "name": "stdout"
        },
        {
          "output_type": "stream",
          "text": [
            "WARNING:tensorflow:Importing a function (__inference_efficientnetb0_layer_call_and_return_conditional_losses_481699) with ops with custom gradients. Will likely fail if a gradient is requested.\n"
          ],
          "name": "stderr"
        },
        {
          "output_type": "stream",
          "text": [
            "WARNING:tensorflow:Importing a function (__inference_efficientnetb0_layer_call_and_return_conditional_losses_481699) with ops with custom gradients. Will likely fail if a gradient is requested.\n"
          ],
          "name": "stdout"
        },
        {
          "output_type": "stream",
          "text": [
            "WARNING:tensorflow:Importing a function (__inference_efficientnetb0_layer_call_and_return_conditional_losses_481699) with ops with custom gradients. Will likely fail if a gradient is requested.\n"
          ],
          "name": "stderr"
        },
        {
          "output_type": "stream",
          "text": [
            "WARNING:tensorflow:Importing a function (__inference_efficientnetb0_layer_call_and_return_conditional_losses_481699) with ops with custom gradients. Will likely fail if a gradient is requested.\n"
          ],
          "name": "stdout"
        },
        {
          "output_type": "stream",
          "text": [
            "WARNING:tensorflow:Importing a function (__inference_efficientnetb0_layer_call_and_return_conditional_losses_481699) with ops with custom gradients. Will likely fail if a gradient is requested.\n"
          ],
          "name": "stderr"
        },
        {
          "output_type": "stream",
          "text": [
            "WARNING:tensorflow:Importing a function (__inference_efficientnetb0_layer_call_and_return_conditional_losses_481699) with ops with custom gradients. Will likely fail if a gradient is requested.\n"
          ],
          "name": "stdout"
        },
        {
          "output_type": "stream",
          "text": [
            "WARNING:tensorflow:Importing a function (__inference_efficientnetb0_layer_call_and_return_conditional_losses_481699) with ops with custom gradients. Will likely fail if a gradient is requested.\n"
          ],
          "name": "stderr"
        },
        {
          "output_type": "stream",
          "text": [
            "WARNING:tensorflow:Importing a function (__inference_efficientnetb0_layer_call_and_return_conditional_losses_481699) with ops with custom gradients. Will likely fail if a gradient is requested.\n"
          ],
          "name": "stdout"
        },
        {
          "output_type": "stream",
          "text": [
            "WARNING:tensorflow:Importing a function (__inference_efficientnetb0_layer_call_and_return_conditional_losses_481699) with ops with custom gradients. Will likely fail if a gradient is requested.\n"
          ],
          "name": "stderr"
        },
        {
          "output_type": "stream",
          "text": [
            "WARNING:tensorflow:Importing a function (__inference_efficientnetb0_layer_call_and_return_conditional_losses_481699) with ops with custom gradients. Will likely fail if a gradient is requested.\n"
          ],
          "name": "stdout"
        },
        {
          "output_type": "stream",
          "text": [
            "WARNING:tensorflow:Importing a function (__inference_efficientnetb0_layer_call_and_return_conditional_losses_481699) with ops with custom gradients. Will likely fail if a gradient is requested.\n"
          ],
          "name": "stderr"
        },
        {
          "output_type": "stream",
          "text": [
            "WARNING:tensorflow:Importing a function (__inference_efficientnetb0_layer_call_and_return_conditional_losses_481699) with ops with custom gradients. Will likely fail if a gradient is requested.\n"
          ],
          "name": "stdout"
        },
        {
          "output_type": "stream",
          "text": [
            "WARNING:tensorflow:Importing a function (__inference_efficientnetb0_layer_call_and_return_conditional_losses_481699) with ops with custom gradients. Will likely fail if a gradient is requested.\n"
          ],
          "name": "stderr"
        },
        {
          "output_type": "stream",
          "text": [
            "WARNING:tensorflow:Importing a function (__inference_efficientnetb0_layer_call_and_return_conditional_losses_481699) with ops with custom gradients. Will likely fail if a gradient is requested.\n"
          ],
          "name": "stdout"
        },
        {
          "output_type": "stream",
          "text": [
            "WARNING:tensorflow:Importing a function (__inference_efficientnetb0_layer_call_and_return_conditional_losses_481699) with ops with custom gradients. Will likely fail if a gradient is requested.\n"
          ],
          "name": "stderr"
        },
        {
          "output_type": "stream",
          "text": [
            "WARNING:tensorflow:Importing a function (__inference_efficientnetb0_layer_call_and_return_conditional_losses_481699) with ops with custom gradients. Will likely fail if a gradient is requested.\n"
          ],
          "name": "stdout"
        },
        {
          "output_type": "stream",
          "text": [
            "WARNING:tensorflow:Importing a function (__inference_efficientnetb0_layer_call_and_return_conditional_losses_481699) with ops with custom gradients. Will likely fail if a gradient is requested.\n"
          ],
          "name": "stderr"
        },
        {
          "output_type": "stream",
          "text": [
            "WARNING:tensorflow:Importing a function (__inference_efficientnetb0_layer_call_and_return_conditional_losses_481699) with ops with custom gradients. Will likely fail if a gradient is requested.\n"
          ],
          "name": "stdout"
        },
        {
          "output_type": "stream",
          "text": [
            "WARNING:tensorflow:Importing a function (__inference_efficientnetb0_layer_call_and_return_conditional_losses_481699) with ops with custom gradients. Will likely fail if a gradient is requested.\n"
          ],
          "name": "stderr"
        },
        {
          "output_type": "stream",
          "text": [
            "WARNING:tensorflow:Importing a function (__inference_efficientnetb0_layer_call_and_return_conditional_losses_481699) with ops with custom gradients. Will likely fail if a gradient is requested.\n"
          ],
          "name": "stdout"
        },
        {
          "output_type": "stream",
          "text": [
            "WARNING:tensorflow:Importing a function (__inference_efficientnetb0_layer_call_and_return_conditional_losses_481699) with ops with custom gradients. Will likely fail if a gradient is requested.\n"
          ],
          "name": "stderr"
        },
        {
          "output_type": "stream",
          "text": [
            "WARNING:tensorflow:Importing a function (__inference_efficientnetb0_layer_call_and_return_conditional_losses_481699) with ops with custom gradients. Will likely fail if a gradient is requested.\n"
          ],
          "name": "stdout"
        },
        {
          "output_type": "stream",
          "text": [
            "WARNING:tensorflow:Importing a function (__inference_efficientnetb0_layer_call_and_return_conditional_losses_481699) with ops with custom gradients. Will likely fail if a gradient is requested.\n"
          ],
          "name": "stderr"
        },
        {
          "output_type": "stream",
          "text": [
            "WARNING:tensorflow:Importing a function (__inference_efficientnetb0_layer_call_and_return_conditional_losses_481699) with ops with custom gradients. Will likely fail if a gradient is requested.\n"
          ],
          "name": "stdout"
        },
        {
          "output_type": "stream",
          "text": [
            "WARNING:tensorflow:Importing a function (__inference_efficientnetb0_layer_call_and_return_conditional_losses_481699) with ops with custom gradients. Will likely fail if a gradient is requested.\n"
          ],
          "name": "stderr"
        },
        {
          "output_type": "stream",
          "text": [
            "WARNING:tensorflow:Importing a function (__inference_efficientnetb0_layer_call_and_return_conditional_losses_481699) with ops with custom gradients. Will likely fail if a gradient is requested.\n"
          ],
          "name": "stdout"
        },
        {
          "output_type": "stream",
          "text": [
            "WARNING:tensorflow:Importing a function (__inference_efficientnetb0_layer_call_and_return_conditional_losses_481699) with ops with custom gradients. Will likely fail if a gradient is requested.\n"
          ],
          "name": "stderr"
        },
        {
          "output_type": "stream",
          "text": [
            "WARNING:tensorflow:Importing a function (__inference_efficientnetb0_layer_call_and_return_conditional_losses_481699) with ops with custom gradients. Will likely fail if a gradient is requested.\n"
          ],
          "name": "stdout"
        },
        {
          "output_type": "stream",
          "text": [
            "WARNING:tensorflow:Importing a function (__inference_efficientnetb0_layer_call_and_return_conditional_losses_481699) with ops with custom gradients. Will likely fail if a gradient is requested.\n"
          ],
          "name": "stderr"
        },
        {
          "output_type": "stream",
          "text": [
            "WARNING:tensorflow:Importing a function (__inference_efficientnetb0_layer_call_and_return_conditional_losses_481699) with ops with custom gradients. Will likely fail if a gradient is requested.\n"
          ],
          "name": "stdout"
        },
        {
          "output_type": "stream",
          "text": [
            "WARNING:tensorflow:Importing a function (__inference_efficientnetb0_layer_call_and_return_conditional_losses_481699) with ops with custom gradients. Will likely fail if a gradient is requested.\n"
          ],
          "name": "stderr"
        },
        {
          "output_type": "stream",
          "text": [
            "WARNING:tensorflow:Importing a function (__inference_efficientnetb0_layer_call_and_return_conditional_losses_481699) with ops with custom gradients. Will likely fail if a gradient is requested.\n"
          ],
          "name": "stdout"
        },
        {
          "output_type": "stream",
          "text": [
            "WARNING:tensorflow:Importing a function (__inference_efficientnetb0_layer_call_and_return_conditional_losses_481699) with ops with custom gradients. Will likely fail if a gradient is requested.\n"
          ],
          "name": "stderr"
        },
        {
          "output_type": "stream",
          "text": [
            "WARNING:tensorflow:Importing a function (__inference_efficientnetb0_layer_call_and_return_conditional_losses_481699) with ops with custom gradients. Will likely fail if a gradient is requested.\n"
          ],
          "name": "stdout"
        },
        {
          "output_type": "stream",
          "text": [
            "WARNING:tensorflow:Importing a function (__inference_efficientnetb0_layer_call_and_return_conditional_losses_481699) with ops with custom gradients. Will likely fail if a gradient is requested.\n"
          ],
          "name": "stderr"
        },
        {
          "output_type": "stream",
          "text": [
            "WARNING:tensorflow:Importing a function (__inference_efficientnetb0_layer_call_and_return_conditional_losses_481699) with ops with custom gradients. Will likely fail if a gradient is requested.\n"
          ],
          "name": "stdout"
        },
        {
          "output_type": "stream",
          "text": [
            "WARNING:tensorflow:Importing a function (__inference_efficientnetb0_layer_call_and_return_conditional_losses_481699) with ops with custom gradients. Will likely fail if a gradient is requested.\n"
          ],
          "name": "stderr"
        },
        {
          "output_type": "stream",
          "text": [
            "WARNING:tensorflow:Importing a function (__inference_efficientnetb0_layer_call_and_return_conditional_losses_481699) with ops with custom gradients. Will likely fail if a gradient is requested.\n"
          ],
          "name": "stdout"
        },
        {
          "output_type": "stream",
          "text": [
            "WARNING:tensorflow:Importing a function (__inference_efficientnetb0_layer_call_and_return_conditional_losses_481699) with ops with custom gradients. Will likely fail if a gradient is requested.\n"
          ],
          "name": "stderr"
        },
        {
          "output_type": "stream",
          "text": [
            "WARNING:tensorflow:Importing a function (__inference_efficientnetb0_layer_call_and_return_conditional_losses_481699) with ops with custom gradients. Will likely fail if a gradient is requested.\n"
          ],
          "name": "stdout"
        },
        {
          "output_type": "stream",
          "text": [
            "WARNING:tensorflow:Importing a function (__inference_efficientnetb0_layer_call_and_return_conditional_losses_481699) with ops with custom gradients. Will likely fail if a gradient is requested.\n"
          ],
          "name": "stderr"
        },
        {
          "output_type": "stream",
          "text": [
            "WARNING:tensorflow:Importing a function (__inference_efficientnetb0_layer_call_and_return_conditional_losses_481699) with ops with custom gradients. Will likely fail if a gradient is requested.\n"
          ],
          "name": "stdout"
        },
        {
          "output_type": "stream",
          "text": [
            "WARNING:tensorflow:Importing a function (__inference_efficientnetb0_layer_call_and_return_conditional_losses_481699) with ops with custom gradients. Will likely fail if a gradient is requested.\n"
          ],
          "name": "stderr"
        },
        {
          "output_type": "stream",
          "text": [
            "WARNING:tensorflow:Importing a function (__inference_efficientnetb0_layer_call_and_return_conditional_losses_481699) with ops with custom gradients. Will likely fail if a gradient is requested.\n"
          ],
          "name": "stdout"
        },
        {
          "output_type": "stream",
          "text": [
            "WARNING:tensorflow:Importing a function (__inference_efficientnetb0_layer_call_and_return_conditional_losses_481699) with ops with custom gradients. Will likely fail if a gradient is requested.\n"
          ],
          "name": "stderr"
        },
        {
          "output_type": "stream",
          "text": [
            "WARNING:tensorflow:Importing a function (__inference_efficientnetb0_layer_call_and_return_conditional_losses_481699) with ops with custom gradients. Will likely fail if a gradient is requested.\n"
          ],
          "name": "stdout"
        },
        {
          "output_type": "stream",
          "text": [
            "WARNING:tensorflow:Importing a function (__inference_efficientnetb0_layer_call_and_return_conditional_losses_481699) with ops with custom gradients. Will likely fail if a gradient is requested.\n"
          ],
          "name": "stderr"
        },
        {
          "output_type": "stream",
          "text": [
            "WARNING:tensorflow:Importing a function (__inference_efficientnetb0_layer_call_and_return_conditional_losses_481699) with ops with custom gradients. Will likely fail if a gradient is requested.\n"
          ],
          "name": "stdout"
        },
        {
          "output_type": "stream",
          "text": [
            "WARNING:tensorflow:Importing a function (__inference_efficientnetb0_layer_call_and_return_conditional_losses_481699) with ops with custom gradients. Will likely fail if a gradient is requested.\n"
          ],
          "name": "stderr"
        },
        {
          "output_type": "stream",
          "text": [
            "WARNING:tensorflow:Importing a function (__inference_efficientnetb0_layer_call_and_return_conditional_losses_481699) with ops with custom gradients. Will likely fail if a gradient is requested.\n"
          ],
          "name": "stdout"
        },
        {
          "output_type": "stream",
          "text": [
            "WARNING:tensorflow:Importing a function (__inference_efficientnetb0_layer_call_and_return_conditional_losses_481699) with ops with custom gradients. Will likely fail if a gradient is requested.\n"
          ],
          "name": "stderr"
        },
        {
          "output_type": "stream",
          "text": [
            "WARNING:tensorflow:Importing a function (__inference_efficientnetb0_layer_call_and_return_conditional_losses_481699) with ops with custom gradients. Will likely fail if a gradient is requested.\n"
          ],
          "name": "stdout"
        },
        {
          "output_type": "stream",
          "text": [
            "WARNING:tensorflow:Importing a function (__inference_efficientnetb0_layer_call_and_return_conditional_losses_481699) with ops with custom gradients. Will likely fail if a gradient is requested.\n"
          ],
          "name": "stderr"
        },
        {
          "output_type": "stream",
          "text": [
            "WARNING:tensorflow:Importing a function (__inference_efficientnetb0_layer_call_and_return_conditional_losses_481699) with ops with custom gradients. Will likely fail if a gradient is requested.\n"
          ],
          "name": "stdout"
        },
        {
          "output_type": "stream",
          "text": [
            "WARNING:tensorflow:Importing a function (__inference_efficientnetb0_layer_call_and_return_conditional_losses_481699) with ops with custom gradients. Will likely fail if a gradient is requested.\n"
          ],
          "name": "stderr"
        },
        {
          "output_type": "stream",
          "text": [
            "WARNING:tensorflow:Importing a function (__inference_efficientnetb0_layer_call_and_return_conditional_losses_481699) with ops with custom gradients. Will likely fail if a gradient is requested.\n"
          ],
          "name": "stdout"
        },
        {
          "output_type": "stream",
          "text": [
            "WARNING:tensorflow:Importing a function (__inference_efficientnetb0_layer_call_and_return_conditional_losses_481699) with ops with custom gradients. Will likely fail if a gradient is requested.\n"
          ],
          "name": "stderr"
        },
        {
          "output_type": "stream",
          "text": [
            "WARNING:tensorflow:Importing a function (__inference_efficientnetb0_layer_call_and_return_conditional_losses_481699) with ops with custom gradients. Will likely fail if a gradient is requested.\n"
          ],
          "name": "stdout"
        },
        {
          "output_type": "stream",
          "text": [
            "WARNING:tensorflow:Importing a function (__inference_efficientnetb0_layer_call_and_return_conditional_losses_481699) with ops with custom gradients. Will likely fail if a gradient is requested.\n"
          ],
          "name": "stderr"
        },
        {
          "output_type": "stream",
          "text": [
            "WARNING:tensorflow:Importing a function (__inference_efficientnetb0_layer_call_and_return_conditional_losses_481699) with ops with custom gradients. Will likely fail if a gradient is requested.\n"
          ],
          "name": "stdout"
        },
        {
          "output_type": "stream",
          "text": [
            "WARNING:tensorflow:Importing a function (__inference_efficientnetb0_layer_call_and_return_conditional_losses_481699) with ops with custom gradients. Will likely fail if a gradient is requested.\n"
          ],
          "name": "stderr"
        },
        {
          "output_type": "stream",
          "text": [
            "WARNING:tensorflow:Importing a function (__inference_efficientnetb0_layer_call_and_return_conditional_losses_481699) with ops with custom gradients. Will likely fail if a gradient is requested.\n"
          ],
          "name": "stdout"
        },
        {
          "output_type": "stream",
          "text": [
            "WARNING:tensorflow:Importing a function (__inference_efficientnetb0_layer_call_and_return_conditional_losses_481699) with ops with custom gradients. Will likely fail if a gradient is requested.\n"
          ],
          "name": "stderr"
        },
        {
          "output_type": "stream",
          "text": [
            "WARNING:tensorflow:Importing a function (__inference_efficientnetb0_layer_call_and_return_conditional_losses_481699) with ops with custom gradients. Will likely fail if a gradient is requested.\n"
          ],
          "name": "stdout"
        },
        {
          "output_type": "stream",
          "text": [
            "WARNING:tensorflow:Importing a function (__inference_efficientnetb0_layer_call_and_return_conditional_losses_481699) with ops with custom gradients. Will likely fail if a gradient is requested.\n"
          ],
          "name": "stderr"
        },
        {
          "output_type": "stream",
          "text": [
            "WARNING:tensorflow:Importing a function (__inference_efficientnetb0_layer_call_and_return_conditional_losses_481699) with ops with custom gradients. Will likely fail if a gradient is requested.\n"
          ],
          "name": "stdout"
        },
        {
          "output_type": "stream",
          "text": [
            "WARNING:tensorflow:Importing a function (__inference_efficientnetb0_layer_call_and_return_conditional_losses_481699) with ops with custom gradients. Will likely fail if a gradient is requested.\n"
          ],
          "name": "stderr"
        },
        {
          "output_type": "stream",
          "text": [
            "WARNING:tensorflow:Importing a function (__inference_efficientnetb0_layer_call_and_return_conditional_losses_481699) with ops with custom gradients. Will likely fail if a gradient is requested.\n"
          ],
          "name": "stdout"
        },
        {
          "output_type": "stream",
          "text": [
            "WARNING:tensorflow:Importing a function (__inference_efficientnetb0_layer_call_and_return_conditional_losses_481699) with ops with custom gradients. Will likely fail if a gradient is requested.\n"
          ],
          "name": "stderr"
        },
        {
          "output_type": "stream",
          "text": [
            "WARNING:tensorflow:Importing a function (__inference_efficientnetb0_layer_call_and_return_conditional_losses_481699) with ops with custom gradients. Will likely fail if a gradient is requested.\n"
          ],
          "name": "stdout"
        },
        {
          "output_type": "stream",
          "text": [
            "WARNING:tensorflow:Importing a function (__inference_efficientnetb0_layer_call_and_return_conditional_losses_481699) with ops with custom gradients. Will likely fail if a gradient is requested.\n"
          ],
          "name": "stderr"
        },
        {
          "output_type": "stream",
          "text": [
            "WARNING:tensorflow:Importing a function (__inference_efficientnetb0_layer_call_and_return_conditional_losses_481699) with ops with custom gradients. Will likely fail if a gradient is requested.\n"
          ],
          "name": "stdout"
        },
        {
          "output_type": "stream",
          "text": [
            "WARNING:tensorflow:Importing a function (__inference_efficientnetb0_layer_call_and_return_conditional_losses_481699) with ops with custom gradients. Will likely fail if a gradient is requested.\n"
          ],
          "name": "stderr"
        },
        {
          "output_type": "stream",
          "text": [
            "WARNING:tensorflow:Importing a function (__inference_efficientnetb0_layer_call_and_return_conditional_losses_481699) with ops with custom gradients. Will likely fail if a gradient is requested.\n"
          ],
          "name": "stdout"
        },
        {
          "output_type": "stream",
          "text": [
            "WARNING:tensorflow:Importing a function (__inference_efficientnetb0_layer_call_and_return_conditional_losses_481699) with ops with custom gradients. Will likely fail if a gradient is requested.\n"
          ],
          "name": "stderr"
        },
        {
          "output_type": "stream",
          "text": [
            "WARNING:tensorflow:Importing a function (__inference_efficientnetb0_layer_call_and_return_conditional_losses_481699) with ops with custom gradients. Will likely fail if a gradient is requested.\n"
          ],
          "name": "stdout"
        },
        {
          "output_type": "stream",
          "text": [
            "WARNING:tensorflow:Importing a function (__inference_efficientnetb0_layer_call_and_return_conditional_losses_481699) with ops with custom gradients. Will likely fail if a gradient is requested.\n"
          ],
          "name": "stderr"
        },
        {
          "output_type": "stream",
          "text": [
            "WARNING:tensorflow:Importing a function (__inference_efficientnetb0_layer_call_and_return_conditional_losses_481699) with ops with custom gradients. Will likely fail if a gradient is requested.\n"
          ],
          "name": "stdout"
        },
        {
          "output_type": "stream",
          "text": [
            "WARNING:tensorflow:Importing a function (__inference_efficientnetb0_layer_call_and_return_conditional_losses_481699) with ops with custom gradients. Will likely fail if a gradient is requested.\n"
          ],
          "name": "stderr"
        },
        {
          "output_type": "stream",
          "text": [
            "WARNING:tensorflow:Importing a function (__inference_efficientnetb0_layer_call_and_return_conditional_losses_481699) with ops with custom gradients. Will likely fail if a gradient is requested.\n"
          ],
          "name": "stdout"
        },
        {
          "output_type": "stream",
          "text": [
            "WARNING:tensorflow:Importing a function (__inference_efficientnetb0_layer_call_and_return_conditional_losses_481699) with ops with custom gradients. Will likely fail if a gradient is requested.\n"
          ],
          "name": "stderr"
        },
        {
          "output_type": "stream",
          "text": [
            "WARNING:tensorflow:Importing a function (__inference_efficientnetb0_layer_call_and_return_conditional_losses_481699) with ops with custom gradients. Will likely fail if a gradient is requested.\n"
          ],
          "name": "stdout"
        },
        {
          "output_type": "stream",
          "text": [
            "WARNING:tensorflow:Importing a function (__inference_efficientnetb0_layer_call_and_return_conditional_losses_481699) with ops with custom gradients. Will likely fail if a gradient is requested.\n"
          ],
          "name": "stderr"
        },
        {
          "output_type": "stream",
          "text": [
            "WARNING:tensorflow:Importing a function (__inference_block6a_expand_activation_layer_call_and_return_conditional_losses_428385) with ops with custom gradients. Will likely fail if a gradient is requested.\n"
          ],
          "name": "stdout"
        },
        {
          "output_type": "stream",
          "text": [
            "WARNING:tensorflow:Importing a function (__inference_block6a_expand_activation_layer_call_and_return_conditional_losses_428385) with ops with custom gradients. Will likely fail if a gradient is requested.\n"
          ],
          "name": "stderr"
        },
        {
          "output_type": "stream",
          "text": [
            "WARNING:tensorflow:Importing a function (__inference_block5a_activation_layer_call_and_return_conditional_losses_501674) with ops with custom gradients. Will likely fail if a gradient is requested.\n"
          ],
          "name": "stdout"
        },
        {
          "output_type": "stream",
          "text": [
            "WARNING:tensorflow:Importing a function (__inference_block5a_activation_layer_call_and_return_conditional_losses_501674) with ops with custom gradients. Will likely fail if a gradient is requested.\n"
          ],
          "name": "stderr"
        },
        {
          "output_type": "stream",
          "text": [
            "WARNING:tensorflow:Importing a function (__inference_block2a_activation_layer_call_and_return_conditional_losses_419125) with ops with custom gradients. Will likely fail if a gradient is requested.\n"
          ],
          "name": "stdout"
        },
        {
          "output_type": "stream",
          "text": [
            "WARNING:tensorflow:Importing a function (__inference_block2a_activation_layer_call_and_return_conditional_losses_419125) with ops with custom gradients. Will likely fail if a gradient is requested.\n"
          ],
          "name": "stderr"
        },
        {
          "output_type": "stream",
          "text": [
            "WARNING:tensorflow:Importing a function (__inference_block2b_se_reduce_layer_call_and_return_conditional_losses_493090) with ops with custom gradients. Will likely fail if a gradient is requested.\n"
          ],
          "name": "stdout"
        },
        {
          "output_type": "stream",
          "text": [
            "WARNING:tensorflow:Importing a function (__inference_block2b_se_reduce_layer_call_and_return_conditional_losses_493090) with ops with custom gradients. Will likely fail if a gradient is requested.\n"
          ],
          "name": "stderr"
        },
        {
          "output_type": "stream",
          "text": [
            "WARNING:tensorflow:Importing a function (__inference_block6d_se_reduce_layer_call_and_return_conditional_losses_431572) with ops with custom gradients. Will likely fail if a gradient is requested.\n"
          ],
          "name": "stdout"
        },
        {
          "output_type": "stream",
          "text": [
            "WARNING:tensorflow:Importing a function (__inference_block6d_se_reduce_layer_call_and_return_conditional_losses_431572) with ops with custom gradients. Will likely fail if a gradient is requested.\n"
          ],
          "name": "stderr"
        },
        {
          "output_type": "stream",
          "text": [
            "WARNING:tensorflow:Importing a function (__inference_block6a_se_reduce_layer_call_and_return_conditional_losses_428703) with ops with custom gradients. Will likely fail if a gradient is requested.\n"
          ],
          "name": "stdout"
        },
        {
          "output_type": "stream",
          "text": [
            "WARNING:tensorflow:Importing a function (__inference_block6a_se_reduce_layer_call_and_return_conditional_losses_428703) with ops with custom gradients. Will likely fail if a gradient is requested.\n"
          ],
          "name": "stderr"
        },
        {
          "output_type": "stream",
          "text": [
            "WARNING:tensorflow:Importing a function (__inference_block5c_activation_layer_call_and_return_conditional_losses_504533) with ops with custom gradients. Will likely fail if a gradient is requested.\n"
          ],
          "name": "stdout"
        },
        {
          "output_type": "stream",
          "text": [
            "WARNING:tensorflow:Importing a function (__inference_block5c_activation_layer_call_and_return_conditional_losses_504533) with ops with custom gradients. Will likely fail if a gradient is requested.\n"
          ],
          "name": "stderr"
        },
        {
          "output_type": "stream",
          "text": [
            "WARNING:tensorflow:Importing a function (__inference_block2a_se_reduce_layer_call_and_return_conditional_losses_419172) with ops with custom gradients. Will likely fail if a gradient is requested.\n"
          ],
          "name": "stdout"
        },
        {
          "output_type": "stream",
          "text": [
            "WARNING:tensorflow:Importing a function (__inference_block2a_se_reduce_layer_call_and_return_conditional_losses_419172) with ops with custom gradients. Will likely fail if a gradient is requested.\n"
          ],
          "name": "stderr"
        },
        {
          "output_type": "stream",
          "text": [
            "WARNING:tensorflow:Importing a function (__inference_block5b_se_reduce_layer_call_and_return_conditional_losses_503120) with ops with custom gradients. Will likely fail if a gradient is requested.\n"
          ],
          "name": "stdout"
        },
        {
          "output_type": "stream",
          "text": [
            "WARNING:tensorflow:Importing a function (__inference_block5b_se_reduce_layer_call_and_return_conditional_losses_503120) with ops with custom gradients. Will likely fail if a gradient is requested.\n"
          ],
          "name": "stderr"
        },
        {
          "output_type": "stream",
          "text": [
            "WARNING:tensorflow:Importing a function (__inference_block2a_activation_layer_call_and_return_conditional_losses_491644) with ops with custom gradients. Will likely fail if a gradient is requested.\n"
          ],
          "name": "stdout"
        },
        {
          "output_type": "stream",
          "text": [
            "WARNING:tensorflow:Importing a function (__inference_block2a_activation_layer_call_and_return_conditional_losses_491644) with ops with custom gradients. Will likely fail if a gradient is requested.\n"
          ],
          "name": "stderr"
        },
        {
          "output_type": "stream",
          "text": [
            "WARNING:tensorflow:Importing a function (__inference__wrapped_model_399438) with ops with custom gradients. Will likely fail if a gradient is requested.\n"
          ],
          "name": "stdout"
        },
        {
          "output_type": "stream",
          "text": [
            "WARNING:tensorflow:Importing a function (__inference__wrapped_model_399438) with ops with custom gradients. Will likely fail if a gradient is requested.\n"
          ],
          "name": "stderr"
        },
        {
          "output_type": "stream",
          "text": [
            "WARNING:tensorflow:Importing a function (__inference__wrapped_model_399438) with ops with custom gradients. Will likely fail if a gradient is requested.\n"
          ],
          "name": "stdout"
        },
        {
          "output_type": "stream",
          "text": [
            "WARNING:tensorflow:Importing a function (__inference__wrapped_model_399438) with ops with custom gradients. Will likely fail if a gradient is requested.\n"
          ],
          "name": "stderr"
        },
        {
          "output_type": "stream",
          "text": [
            "WARNING:tensorflow:Importing a function (__inference__wrapped_model_399438) with ops with custom gradients. Will likely fail if a gradient is requested.\n"
          ],
          "name": "stdout"
        },
        {
          "output_type": "stream",
          "text": [
            "WARNING:tensorflow:Importing a function (__inference__wrapped_model_399438) with ops with custom gradients. Will likely fail if a gradient is requested.\n"
          ],
          "name": "stderr"
        },
        {
          "output_type": "stream",
          "text": [
            "WARNING:tensorflow:Importing a function (__inference__wrapped_model_399438) with ops with custom gradients. Will likely fail if a gradient is requested.\n"
          ],
          "name": "stdout"
        },
        {
          "output_type": "stream",
          "text": [
            "WARNING:tensorflow:Importing a function (__inference__wrapped_model_399438) with ops with custom gradients. Will likely fail if a gradient is requested.\n"
          ],
          "name": "stderr"
        },
        {
          "output_type": "stream",
          "text": [
            "WARNING:tensorflow:Importing a function (__inference__wrapped_model_399438) with ops with custom gradients. Will likely fail if a gradient is requested.\n"
          ],
          "name": "stdout"
        },
        {
          "output_type": "stream",
          "text": [
            "WARNING:tensorflow:Importing a function (__inference__wrapped_model_399438) with ops with custom gradients. Will likely fail if a gradient is requested.\n"
          ],
          "name": "stderr"
        },
        {
          "output_type": "stream",
          "text": [
            "WARNING:tensorflow:Importing a function (__inference__wrapped_model_399438) with ops with custom gradients. Will likely fail if a gradient is requested.\n"
          ],
          "name": "stdout"
        },
        {
          "output_type": "stream",
          "text": [
            "WARNING:tensorflow:Importing a function (__inference__wrapped_model_399438) with ops with custom gradients. Will likely fail if a gradient is requested.\n"
          ],
          "name": "stderr"
        },
        {
          "output_type": "stream",
          "text": [
            "WARNING:tensorflow:Importing a function (__inference__wrapped_model_399438) with ops with custom gradients. Will likely fail if a gradient is requested.\n"
          ],
          "name": "stdout"
        },
        {
          "output_type": "stream",
          "text": [
            "WARNING:tensorflow:Importing a function (__inference__wrapped_model_399438) with ops with custom gradients. Will likely fail if a gradient is requested.\n"
          ],
          "name": "stderr"
        },
        {
          "output_type": "stream",
          "text": [
            "WARNING:tensorflow:Importing a function (__inference__wrapped_model_399438) with ops with custom gradients. Will likely fail if a gradient is requested.\n"
          ],
          "name": "stdout"
        },
        {
          "output_type": "stream",
          "text": [
            "WARNING:tensorflow:Importing a function (__inference__wrapped_model_399438) with ops with custom gradients. Will likely fail if a gradient is requested.\n"
          ],
          "name": "stderr"
        },
        {
          "output_type": "stream",
          "text": [
            "WARNING:tensorflow:Importing a function (__inference__wrapped_model_399438) with ops with custom gradients. Will likely fail if a gradient is requested.\n"
          ],
          "name": "stdout"
        },
        {
          "output_type": "stream",
          "text": [
            "WARNING:tensorflow:Importing a function (__inference__wrapped_model_399438) with ops with custom gradients. Will likely fail if a gradient is requested.\n"
          ],
          "name": "stderr"
        },
        {
          "output_type": "stream",
          "text": [
            "WARNING:tensorflow:Importing a function (__inference__wrapped_model_399438) with ops with custom gradients. Will likely fail if a gradient is requested.\n"
          ],
          "name": "stdout"
        },
        {
          "output_type": "stream",
          "text": [
            "WARNING:tensorflow:Importing a function (__inference__wrapped_model_399438) with ops with custom gradients. Will likely fail if a gradient is requested.\n"
          ],
          "name": "stderr"
        },
        {
          "output_type": "stream",
          "text": [
            "WARNING:tensorflow:Importing a function (__inference__wrapped_model_399438) with ops with custom gradients. Will likely fail if a gradient is requested.\n"
          ],
          "name": "stdout"
        },
        {
          "output_type": "stream",
          "text": [
            "WARNING:tensorflow:Importing a function (__inference__wrapped_model_399438) with ops with custom gradients. Will likely fail if a gradient is requested.\n"
          ],
          "name": "stderr"
        },
        {
          "output_type": "stream",
          "text": [
            "WARNING:tensorflow:Importing a function (__inference__wrapped_model_399438) with ops with custom gradients. Will likely fail if a gradient is requested.\n"
          ],
          "name": "stdout"
        },
        {
          "output_type": "stream",
          "text": [
            "WARNING:tensorflow:Importing a function (__inference__wrapped_model_399438) with ops with custom gradients. Will likely fail if a gradient is requested.\n"
          ],
          "name": "stderr"
        },
        {
          "output_type": "stream",
          "text": [
            "WARNING:tensorflow:Importing a function (__inference__wrapped_model_399438) with ops with custom gradients. Will likely fail if a gradient is requested.\n"
          ],
          "name": "stdout"
        },
        {
          "output_type": "stream",
          "text": [
            "WARNING:tensorflow:Importing a function (__inference__wrapped_model_399438) with ops with custom gradients. Will likely fail if a gradient is requested.\n"
          ],
          "name": "stderr"
        },
        {
          "output_type": "stream",
          "text": [
            "WARNING:tensorflow:Importing a function (__inference__wrapped_model_399438) with ops with custom gradients. Will likely fail if a gradient is requested.\n"
          ],
          "name": "stdout"
        },
        {
          "output_type": "stream",
          "text": [
            "WARNING:tensorflow:Importing a function (__inference__wrapped_model_399438) with ops with custom gradients. Will likely fail if a gradient is requested.\n"
          ],
          "name": "stderr"
        },
        {
          "output_type": "stream",
          "text": [
            "WARNING:tensorflow:Importing a function (__inference__wrapped_model_399438) with ops with custom gradients. Will likely fail if a gradient is requested.\n"
          ],
          "name": "stdout"
        },
        {
          "output_type": "stream",
          "text": [
            "WARNING:tensorflow:Importing a function (__inference__wrapped_model_399438) with ops with custom gradients. Will likely fail if a gradient is requested.\n"
          ],
          "name": "stderr"
        },
        {
          "output_type": "stream",
          "text": [
            "WARNING:tensorflow:Importing a function (__inference__wrapped_model_399438) with ops with custom gradients. Will likely fail if a gradient is requested.\n"
          ],
          "name": "stdout"
        },
        {
          "output_type": "stream",
          "text": [
            "WARNING:tensorflow:Importing a function (__inference__wrapped_model_399438) with ops with custom gradients. Will likely fail if a gradient is requested.\n"
          ],
          "name": "stderr"
        },
        {
          "output_type": "stream",
          "text": [
            "WARNING:tensorflow:Importing a function (__inference__wrapped_model_399438) with ops with custom gradients. Will likely fail if a gradient is requested.\n"
          ],
          "name": "stdout"
        },
        {
          "output_type": "stream",
          "text": [
            "WARNING:tensorflow:Importing a function (__inference__wrapped_model_399438) with ops with custom gradients. Will likely fail if a gradient is requested.\n"
          ],
          "name": "stderr"
        },
        {
          "output_type": "stream",
          "text": [
            "WARNING:tensorflow:Importing a function (__inference__wrapped_model_399438) with ops with custom gradients. Will likely fail if a gradient is requested.\n"
          ],
          "name": "stdout"
        },
        {
          "output_type": "stream",
          "text": [
            "WARNING:tensorflow:Importing a function (__inference__wrapped_model_399438) with ops with custom gradients. Will likely fail if a gradient is requested.\n"
          ],
          "name": "stderr"
        },
        {
          "output_type": "stream",
          "text": [
            "WARNING:tensorflow:Importing a function (__inference__wrapped_model_399438) with ops with custom gradients. Will likely fail if a gradient is requested.\n"
          ],
          "name": "stdout"
        },
        {
          "output_type": "stream",
          "text": [
            "WARNING:tensorflow:Importing a function (__inference__wrapped_model_399438) with ops with custom gradients. Will likely fail if a gradient is requested.\n"
          ],
          "name": "stderr"
        },
        {
          "output_type": "stream",
          "text": [
            "WARNING:tensorflow:Importing a function (__inference__wrapped_model_399438) with ops with custom gradients. Will likely fail if a gradient is requested.\n"
          ],
          "name": "stdout"
        },
        {
          "output_type": "stream",
          "text": [
            "WARNING:tensorflow:Importing a function (__inference__wrapped_model_399438) with ops with custom gradients. Will likely fail if a gradient is requested.\n"
          ],
          "name": "stderr"
        },
        {
          "output_type": "stream",
          "text": [
            "WARNING:tensorflow:Importing a function (__inference__wrapped_model_399438) with ops with custom gradients. Will likely fail if a gradient is requested.\n"
          ],
          "name": "stdout"
        },
        {
          "output_type": "stream",
          "text": [
            "WARNING:tensorflow:Importing a function (__inference__wrapped_model_399438) with ops with custom gradients. Will likely fail if a gradient is requested.\n"
          ],
          "name": "stderr"
        },
        {
          "output_type": "stream",
          "text": [
            "WARNING:tensorflow:Importing a function (__inference__wrapped_model_399438) with ops with custom gradients. Will likely fail if a gradient is requested.\n"
          ],
          "name": "stdout"
        },
        {
          "output_type": "stream",
          "text": [
            "WARNING:tensorflow:Importing a function (__inference__wrapped_model_399438) with ops with custom gradients. Will likely fail if a gradient is requested.\n"
          ],
          "name": "stderr"
        },
        {
          "output_type": "stream",
          "text": [
            "WARNING:tensorflow:Importing a function (__inference__wrapped_model_399438) with ops with custom gradients. Will likely fail if a gradient is requested.\n"
          ],
          "name": "stdout"
        },
        {
          "output_type": "stream",
          "text": [
            "WARNING:tensorflow:Importing a function (__inference__wrapped_model_399438) with ops with custom gradients. Will likely fail if a gradient is requested.\n"
          ],
          "name": "stderr"
        },
        {
          "output_type": "stream",
          "text": [
            "WARNING:tensorflow:Importing a function (__inference__wrapped_model_399438) with ops with custom gradients. Will likely fail if a gradient is requested.\n"
          ],
          "name": "stdout"
        },
        {
          "output_type": "stream",
          "text": [
            "WARNING:tensorflow:Importing a function (__inference__wrapped_model_399438) with ops with custom gradients. Will likely fail if a gradient is requested.\n"
          ],
          "name": "stderr"
        },
        {
          "output_type": "stream",
          "text": [
            "WARNING:tensorflow:Importing a function (__inference__wrapped_model_399438) with ops with custom gradients. Will likely fail if a gradient is requested.\n"
          ],
          "name": "stdout"
        },
        {
          "output_type": "stream",
          "text": [
            "WARNING:tensorflow:Importing a function (__inference__wrapped_model_399438) with ops with custom gradients. Will likely fail if a gradient is requested.\n"
          ],
          "name": "stderr"
        },
        {
          "output_type": "stream",
          "text": [
            "WARNING:tensorflow:Importing a function (__inference__wrapped_model_399438) with ops with custom gradients. Will likely fail if a gradient is requested.\n"
          ],
          "name": "stdout"
        },
        {
          "output_type": "stream",
          "text": [
            "WARNING:tensorflow:Importing a function (__inference__wrapped_model_399438) with ops with custom gradients. Will likely fail if a gradient is requested.\n"
          ],
          "name": "stderr"
        },
        {
          "output_type": "stream",
          "text": [
            "WARNING:tensorflow:Importing a function (__inference__wrapped_model_399438) with ops with custom gradients. Will likely fail if a gradient is requested.\n"
          ],
          "name": "stdout"
        },
        {
          "output_type": "stream",
          "text": [
            "WARNING:tensorflow:Importing a function (__inference__wrapped_model_399438) with ops with custom gradients. Will likely fail if a gradient is requested.\n"
          ],
          "name": "stderr"
        },
        {
          "output_type": "stream",
          "text": [
            "WARNING:tensorflow:Importing a function (__inference__wrapped_model_399438) with ops with custom gradients. Will likely fail if a gradient is requested.\n"
          ],
          "name": "stdout"
        },
        {
          "output_type": "stream",
          "text": [
            "WARNING:tensorflow:Importing a function (__inference__wrapped_model_399438) with ops with custom gradients. Will likely fail if a gradient is requested.\n"
          ],
          "name": "stderr"
        },
        {
          "output_type": "stream",
          "text": [
            "WARNING:tensorflow:Importing a function (__inference__wrapped_model_399438) with ops with custom gradients. Will likely fail if a gradient is requested.\n"
          ],
          "name": "stdout"
        },
        {
          "output_type": "stream",
          "text": [
            "WARNING:tensorflow:Importing a function (__inference__wrapped_model_399438) with ops with custom gradients. Will likely fail if a gradient is requested.\n"
          ],
          "name": "stderr"
        },
        {
          "output_type": "stream",
          "text": [
            "WARNING:tensorflow:Importing a function (__inference__wrapped_model_399438) with ops with custom gradients. Will likely fail if a gradient is requested.\n"
          ],
          "name": "stdout"
        },
        {
          "output_type": "stream",
          "text": [
            "WARNING:tensorflow:Importing a function (__inference__wrapped_model_399438) with ops with custom gradients. Will likely fail if a gradient is requested.\n"
          ],
          "name": "stderr"
        },
        {
          "output_type": "stream",
          "text": [
            "WARNING:tensorflow:Importing a function (__inference__wrapped_model_399438) with ops with custom gradients. Will likely fail if a gradient is requested.\n"
          ],
          "name": "stdout"
        },
        {
          "output_type": "stream",
          "text": [
            "WARNING:tensorflow:Importing a function (__inference__wrapped_model_399438) with ops with custom gradients. Will likely fail if a gradient is requested.\n"
          ],
          "name": "stderr"
        },
        {
          "output_type": "stream",
          "text": [
            "WARNING:tensorflow:Importing a function (__inference__wrapped_model_399438) with ops with custom gradients. Will likely fail if a gradient is requested.\n"
          ],
          "name": "stdout"
        },
        {
          "output_type": "stream",
          "text": [
            "WARNING:tensorflow:Importing a function (__inference__wrapped_model_399438) with ops with custom gradients. Will likely fail if a gradient is requested.\n"
          ],
          "name": "stderr"
        },
        {
          "output_type": "stream",
          "text": [
            "WARNING:tensorflow:Importing a function (__inference__wrapped_model_399438) with ops with custom gradients. Will likely fail if a gradient is requested.\n"
          ],
          "name": "stdout"
        },
        {
          "output_type": "stream",
          "text": [
            "WARNING:tensorflow:Importing a function (__inference__wrapped_model_399438) with ops with custom gradients. Will likely fail if a gradient is requested.\n"
          ],
          "name": "stderr"
        },
        {
          "output_type": "stream",
          "text": [
            "WARNING:tensorflow:Importing a function (__inference__wrapped_model_399438) with ops with custom gradients. Will likely fail if a gradient is requested.\n"
          ],
          "name": "stdout"
        },
        {
          "output_type": "stream",
          "text": [
            "WARNING:tensorflow:Importing a function (__inference__wrapped_model_399438) with ops with custom gradients. Will likely fail if a gradient is requested.\n"
          ],
          "name": "stderr"
        },
        {
          "output_type": "stream",
          "text": [
            "WARNING:tensorflow:Importing a function (__inference__wrapped_model_399438) with ops with custom gradients. Will likely fail if a gradient is requested.\n"
          ],
          "name": "stdout"
        },
        {
          "output_type": "stream",
          "text": [
            "WARNING:tensorflow:Importing a function (__inference__wrapped_model_399438) with ops with custom gradients. Will likely fail if a gradient is requested.\n"
          ],
          "name": "stderr"
        },
        {
          "output_type": "stream",
          "text": [
            "WARNING:tensorflow:Importing a function (__inference__wrapped_model_399438) with ops with custom gradients. Will likely fail if a gradient is requested.\n"
          ],
          "name": "stdout"
        },
        {
          "output_type": "stream",
          "text": [
            "WARNING:tensorflow:Importing a function (__inference__wrapped_model_399438) with ops with custom gradients. Will likely fail if a gradient is requested.\n"
          ],
          "name": "stderr"
        },
        {
          "output_type": "stream",
          "text": [
            "WARNING:tensorflow:Importing a function (__inference__wrapped_model_399438) with ops with custom gradients. Will likely fail if a gradient is requested.\n"
          ],
          "name": "stdout"
        },
        {
          "output_type": "stream",
          "text": [
            "WARNING:tensorflow:Importing a function (__inference__wrapped_model_399438) with ops with custom gradients. Will likely fail if a gradient is requested.\n"
          ],
          "name": "stderr"
        },
        {
          "output_type": "stream",
          "text": [
            "WARNING:tensorflow:Importing a function (__inference__wrapped_model_399438) with ops with custom gradients. Will likely fail if a gradient is requested.\n"
          ],
          "name": "stdout"
        },
        {
          "output_type": "stream",
          "text": [
            "WARNING:tensorflow:Importing a function (__inference__wrapped_model_399438) with ops with custom gradients. Will likely fail if a gradient is requested.\n"
          ],
          "name": "stderr"
        },
        {
          "output_type": "stream",
          "text": [
            "WARNING:tensorflow:Importing a function (__inference__wrapped_model_399438) with ops with custom gradients. Will likely fail if a gradient is requested.\n"
          ],
          "name": "stdout"
        },
        {
          "output_type": "stream",
          "text": [
            "WARNING:tensorflow:Importing a function (__inference__wrapped_model_399438) with ops with custom gradients. Will likely fail if a gradient is requested.\n"
          ],
          "name": "stderr"
        },
        {
          "output_type": "stream",
          "text": [
            "WARNING:tensorflow:Importing a function (__inference__wrapped_model_399438) with ops with custom gradients. Will likely fail if a gradient is requested.\n"
          ],
          "name": "stdout"
        },
        {
          "output_type": "stream",
          "text": [
            "WARNING:tensorflow:Importing a function (__inference__wrapped_model_399438) with ops with custom gradients. Will likely fail if a gradient is requested.\n"
          ],
          "name": "stderr"
        },
        {
          "output_type": "stream",
          "text": [
            "WARNING:tensorflow:Importing a function (__inference__wrapped_model_399438) with ops with custom gradients. Will likely fail if a gradient is requested.\n"
          ],
          "name": "stdout"
        },
        {
          "output_type": "stream",
          "text": [
            "WARNING:tensorflow:Importing a function (__inference__wrapped_model_399438) with ops with custom gradients. Will likely fail if a gradient is requested.\n"
          ],
          "name": "stderr"
        },
        {
          "output_type": "stream",
          "text": [
            "WARNING:tensorflow:Importing a function (__inference__wrapped_model_399438) with ops with custom gradients. Will likely fail if a gradient is requested.\n"
          ],
          "name": "stdout"
        },
        {
          "output_type": "stream",
          "text": [
            "WARNING:tensorflow:Importing a function (__inference__wrapped_model_399438) with ops with custom gradients. Will likely fail if a gradient is requested.\n"
          ],
          "name": "stderr"
        },
        {
          "output_type": "stream",
          "text": [
            "WARNING:tensorflow:Importing a function (__inference__wrapped_model_399438) with ops with custom gradients. Will likely fail if a gradient is requested.\n"
          ],
          "name": "stdout"
        },
        {
          "output_type": "stream",
          "text": [
            "WARNING:tensorflow:Importing a function (__inference__wrapped_model_399438) with ops with custom gradients. Will likely fail if a gradient is requested.\n"
          ],
          "name": "stderr"
        },
        {
          "output_type": "stream",
          "text": [
            "WARNING:tensorflow:Importing a function (__inference__wrapped_model_399438) with ops with custom gradients. Will likely fail if a gradient is requested.\n"
          ],
          "name": "stdout"
        },
        {
          "output_type": "stream",
          "text": [
            "WARNING:tensorflow:Importing a function (__inference__wrapped_model_399438) with ops with custom gradients. Will likely fail if a gradient is requested.\n"
          ],
          "name": "stderr"
        },
        {
          "output_type": "stream",
          "text": [
            "WARNING:tensorflow:Importing a function (__inference__wrapped_model_399438) with ops with custom gradients. Will likely fail if a gradient is requested.\n"
          ],
          "name": "stdout"
        },
        {
          "output_type": "stream",
          "text": [
            "WARNING:tensorflow:Importing a function (__inference__wrapped_model_399438) with ops with custom gradients. Will likely fail if a gradient is requested.\n"
          ],
          "name": "stderr"
        },
        {
          "output_type": "stream",
          "text": [
            "WARNING:tensorflow:Importing a function (__inference__wrapped_model_399438) with ops with custom gradients. Will likely fail if a gradient is requested.\n"
          ],
          "name": "stdout"
        },
        {
          "output_type": "stream",
          "text": [
            "WARNING:tensorflow:Importing a function (__inference__wrapped_model_399438) with ops with custom gradients. Will likely fail if a gradient is requested.\n"
          ],
          "name": "stderr"
        },
        {
          "output_type": "stream",
          "text": [
            "WARNING:tensorflow:Importing a function (__inference__wrapped_model_399438) with ops with custom gradients. Will likely fail if a gradient is requested.\n"
          ],
          "name": "stdout"
        },
        {
          "output_type": "stream",
          "text": [
            "WARNING:tensorflow:Importing a function (__inference__wrapped_model_399438) with ops with custom gradients. Will likely fail if a gradient is requested.\n"
          ],
          "name": "stderr"
        },
        {
          "output_type": "stream",
          "text": [
            "WARNING:tensorflow:Importing a function (__inference__wrapped_model_399438) with ops with custom gradients. Will likely fail if a gradient is requested.\n"
          ],
          "name": "stdout"
        },
        {
          "output_type": "stream",
          "text": [
            "WARNING:tensorflow:Importing a function (__inference__wrapped_model_399438) with ops with custom gradients. Will likely fail if a gradient is requested.\n"
          ],
          "name": "stderr"
        },
        {
          "output_type": "stream",
          "text": [
            "WARNING:tensorflow:Importing a function (__inference__wrapped_model_399438) with ops with custom gradients. Will likely fail if a gradient is requested.\n"
          ],
          "name": "stdout"
        },
        {
          "output_type": "stream",
          "text": [
            "WARNING:tensorflow:Importing a function (__inference__wrapped_model_399438) with ops with custom gradients. Will likely fail if a gradient is requested.\n"
          ],
          "name": "stderr"
        },
        {
          "output_type": "stream",
          "text": [
            "WARNING:tensorflow:Importing a function (__inference__wrapped_model_399438) with ops with custom gradients. Will likely fail if a gradient is requested.\n"
          ],
          "name": "stdout"
        },
        {
          "output_type": "stream",
          "text": [
            "WARNING:tensorflow:Importing a function (__inference__wrapped_model_399438) with ops with custom gradients. Will likely fail if a gradient is requested.\n"
          ],
          "name": "stderr"
        },
        {
          "output_type": "stream",
          "text": [
            "WARNING:tensorflow:Importing a function (__inference_block5b_expand_activation_layer_call_and_return_conditional_losses_502641) with ops with custom gradients. Will likely fail if a gradient is requested.\n"
          ],
          "name": "stdout"
        },
        {
          "output_type": "stream",
          "text": [
            "WARNING:tensorflow:Importing a function (__inference_block5b_expand_activation_layer_call_and_return_conditional_losses_502641) with ops with custom gradients. Will likely fail if a gradient is requested.\n"
          ],
          "name": "stderr"
        }
      ]
    },
    {
      "cell_type": "code",
      "metadata": {
        "id": "BSho2GgC-j0l"
      },
      "source": [
        "conv_model = keras.models.Model(inputs=[model.layers[9].layers[0].input],outputs=[model.layers[9].layers[45].output])\r\n"
      ],
      "execution_count": 136,
      "outputs": []
    },
    {
      "cell_type": "code",
      "metadata": {
        "id": "MBi1tRUGBXK9",
        "outputId": "8332af56-07c9-4f63-dcc1-d2f51f7d3fa2",
        "colab": {
          "base_uri": "https://localhost:8080/",
          "height": 36
        }
      },
      "source": [
        "model.layers[9].layers[45].name"
      ],
      "execution_count": 135,
      "outputs": [
        {
          "output_type": "execute_result",
          "data": {
            "application/vnd.google.colaboratory.intrinsic+json": {
              "type": "string"
            },
            "text/plain": [
              "'block2b_add'"
            ]
          },
          "metadata": {
            "tags": []
          },
          "execution_count": 135
        }
      ]
    },
    {
      "cell_type": "code",
      "metadata": {
        "id": "K3JfK17S-j6c"
      },
      "source": [
        "from matplotlib import image\r\n",
        "data=image.imread('ISIC_1412843.jpg')\r\n",
        "data = np.expand_dims(data,0)"
      ],
      "execution_count": 63,
      "outputs": []
    },
    {
      "cell_type": "code",
      "metadata": {
        "id": "a_Iuj6o5A5me",
        "outputId": "f81c1df4-a2dc-4450-f293-99bb170f0c44",
        "colab": {
          "base_uri": "https://localhost:8080/",
          "height": 268
        }
      },
      "source": [
        "img = conv_model.predict(data)\r\n",
        "\r\n",
        "plt.imshow(img[0,:,:,20],cmap='gray')\r\n",
        "image.imsave('papiez.png',img[0,:,:,3],cmap='gray')"
      ],
      "execution_count": 145,
      "outputs": [
        {
          "output_type": "display_data",
          "data": {
            "image/png": "[encoded data removed]",
            "text/plain": [
              "<Figure size 432x288 with 1 Axes>"
            ]
          },
          "metadata": {
            "tags": [],
            "needs_background": "light"
          }
        }
      ]
    },
    {
      "cell_type": "code",
      "metadata": {
        "id": "h9WTqAA7Hd97",
        "pycharm": {
          "name": "#%%\n"
        }
      },
      "source": [
        "log_dir = get_log_dir(CONFIG)\n",
        "zip_name = os.path.basename(log_dir) + '.zip'\n",
        "!zip -r $zip_name $log_dir"
      ],
      "execution_count": null,
      "outputs": []
    },
    {
      "cell_type": "code",
      "metadata": {
        "id": "Ij3oPfp3ZkG-",
        "colab": {
          "base_uri": "https://localhost:8080/",
          "height": 302
        },
        "outputId": "69b31375-e900-4f6f-c17f-ba5fd4893167"
      },
      "source": [
        "i = 11\n",
        "plt.plot(logs['auc'][i])\n",
        "plt.plot(logs['val_auc'][i])\n",
        "suma = 0\n",
        "n = 15\n",
        "a = []\n",
        "for k in range(n):\n",
        " suma += np.max(logs['val_auc'][k])\n",
        " a.append(np.max(logs['val_auc'][k]))\n",
        "print(np.std(a))\n",
        "suma/n\n",
        "#np.max(logs['val_auc'][i])"
      ],
      "execution_count": null,
      "outputs": [
        {
          "output_type": "stream",
          "text": [
            "0.016549209867888832\n"
          ],
          "name": "stdout"
        },
        {
          "output_type": "execute_result",
          "data": {
            "text/plain": [
              "0.7174957354863485"
            ]
          },
          "metadata": {
            "tags": []
          },
          "execution_count": 10
        },
        {
          "output_type": "display_data",
          "data": {
            "image/png": "[encoded data removed]",
            "text/plain": [
              "<Figure size 432x288 with 1 Axes>"
            ]
          },
          "metadata": {
            "tags": [],
            "needs_background": "light"
          }
        }
      ]
    },
    {
      "cell_type": "code",
      "metadata": {
        "id": "Lq6QdZ8E-bPX"
      },
      "source": [
        ""
      ],
      "execution_count": null,
      "outputs": []
    }
  ]
}