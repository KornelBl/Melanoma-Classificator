{
  "nbformat": 4,
  "nbformat_minor": 0,
  "metadata": {
    "colab": {
      "name": "Kopia notatnika Untitled",
      "provenance": [],
      "collapsed_sections": []
    },
    "kernelspec": {
      "name": "python3",
      "language": "python",
      "display_name": "Python 3"
    },
    "pycharm": {
      "stem_cell": {
        "cell_type": "raw",
        "source": [],
        "metadata": {
          "collapsed": false
        }
      }
    },
    "accelerator": "TPU"
  },
  "cells": [
    {
      "cell_type": "code",
      "metadata": {
        "id": "takW5YtZd2w4",
        "pycharm": {
          "is_executing": false
        },
        "outputId": "e47d0cd8-1198-4b53-d78b-5431c69fc9f5",
        "colab": {
          "base_uri": "https://localhost:8080/",
          "height": 35
        }
      },
      "source": [
        "import os, re, time, json\n",
        "import PIL.Image, PIL.ImageFont, PIL.ImageDraw\n",
        "import numpy as np\n",
        "import tensorflow as tf\n",
        "import google\n",
        "from matplotlib import pyplot as plt\n",
        "print(\"Tensorflow version \" + tf.__version__)"
      ],
      "execution_count": 1,
      "outputs": [
        {
          "output_type": "stream",
          "text": [
            "Tensorflow version 2.3.0\n"
          ],
          "name": "stdout"
        }
      ]
    },
    {
      "cell_type": "code",
      "metadata": {
        "id": "N3wLMTBEUOw_",
        "pycharm": {
          "is_executing": false
        }
      },
      "source": [
        "import tensorflow as tf\n",
        "import tensorflow.keras as keras\n",
        "\n",
        "from tf_records_generator import get_dataset\n",
        "from efficientNet_B0 import EffNet0\n"
      ],
      "execution_count": 2,
      "outputs": []
    },
    {
      "cell_type": "code",
      "metadata": {
        "id": "o-tkqnadn5x2",
        "pycharm": {
          "is_executing": false
        }
      },
      "source": [
        "CONFIG = dict(\n",
        "    replicas=1,\n",
        "    input_shape=(256, 256, 3),\n",
        "    image_resolution=256,\n",
        "    batch_size=8,\n",
        "    epochs=5,\n",
        "    optimizer='adam',\n",
        "    loss='binary_crossentropy',\n",
        "    metrics=['accuracy'],\n",
        "    output_bias=np.log([584/32542]),\n",
        "    weight_for_0 = (1 / 32542)*(32542+584)/2.0,\n",
        "    weight_for_1 = (1 / 584)*(32542+584)/2.0\n",
        ")"
      ],
      "execution_count": 3,
      "outputs": []
    },
    {
      "cell_type": "code",
      "metadata": {
        "id": "3ps8i099nqD0",
        "pycharm": {
          "is_executing": false
        }
      },
      "source": [
        "IS_COLAB_BACKEND = 'COLAB_GPU' in os.environ  # this is always set on Colab, the value is 0 or 1 depending on GPU presence\n",
        "if IS_COLAB_BACKEND:\n",
        "  from google.colab import auth\n",
        "  # Authenticates the Colab machine and also the TPU using your\n",
        "  # credentials so that they can access your private GCS buckets.\n",
        "  auth.authenticate_user()\n",
        "  data_dir = 'gs://dataset_files/'\n",
        "else:\n",
        "  data_dir = 'dataset/'"
      ],
      "execution_count": 4,
      "outputs": []
    },
    {
      "cell_type": "code",
      "metadata": {
        "id": "QS5omUmCnxAs",
        "pycharm": {
          "is_executing": false
        },
        "outputId": "c47290ea-2c77-4479-bf1c-8c90b62b8f9f",
        "colab": {
          "base_uri": "https://localhost:8080/",
          "height": 808
        }
      },
      "source": [
        "# Detect hardware\n",
        "try:\n",
        "  tpu_resolver = tf.distribute.cluster_resolver.TPUClusterResolver() # TPU detection\n",
        "except ValueError:\n",
        "  tpu_resolver = None\n",
        "  gpus = tf.config.experimental.list_logical_devices(\"GPU\")\n",
        "\n",
        "# Select appropriate distribution strategy\n",
        "if tpu_resolver:\n",
        "  tf.config.experimental_connect_to_cluster(tpu_resolver)\n",
        "  tf.tpu.experimental.initialize_tpu_system(tpu_resolver)\n",
        "  strategy = tf.distribute.TPUStrategy(tpu_resolver)\n",
        "  print('Running on TPU ', tpu_resolver.cluster_spec().as_dict()['worker'])\n",
        "elif len(gpus) > 1:\n",
        "  strategy = tf.distribute.MirroredStrategy([gpu.name for gpu in gpus])\n",
        "  print('Running on multiple GPUs ', [gpu.name for gpu in gpus])\n",
        "elif len(gpus) == 1:\n",
        "  strategy = tf.distribute.get_strategy() # default strategy that works on CPU and single GPU\n",
        "  print('Running on single GPU ', gpus[0].name)\n",
        "else:\n",
        "  strategy = tf.distribute.get_strategy() # default strategy that works on CPU and single GPU\n",
        "  print('Running on CPU')\n",
        "  \n",
        "print(\"Number of accelerators: \", strategy.num_replicas_in_sync)\n",
        "CONFIG[\"replicas\"] = strategy.num_replicas_in_sync\n"
      ],
      "execution_count": 5,
      "outputs": [
        {
          "output_type": "stream",
          "text": [
            "INFO:tensorflow:Initializing the TPU system: grpc://10.6.16.82:8470\n"
          ],
          "name": "stdout"
        },
        {
          "output_type": "stream",
          "text": [
            "INFO:tensorflow:Initializing the TPU system: grpc://10.6.16.82:8470\n"
          ],
          "name": "stderr"
        },
        {
          "output_type": "stream",
          "text": [
            "INFO:tensorflow:Clearing out eager caches\n"
          ],
          "name": "stdout"
        },
        {
          "output_type": "stream",
          "text": [
            "INFO:tensorflow:Clearing out eager caches\n"
          ],
          "name": "stderr"
        },
        {
          "output_type": "stream",
          "text": [
            "INFO:tensorflow:Finished initializing TPU system.\n"
          ],
          "name": "stdout"
        },
        {
          "output_type": "stream",
          "text": [
            "INFO:tensorflow:Finished initializing TPU system.\n"
          ],
          "name": "stderr"
        },
        {
          "output_type": "stream",
          "text": [
            "INFO:tensorflow:Found TPU system:\n"
          ],
          "name": "stdout"
        },
        {
          "output_type": "stream",
          "text": [
            "INFO:tensorflow:Found TPU system:\n"
          ],
          "name": "stderr"
        },
        {
          "output_type": "stream",
          "text": [
            "INFO:tensorflow:*** Num TPU Cores: 8\n"
          ],
          "name": "stdout"
        },
        {
          "output_type": "stream",
          "text": [
            "INFO:tensorflow:*** Num TPU Cores: 8\n"
          ],
          "name": "stderr"
        },
        {
          "output_type": "stream",
          "text": [
            "INFO:tensorflow:*** Num TPU Workers: 1\n"
          ],
          "name": "stdout"
        },
        {
          "output_type": "stream",
          "text": [
            "INFO:tensorflow:*** Num TPU Workers: 1\n"
          ],
          "name": "stderr"
        },
        {
          "output_type": "stream",
          "text": [
            "INFO:tensorflow:*** Num TPU Cores Per Worker: 8\n"
          ],
          "name": "stdout"
        },
        {
          "output_type": "stream",
          "text": [
            "INFO:tensorflow:*** Num TPU Cores Per Worker: 8\n"
          ],
          "name": "stderr"
        },
        {
          "output_type": "stream",
          "text": [
            "INFO:tensorflow:*** Available Device: _DeviceAttributes(/job:localhost/replica:0/task:0/device:CPU:0, CPU, 0, 0)\n"
          ],
          "name": "stdout"
        },
        {
          "output_type": "stream",
          "text": [
            "INFO:tensorflow:*** Available Device: _DeviceAttributes(/job:localhost/replica:0/task:0/device:CPU:0, CPU, 0, 0)\n"
          ],
          "name": "stderr"
        },
        {
          "output_type": "stream",
          "text": [
            "INFO:tensorflow:*** Available Device: _DeviceAttributes(/job:localhost/replica:0/task:0/device:XLA_CPU:0, XLA_CPU, 0, 0)\n"
          ],
          "name": "stdout"
        },
        {
          "output_type": "stream",
          "text": [
            "INFO:tensorflow:*** Available Device: _DeviceAttributes(/job:localhost/replica:0/task:0/device:XLA_CPU:0, XLA_CPU, 0, 0)\n"
          ],
          "name": "stderr"
        },
        {
          "output_type": "stream",
          "text": [
            "INFO:tensorflow:*** Available Device: _DeviceAttributes(/job:worker/replica:0/task:0/device:CPU:0, CPU, 0, 0)\n"
          ],
          "name": "stdout"
        },
        {
          "output_type": "stream",
          "text": [
            "INFO:tensorflow:*** Available Device: _DeviceAttributes(/job:worker/replica:0/task:0/device:CPU:0, CPU, 0, 0)\n"
          ],
          "name": "stderr"
        },
        {
          "output_type": "stream",
          "text": [
            "INFO:tensorflow:*** Available Device: _DeviceAttributes(/job:worker/replica:0/task:0/device:TPU:0, TPU, 0, 0)\n"
          ],
          "name": "stdout"
        },
        {
          "output_type": "stream",
          "text": [
            "INFO:tensorflow:*** Available Device: _DeviceAttributes(/job:worker/replica:0/task:0/device:TPU:0, TPU, 0, 0)\n"
          ],
          "name": "stderr"
        },
        {
          "output_type": "stream",
          "text": [
            "INFO:tensorflow:*** Available Device: _DeviceAttributes(/job:worker/replica:0/task:0/device:TPU:1, TPU, 0, 0)\n"
          ],
          "name": "stdout"
        },
        {
          "output_type": "stream",
          "text": [
            "INFO:tensorflow:*** Available Device: _DeviceAttributes(/job:worker/replica:0/task:0/device:TPU:1, TPU, 0, 0)\n"
          ],
          "name": "stderr"
        },
        {
          "output_type": "stream",
          "text": [
            "INFO:tensorflow:*** Available Device: _DeviceAttributes(/job:worker/replica:0/task:0/device:TPU:2, TPU, 0, 0)\n"
          ],
          "name": "stdout"
        },
        {
          "output_type": "stream",
          "text": [
            "INFO:tensorflow:*** Available Device: _DeviceAttributes(/job:worker/replica:0/task:0/device:TPU:2, TPU, 0, 0)\n"
          ],
          "name": "stderr"
        },
        {
          "output_type": "stream",
          "text": [
            "INFO:tensorflow:*** Available Device: _DeviceAttributes(/job:worker/replica:0/task:0/device:TPU:3, TPU, 0, 0)\n"
          ],
          "name": "stdout"
        },
        {
          "output_type": "stream",
          "text": [
            "INFO:tensorflow:*** Available Device: _DeviceAttributes(/job:worker/replica:0/task:0/device:TPU:3, TPU, 0, 0)\n"
          ],
          "name": "stderr"
        },
        {
          "output_type": "stream",
          "text": [
            "INFO:tensorflow:*** Available Device: _DeviceAttributes(/job:worker/replica:0/task:0/device:TPU:4, TPU, 0, 0)\n"
          ],
          "name": "stdout"
        },
        {
          "output_type": "stream",
          "text": [
            "INFO:tensorflow:*** Available Device: _DeviceAttributes(/job:worker/replica:0/task:0/device:TPU:4, TPU, 0, 0)\n"
          ],
          "name": "stderr"
        },
        {
          "output_type": "stream",
          "text": [
            "INFO:tensorflow:*** Available Device: _DeviceAttributes(/job:worker/replica:0/task:0/device:TPU:5, TPU, 0, 0)\n"
          ],
          "name": "stdout"
        },
        {
          "output_type": "stream",
          "text": [
            "INFO:tensorflow:*** Available Device: _DeviceAttributes(/job:worker/replica:0/task:0/device:TPU:5, TPU, 0, 0)\n"
          ],
          "name": "stderr"
        },
        {
          "output_type": "stream",
          "text": [
            "INFO:tensorflow:*** Available Device: _DeviceAttributes(/job:worker/replica:0/task:0/device:TPU:6, TPU, 0, 0)\n"
          ],
          "name": "stdout"
        },
        {
          "output_type": "stream",
          "text": [
            "INFO:tensorflow:*** Available Device: _DeviceAttributes(/job:worker/replica:0/task:0/device:TPU:6, TPU, 0, 0)\n"
          ],
          "name": "stderr"
        },
        {
          "output_type": "stream",
          "text": [
            "INFO:tensorflow:*** Available Device: _DeviceAttributes(/job:worker/replica:0/task:0/device:TPU:7, TPU, 0, 0)\n"
          ],
          "name": "stdout"
        },
        {
          "output_type": "stream",
          "text": [
            "INFO:tensorflow:*** Available Device: _DeviceAttributes(/job:worker/replica:0/task:0/device:TPU:7, TPU, 0, 0)\n"
          ],
          "name": "stderr"
        },
        {
          "output_type": "stream",
          "text": [
            "INFO:tensorflow:*** Available Device: _DeviceAttributes(/job:worker/replica:0/task:0/device:TPU_SYSTEM:0, TPU_SYSTEM, 0, 0)\n"
          ],
          "name": "stdout"
        },
        {
          "output_type": "stream",
          "text": [
            "INFO:tensorflow:*** Available Device: _DeviceAttributes(/job:worker/replica:0/task:0/device:TPU_SYSTEM:0, TPU_SYSTEM, 0, 0)\n"
          ],
          "name": "stderr"
        },
        {
          "output_type": "stream",
          "text": [
            "INFO:tensorflow:*** Available Device: _DeviceAttributes(/job:worker/replica:0/task:0/device:XLA_CPU:0, XLA_CPU, 0, 0)\n"
          ],
          "name": "stdout"
        },
        {
          "output_type": "stream",
          "text": [
            "INFO:tensorflow:*** Available Device: _DeviceAttributes(/job:worker/replica:0/task:0/device:XLA_CPU:0, XLA_CPU, 0, 0)\n"
          ],
          "name": "stderr"
        },
        {
          "output_type": "stream",
          "text": [
            "Running on TPU  ['10.6.16.82:8470']\n",
            "Number of accelerators:  8\n"
          ],
          "name": "stdout"
        }
      ]
    },
    {
      "cell_type": "code",
      "metadata": {
        "id": "BZm9JTxir68V",
        "pycharm": {
          "is_executing": false
        },
        "outputId": "c34ae723-dcca-47f0-bfad-f3760f49bf75",
        "colab": {
          "base_uri": "https://localhost:8080/",
          "height": 72
        }
      },
      "source": [
        "path = data_dir + str(CONFIG[\"image_resolution\"])\n",
        "files_train = np.sort(np.array(tf.io.gfile.glob(path + '/train*.tfrec')))\n",
        "files_test = np.sort(np.array(tf.io.gfile.glob(path + '/test*.tfrec')))\n",
        "\n",
        "\n",
        "ds = get_dataset(files_train[:-3], CONFIG)\n",
        "val_ds = get_dataset(files_train[-3], CONFIG)\n",
        "test_ds = get_dataset(files_test, CONFIG)"
      ],
      "execution_count": 6,
      "outputs": [
        {
          "output_type": "stream",
          "text": [
            "Tensor(\"ParseSingleExample/ParseExample/ParseExampleV2:3\", shape=(), dtype=string)\n",
            "Tensor(\"ParseSingleExample/ParseExample/ParseExampleV2:3\", shape=(), dtype=string)\n",
            "Tensor(\"ParseSingleExample/ParseExample/ParseExampleV2:3\", shape=(), dtype=string)\n"
          ],
          "name": "stdout"
        }
      ]
    },
    {
      "cell_type": "code",
      "metadata": {
        "id": "gC-WNOmKUIuB",
        "pycharm": {
          "is_executing": false
        },
        "outputId": "900eb299-9ebd-4701-e081-e899968e364b",
        "colab": {
          "base_uri": "https://localhost:8080/",
          "height": 54
        }
      },
      "source": [
        "with strategy.scope():\n",
        "  model = EffNet0(config=CONFIG, trainable_base=True)\n",
        "  model.compile(optimizer=CONFIG[\"optimizer\"], loss=CONFIG[\"loss\"], \n",
        "                metrics=[\n",
        "                              keras.metrics.TruePositives(name='tp'),\n",
        "                              keras.metrics.FalsePositives(name='fp'),\n",
        "                              keras.metrics.TrueNegatives(name='tn'),\n",
        "                              keras.metrics.FalseNegatives(name='fn'), \n",
        "                              keras.metrics.BinaryAccuracy(name='accuracy'),\n",
        "                              keras.metrics.Precision(name='precision'),\n",
        "                              keras.metrics.Recall(name='recall'),\n",
        "                              keras.metrics.AUC(name='auc'),\n",
        "                        ]\n",
        ")\n"
      ],
      "execution_count": 7,
      "outputs": [
        {
          "output_type": "stream",
          "text": [
            "Downloading data from https://storage.googleapis.com/keras-applications/efficientnetb0_notop.h5\n",
            "16711680/16705208 [==============================] - 0s 0us/step\n"
          ],
          "name": "stdout"
        }
      ]
    },
    {
      "cell_type": "code",
      "metadata": {
        "id": "uUQm9wkVGPUs",
        "pycharm": {
          "is_executing": false
        },
        "outputId": "54990949-d1a2-43c4-f39e-4acce345e626",
        "colab": {
          "base_uri": "https://localhost:8080/",
          "height": 1000
        }
      },
      "source": [
        "history = model.fit(ds,class_weight={0:CONFIG[\"weight_for_0\"],1:CONFIG[\"weight_for_1\"]}, validation_data=val_ds,validation_batch_size=CONFIG[\"batch_size\"]*CONFIG[\"replicas\"],\n",
        "                    batch_size=CONFIG[\"batch_size\"]*CONFIG[\"replicas\"], epochs=50)"
      ],
      "execution_count": 8,
      "outputs": [
        {
          "output_type": "stream",
          "text": [
            "Epoch 1/50\n",
            "408/408 [==============================] - 59s 144ms/step - loss: 7.5986 - tp: 167.0000 - fp: 7178.0000 - tn: 18470.0000 - fn: 297.0000 - accuracy: 0.7137 - precision: 0.0227 - recall: 0.3599 - auc: 0.5753 - val_loss: 0.4072 - val_tp: 0.0000e+00 - val_fp: 0.0000e+00 - val_tn: 2137.0000 - val_fn: 39.0000 - val_accuracy: 0.9821 - val_precision: 0.0000e+00 - val_recall: 0.0000e+00 - val_auc: 0.6031\n",
            "Epoch 2/50\n",
            "408/408 [==============================] - 53s 130ms/step - loss: 1.4696 - tp: 221.0000 - fp: 8739.0000 - tn: 16909.0000 - fn: 243.0000 - accuracy: 0.6560 - precision: 0.0247 - recall: 0.4763 - auc: 0.5893 - val_loss: 0.3422 - val_tp: 2.0000 - val_fp: 19.0000 - val_tn: 2118.0000 - val_fn: 37.0000 - val_accuracy: 0.9743 - val_precision: 0.0952 - val_recall: 0.0513 - val_auc: 0.6895\n",
            "Epoch 3/50\n",
            "408/408 [==============================] - 55s 134ms/step - loss: 0.7891 - tp: 231.0000 - fp: 8546.0000 - tn: 17102.0000 - fn: 233.0000 - accuracy: 0.6638 - precision: 0.0263 - recall: 0.4978 - auc: 0.6355 - val_loss: 0.5112 - val_tp: 15.0000 - val_fp: 481.0000 - val_tn: 1656.0000 - val_fn: 24.0000 - val_accuracy: 0.7679 - val_precision: 0.0302 - val_recall: 0.3846 - val_auc: 0.6870\n",
            "Epoch 4/50\n",
            "408/408 [==============================] - 55s 134ms/step - loss: 0.7098 - tp: 270.0000 - fp: 7824.0000 - tn: 17824.0000 - fn: 194.0000 - accuracy: 0.6929 - precision: 0.0334 - recall: 0.5819 - auc: 0.7015 - val_loss: 0.2726 - val_tp: 5.0000 - val_fp: 101.0000 - val_tn: 2036.0000 - val_fn: 34.0000 - val_accuracy: 0.9380 - val_precision: 0.0472 - val_recall: 0.1282 - val_auc: 0.6140\n",
            "Epoch 5/50\n",
            "408/408 [==============================] - 53s 130ms/step - loss: 0.6907 - tp: 272.0000 - fp: 7965.0000 - tn: 17683.0000 - fn: 192.0000 - accuracy: 0.6876 - precision: 0.0330 - recall: 0.5862 - auc: 0.7095 - val_loss: 0.2161 - val_tp: 1.0000 - val_fp: 66.0000 - val_tn: 2071.0000 - val_fn: 38.0000 - val_accuracy: 0.9522 - val_precision: 0.0149 - val_recall: 0.0256 - val_auc: 0.6102\n",
            "Epoch 6/50\n",
            "408/408 [==============================] - 51s 126ms/step - loss: 0.7201 - tp: 261.0000 - fp: 7481.0000 - tn: 18167.0000 - fn: 203.0000 - accuracy: 0.7057 - precision: 0.0337 - recall: 0.5625 - auc: 0.7087 - val_loss: 0.1116 - val_tp: 0.0000e+00 - val_fp: 5.0000 - val_tn: 2132.0000 - val_fn: 39.0000 - val_accuracy: 0.9798 - val_precision: 0.0000e+00 - val_recall: 0.0000e+00 - val_auc: 0.6310\n",
            "Epoch 7/50\n",
            "408/408 [==============================] - 53s 130ms/step - loss: 0.8153 - tp: 231.0000 - fp: 8331.0000 - tn: 17317.0000 - fn: 233.0000 - accuracy: 0.6720 - precision: 0.0270 - recall: 0.4978 - auc: 0.6359 - val_loss: 0.1690 - val_tp: 0.0000e+00 - val_fp: 2.0000 - val_tn: 2135.0000 - val_fn: 39.0000 - val_accuracy: 0.9812 - val_precision: 0.0000e+00 - val_recall: 0.0000e+00 - val_auc: 0.5171\n",
            "Epoch 8/50\n",
            "408/408 [==============================] - 51s 125ms/step - loss: 0.7618 - tp: 250.0000 - fp: 8033.0000 - tn: 17615.0000 - fn: 214.0000 - accuracy: 0.6842 - precision: 0.0302 - recall: 0.5388 - auc: 0.6670 - val_loss: 0.3472 - val_tp: 14.0000 - val_fp: 315.0000 - val_tn: 1822.0000 - val_fn: 25.0000 - val_accuracy: 0.8438 - val_precision: 0.0426 - val_recall: 0.3590 - val_auc: 0.7290\n",
            "Epoch 9/50\n",
            "408/408 [==============================] - 52s 128ms/step - loss: 0.6644 - tp: 280.0000 - fp: 7718.0000 - tn: 17930.0000 - fn: 184.0000 - accuracy: 0.6974 - precision: 0.0350 - recall: 0.6034 - auc: 0.7250 - val_loss: 0.3572 - val_tp: 4.0000 - val_fp: 67.0000 - val_tn: 2070.0000 - val_fn: 35.0000 - val_accuracy: 0.9531 - val_precision: 0.0563 - val_recall: 0.1026 - val_auc: 0.5275\n",
            "Epoch 10/50\n",
            "408/408 [==============================] - 53s 129ms/step - loss: 0.7889 - tp: 238.0000 - fp: 8145.0000 - tn: 17503.0000 - fn: 226.0000 - accuracy: 0.6794 - precision: 0.0284 - recall: 0.5129 - auc: 0.6697 - val_loss: 42.4082 - val_tp: 37.0000 - val_fp: 1939.0000 - val_tn: 198.0000 - val_fn: 2.0000 - val_accuracy: 0.1080 - val_precision: 0.0187 - val_recall: 0.9487 - val_auc: 0.5157\n",
            "Epoch 11/50\n",
            "408/408 [==============================] - 53s 129ms/step - loss: 0.7052 - tp: 261.0000 - fp: 8158.0000 - tn: 17490.0000 - fn: 203.0000 - accuracy: 0.6798 - precision: 0.0310 - recall: 0.5625 - auc: 0.6928 - val_loss: 2.8793 - val_tp: 39.0000 - val_fp: 2137.0000 - val_tn: 0.0000e+00 - val_fn: 0.0000e+00 - val_accuracy: 0.0179 - val_precision: 0.0179 - val_recall: 1.0000 - val_auc: 0.6249\n",
            "Epoch 12/50\n",
            "408/408 [==============================] - 54s 133ms/step - loss: 0.6674 - tp: 292.0000 - fp: 7592.0000 - tn: 18056.0000 - fn: 172.0000 - accuracy: 0.7027 - precision: 0.0370 - recall: 0.6293 - auc: 0.7353 - val_loss: 0.4814 - val_tp: 0.0000e+00 - val_fp: 3.0000 - val_tn: 2134.0000 - val_fn: 39.0000 - val_accuracy: 0.9807 - val_precision: 0.0000e+00 - val_recall: 0.0000e+00 - val_auc: 0.3795\n",
            "Epoch 13/50\n",
            "408/408 [==============================] - 52s 128ms/step - loss: 0.6863 - tp: 296.0000 - fp: 7667.0000 - tn: 17981.0000 - fn: 168.0000 - accuracy: 0.6999 - precision: 0.0372 - recall: 0.6379 - auc: 0.7434 - val_loss: 1.4053 - val_tp: 36.0000 - val_fp: 2086.0000 - val_tn: 51.0000 - val_fn: 3.0000 - val_accuracy: 0.0400 - val_precision: 0.0170 - val_recall: 0.9231 - val_auc: 0.4677\n",
            "Epoch 14/50\n",
            "408/408 [==============================] - 53s 131ms/step - loss: 0.6788 - tp: 288.0000 - fp: 7656.0000 - tn: 17992.0000 - fn: 176.0000 - accuracy: 0.7001 - precision: 0.0363 - recall: 0.6207 - auc: 0.7316 - val_loss: 0.8003 - val_tp: 31.0000 - val_fp: 950.0000 - val_tn: 1187.0000 - val_fn: 8.0000 - val_accuracy: 0.5597 - val_precision: 0.0316 - val_recall: 0.7949 - val_auc: 0.6785\n",
            "Epoch 15/50\n",
            "408/408 [==============================] - 55s 134ms/step - loss: 0.6592 - tp: 300.0000 - fp: 7159.0000 - tn: 18489.0000 - fn: 164.0000 - accuracy: 0.7196 - precision: 0.0402 - recall: 0.6466 - auc: 0.7662 - val_loss: 0.4863 - val_tp: 12.0000 - val_fp: 344.0000 - val_tn: 1793.0000 - val_fn: 27.0000 - val_accuracy: 0.8295 - val_precision: 0.0337 - val_recall: 0.3077 - val_auc: 0.6123\n",
            "Epoch 16/50\n",
            "408/408 [==============================] - 54s 133ms/step - loss: 0.7385 - tp: 260.0000 - fp: 8077.0000 - tn: 17571.0000 - fn: 204.0000 - accuracy: 0.6829 - precision: 0.0312 - recall: 0.5603 - auc: 0.6881 - val_loss: 1.0966 - val_tp: 8.0000 - val_fp: 234.0000 - val_tn: 1903.0000 - val_fn: 31.0000 - val_accuracy: 0.8782 - val_precision: 0.0331 - val_recall: 0.2051 - val_auc: 0.5461\n",
            "Epoch 17/50\n",
            "408/408 [==============================] - 52s 128ms/step - loss: 0.6944 - tp: 270.0000 - fp: 7071.0000 - tn: 18577.0000 - fn: 194.0000 - accuracy: 0.7218 - precision: 0.0368 - recall: 0.5819 - auc: 0.7143 - val_loss: 0.1049 - val_tp: 0.0000e+00 - val_fp: 0.0000e+00 - val_tn: 2137.0000 - val_fn: 39.0000 - val_accuracy: 0.9821 - val_precision: 0.0000e+00 - val_recall: 0.0000e+00 - val_auc: 0.4470\n",
            "Epoch 18/50\n",
            "408/408 [==============================] - 53s 129ms/step - loss: 0.7497 - tp: 226.0000 - fp: 7971.0000 - tn: 17677.0000 - fn: 238.0000 - accuracy: 0.6856 - precision: 0.0276 - recall: 0.4871 - auc: 0.6557 - val_loss: 0.1279 - val_tp: 0.0000e+00 - val_fp: 0.0000e+00 - val_tn: 2137.0000 - val_fn: 39.0000 - val_accuracy: 0.9821 - val_precision: 0.0000e+00 - val_recall: 0.0000e+00 - val_auc: 0.5711\n",
            "Epoch 19/50\n",
            "408/408 [==============================] - 52s 127ms/step - loss: 0.8481 - tp: 212.0000 - fp: 8007.0000 - tn: 17641.0000 - fn: 252.0000 - accuracy: 0.6837 - precision: 0.0258 - recall: 0.4569 - auc: 0.6133 - val_loss: 0.1365 - val_tp: 0.0000e+00 - val_fp: 0.0000e+00 - val_tn: 2137.0000 - val_fn: 39.0000 - val_accuracy: 0.9821 - val_precision: 0.0000e+00 - val_recall: 0.0000e+00 - val_auc: 0.5000\n",
            "Epoch 20/50\n",
            "408/408 [==============================] - 52s 128ms/step - loss: 0.7131 - tp: 244.0000 - fp: 8597.0000 - tn: 17051.0000 - fn: 220.0000 - accuracy: 0.6623 - precision: 0.0276 - recall: 0.5259 - auc: 0.6621 - val_loss: 0.6974 - val_tp: 21.0000 - val_fp: 773.0000 - val_tn: 1364.0000 - val_fn: 18.0000 - val_accuracy: 0.6365 - val_precision: 0.0264 - val_recall: 0.5385 - val_auc: 0.5299\n",
            "Epoch 21/50\n",
            "408/408 [==============================] - 51s 125ms/step - loss: 0.6560 - tp: 280.0000 - fp: 8633.0000 - tn: 17015.0000 - fn: 184.0000 - accuracy: 0.6623 - precision: 0.0314 - recall: 0.6034 - auc: 0.7138 - val_loss: 0.8558 - val_tp: 7.0000 - val_fp: 455.0000 - val_tn: 1682.0000 - val_fn: 32.0000 - val_accuracy: 0.7762 - val_precision: 0.0152 - val_recall: 0.1795 - val_auc: 0.5555\n",
            "Epoch 22/50\n",
            "408/408 [==============================] - 54s 133ms/step - loss: 0.6405 - tp: 284.0000 - fp: 8207.0000 - tn: 17441.0000 - fn: 180.0000 - accuracy: 0.6788 - precision: 0.0334 - recall: 0.6121 - auc: 0.7230 - val_loss: 0.5278 - val_tp: 14.0000 - val_fp: 484.0000 - val_tn: 1653.0000 - val_fn: 25.0000 - val_accuracy: 0.7661 - val_precision: 0.0281 - val_recall: 0.3590 - val_auc: 0.5575\n",
            "Epoch 23/50\n",
            "408/408 [==============================] - 51s 125ms/step - loss: 0.6612 - tp: 286.0000 - fp: 7716.0000 - tn: 17932.0000 - fn: 178.0000 - accuracy: 0.6977 - precision: 0.0357 - recall: 0.6164 - auc: 0.7258 - val_loss: 0.5056 - val_tp: 0.0000e+00 - val_fp: 2.0000 - val_tn: 2135.0000 - val_fn: 39.0000 - val_accuracy: 0.9812 - val_precision: 0.0000e+00 - val_recall: 0.0000e+00 - val_auc: 0.6184\n",
            "Epoch 24/50\n",
            "408/408 [==============================] - 52s 129ms/step - loss: 0.7836 - tp: 242.0000 - fp: 7825.0000 - tn: 17823.0000 - fn: 222.0000 - accuracy: 0.6918 - precision: 0.0300 - recall: 0.5216 - auc: 0.6714 - val_loss: 0.5270 - val_tp: 8.0000 - val_fp: 322.0000 - val_tn: 1815.0000 - val_fn: 31.0000 - val_accuracy: 0.8378 - val_precision: 0.0242 - val_recall: 0.2051 - val_auc: 0.5053\n",
            "Epoch 25/50\n",
            "408/408 [==============================] - 51s 126ms/step - loss: 0.7748 - tp: 205.0000 - fp: 7554.0000 - tn: 18094.0000 - fn: 259.0000 - accuracy: 0.7008 - precision: 0.0264 - recall: 0.4418 - auc: 0.6349 - val_loss: 0.1445 - val_tp: 0.0000e+00 - val_fp: 0.0000e+00 - val_tn: 2137.0000 - val_fn: 39.0000 - val_accuracy: 0.9821 - val_precision: 0.0000e+00 - val_recall: 0.0000e+00 - val_auc: 0.6143\n",
            "Epoch 26/50\n",
            "408/408 [==============================] - 52s 127ms/step - loss: 0.8494 - tp: 209.0000 - fp: 7560.0000 - tn: 18088.0000 - fn: 255.0000 - accuracy: 0.7007 - precision: 0.0269 - recall: 0.4504 - auc: 0.6259 - val_loss: 0.1688 - val_tp: 0.0000e+00 - val_fp: 0.0000e+00 - val_tn: 2137.0000 - val_fn: 39.0000 - val_accuracy: 0.9821 - val_precision: 0.0000e+00 - val_recall: 0.0000e+00 - val_auc: 0.3501\n",
            "Epoch 27/50\n",
            "408/408 [==============================] - 52s 127ms/step - loss: 0.7008 - tp: 271.0000 - fp: 8428.0000 - tn: 17220.0000 - fn: 193.0000 - accuracy: 0.6698 - precision: 0.0312 - recall: 0.5841 - auc: 0.6825 - val_loss: 0.3029 - val_tp: 15.0000 - val_fp: 500.0000 - val_tn: 1637.0000 - val_fn: 24.0000 - val_accuracy: 0.7592 - val_precision: 0.0291 - val_recall: 0.3846 - val_auc: 0.6932\n",
            "Epoch 28/50\n",
            "408/408 [==============================] - 51s 124ms/step - loss: 0.6716 - tp: 279.0000 - fp: 8401.0000 - tn: 17247.0000 - fn: 185.0000 - accuracy: 0.6712 - precision: 0.0321 - recall: 0.6013 - auc: 0.6941 - val_loss: 0.2980 - val_tp: 0.0000e+00 - val_fp: 0.0000e+00 - val_tn: 2137.0000 - val_fn: 39.0000 - val_accuracy: 0.9821 - val_precision: 0.0000e+00 - val_recall: 0.0000e+00 - val_auc: 0.6671\n",
            "Epoch 29/50\n",
            "408/408 [==============================] - 53s 130ms/step - loss: 0.7188 - tp: 248.0000 - fp: 8235.0000 - tn: 17413.0000 - fn: 216.0000 - accuracy: 0.6764 - precision: 0.0292 - recall: 0.5345 - auc: 0.6675 - val_loss: 4.8132 - val_tp: 39.0000 - val_fp: 2137.0000 - val_tn: 0.0000e+00 - val_fn: 0.0000e+00 - val_accuracy: 0.0179 - val_precision: 0.0179 - val_recall: 1.0000 - val_auc: 0.4566\n",
            "Epoch 30/50\n",
            "408/408 [==============================] - 54s 133ms/step - loss: 0.7317 - tp: 249.0000 - fp: 8097.0000 - tn: 17551.0000 - fn: 215.0000 - accuracy: 0.6817 - precision: 0.0298 - recall: 0.5366 - auc: 0.6535 - val_loss: 0.7731 - val_tp: 39.0000 - val_fp: 2137.0000 - val_tn: 0.0000e+00 - val_fn: 0.0000e+00 - val_accuracy: 0.0179 - val_precision: 0.0179 - val_recall: 1.0000 - val_auc: 0.6410\n",
            "Epoch 31/50\n",
            "408/408 [==============================] - 54s 132ms/step - loss: 0.7308 - tp: 264.0000 - fp: 8516.0000 - tn: 17132.0000 - fn: 200.0000 - accuracy: 0.6662 - precision: 0.0301 - recall: 0.5690 - auc: 0.6656 - val_loss: 0.1725 - val_tp: 0.0000e+00 - val_fp: 0.0000e+00 - val_tn: 2137.0000 - val_fn: 39.0000 - val_accuracy: 0.9821 - val_precision: 0.0000e+00 - val_recall: 0.0000e+00 - val_auc: 0.6523\n",
            "Epoch 32/50\n",
            "408/408 [==============================] - 52s 127ms/step - loss: 0.6274 - tp: 314.0000 - fp: 9142.0000 - tn: 16506.0000 - fn: 150.0000 - accuracy: 0.6441 - precision: 0.0332 - recall: 0.6767 - auc: 0.7180 - val_loss: 0.5229 - val_tp: 26.0000 - val_fp: 702.0000 - val_tn: 1435.0000 - val_fn: 13.0000 - val_accuracy: 0.6714 - val_precision: 0.0357 - val_recall: 0.6667 - val_auc: 0.7418\n",
            "Epoch 33/50\n",
            "408/408 [==============================] - 53s 131ms/step - loss: 0.6145 - tp: 312.0000 - fp: 9306.0000 - tn: 16342.0000 - fn: 152.0000 - accuracy: 0.6378 - precision: 0.0324 - recall: 0.6724 - auc: 0.7189 - val_loss: 0.1564 - val_tp: 0.0000e+00 - val_fp: 1.0000 - val_tn: 2136.0000 - val_fn: 39.0000 - val_accuracy: 0.9816 - val_precision: 0.0000e+00 - val_recall: 0.0000e+00 - val_auc: 0.6504\n",
            "Epoch 34/50\n",
            "408/408 [==============================] - 52s 127ms/step - loss: 0.6083 - tp: 322.0000 - fp: 9263.0000 - tn: 16385.0000 - fn: 142.0000 - accuracy: 0.6398 - precision: 0.0336 - recall: 0.6940 - auc: 0.7308 - val_loss: 0.3599 - val_tp: 13.0000 - val_fp: 346.0000 - val_tn: 1791.0000 - val_fn: 26.0000 - val_accuracy: 0.8290 - val_precision: 0.0362 - val_recall: 0.3333 - val_auc: 0.6178\n",
            "Epoch 35/50\n",
            "408/408 [==============================] - 53s 130ms/step - loss: 0.7024 - tp: 288.0000 - fp: 8961.0000 - tn: 16687.0000 - fn: 176.0000 - accuracy: 0.6501 - precision: 0.0311 - recall: 0.6207 - auc: 0.7034 - val_loss: 0.1385 - val_tp: 0.0000e+00 - val_fp: 4.0000 - val_tn: 2133.0000 - val_fn: 39.0000 - val_accuracy: 0.9802 - val_precision: 0.0000e+00 - val_recall: 0.0000e+00 - val_auc: 0.5283\n",
            "Epoch 36/50\n",
            "408/408 [==============================] - 53s 129ms/step - loss: 0.8411 - tp: 272.0000 - fp: 9322.0000 - tn: 16326.0000 - fn: 192.0000 - accuracy: 0.6356 - precision: 0.0284 - recall: 0.5862 - auc: 0.6546 - val_loss: 0.1846 - val_tp: 0.0000e+00 - val_fp: 0.0000e+00 - val_tn: 2137.0000 - val_fn: 39.0000 - val_accuracy: 0.9821 - val_precision: 0.0000e+00 - val_recall: 0.0000e+00 - val_auc: 0.5387\n",
            "Epoch 37/50\n",
            "257/408 [=================>............] - ETA: 19s - loss: 0.6577 - tp: 164.0000 - fp: 5513.0000 - tn: 10654.0000 - fn: 117.0000 - accuracy: 0.6577 - precision: 0.0289 - recall: 0.5836 - auc: 0.6803"
          ],
          "name": "stdout"
        },
        {
          "output_type": "error",
          "ename": "KeyboardInterrupt",
          "evalue": "ignored",
          "traceback": [
            "\u001b[0;31m---------------------------------------------------------------------------\u001b[0m",
            "\u001b[0;31mKeyboardInterrupt\u001b[0m                         Traceback (most recent call last)",
            "\u001b[0;32m<ipython-input-8-fd08176282bf>\u001b[0m in \u001b[0;36m<module>\u001b[0;34m()\u001b[0m\n\u001b[1;32m      1\u001b[0m history = model.fit(ds,class_weight={0:CONFIG[\"weight_for_0\"],1:CONFIG[\"weight_for_1\"]}, validation_data=val_ds,validation_batch_size=CONFIG[\"batch_size\"]*CONFIG[\"replicas\"],\n\u001b[0;32m----> 2\u001b[0;31m                     batch_size=CONFIG[\"batch_size\"]*CONFIG[\"replicas\"], epochs=50)\n\u001b[0m",
            "\u001b[0;32m/usr/local/lib/python3.6/dist-packages/tensorflow/python/keras/engine/training.py\u001b[0m in \u001b[0;36m_method_wrapper\u001b[0;34m(self, *args, **kwargs)\u001b[0m\n\u001b[1;32m    106\u001b[0m   \u001b[0;32mdef\u001b[0m \u001b[0m_method_wrapper\u001b[0m\u001b[0;34m(\u001b[0m\u001b[0mself\u001b[0m\u001b[0;34m,\u001b[0m \u001b[0;34m*\u001b[0m\u001b[0margs\u001b[0m\u001b[0;34m,\u001b[0m \u001b[0;34m**\u001b[0m\u001b[0mkwargs\u001b[0m\u001b[0;34m)\u001b[0m\u001b[0;34m:\u001b[0m\u001b[0;34m\u001b[0m\u001b[0;34m\u001b[0m\u001b[0m\n\u001b[1;32m    107\u001b[0m     \u001b[0;32mif\u001b[0m \u001b[0;32mnot\u001b[0m \u001b[0mself\u001b[0m\u001b[0;34m.\u001b[0m\u001b[0m_in_multi_worker_mode\u001b[0m\u001b[0;34m(\u001b[0m\u001b[0;34m)\u001b[0m\u001b[0;34m:\u001b[0m  \u001b[0;31m# pylint: disable=protected-access\u001b[0m\u001b[0;34m\u001b[0m\u001b[0;34m\u001b[0m\u001b[0m\n\u001b[0;32m--> 108\u001b[0;31m       \u001b[0;32mreturn\u001b[0m \u001b[0mmethod\u001b[0m\u001b[0;34m(\u001b[0m\u001b[0mself\u001b[0m\u001b[0;34m,\u001b[0m \u001b[0;34m*\u001b[0m\u001b[0margs\u001b[0m\u001b[0;34m,\u001b[0m \u001b[0;34m**\u001b[0m\u001b[0mkwargs\u001b[0m\u001b[0;34m)\u001b[0m\u001b[0;34m\u001b[0m\u001b[0;34m\u001b[0m\u001b[0m\n\u001b[0m\u001b[1;32m    109\u001b[0m \u001b[0;34m\u001b[0m\u001b[0m\n\u001b[1;32m    110\u001b[0m     \u001b[0;31m# Running inside `run_distribute_coordinator` already.\u001b[0m\u001b[0;34m\u001b[0m\u001b[0;34m\u001b[0m\u001b[0;34m\u001b[0m\u001b[0m\n",
            "\u001b[0;32m/usr/local/lib/python3.6/dist-packages/tensorflow/python/keras/engine/training.py\u001b[0m in \u001b[0;36mfit\u001b[0;34m(self, x, y, batch_size, epochs, verbose, callbacks, validation_split, validation_data, shuffle, class_weight, sample_weight, initial_epoch, steps_per_epoch, validation_steps, validation_batch_size, validation_freq, max_queue_size, workers, use_multiprocessing)\u001b[0m\n\u001b[1;32m   1101\u001b[0m               \u001b[0mlogs\u001b[0m \u001b[0;34m=\u001b[0m \u001b[0mtmp_logs\u001b[0m  \u001b[0;31m# No error, now safe to assign to logs.\u001b[0m\u001b[0;34m\u001b[0m\u001b[0;34m\u001b[0m\u001b[0m\n\u001b[1;32m   1102\u001b[0m               \u001b[0mend_step\u001b[0m \u001b[0;34m=\u001b[0m \u001b[0mstep\u001b[0m \u001b[0;34m+\u001b[0m \u001b[0mdata_handler\u001b[0m\u001b[0;34m.\u001b[0m\u001b[0mstep_increment\u001b[0m\u001b[0;34m\u001b[0m\u001b[0;34m\u001b[0m\u001b[0m\n\u001b[0;32m-> 1103\u001b[0;31m               \u001b[0mcallbacks\u001b[0m\u001b[0;34m.\u001b[0m\u001b[0mon_train_batch_end\u001b[0m\u001b[0;34m(\u001b[0m\u001b[0mend_step\u001b[0m\u001b[0;34m,\u001b[0m \u001b[0mlogs\u001b[0m\u001b[0;34m)\u001b[0m\u001b[0;34m\u001b[0m\u001b[0;34m\u001b[0m\u001b[0m\n\u001b[0m\u001b[1;32m   1104\u001b[0m         \u001b[0mepoch_logs\u001b[0m \u001b[0;34m=\u001b[0m \u001b[0mcopy\u001b[0m\u001b[0;34m.\u001b[0m\u001b[0mcopy\u001b[0m\u001b[0;34m(\u001b[0m\u001b[0mlogs\u001b[0m\u001b[0;34m)\u001b[0m\u001b[0;34m\u001b[0m\u001b[0;34m\u001b[0m\u001b[0m\n\u001b[1;32m   1105\u001b[0m \u001b[0;34m\u001b[0m\u001b[0m\n",
            "\u001b[0;32m/usr/local/lib/python3.6/dist-packages/tensorflow/python/keras/callbacks.py\u001b[0m in \u001b[0;36mon_train_batch_end\u001b[0;34m(self, batch, logs)\u001b[0m\n\u001b[1;32m    438\u001b[0m     \"\"\"\n\u001b[1;32m    439\u001b[0m     \u001b[0;32mif\u001b[0m \u001b[0mself\u001b[0m\u001b[0;34m.\u001b[0m\u001b[0m_should_call_train_batch_hooks\u001b[0m\u001b[0;34m:\u001b[0m\u001b[0;34m\u001b[0m\u001b[0;34m\u001b[0m\u001b[0m\n\u001b[0;32m--> 440\u001b[0;31m       \u001b[0mself\u001b[0m\u001b[0;34m.\u001b[0m\u001b[0m_call_batch_hook\u001b[0m\u001b[0;34m(\u001b[0m\u001b[0mModeKeys\u001b[0m\u001b[0;34m.\u001b[0m\u001b[0mTRAIN\u001b[0m\u001b[0;34m,\u001b[0m \u001b[0;34m'end'\u001b[0m\u001b[0;34m,\u001b[0m \u001b[0mbatch\u001b[0m\u001b[0;34m,\u001b[0m \u001b[0mlogs\u001b[0m\u001b[0;34m=\u001b[0m\u001b[0mlogs\u001b[0m\u001b[0;34m)\u001b[0m\u001b[0;34m\u001b[0m\u001b[0;34m\u001b[0m\u001b[0m\n\u001b[0m\u001b[1;32m    441\u001b[0m \u001b[0;34m\u001b[0m\u001b[0m\n\u001b[1;32m    442\u001b[0m   \u001b[0;32mdef\u001b[0m \u001b[0mon_test_batch_begin\u001b[0m\u001b[0;34m(\u001b[0m\u001b[0mself\u001b[0m\u001b[0;34m,\u001b[0m \u001b[0mbatch\u001b[0m\u001b[0;34m,\u001b[0m \u001b[0mlogs\u001b[0m\u001b[0;34m=\u001b[0m\u001b[0;32mNone\u001b[0m\u001b[0;34m)\u001b[0m\u001b[0;34m:\u001b[0m\u001b[0;34m\u001b[0m\u001b[0;34m\u001b[0m\u001b[0m\n",
            "\u001b[0;32m/usr/local/lib/python3.6/dist-packages/tensorflow/python/keras/callbacks.py\u001b[0m in \u001b[0;36m_call_batch_hook\u001b[0;34m(self, mode, hook, batch, logs)\u001b[0m\n\u001b[1;32m    287\u001b[0m       \u001b[0mself\u001b[0m\u001b[0;34m.\u001b[0m\u001b[0m_call_batch_begin_hook\u001b[0m\u001b[0;34m(\u001b[0m\u001b[0mmode\u001b[0m\u001b[0;34m,\u001b[0m \u001b[0mbatch\u001b[0m\u001b[0;34m,\u001b[0m \u001b[0mlogs\u001b[0m\u001b[0;34m)\u001b[0m\u001b[0;34m\u001b[0m\u001b[0;34m\u001b[0m\u001b[0m\n\u001b[1;32m    288\u001b[0m     \u001b[0;32melif\u001b[0m \u001b[0mhook\u001b[0m \u001b[0;34m==\u001b[0m \u001b[0;34m'end'\u001b[0m\u001b[0;34m:\u001b[0m\u001b[0;34m\u001b[0m\u001b[0;34m\u001b[0m\u001b[0m\n\u001b[0;32m--> 289\u001b[0;31m       \u001b[0mself\u001b[0m\u001b[0;34m.\u001b[0m\u001b[0m_call_batch_end_hook\u001b[0m\u001b[0;34m(\u001b[0m\u001b[0mmode\u001b[0m\u001b[0;34m,\u001b[0m \u001b[0mbatch\u001b[0m\u001b[0;34m,\u001b[0m \u001b[0mlogs\u001b[0m\u001b[0;34m)\u001b[0m\u001b[0;34m\u001b[0m\u001b[0;34m\u001b[0m\u001b[0m\n\u001b[0m\u001b[1;32m    290\u001b[0m     \u001b[0;32melse\u001b[0m\u001b[0;34m:\u001b[0m\u001b[0;34m\u001b[0m\u001b[0;34m\u001b[0m\u001b[0m\n\u001b[1;32m    291\u001b[0m       \u001b[0;32mraise\u001b[0m \u001b[0mValueError\u001b[0m\u001b[0;34m(\u001b[0m\u001b[0;34m'Unrecognized hook: {}'\u001b[0m\u001b[0;34m.\u001b[0m\u001b[0mformat\u001b[0m\u001b[0;34m(\u001b[0m\u001b[0mhook\u001b[0m\u001b[0;34m)\u001b[0m\u001b[0;34m)\u001b[0m\u001b[0;34m\u001b[0m\u001b[0;34m\u001b[0m\u001b[0m\n",
            "\u001b[0;32m/usr/local/lib/python3.6/dist-packages/tensorflow/python/keras/callbacks.py\u001b[0m in \u001b[0;36m_call_batch_end_hook\u001b[0;34m(self, mode, batch, logs)\u001b[0m\n\u001b[1;32m    307\u001b[0m       \u001b[0mbatch_time\u001b[0m \u001b[0;34m=\u001b[0m \u001b[0mtime\u001b[0m\u001b[0;34m.\u001b[0m\u001b[0mtime\u001b[0m\u001b[0;34m(\u001b[0m\u001b[0;34m)\u001b[0m \u001b[0;34m-\u001b[0m \u001b[0mself\u001b[0m\u001b[0;34m.\u001b[0m\u001b[0m_batch_start_time\u001b[0m\u001b[0;34m\u001b[0m\u001b[0;34m\u001b[0m\u001b[0m\n\u001b[1;32m    308\u001b[0m \u001b[0;34m\u001b[0m\u001b[0m\n\u001b[0;32m--> 309\u001b[0;31m     \u001b[0mself\u001b[0m\u001b[0;34m.\u001b[0m\u001b[0m_call_batch_hook_helper\u001b[0m\u001b[0;34m(\u001b[0m\u001b[0mhook_name\u001b[0m\u001b[0;34m,\u001b[0m \u001b[0mbatch\u001b[0m\u001b[0;34m,\u001b[0m \u001b[0mlogs\u001b[0m\u001b[0;34m)\u001b[0m\u001b[0;34m\u001b[0m\u001b[0;34m\u001b[0m\u001b[0m\n\u001b[0m\u001b[1;32m    310\u001b[0m \u001b[0;34m\u001b[0m\u001b[0m\n\u001b[1;32m    311\u001b[0m     \u001b[0;32mif\u001b[0m \u001b[0mself\u001b[0m\u001b[0;34m.\u001b[0m\u001b[0m_check_timing\u001b[0m\u001b[0;34m:\u001b[0m\u001b[0;34m\u001b[0m\u001b[0;34m\u001b[0m\u001b[0m\n",
            "\u001b[0;32m/usr/local/lib/python3.6/dist-packages/tensorflow/python/keras/callbacks.py\u001b[0m in \u001b[0;36m_call_batch_hook_helper\u001b[0;34m(self, hook_name, batch, logs)\u001b[0m\n\u001b[1;32m    340\u001b[0m       \u001b[0mhook\u001b[0m \u001b[0;34m=\u001b[0m \u001b[0mgetattr\u001b[0m\u001b[0;34m(\u001b[0m\u001b[0mcallback\u001b[0m\u001b[0;34m,\u001b[0m \u001b[0mhook_name\u001b[0m\u001b[0;34m)\u001b[0m\u001b[0;34m\u001b[0m\u001b[0;34m\u001b[0m\u001b[0m\n\u001b[1;32m    341\u001b[0m       \u001b[0;32mif\u001b[0m \u001b[0mgetattr\u001b[0m\u001b[0;34m(\u001b[0m\u001b[0mcallback\u001b[0m\u001b[0;34m,\u001b[0m \u001b[0;34m'_supports_tf_logs'\u001b[0m\u001b[0;34m,\u001b[0m \u001b[0;32mFalse\u001b[0m\u001b[0;34m)\u001b[0m\u001b[0;34m:\u001b[0m\u001b[0;34m\u001b[0m\u001b[0;34m\u001b[0m\u001b[0m\n\u001b[0;32m--> 342\u001b[0;31m         \u001b[0mhook\u001b[0m\u001b[0;34m(\u001b[0m\u001b[0mbatch\u001b[0m\u001b[0;34m,\u001b[0m \u001b[0mlogs\u001b[0m\u001b[0;34m)\u001b[0m\u001b[0;34m\u001b[0m\u001b[0;34m\u001b[0m\u001b[0m\n\u001b[0m\u001b[1;32m    343\u001b[0m       \u001b[0;32melse\u001b[0m\u001b[0;34m:\u001b[0m\u001b[0;34m\u001b[0m\u001b[0;34m\u001b[0m\u001b[0m\n\u001b[1;32m    344\u001b[0m         \u001b[0;32mif\u001b[0m \u001b[0mnumpy_logs\u001b[0m \u001b[0;32mis\u001b[0m \u001b[0;32mNone\u001b[0m\u001b[0;34m:\u001b[0m  \u001b[0;31m# Only convert once.\u001b[0m\u001b[0;34m\u001b[0m\u001b[0;34m\u001b[0m\u001b[0m\n",
            "\u001b[0;32m/usr/local/lib/python3.6/dist-packages/tensorflow/python/keras/callbacks.py\u001b[0m in \u001b[0;36mon_train_batch_end\u001b[0;34m(self, batch, logs)\u001b[0m\n\u001b[1;32m    959\u001b[0m \u001b[0;34m\u001b[0m\u001b[0m\n\u001b[1;32m    960\u001b[0m   \u001b[0;32mdef\u001b[0m \u001b[0mon_train_batch_end\u001b[0m\u001b[0;34m(\u001b[0m\u001b[0mself\u001b[0m\u001b[0;34m,\u001b[0m \u001b[0mbatch\u001b[0m\u001b[0;34m,\u001b[0m \u001b[0mlogs\u001b[0m\u001b[0;34m=\u001b[0m\u001b[0;32mNone\u001b[0m\u001b[0;34m)\u001b[0m\u001b[0;34m:\u001b[0m\u001b[0;34m\u001b[0m\u001b[0;34m\u001b[0m\u001b[0m\n\u001b[0;32m--> 961\u001b[0;31m     \u001b[0mself\u001b[0m\u001b[0;34m.\u001b[0m\u001b[0m_batch_update_progbar\u001b[0m\u001b[0;34m(\u001b[0m\u001b[0mbatch\u001b[0m\u001b[0;34m,\u001b[0m \u001b[0mlogs\u001b[0m\u001b[0;34m)\u001b[0m\u001b[0;34m\u001b[0m\u001b[0;34m\u001b[0m\u001b[0m\n\u001b[0m\u001b[1;32m    962\u001b[0m \u001b[0;34m\u001b[0m\u001b[0m\n\u001b[1;32m    963\u001b[0m   \u001b[0;32mdef\u001b[0m \u001b[0mon_test_batch_end\u001b[0m\u001b[0;34m(\u001b[0m\u001b[0mself\u001b[0m\u001b[0;34m,\u001b[0m \u001b[0mbatch\u001b[0m\u001b[0;34m,\u001b[0m \u001b[0mlogs\u001b[0m\u001b[0;34m=\u001b[0m\u001b[0;32mNone\u001b[0m\u001b[0;34m)\u001b[0m\u001b[0;34m:\u001b[0m\u001b[0;34m\u001b[0m\u001b[0;34m\u001b[0m\u001b[0m\n",
            "\u001b[0;32m/usr/local/lib/python3.6/dist-packages/tensorflow/python/keras/callbacks.py\u001b[0m in \u001b[0;36m_batch_update_progbar\u001b[0;34m(self, batch, logs)\u001b[0m\n\u001b[1;32m   1014\u001b[0m     \u001b[0;32mif\u001b[0m \u001b[0mself\u001b[0m\u001b[0;34m.\u001b[0m\u001b[0mverbose\u001b[0m \u001b[0;34m==\u001b[0m \u001b[0;36m1\u001b[0m\u001b[0;34m:\u001b[0m\u001b[0;34m\u001b[0m\u001b[0;34m\u001b[0m\u001b[0m\n\u001b[1;32m   1015\u001b[0m       \u001b[0;31m# Only block async when verbose = 1.\u001b[0m\u001b[0;34m\u001b[0m\u001b[0;34m\u001b[0m\u001b[0;34m\u001b[0m\u001b[0m\n\u001b[0;32m-> 1016\u001b[0;31m       \u001b[0mlogs\u001b[0m \u001b[0;34m=\u001b[0m \u001b[0mtf_utils\u001b[0m\u001b[0;34m.\u001b[0m\u001b[0mto_numpy_or_python_type\u001b[0m\u001b[0;34m(\u001b[0m\u001b[0mlogs\u001b[0m\u001b[0;34m)\u001b[0m\u001b[0;34m\u001b[0m\u001b[0;34m\u001b[0m\u001b[0m\n\u001b[0m\u001b[1;32m   1017\u001b[0m       \u001b[0mself\u001b[0m\u001b[0;34m.\u001b[0m\u001b[0mprogbar\u001b[0m\u001b[0;34m.\u001b[0m\u001b[0mupdate\u001b[0m\u001b[0;34m(\u001b[0m\u001b[0mself\u001b[0m\u001b[0;34m.\u001b[0m\u001b[0mseen\u001b[0m\u001b[0;34m,\u001b[0m \u001b[0mlist\u001b[0m\u001b[0;34m(\u001b[0m\u001b[0mlogs\u001b[0m\u001b[0;34m.\u001b[0m\u001b[0mitems\u001b[0m\u001b[0;34m(\u001b[0m\u001b[0;34m)\u001b[0m\u001b[0;34m)\u001b[0m\u001b[0;34m,\u001b[0m \u001b[0mfinalize\u001b[0m\u001b[0;34m=\u001b[0m\u001b[0;32mFalse\u001b[0m\u001b[0;34m)\u001b[0m\u001b[0;34m\u001b[0m\u001b[0;34m\u001b[0m\u001b[0m\n\u001b[1;32m   1018\u001b[0m \u001b[0;34m\u001b[0m\u001b[0m\n",
            "\u001b[0;32m/usr/local/lib/python3.6/dist-packages/tensorflow/python/keras/utils/tf_utils.py\u001b[0m in \u001b[0;36mto_numpy_or_python_type\u001b[0;34m(tensors)\u001b[0m\n\u001b[1;32m    535\u001b[0m     \u001b[0;32mreturn\u001b[0m \u001b[0mt\u001b[0m  \u001b[0;31m# Don't turn ragged or sparse tensors to NumPy.\u001b[0m\u001b[0;34m\u001b[0m\u001b[0;34m\u001b[0m\u001b[0m\n\u001b[1;32m    536\u001b[0m \u001b[0;34m\u001b[0m\u001b[0m\n\u001b[0;32m--> 537\u001b[0;31m   \u001b[0;32mreturn\u001b[0m \u001b[0mnest\u001b[0m\u001b[0;34m.\u001b[0m\u001b[0mmap_structure\u001b[0m\u001b[0;34m(\u001b[0m\u001b[0m_to_single_numpy_or_python_type\u001b[0m\u001b[0;34m,\u001b[0m \u001b[0mtensors\u001b[0m\u001b[0;34m)\u001b[0m\u001b[0;34m\u001b[0m\u001b[0;34m\u001b[0m\u001b[0m\n\u001b[0m\u001b[1;32m    538\u001b[0m \u001b[0;34m\u001b[0m\u001b[0m\n\u001b[1;32m    539\u001b[0m \u001b[0;34m\u001b[0m\u001b[0m\n",
            "\u001b[0;32m/usr/local/lib/python3.6/dist-packages/tensorflow/python/util/nest.py\u001b[0m in \u001b[0;36mmap_structure\u001b[0;34m(func, *structure, **kwargs)\u001b[0m\n\u001b[1;32m    633\u001b[0m \u001b[0;34m\u001b[0m\u001b[0m\n\u001b[1;32m    634\u001b[0m   return pack_sequence_as(\n\u001b[0;32m--> 635\u001b[0;31m       \u001b[0mstructure\u001b[0m\u001b[0;34m[\u001b[0m\u001b[0;36m0\u001b[0m\u001b[0;34m]\u001b[0m\u001b[0;34m,\u001b[0m \u001b[0;34m[\u001b[0m\u001b[0mfunc\u001b[0m\u001b[0;34m(\u001b[0m\u001b[0;34m*\u001b[0m\u001b[0mx\u001b[0m\u001b[0;34m)\u001b[0m \u001b[0;32mfor\u001b[0m \u001b[0mx\u001b[0m \u001b[0;32min\u001b[0m \u001b[0mentries\u001b[0m\u001b[0;34m]\u001b[0m\u001b[0;34m,\u001b[0m\u001b[0;34m\u001b[0m\u001b[0;34m\u001b[0m\u001b[0m\n\u001b[0m\u001b[1;32m    636\u001b[0m       expand_composites=expand_composites)\n\u001b[1;32m    637\u001b[0m \u001b[0;34m\u001b[0m\u001b[0m\n",
            "\u001b[0;32m/usr/local/lib/python3.6/dist-packages/tensorflow/python/util/nest.py\u001b[0m in \u001b[0;36m<listcomp>\u001b[0;34m(.0)\u001b[0m\n\u001b[1;32m    633\u001b[0m \u001b[0;34m\u001b[0m\u001b[0m\n\u001b[1;32m    634\u001b[0m   return pack_sequence_as(\n\u001b[0;32m--> 635\u001b[0;31m       \u001b[0mstructure\u001b[0m\u001b[0;34m[\u001b[0m\u001b[0;36m0\u001b[0m\u001b[0;34m]\u001b[0m\u001b[0;34m,\u001b[0m \u001b[0;34m[\u001b[0m\u001b[0mfunc\u001b[0m\u001b[0;34m(\u001b[0m\u001b[0;34m*\u001b[0m\u001b[0mx\u001b[0m\u001b[0;34m)\u001b[0m \u001b[0;32mfor\u001b[0m \u001b[0mx\u001b[0m \u001b[0;32min\u001b[0m \u001b[0mentries\u001b[0m\u001b[0;34m]\u001b[0m\u001b[0;34m,\u001b[0m\u001b[0;34m\u001b[0m\u001b[0;34m\u001b[0m\u001b[0m\n\u001b[0m\u001b[1;32m    636\u001b[0m       expand_composites=expand_composites)\n\u001b[1;32m    637\u001b[0m \u001b[0;34m\u001b[0m\u001b[0m\n",
            "\u001b[0;32m/usr/local/lib/python3.6/dist-packages/tensorflow/python/keras/utils/tf_utils.py\u001b[0m in \u001b[0;36m_to_single_numpy_or_python_type\u001b[0;34m(t)\u001b[0m\n\u001b[1;32m    531\u001b[0m   \u001b[0;32mdef\u001b[0m \u001b[0m_to_single_numpy_or_python_type\u001b[0m\u001b[0;34m(\u001b[0m\u001b[0mt\u001b[0m\u001b[0;34m)\u001b[0m\u001b[0;34m:\u001b[0m\u001b[0;34m\u001b[0m\u001b[0;34m\u001b[0m\u001b[0m\n\u001b[1;32m    532\u001b[0m     \u001b[0;32mif\u001b[0m \u001b[0misinstance\u001b[0m\u001b[0;34m(\u001b[0m\u001b[0mt\u001b[0m\u001b[0;34m,\u001b[0m \u001b[0mops\u001b[0m\u001b[0;34m.\u001b[0m\u001b[0mTensor\u001b[0m\u001b[0;34m)\u001b[0m\u001b[0;34m:\u001b[0m\u001b[0;34m\u001b[0m\u001b[0;34m\u001b[0m\u001b[0m\n\u001b[0;32m--> 533\u001b[0;31m       \u001b[0mx\u001b[0m \u001b[0;34m=\u001b[0m \u001b[0mt\u001b[0m\u001b[0;34m.\u001b[0m\u001b[0mnumpy\u001b[0m\u001b[0;34m(\u001b[0m\u001b[0;34m)\u001b[0m\u001b[0;34m\u001b[0m\u001b[0;34m\u001b[0m\u001b[0m\n\u001b[0m\u001b[1;32m    534\u001b[0m       \u001b[0;32mreturn\u001b[0m \u001b[0mx\u001b[0m\u001b[0;34m.\u001b[0m\u001b[0mitem\u001b[0m\u001b[0;34m(\u001b[0m\u001b[0;34m)\u001b[0m \u001b[0;32mif\u001b[0m \u001b[0mnp\u001b[0m\u001b[0;34m.\u001b[0m\u001b[0mndim\u001b[0m\u001b[0;34m(\u001b[0m\u001b[0mx\u001b[0m\u001b[0;34m)\u001b[0m \u001b[0;34m==\u001b[0m \u001b[0;36m0\u001b[0m \u001b[0;32melse\u001b[0m \u001b[0mx\u001b[0m\u001b[0;34m\u001b[0m\u001b[0;34m\u001b[0m\u001b[0m\n\u001b[1;32m    535\u001b[0m     \u001b[0;32mreturn\u001b[0m \u001b[0mt\u001b[0m  \u001b[0;31m# Don't turn ragged or sparse tensors to NumPy.\u001b[0m\u001b[0;34m\u001b[0m\u001b[0;34m\u001b[0m\u001b[0m\n",
            "\u001b[0;32m/usr/local/lib/python3.6/dist-packages/tensorflow/python/framework/ops.py\u001b[0m in \u001b[0;36mnumpy\u001b[0;34m(self)\u001b[0m\n\u001b[1;32m   1061\u001b[0m     \"\"\"\n\u001b[1;32m   1062\u001b[0m     \u001b[0;31m# TODO(slebedev): Consider avoiding a copy for non-CPU or remote tensors.\u001b[0m\u001b[0;34m\u001b[0m\u001b[0;34m\u001b[0m\u001b[0;34m\u001b[0m\u001b[0m\n\u001b[0;32m-> 1063\u001b[0;31m     \u001b[0mmaybe_arr\u001b[0m \u001b[0;34m=\u001b[0m \u001b[0mself\u001b[0m\u001b[0;34m.\u001b[0m\u001b[0m_numpy\u001b[0m\u001b[0;34m(\u001b[0m\u001b[0;34m)\u001b[0m  \u001b[0;31m# pylint: disable=protected-access\u001b[0m\u001b[0;34m\u001b[0m\u001b[0;34m\u001b[0m\u001b[0m\n\u001b[0m\u001b[1;32m   1064\u001b[0m     \u001b[0;32mreturn\u001b[0m \u001b[0mmaybe_arr\u001b[0m\u001b[0;34m.\u001b[0m\u001b[0mcopy\u001b[0m\u001b[0;34m(\u001b[0m\u001b[0;34m)\u001b[0m \u001b[0;32mif\u001b[0m \u001b[0misinstance\u001b[0m\u001b[0;34m(\u001b[0m\u001b[0mmaybe_arr\u001b[0m\u001b[0;34m,\u001b[0m \u001b[0mnp\u001b[0m\u001b[0;34m.\u001b[0m\u001b[0mndarray\u001b[0m\u001b[0;34m)\u001b[0m \u001b[0;32melse\u001b[0m \u001b[0mmaybe_arr\u001b[0m\u001b[0;34m\u001b[0m\u001b[0;34m\u001b[0m\u001b[0m\n\u001b[1;32m   1065\u001b[0m \u001b[0;34m\u001b[0m\u001b[0m\n",
            "\u001b[0;32m/usr/local/lib/python3.6/dist-packages/tensorflow/python/framework/ops.py\u001b[0m in \u001b[0;36m_numpy\u001b[0;34m(self)\u001b[0m\n\u001b[1;32m   1027\u001b[0m   \u001b[0;32mdef\u001b[0m \u001b[0m_numpy\u001b[0m\u001b[0;34m(\u001b[0m\u001b[0mself\u001b[0m\u001b[0;34m)\u001b[0m\u001b[0;34m:\u001b[0m\u001b[0;34m\u001b[0m\u001b[0;34m\u001b[0m\u001b[0m\n\u001b[1;32m   1028\u001b[0m     \u001b[0;32mtry\u001b[0m\u001b[0;34m:\u001b[0m\u001b[0;34m\u001b[0m\u001b[0;34m\u001b[0m\u001b[0m\n\u001b[0;32m-> 1029\u001b[0;31m       \u001b[0;32mreturn\u001b[0m \u001b[0mself\u001b[0m\u001b[0;34m.\u001b[0m\u001b[0m_numpy_internal\u001b[0m\u001b[0;34m(\u001b[0m\u001b[0;34m)\u001b[0m\u001b[0;34m\u001b[0m\u001b[0;34m\u001b[0m\u001b[0m\n\u001b[0m\u001b[1;32m   1030\u001b[0m     \u001b[0;32mexcept\u001b[0m \u001b[0mcore\u001b[0m\u001b[0;34m.\u001b[0m\u001b[0m_NotOkStatusException\u001b[0m \u001b[0;32mas\u001b[0m \u001b[0me\u001b[0m\u001b[0;34m:\u001b[0m  \u001b[0;31m# pylint: disable=protected-access\u001b[0m\u001b[0;34m\u001b[0m\u001b[0;34m\u001b[0m\u001b[0m\n\u001b[1;32m   1031\u001b[0m       \u001b[0msix\u001b[0m\u001b[0;34m.\u001b[0m\u001b[0mraise_from\u001b[0m\u001b[0;34m(\u001b[0m\u001b[0mcore\u001b[0m\u001b[0;34m.\u001b[0m\u001b[0m_status_to_exception\u001b[0m\u001b[0;34m(\u001b[0m\u001b[0me\u001b[0m\u001b[0;34m.\u001b[0m\u001b[0mcode\u001b[0m\u001b[0;34m,\u001b[0m \u001b[0me\u001b[0m\u001b[0;34m.\u001b[0m\u001b[0mmessage\u001b[0m\u001b[0;34m)\u001b[0m\u001b[0;34m,\u001b[0m \u001b[0;32mNone\u001b[0m\u001b[0;34m)\u001b[0m  \u001b[0;31m# pylint: disable=protected-access\u001b[0m\u001b[0;34m\u001b[0m\u001b[0;34m\u001b[0m\u001b[0m\n",
            "\u001b[0;31mKeyboardInterrupt\u001b[0m: "
          ]
        }
      ]
    },
    {
      "cell_type": "code",
      "metadata": {
        "id": "h9WTqAA7Hd97"
      },
      "source": [
        ""
      ],
      "execution_count": null,
      "outputs": []
    }
  ]
}